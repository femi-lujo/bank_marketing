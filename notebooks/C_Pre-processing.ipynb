{
 "cells": [
  {
   "cell_type": "markdown",
   "id": "7f7a962f",
   "metadata": {},
   "source": [
    "# C. Data Pre-processing"
   ]
  },
  {
   "cell_type": "markdown",
   "id": "e82cb7c6",
   "metadata": {},
   "source": [
    "# Load Packages"
   ]
  },
  {
   "cell_type": "code",
   "execution_count": 1,
   "id": "c1a1de9e",
   "metadata": {},
   "outputs": [],
   "source": [
    "import pandas as pd\n",
    "import numpy as np\n",
    "import os\n",
    "import pickle\n",
    "import matplotlib.pyplot as plt\n",
    "import seaborn as sns\n",
    "from sklearn.preprocessing import scale\n",
    "from sklearn.model_selection import train_test_split, cross_validate, GridSearchCV, learning_curve\n",
    "from sklearn.preprocessing import StandardScaler, MinMaxScaler\n",
    "from sklearn.linear_model import LogisticRegression\n",
    "from sklearn.ensemble import RandomForestRegressor\n",
    "from sklearn.metrics import roc_auc_score, average_precision_score\n",
    "from sklearn.pipeline import make_pipeline\n",
    "from sklearn.impute import SimpleImputer\n",
    "from sklearn.metrics import confusion_matrix, classification_report, fbeta_score\n",
    "from sklearn.neighbors import KNeighborsClassifier\n",
    "import datetime\n",
    "import numpy as np\n",
    "import warnings\n",
    "warnings.filterwarnings('ignore')"
   ]
  },
  {
   "cell_type": "markdown",
   "id": "56cf0714",
   "metadata": {},
   "source": [
    "# Load Data"
   ]
  },
  {
   "cell_type": "code",
   "execution_count": 2,
   "id": "b9a57691",
   "metadata": {},
   "outputs": [],
   "source": [
    "data = pd.read_csv(\"../data/interim/bank_modeling.csv\")"
   ]
  },
  {
   "cell_type": "code",
   "execution_count": 3,
   "id": "11c5de6f",
   "metadata": {},
   "outputs": [],
   "source": [
    "bank = data.copy()"
   ]
  },
  {
   "cell_type": "markdown",
   "id": "3b88c72b",
   "metadata": {},
   "source": [
    "# Inspect Data"
   ]
  },
  {
   "cell_type": "code",
   "execution_count": 4,
   "id": "5dd9619f",
   "metadata": {},
   "outputs": [
    {
     "data": {
      "text/html": [
       "<div>\n",
       "<style scoped>\n",
       "    .dataframe tbody tr th:only-of-type {\n",
       "        vertical-align: middle;\n",
       "    }\n",
       "\n",
       "    .dataframe tbody tr th {\n",
       "        vertical-align: top;\n",
       "    }\n",
       "\n",
       "    .dataframe thead th {\n",
       "        text-align: right;\n",
       "    }\n",
       "</style>\n",
       "<table border=\"1\" class=\"dataframe\">\n",
       "  <thead>\n",
       "    <tr style=\"text-align: right;\">\n",
       "      <th></th>\n",
       "      <th>age</th>\n",
       "      <th>job</th>\n",
       "      <th>marital</th>\n",
       "      <th>education</th>\n",
       "      <th>default</th>\n",
       "      <th>housing</th>\n",
       "      <th>loan</th>\n",
       "      <th>contactType</th>\n",
       "      <th>month</th>\n",
       "      <th>dayOfWeek</th>\n",
       "      <th>...</th>\n",
       "      <th>employmentRate_grp</th>\n",
       "      <th>employmentRate_grp_rr</th>\n",
       "      <th>cpi_grp</th>\n",
       "      <th>cpi_grp_rr</th>\n",
       "      <th>cci_grp</th>\n",
       "      <th>cci_grp_rr</th>\n",
       "      <th>euribor3m_grp</th>\n",
       "      <th>euribor3m_grp_rr</th>\n",
       "      <th>noEmployed_grp</th>\n",
       "      <th>noEmployed_grp_rr</th>\n",
       "    </tr>\n",
       "  </thead>\n",
       "  <tbody>\n",
       "    <tr>\n",
       "      <th>0</th>\n",
       "      <td>56</td>\n",
       "      <td>housemaid</td>\n",
       "      <td>married</td>\n",
       "      <td>basic_4y</td>\n",
       "      <td>no</td>\n",
       "      <td>no</td>\n",
       "      <td>no</td>\n",
       "      <td>telephone</td>\n",
       "      <td>may</td>\n",
       "      <td>mon</td>\n",
       "      <td>...</td>\n",
       "      <td>0.1_1.5</td>\n",
       "      <td>0.046089</td>\n",
       "      <td>93.001_94</td>\n",
       "      <td>0.074241</td>\n",
       "      <td>neg40.9_neg36</td>\n",
       "      <td>0.099414</td>\n",
       "      <td>4.201_5.1</td>\n",
       "      <td>0.048503</td>\n",
       "      <td>5140.1_5230</td>\n",
       "      <td>0.048357</td>\n",
       "    </tr>\n",
       "    <tr>\n",
       "      <th>1</th>\n",
       "      <td>57</td>\n",
       "      <td>services</td>\n",
       "      <td>married</td>\n",
       "      <td>high_school</td>\n",
       "      <td>unknown</td>\n",
       "      <td>no</td>\n",
       "      <td>no</td>\n",
       "      <td>telephone</td>\n",
       "      <td>may</td>\n",
       "      <td>mon</td>\n",
       "      <td>...</td>\n",
       "      <td>0.1_1.5</td>\n",
       "      <td>0.046089</td>\n",
       "      <td>93.001_94</td>\n",
       "      <td>0.074241</td>\n",
       "      <td>neg40.9_neg36</td>\n",
       "      <td>0.099414</td>\n",
       "      <td>4.201_5.1</td>\n",
       "      <td>0.048503</td>\n",
       "      <td>5140.1_5230</td>\n",
       "      <td>0.048357</td>\n",
       "    </tr>\n",
       "    <tr>\n",
       "      <th>2</th>\n",
       "      <td>37</td>\n",
       "      <td>services</td>\n",
       "      <td>married</td>\n",
       "      <td>high_school</td>\n",
       "      <td>no</td>\n",
       "      <td>yes</td>\n",
       "      <td>no</td>\n",
       "      <td>telephone</td>\n",
       "      <td>may</td>\n",
       "      <td>mon</td>\n",
       "      <td>...</td>\n",
       "      <td>0.1_1.5</td>\n",
       "      <td>0.046089</td>\n",
       "      <td>93.001_94</td>\n",
       "      <td>0.074241</td>\n",
       "      <td>neg40.9_neg36</td>\n",
       "      <td>0.099414</td>\n",
       "      <td>4.201_5.1</td>\n",
       "      <td>0.048503</td>\n",
       "      <td>5140.1_5230</td>\n",
       "      <td>0.048357</td>\n",
       "    </tr>\n",
       "    <tr>\n",
       "      <th>3</th>\n",
       "      <td>40</td>\n",
       "      <td>admin.</td>\n",
       "      <td>married</td>\n",
       "      <td>basic_6y</td>\n",
       "      <td>no</td>\n",
       "      <td>no</td>\n",
       "      <td>no</td>\n",
       "      <td>telephone</td>\n",
       "      <td>may</td>\n",
       "      <td>mon</td>\n",
       "      <td>...</td>\n",
       "      <td>0.1_1.5</td>\n",
       "      <td>0.046089</td>\n",
       "      <td>93.001_94</td>\n",
       "      <td>0.074241</td>\n",
       "      <td>neg40.9_neg36</td>\n",
       "      <td>0.099414</td>\n",
       "      <td>4.201_5.1</td>\n",
       "      <td>0.048503</td>\n",
       "      <td>5140.1_5230</td>\n",
       "      <td>0.048357</td>\n",
       "    </tr>\n",
       "    <tr>\n",
       "      <th>4</th>\n",
       "      <td>56</td>\n",
       "      <td>services</td>\n",
       "      <td>married</td>\n",
       "      <td>high_school</td>\n",
       "      <td>no</td>\n",
       "      <td>no</td>\n",
       "      <td>yes</td>\n",
       "      <td>telephone</td>\n",
       "      <td>may</td>\n",
       "      <td>mon</td>\n",
       "      <td>...</td>\n",
       "      <td>0.1_1.5</td>\n",
       "      <td>0.046089</td>\n",
       "      <td>93.001_94</td>\n",
       "      <td>0.074241</td>\n",
       "      <td>neg40.9_neg36</td>\n",
       "      <td>0.099414</td>\n",
       "      <td>4.201_5.1</td>\n",
       "      <td>0.048503</td>\n",
       "      <td>5140.1_5230</td>\n",
       "      <td>0.048357</td>\n",
       "    </tr>\n",
       "  </tbody>\n",
       "</table>\n",
       "<p>5 rows × 51 columns</p>\n",
       "</div>"
      ],
      "text/plain": [
       "   age        job  marital    education  default housing loan contactType  \\\n",
       "0   56  housemaid  married     basic_4y       no      no   no   telephone   \n",
       "1   57   services  married  high_school  unknown      no   no   telephone   \n",
       "2   37   services  married  high_school       no     yes   no   telephone   \n",
       "3   40     admin.  married     basic_6y       no      no   no   telephone   \n",
       "4   56   services  married  high_school       no      no  yes   telephone   \n",
       "\n",
       "  month dayOfWeek  ...  employmentRate_grp  employmentRate_grp_rr    cpi_grp  \\\n",
       "0   may       mon  ...             0.1_1.5               0.046089  93.001_94   \n",
       "1   may       mon  ...             0.1_1.5               0.046089  93.001_94   \n",
       "2   may       mon  ...             0.1_1.5               0.046089  93.001_94   \n",
       "3   may       mon  ...             0.1_1.5               0.046089  93.001_94   \n",
       "4   may       mon  ...             0.1_1.5               0.046089  93.001_94   \n",
       "\n",
       "   cpi_grp_rr        cci_grp  cci_grp_rr  euribor3m_grp  euribor3m_grp_rr  \\\n",
       "0    0.074241  neg40.9_neg36    0.099414      4.201_5.1          0.048503   \n",
       "1    0.074241  neg40.9_neg36    0.099414      4.201_5.1          0.048503   \n",
       "2    0.074241  neg40.9_neg36    0.099414      4.201_5.1          0.048503   \n",
       "3    0.074241  neg40.9_neg36    0.099414      4.201_5.1          0.048503   \n",
       "4    0.074241  neg40.9_neg36    0.099414      4.201_5.1          0.048503   \n",
       "\n",
       "   noEmployed_grp  noEmployed_grp_rr  \n",
       "0     5140.1_5230           0.048357  \n",
       "1     5140.1_5230           0.048357  \n",
       "2     5140.1_5230           0.048357  \n",
       "3     5140.1_5230           0.048357  \n",
       "4     5140.1_5230           0.048357  \n",
       "\n",
       "[5 rows x 51 columns]"
      ]
     },
     "execution_count": 4,
     "metadata": {},
     "output_type": "execute_result"
    }
   ],
   "source": [
    "bank.head()"
   ]
  },
  {
   "cell_type": "code",
   "execution_count": 5,
   "id": "7d7d6731",
   "metadata": {
    "scrolled": false
   },
   "outputs": [
    {
     "name": "stdout",
     "output_type": "stream",
     "text": [
      "<class 'pandas.core.frame.DataFrame'>\n",
      "RangeIndex: 41188 entries, 0 to 41187\n",
      "Data columns (total 51 columns):\n",
      " #   Column                           Non-Null Count  Dtype  \n",
      "---  ------                           --------------  -----  \n",
      " 0   age                              41188 non-null  int64  \n",
      " 1   job                              41188 non-null  object \n",
      " 2   marital                          41188 non-null  object \n",
      " 3   education                        41188 non-null  object \n",
      " 4   default                          41188 non-null  object \n",
      " 5   housing                          41188 non-null  object \n",
      " 6   loan                             41188 non-null  object \n",
      " 7   contactType                      41188 non-null  object \n",
      " 8   month                            41188 non-null  object \n",
      " 9   dayOfWeek                        41188 non-null  object \n",
      " 10  duration                         41188 non-null  int64  \n",
      " 11  currentCampaignContacts          41188 non-null  int64  \n",
      " 12  daysLastContacted                41188 non-null  int64  \n",
      " 13  previousCampaignContacts         41188 non-null  int64  \n",
      " 14  lastCampaignOutcome              41188 non-null  object \n",
      " 15  employmentRate                   41188 non-null  float64\n",
      " 16  cpi                              41188 non-null  float64\n",
      " 17  cci                              41188 non-null  float64\n",
      " 18  euribor3m                        41188 non-null  float64\n",
      " 19  noEmployed                       41188 non-null  float64\n",
      " 20  response                         41188 non-null  object \n",
      " 21  age_grp                          41188 non-null  object \n",
      " 22  age_grp_rr                       41188 non-null  float64\n",
      " 23  job_rr                           41188 non-null  float64\n",
      " 24  marital_rr                       41188 non-null  float64\n",
      " 25  education_rr                     41188 non-null  float64\n",
      " 26  default_rr                       41188 non-null  float64\n",
      " 27  housing_rr                       41188 non-null  float64\n",
      " 28  loan_rr                          41188 non-null  float64\n",
      " 29  contactType_rr                   41188 non-null  float64\n",
      " 30  month_rr                         41188 non-null  float64\n",
      " 31  dayOfWeek_rr                     41188 non-null  float64\n",
      " 32  duration_grp                     41188 non-null  object \n",
      " 33  duration_grp_rr                  41188 non-null  float64\n",
      " 34  currentCampaignContacts_grp      41188 non-null  object \n",
      " 35  currentCampaignContacts_grp_rr   41188 non-null  float64\n",
      " 36  daysLastContacted_grp            41188 non-null  object \n",
      " 37  daysLastContacted_grp_rr         41188 non-null  float64\n",
      " 38  previousCampaignContacts_grp     41188 non-null  int64  \n",
      " 39  previousCampaignContacts_grp_rr  41188 non-null  float64\n",
      " 40  lastCampaignOutcome_rr           41188 non-null  float64\n",
      " 41  employmentRate_grp               41188 non-null  object \n",
      " 42  employmentRate_grp_rr            41188 non-null  float64\n",
      " 43  cpi_grp                          41188 non-null  object \n",
      " 44  cpi_grp_rr                       41188 non-null  float64\n",
      " 45  cci_grp                          41188 non-null  object \n",
      " 46  cci_grp_rr                       41188 non-null  float64\n",
      " 47  euribor3m_grp                    41188 non-null  object \n",
      " 48  euribor3m_grp_rr                 41188 non-null  float64\n",
      " 49  noEmployed_grp                   41188 non-null  object \n",
      " 50  noEmployed_grp_rr                41188 non-null  float64\n",
      "dtypes: float64(25), int64(6), object(20)\n",
      "memory usage: 16.0+ MB\n"
     ]
    }
   ],
   "source": [
    "bank.info()"
   ]
  },
  {
   "cell_type": "markdown",
   "id": "fe1f1641",
   "metadata": {},
   "source": [
    "# Feature Selection"
   ]
  },
  {
   "cell_type": "markdown",
   "id": "7fc75fa0",
   "metadata": {},
   "source": [
    "As noted during EDA we will be dropping these features and for the following reasons:\n",
    "- 'duration' - The duration is not known before the call is made. Including this feature in our model may lead to data leakage. \n",
    "- 'daysLastContacted' - We observed that most of the values were '999', which was a placeholder to note that the information was missing. Over 96% of the values were '999'. We will consider removing this feature as we tune our model.\n",
    "- We also noted that 'cci' and 'currentCampaignContacts' and age have a low correlation with response. We will include these features in our base model, but will consider removing these features as we tune our model."
   ]
  },
  {
   "cell_type": "code",
   "execution_count": 6,
   "id": "cd66c076",
   "metadata": {},
   "outputs": [],
   "source": [
    "bank.drop(columns = ['duration', 'duration_grp', 'duration_grp_rr'], inplace = True)"
   ]
  },
  {
   "cell_type": "markdown",
   "id": "33455c89",
   "metadata": {},
   "source": [
    "# Encoding the response"
   ]
  },
  {
   "cell_type": "code",
   "execution_count": 7,
   "id": "3bd1a0c6",
   "metadata": {},
   "outputs": [],
   "source": [
    "#Converting the subscribed variable from a boolean feature to numerical feature\n",
    "bank.response = bank.response.replace({'yes': 1, 'no': 0})"
   ]
  },
  {
   "cell_type": "markdown",
   "id": "c094d407",
   "metadata": {},
   "source": [
    "# Application set development"
   ]
  },
  {
   "cell_type": "markdown",
   "id": "7fbbeac4",
   "metadata": {},
   "source": [
    "An application set will be used to observe the performance of the model. A random sample of 20 clients will be selected. We will first of all obtain the index."
   ]
  },
  {
   "cell_type": "code",
   "execution_count": 8,
   "id": "8ab4837c",
   "metadata": {},
   "outputs": [
    {
     "data": {
      "text/html": [
       "<div>\n",
       "<style scoped>\n",
       "    .dataframe tbody tr th:only-of-type {\n",
       "        vertical-align: middle;\n",
       "    }\n",
       "\n",
       "    .dataframe tbody tr th {\n",
       "        vertical-align: top;\n",
       "    }\n",
       "\n",
       "    .dataframe thead th {\n",
       "        text-align: right;\n",
       "    }\n",
       "</style>\n",
       "<table border=\"1\" class=\"dataframe\">\n",
       "  <thead>\n",
       "    <tr style=\"text-align: right;\">\n",
       "      <th></th>\n",
       "      <th>age</th>\n",
       "      <th>job</th>\n",
       "      <th>marital</th>\n",
       "      <th>education</th>\n",
       "      <th>response</th>\n",
       "    </tr>\n",
       "  </thead>\n",
       "  <tbody>\n",
       "    <tr>\n",
       "      <th>11994</th>\n",
       "      <td>39</td>\n",
       "      <td>blue-collar</td>\n",
       "      <td>married</td>\n",
       "      <td>basic_4y</td>\n",
       "      <td>0</td>\n",
       "    </tr>\n",
       "    <tr>\n",
       "      <th>39824</th>\n",
       "      <td>29</td>\n",
       "      <td>unemployed</td>\n",
       "      <td>single</td>\n",
       "      <td>university_degree</td>\n",
       "      <td>0</td>\n",
       "    </tr>\n",
       "    <tr>\n",
       "      <th>10278</th>\n",
       "      <td>50</td>\n",
       "      <td>blue-collar</td>\n",
       "      <td>single</td>\n",
       "      <td>basic_9y</td>\n",
       "      <td>0</td>\n",
       "    </tr>\n",
       "    <tr>\n",
       "      <th>29948</th>\n",
       "      <td>40</td>\n",
       "      <td>blue-collar</td>\n",
       "      <td>married</td>\n",
       "      <td>basic_9y</td>\n",
       "      <td>0</td>\n",
       "    </tr>\n",
       "    <tr>\n",
       "      <th>13012</th>\n",
       "      <td>34</td>\n",
       "      <td>technician</td>\n",
       "      <td>single</td>\n",
       "      <td>university_degree</td>\n",
       "      <td>0</td>\n",
       "    </tr>\n",
       "    <tr>\n",
       "      <th>23403</th>\n",
       "      <td>29</td>\n",
       "      <td>admin.</td>\n",
       "      <td>single</td>\n",
       "      <td>university_degree</td>\n",
       "      <td>0</td>\n",
       "    </tr>\n",
       "    <tr>\n",
       "      <th>40112</th>\n",
       "      <td>28</td>\n",
       "      <td>student</td>\n",
       "      <td>single</td>\n",
       "      <td>high_school</td>\n",
       "      <td>1</td>\n",
       "    </tr>\n",
       "    <tr>\n",
       "      <th>24566</th>\n",
       "      <td>30</td>\n",
       "      <td>admin.</td>\n",
       "      <td>single</td>\n",
       "      <td>university_degree</td>\n",
       "      <td>0</td>\n",
       "    </tr>\n",
       "    <tr>\n",
       "      <th>38540</th>\n",
       "      <td>54</td>\n",
       "      <td>retired</td>\n",
       "      <td>married</td>\n",
       "      <td>basic_4y</td>\n",
       "      <td>1</td>\n",
       "    </tr>\n",
       "    <tr>\n",
       "      <th>29175</th>\n",
       "      <td>43</td>\n",
       "      <td>blue-collar</td>\n",
       "      <td>married</td>\n",
       "      <td>basic_6y</td>\n",
       "      <td>0</td>\n",
       "    </tr>\n",
       "    <tr>\n",
       "      <th>3741</th>\n",
       "      <td>38</td>\n",
       "      <td>admin.</td>\n",
       "      <td>married</td>\n",
       "      <td>university_degree</td>\n",
       "      <td>0</td>\n",
       "    </tr>\n",
       "    <tr>\n",
       "      <th>40397</th>\n",
       "      <td>27</td>\n",
       "      <td>technician</td>\n",
       "      <td>single</td>\n",
       "      <td>university_degree</td>\n",
       "      <td>0</td>\n",
       "    </tr>\n",
       "    <tr>\n",
       "      <th>9426</th>\n",
       "      <td>35</td>\n",
       "      <td>technician</td>\n",
       "      <td>married</td>\n",
       "      <td>basic_9y</td>\n",
       "      <td>0</td>\n",
       "    </tr>\n",
       "    <tr>\n",
       "      <th>37190</th>\n",
       "      <td>74</td>\n",
       "      <td>retired</td>\n",
       "      <td>married</td>\n",
       "      <td>high_school</td>\n",
       "      <td>0</td>\n",
       "    </tr>\n",
       "    <tr>\n",
       "      <th>39591</th>\n",
       "      <td>24</td>\n",
       "      <td>student</td>\n",
       "      <td>single</td>\n",
       "      <td>high_school</td>\n",
       "      <td>1</td>\n",
       "    </tr>\n",
       "    <tr>\n",
       "      <th>22337</th>\n",
       "      <td>31</td>\n",
       "      <td>technician</td>\n",
       "      <td>single</td>\n",
       "      <td>professional_course</td>\n",
       "      <td>0</td>\n",
       "    </tr>\n",
       "    <tr>\n",
       "      <th>27403</th>\n",
       "      <td>44</td>\n",
       "      <td>blue-collar</td>\n",
       "      <td>married</td>\n",
       "      <td>basic_6y</td>\n",
       "      <td>0</td>\n",
       "    </tr>\n",
       "    <tr>\n",
       "      <th>27477</th>\n",
       "      <td>53</td>\n",
       "      <td>technician</td>\n",
       "      <td>married</td>\n",
       "      <td>professional_course</td>\n",
       "      <td>0</td>\n",
       "    </tr>\n",
       "    <tr>\n",
       "      <th>33021</th>\n",
       "      <td>42</td>\n",
       "      <td>blue-collar</td>\n",
       "      <td>married</td>\n",
       "      <td>basic_4y</td>\n",
       "      <td>0</td>\n",
       "    </tr>\n",
       "    <tr>\n",
       "      <th>40509</th>\n",
       "      <td>31</td>\n",
       "      <td>admin.</td>\n",
       "      <td>single</td>\n",
       "      <td>university_degree</td>\n",
       "      <td>1</td>\n",
       "    </tr>\n",
       "  </tbody>\n",
       "</table>\n",
       "</div>"
      ],
      "text/plain": [
       "       age          job  marital            education  response\n",
       "11994   39  blue-collar  married             basic_4y         0\n",
       "39824   29   unemployed   single    university_degree         0\n",
       "10278   50  blue-collar   single             basic_9y         0\n",
       "29948   40  blue-collar  married             basic_9y         0\n",
       "13012   34   technician   single    university_degree         0\n",
       "23403   29       admin.   single    university_degree         0\n",
       "40112   28      student   single          high_school         1\n",
       "24566   30       admin.   single    university_degree         0\n",
       "38540   54      retired  married             basic_4y         1\n",
       "29175   43  blue-collar  married             basic_6y         0\n",
       "3741    38       admin.  married    university_degree         0\n",
       "40397   27   technician   single    university_degree         0\n",
       "9426    35   technician  married             basic_9y         0\n",
       "37190   74      retired  married          high_school         0\n",
       "39591   24      student   single          high_school         1\n",
       "22337   31   technician   single  professional_course         0\n",
       "27403   44  blue-collar  married             basic_6y         0\n",
       "27477   53   technician  married  professional_course         0\n",
       "33021   42  blue-collar  married             basic_4y         0\n",
       "40509   31       admin.   single    university_degree         1"
      ]
     },
     "execution_count": 8,
     "metadata": {},
     "output_type": "execute_result"
    }
   ],
   "source": [
    "#Create application set of observations\n",
    "application_set = bank.sample(20, random_state = 77)\n",
    "application_set_index = application_set.index\n",
    "application_set[['age', 'job', 'marital', 'education', 'response']]"
   ]
  },
  {
   "cell_type": "markdown",
   "id": "8ca411e3",
   "metadata": {},
   "source": [
    "# Encoding Categorical Variables"
   ]
  },
  {
   "cell_type": "code",
   "execution_count": 9,
   "id": "c938e205",
   "metadata": {},
   "outputs": [],
   "source": [
    "#Encode cateogrical features\n",
    "bank_df = pd.get_dummies(bank)"
   ]
  },
  {
   "cell_type": "code",
   "execution_count": 10,
   "id": "df511f62",
   "metadata": {},
   "outputs": [],
   "source": [
    "#Extracting application set samples from encoded bank dataframe\n",
    "application_df = bank_df.loc[application_set_index]\n",
    "#Drop values in the application set from dataframe\n",
    "bank_df = bank_df.drop(application_set_index)"
   ]
  },
  {
   "cell_type": "code",
   "execution_count": 11,
   "id": "4b4fa032",
   "metadata": {
    "scrolled": true
   },
   "outputs": [
    {
     "data": {
      "text/plain": [
       "(41168, 130)"
      ]
     },
     "execution_count": 11,
     "metadata": {},
     "output_type": "execute_result"
    }
   ],
   "source": [
    "bank_df.shape"
   ]
  },
  {
   "cell_type": "code",
   "execution_count": 12,
   "id": "130c9e76",
   "metadata": {},
   "outputs": [
    {
     "data": {
      "text/plain": [
       "(20, 130)"
      ]
     },
     "execution_count": 12,
     "metadata": {},
     "output_type": "execute_result"
    }
   ],
   "source": [
    "application_df.shape"
   ]
  },
  {
   "cell_type": "markdown",
   "id": "34105de4",
   "metadata": {},
   "source": [
    "# Splitting Features From Target"
   ]
  },
  {
   "cell_type": "code",
   "execution_count": 13,
   "id": "83f2985b",
   "metadata": {},
   "outputs": [],
   "source": [
    "X = bank_df.drop(columns = ['response'])\n",
    "y = bank_df.response"
   ]
  },
  {
   "cell_type": "code",
   "execution_count": 14,
   "id": "409b05c3",
   "metadata": {},
   "outputs": [],
   "source": [
    "feature_names = X.columns"
   ]
  },
  {
   "cell_type": "markdown",
   "id": "2d1aa974",
   "metadata": {},
   "source": [
    "# Scaling the Data"
   ]
  },
  {
   "cell_type": "markdown",
   "id": "25a39098",
   "metadata": {},
   "source": [
    "We will use a standard scaler to scale out features"
   ]
  },
  {
   "cell_type": "code",
   "execution_count": 15,
   "id": "5c123d2b",
   "metadata": {},
   "outputs": [],
   "source": [
    "scaler = StandardScaler()"
   ]
  },
  {
   "cell_type": "code",
   "execution_count": 16,
   "id": "18bcf5a4",
   "metadata": {},
   "outputs": [],
   "source": [
    "X_scaled = scaler.fit_transform(X)"
   ]
  },
  {
   "cell_type": "markdown",
   "id": "1f20f62e",
   "metadata": {},
   "source": [
    "# Creating Train / Test Split"
   ]
  },
  {
   "cell_type": "code",
   "execution_count": 17,
   "id": "318e8560",
   "metadata": {},
   "outputs": [],
   "source": [
    "X_train, X_test, y_train, y_test = train_test_split(X_scaled, y, stratify = y, test_size = 0.3, random_state = 77)"
   ]
  },
  {
   "cell_type": "code",
   "execution_count": 18,
   "id": "7acee27f",
   "metadata": {},
   "outputs": [
    {
     "data": {
      "text/plain": [
       "((28817, 129), (12351, 129))"
      ]
     },
     "execution_count": 18,
     "metadata": {},
     "output_type": "execute_result"
    }
   ],
   "source": [
    "X_train.shape, X_test.shape"
   ]
  },
  {
   "cell_type": "code",
   "execution_count": 19,
   "id": "b3091f07",
   "metadata": {
    "scrolled": true
   },
   "outputs": [
    {
     "data": {
      "text/plain": [
       "((28817,), (12351,))"
      ]
     },
     "execution_count": 19,
     "metadata": {},
     "output_type": "execute_result"
    }
   ],
   "source": [
    "y_train.shape, y_test.shape"
   ]
  },
  {
   "cell_type": "code",
   "execution_count": 20,
   "id": "d68c505f",
   "metadata": {
    "scrolled": true
   },
   "outputs": [
    {
     "data": {
      "text/plain": [
       "0    25572\n",
       "1     3245\n",
       "Name: response, dtype: int64"
      ]
     },
     "execution_count": 20,
     "metadata": {},
     "output_type": "execute_result"
    }
   ],
   "source": [
    "y_train.value_counts()"
   ]
  },
  {
   "cell_type": "markdown",
   "id": "fb4a5418",
   "metadata": {},
   "source": [
    "# Baseline Model - Logistic Regression"
   ]
  },
  {
   "cell_type": "markdown",
   "id": "f377b26c",
   "metadata": {},
   "source": [
    "The baseline algorithm that we shall use to create a model is logistic regression."
   ]
  },
  {
   "cell_type": "code",
   "execution_count": 21,
   "id": "e08dacd5",
   "metadata": {},
   "outputs": [],
   "source": [
    "logreg = LogisticRegression(random_state = 77)"
   ]
  },
  {
   "cell_type": "code",
   "execution_count": 22,
   "id": "3bc93e95",
   "metadata": {},
   "outputs": [],
   "source": [
    "logreg.fit(X_train, y_train);"
   ]
  },
  {
   "cell_type": "code",
   "execution_count": 23,
   "id": "deece1d7",
   "metadata": {},
   "outputs": [],
   "source": [
    "#Determine predictions for train and the test set\n",
    "y_train_pred_lg = logreg.predict(X_train)\n",
    "y_test_pred_lg= logreg.predict(X_test)"
   ]
  },
  {
   "cell_type": "markdown",
   "id": "4b1385d0",
   "metadata": {},
   "source": [
    "# Model Assessment"
   ]
  },
  {
   "cell_type": "markdown",
   "id": "8f4d1345",
   "metadata": {},
   "source": [
    "## Imbalanced Dataset"
   ]
  },
  {
   "cell_type": "code",
   "execution_count": 24,
   "id": "9eca0a3f",
   "metadata": {
    "scrolled": false
   },
   "outputs": [
    {
     "data": {
      "text/plain": [
       "0    36532\n",
       "1     4636\n",
       "Name: response, dtype: int64"
      ]
     },
     "execution_count": 24,
     "metadata": {},
     "output_type": "execute_result"
    }
   ],
   "source": [
    "#Get the number of negative and positive responses\n",
    "y.value_counts()"
   ]
  },
  {
   "cell_type": "code",
   "execution_count": 25,
   "id": "5c74fac2",
   "metadata": {
    "scrolled": true
   },
   "outputs": [
    {
     "data": {
      "text/plain": [
       "7.88006902502157"
      ]
     },
     "execution_count": 25,
     "metadata": {},
     "output_type": "execute_result"
    }
   ],
   "source": [
    "#Get the ratio of positive to negative responses\n",
    "y.value_counts()[0] / y.value_counts()[1]"
   ]
  },
  {
   "cell_type": "markdown",
   "id": "6452ac23",
   "metadata": {},
   "source": [
    "Our data is imbalanced. The ratio of positive responses to negative responses is roughly 1 to 8. It is therefore very likely that the typical metrics will not yield favorable outcomes. "
   ]
  },
  {
   "cell_type": "markdown",
   "id": "0e22fa00",
   "metadata": {},
   "source": [
    "## Metrics"
   ]
  },
  {
   "cell_type": "markdown",
   "id": "f4ca4313",
   "metadata": {},
   "source": [
    "It is important that our model is able to prioritize the prediction of positive responses, in this case, a 'yes' indicating that a potential client will accept a marketing request to open a term-deposit account. Our model must find these clients more often than nought. \n",
    "\n",
    "Our metric of relevance will therefore be recall. Recall is the proportion of relevant cases that is selected by the model. We define our positive case as the case related to clients accepting a request to open a term-deposit account (i.e. the 'yes' or '1' response value). Relevant cases are actual positive cases (predicted or not). The selected cases are the positive cases that were appropriately predicted by the model. \n",
    "\n",
    "For this project, we want to err on the side of predicting positive cases, meaning that we will favor a probability threshold for selecting positive cases. Accordingly, it is very likely that our precision suffers and we get a higher false positive rate. \n",
    "\n",
    "In reality, there are costs associated with making wrong predictions. This means that we will be contacting clients that are unlikely to favorably respond to the marketing campaign. There should therefore be a cost / benefit analysis done to determine the trade-off between precision and recall when choosing a model.\n",
    "\n",
    "We shall use a classification report to review model performance, with a focus on the positive case's recall. Furthermore, it should be noted that the classification report will change based on the probability threshold for predicting the positive case - the default probability being 0.5. The Area Under the Curve (AUC) gives us a metric for all such thresholds for the positive case from 0 to 1. "
   ]
  },
  {
   "cell_type": "code",
   "execution_count": 26,
   "id": "2770316b",
   "metadata": {
    "scrolled": true
   },
   "outputs": [
    {
     "data": {
      "text/plain": [
       "0.9031657355679702"
      ]
     },
     "execution_count": 26,
     "metadata": {},
     "output_type": "execute_result"
    }
   ],
   "source": [
    "#Accuracy scores\n",
    "logreg.score(X_test, y_test)"
   ]
  },
  {
   "cell_type": "code",
   "execution_count": 27,
   "id": "e43cdecb",
   "metadata": {},
   "outputs": [
    {
     "data": {
      "text/plain": [
       "array([[10806,   154],\n",
       "       [ 1042,   349]], dtype=int64)"
      ]
     },
     "execution_count": 27,
     "metadata": {},
     "output_type": "execute_result"
    }
   ],
   "source": [
    "#Check confusion matrix\n",
    "confusion_matrix(y_test, y_test_pred_lg)"
   ]
  },
  {
   "cell_type": "code",
   "execution_count": 28,
   "id": "0206afde",
   "metadata": {
    "scrolled": true
   },
   "outputs": [
    {
     "name": "stdout",
     "output_type": "stream",
     "text": [
      "              precision    recall  f1-score   support\n",
      "\n",
      "           0       0.91      0.99      0.95     10960\n",
      "           1       0.69      0.25      0.37      1391\n",
      "\n",
      "    accuracy                           0.90     12351\n",
      "   macro avg       0.80      0.62      0.66     12351\n",
      "weighted avg       0.89      0.90      0.88     12351\n",
      "\n"
     ]
    }
   ],
   "source": [
    "#Check classification report\n",
    "print(classification_report(y_test, y_test_pred_lg))"
   ]
  },
  {
   "cell_type": "code",
   "execution_count": 29,
   "id": "309b17ea",
   "metadata": {
    "scrolled": true
   },
   "outputs": [
    {
     "data": {
      "text/plain": [
       "0.8065633084427"
      ]
     },
     "execution_count": 29,
     "metadata": {},
     "output_type": "execute_result"
    }
   ],
   "source": [
    "#Check area under the curve\n",
    "y_pred_prob_logreg = logreg.predict_proba(X_test)[:,1]\n",
    "roc_auc_score(y_test, y_pred_prob_logreg)"
   ]
  },
  {
   "cell_type": "code",
   "execution_count": 30,
   "id": "acb19ef3",
   "metadata": {},
   "outputs": [
    {
     "data": {
      "text/plain": [
       "0.4760023086498295"
      ]
     },
     "execution_count": 30,
     "metadata": {},
     "output_type": "execute_result"
    }
   ],
   "source": [
    "#Determine area under precision-recall curve\n",
    "average_precision_score(y_test, y_pred_prob_logreg)"
   ]
  },
  {
   "cell_type": "code",
   "execution_count": 31,
   "id": "e06e80c2",
   "metadata": {},
   "outputs": [
    {
     "data": {
      "text/plain": [
       "0.28762155925498595"
      ]
     },
     "execution_count": 31,
     "metadata": {},
     "output_type": "execute_result"
    }
   ],
   "source": [
    "#F2 score\n",
    "fbeta_score(y_test, y_test_pred_lg, beta = 2)"
   ]
  },
  {
   "cell_type": "markdown",
   "id": "43573589",
   "metadata": {},
   "source": [
    "# Summary"
   ]
  },
  {
   "cell_type": "markdown",
   "id": "dda9e763",
   "metadata": {},
   "source": [
    "Our base model gives a good accuracy of 90%, but this score is meaningless in light of the unbalanced nature of the labels. The more reflective performance metric are the recall and precision scores of 0.23 and 0.64 respectively. Our work we turn to optimizing the F1 score for the class of positive responses ('1').  "
   ]
  },
  {
   "cell_type": "markdown",
   "id": "d3351cbc",
   "metadata": {},
   "source": [
    "# Saving"
   ]
  },
  {
   "cell_type": "code",
   "execution_count": 32,
   "id": "f79ae9dd",
   "metadata": {},
   "outputs": [],
   "source": [
    "import pickle"
   ]
  },
  {
   "cell_type": "code",
   "execution_count": 33,
   "id": "0175df5f",
   "metadata": {},
   "outputs": [],
   "source": [
    "filepath = '../data/interim/'"
   ]
  },
  {
   "cell_type": "code",
   "execution_count": 34,
   "id": "a9d96851",
   "metadata": {},
   "outputs": [],
   "source": [
    "pickle.dump(logreg, open(filepath + 'logreg_base.pkl', 'wb'))\n",
    "pickle.dump(X_test, open(filepath + 'X_test_base.pkl', 'wb'))\n",
    "pickle.dump(y_test, open(filepath + 'y_test_base.pkl', 'wb'))\n",
    "pickle.dump(X_train, open(filepath + 'X_train_base.pkl', 'wb'))\n",
    "pickle.dump(y_train, open(filepath + 'y_train_base.pkl', 'wb'))\n",
    "pickle.dump(feature_names, open(filepath + 'feature_names_base.pkl', 'wb'))\n",
    "pickle.dump(application_df, open(filepath + 'application_df.pkl', 'wb'))\n",
    "pickle.dump(X, open(filepath + 'X.pkl', 'wb'))\n",
    "pickle.dump(X_scaled, open(filepath + 'X_scaled.pkl', 'wb'))\n",
    "pickle.dump(y, open(filepath + 'y.pkl', 'wb'))\n",
    "pickle.dump(logreg, open('../models/logreg.pkl', 'wb'))"
   ]
  },
  {
   "cell_type": "markdown",
   "id": "fbe93cb7",
   "metadata": {},
   "source": [
    "# Extended Modelling Plan"
   ]
  },
  {
   "cell_type": "markdown",
   "id": "89f88b1d",
   "metadata": {},
   "source": [
    "We will extend our model by doing the following:\n",
    "1. Feature selection: As noted 'cci' and 'currentCampaignContacts' were show to have a lower correlation coefficient than the other features. We will drop these features and see if performance improves.\n",
    "2. Algorithms: We will trial tree-based algorithms (e.g. Random Forest, XGBoost) and nearest neigbhour models (e.g. kNN) to see if performance improves.\n",
    "3. Hyper-parameter tuning: We will tune hyperparamaters appropriately for all models.\n",
    "4. Resampling methods: We will use sampling methods to appropriately represent the under-represented class.\n"
   ]
  }
 ],
 "metadata": {
  "kernelspec": {
   "display_name": "Python 3",
   "language": "python",
   "name": "python3"
  },
  "language_info": {
   "codemirror_mode": {
    "name": "ipython",
    "version": 3
   },
   "file_extension": ".py",
   "mimetype": "text/x-python",
   "name": "python",
   "nbconvert_exporter": "python",
   "pygments_lexer": "ipython3",
   "version": "3.8.8"
  }
 },
 "nbformat": 4,
 "nbformat_minor": 5
}
