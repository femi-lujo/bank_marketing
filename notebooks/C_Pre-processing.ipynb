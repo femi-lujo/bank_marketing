{
 "cells": [
  {
   "cell_type": "markdown",
   "id": "7f7a962f",
   "metadata": {},
   "source": [
    "# C. Data Pre-processing"
   ]
  },
  {
   "cell_type": "markdown",
   "id": "e82cb7c6",
   "metadata": {},
   "source": [
    "# Load Packages"
   ]
  },
  {
   "cell_type": "code",
   "execution_count": 62,
   "id": "c1a1de9e",
   "metadata": {},
   "outputs": [],
   "source": [
    "import pandas as pd\n",
    "import numpy as np\n",
    "import os\n",
    "import pickle\n",
    "import matplotlib.pyplot as plt\n",
    "import seaborn as sns\n",
    "from sklearn.preprocessing import scale\n",
    "from sklearn.model_selection import train_test_split, cross_validate, GridSearchCV, learning_curve\n",
    "from sklearn.preprocessing import StandardScaler, MinMaxScaler\n",
    "from sklearn.linear_model import LogisticRegression\n",
    "from sklearn.ensemble import RandomForestRegressor\n",
    "from sklearn.metrics import roc_auc_score, average_precision_score\n",
    "from sklearn.pipeline import make_pipeline\n",
    "from sklearn.impute import SimpleImputer\n",
    "from sklearn.metrics import confusion_matrix, classification_report, fbeta_score\n",
    "from sklearn.neighbors import KNeighborsClassifier\n",
    "import datetime\n",
    "import numpy as np\n",
    "import warnings\n",
    "warnings.filterwarnings('ignore')"
   ]
  },
  {
   "cell_type": "markdown",
   "id": "56cf0714",
   "metadata": {},
   "source": [
    "# Load Data"
   ]
  },
  {
   "cell_type": "code",
   "execution_count": 33,
   "id": "b9a57691",
   "metadata": {},
   "outputs": [],
   "source": [
    "data = pd.read_csv(\"../data/interim/bank_modeling.csv\")"
   ]
  },
  {
   "cell_type": "code",
   "execution_count": 34,
   "id": "11c5de6f",
   "metadata": {},
   "outputs": [],
   "source": [
    "bank = data.copy()"
   ]
  },
  {
   "cell_type": "markdown",
   "id": "3b88c72b",
   "metadata": {},
   "source": [
    "# Inspect Data"
   ]
  },
  {
   "cell_type": "code",
   "execution_count": 35,
   "id": "5dd9619f",
   "metadata": {},
   "outputs": [
    {
     "data": {
      "text/html": [
       "<div>\n",
       "<style scoped>\n",
       "    .dataframe tbody tr th:only-of-type {\n",
       "        vertical-align: middle;\n",
       "    }\n",
       "\n",
       "    .dataframe tbody tr th {\n",
       "        vertical-align: top;\n",
       "    }\n",
       "\n",
       "    .dataframe thead th {\n",
       "        text-align: right;\n",
       "    }\n",
       "</style>\n",
       "<table border=\"1\" class=\"dataframe\">\n",
       "  <thead>\n",
       "    <tr style=\"text-align: right;\">\n",
       "      <th></th>\n",
       "      <th>age</th>\n",
       "      <th>job</th>\n",
       "      <th>marital</th>\n",
       "      <th>education</th>\n",
       "      <th>default</th>\n",
       "      <th>housing</th>\n",
       "      <th>loan</th>\n",
       "      <th>contactType</th>\n",
       "      <th>month</th>\n",
       "      <th>dayOfWeek</th>\n",
       "      <th>...</th>\n",
       "      <th>currentCampaignContacts</th>\n",
       "      <th>daysLastContacted</th>\n",
       "      <th>previousCampaignContacts</th>\n",
       "      <th>lastCampaignOutcome</th>\n",
       "      <th>employmentRate</th>\n",
       "      <th>cpi</th>\n",
       "      <th>cci</th>\n",
       "      <th>euribor3m</th>\n",
       "      <th>noEmployed</th>\n",
       "      <th>response</th>\n",
       "    </tr>\n",
       "  </thead>\n",
       "  <tbody>\n",
       "    <tr>\n",
       "      <th>0</th>\n",
       "      <td>56</td>\n",
       "      <td>housemaid</td>\n",
       "      <td>married</td>\n",
       "      <td>basic_4y</td>\n",
       "      <td>no</td>\n",
       "      <td>no</td>\n",
       "      <td>no</td>\n",
       "      <td>telephone</td>\n",
       "      <td>may</td>\n",
       "      <td>mon</td>\n",
       "      <td>...</td>\n",
       "      <td>1</td>\n",
       "      <td>999</td>\n",
       "      <td>0</td>\n",
       "      <td>nonexistent</td>\n",
       "      <td>1.1</td>\n",
       "      <td>93.994</td>\n",
       "      <td>-36.4</td>\n",
       "      <td>4.857</td>\n",
       "      <td>5191.0</td>\n",
       "      <td>no</td>\n",
       "    </tr>\n",
       "    <tr>\n",
       "      <th>1</th>\n",
       "      <td>57</td>\n",
       "      <td>services</td>\n",
       "      <td>married</td>\n",
       "      <td>high_school</td>\n",
       "      <td>unknown</td>\n",
       "      <td>no</td>\n",
       "      <td>no</td>\n",
       "      <td>telephone</td>\n",
       "      <td>may</td>\n",
       "      <td>mon</td>\n",
       "      <td>...</td>\n",
       "      <td>1</td>\n",
       "      <td>999</td>\n",
       "      <td>0</td>\n",
       "      <td>nonexistent</td>\n",
       "      <td>1.1</td>\n",
       "      <td>93.994</td>\n",
       "      <td>-36.4</td>\n",
       "      <td>4.857</td>\n",
       "      <td>5191.0</td>\n",
       "      <td>no</td>\n",
       "    </tr>\n",
       "    <tr>\n",
       "      <th>2</th>\n",
       "      <td>37</td>\n",
       "      <td>services</td>\n",
       "      <td>married</td>\n",
       "      <td>high_school</td>\n",
       "      <td>no</td>\n",
       "      <td>yes</td>\n",
       "      <td>no</td>\n",
       "      <td>telephone</td>\n",
       "      <td>may</td>\n",
       "      <td>mon</td>\n",
       "      <td>...</td>\n",
       "      <td>1</td>\n",
       "      <td>999</td>\n",
       "      <td>0</td>\n",
       "      <td>nonexistent</td>\n",
       "      <td>1.1</td>\n",
       "      <td>93.994</td>\n",
       "      <td>-36.4</td>\n",
       "      <td>4.857</td>\n",
       "      <td>5191.0</td>\n",
       "      <td>no</td>\n",
       "    </tr>\n",
       "    <tr>\n",
       "      <th>3</th>\n",
       "      <td>40</td>\n",
       "      <td>admin.</td>\n",
       "      <td>married</td>\n",
       "      <td>basic_6y</td>\n",
       "      <td>no</td>\n",
       "      <td>no</td>\n",
       "      <td>no</td>\n",
       "      <td>telephone</td>\n",
       "      <td>may</td>\n",
       "      <td>mon</td>\n",
       "      <td>...</td>\n",
       "      <td>1</td>\n",
       "      <td>999</td>\n",
       "      <td>0</td>\n",
       "      <td>nonexistent</td>\n",
       "      <td>1.1</td>\n",
       "      <td>93.994</td>\n",
       "      <td>-36.4</td>\n",
       "      <td>4.857</td>\n",
       "      <td>5191.0</td>\n",
       "      <td>no</td>\n",
       "    </tr>\n",
       "    <tr>\n",
       "      <th>4</th>\n",
       "      <td>56</td>\n",
       "      <td>services</td>\n",
       "      <td>married</td>\n",
       "      <td>high_school</td>\n",
       "      <td>no</td>\n",
       "      <td>no</td>\n",
       "      <td>yes</td>\n",
       "      <td>telephone</td>\n",
       "      <td>may</td>\n",
       "      <td>mon</td>\n",
       "      <td>...</td>\n",
       "      <td>1</td>\n",
       "      <td>999</td>\n",
       "      <td>0</td>\n",
       "      <td>nonexistent</td>\n",
       "      <td>1.1</td>\n",
       "      <td>93.994</td>\n",
       "      <td>-36.4</td>\n",
       "      <td>4.857</td>\n",
       "      <td>5191.0</td>\n",
       "      <td>no</td>\n",
       "    </tr>\n",
       "  </tbody>\n",
       "</table>\n",
       "<p>5 rows × 21 columns</p>\n",
       "</div>"
      ],
      "text/plain": [
       "   age        job  marital    education  default housing loan contactType  \\\n",
       "0   56  housemaid  married     basic_4y       no      no   no   telephone   \n",
       "1   57   services  married  high_school  unknown      no   no   telephone   \n",
       "2   37   services  married  high_school       no     yes   no   telephone   \n",
       "3   40     admin.  married     basic_6y       no      no   no   telephone   \n",
       "4   56   services  married  high_school       no      no  yes   telephone   \n",
       "\n",
       "  month dayOfWeek  ...  currentCampaignContacts  daysLastContacted  \\\n",
       "0   may       mon  ...                        1                999   \n",
       "1   may       mon  ...                        1                999   \n",
       "2   may       mon  ...                        1                999   \n",
       "3   may       mon  ...                        1                999   \n",
       "4   may       mon  ...                        1                999   \n",
       "\n",
       "   previousCampaignContacts  lastCampaignOutcome employmentRate     cpi   cci  \\\n",
       "0                         0          nonexistent            1.1  93.994 -36.4   \n",
       "1                         0          nonexistent            1.1  93.994 -36.4   \n",
       "2                         0          nonexistent            1.1  93.994 -36.4   \n",
       "3                         0          nonexistent            1.1  93.994 -36.4   \n",
       "4                         0          nonexistent            1.1  93.994 -36.4   \n",
       "\n",
       "   euribor3m  noEmployed  response  \n",
       "0      4.857      5191.0        no  \n",
       "1      4.857      5191.0        no  \n",
       "2      4.857      5191.0        no  \n",
       "3      4.857      5191.0        no  \n",
       "4      4.857      5191.0        no  \n",
       "\n",
       "[5 rows x 21 columns]"
      ]
     },
     "execution_count": 35,
     "metadata": {},
     "output_type": "execute_result"
    }
   ],
   "source": [
    "bank.head()"
   ]
  },
  {
   "cell_type": "code",
   "execution_count": 36,
   "id": "7d7d6731",
   "metadata": {},
   "outputs": [
    {
     "name": "stdout",
     "output_type": "stream",
     "text": [
      "<class 'pandas.core.frame.DataFrame'>\n",
      "RangeIndex: 41188 entries, 0 to 41187\n",
      "Data columns (total 21 columns):\n",
      " #   Column                    Non-Null Count  Dtype  \n",
      "---  ------                    --------------  -----  \n",
      " 0   age                       41188 non-null  int64  \n",
      " 1   job                       41188 non-null  object \n",
      " 2   marital                   41188 non-null  object \n",
      " 3   education                 41188 non-null  object \n",
      " 4   default                   41188 non-null  object \n",
      " 5   housing                   41188 non-null  object \n",
      " 6   loan                      41188 non-null  object \n",
      " 7   contactType               41188 non-null  object \n",
      " 8   month                     41188 non-null  object \n",
      " 9   dayOfWeek                 41188 non-null  object \n",
      " 10  duration                  41188 non-null  int64  \n",
      " 11  currentCampaignContacts   41188 non-null  int64  \n",
      " 12  daysLastContacted         41188 non-null  int64  \n",
      " 13  previousCampaignContacts  41188 non-null  int64  \n",
      " 14  lastCampaignOutcome       41188 non-null  object \n",
      " 15  employmentRate            41188 non-null  float64\n",
      " 16  cpi                       41188 non-null  float64\n",
      " 17  cci                       41188 non-null  float64\n",
      " 18  euribor3m                 41188 non-null  float64\n",
      " 19  noEmployed                41188 non-null  float64\n",
      " 20  response                  41188 non-null  object \n",
      "dtypes: float64(5), int64(5), object(11)\n",
      "memory usage: 6.6+ MB\n"
     ]
    }
   ],
   "source": [
    "bank.info()"
   ]
  },
  {
   "cell_type": "markdown",
   "id": "fe1f1641",
   "metadata": {},
   "source": [
    "# Feature Selection"
   ]
  },
  {
   "cell_type": "markdown",
   "id": "7fc75fa0",
   "metadata": {},
   "source": [
    "As noted during EDA we will be dropping these features and for the following reasons:\n",
    "- 'duration' - This feature was found to be highly correlated with response because a dropped call (0s duration) necessarily implies a negative response. The duration is not known before the call is made. Including this feature in our model may lead to data leakage. \n",
    "- 'daysLastContacted' - We observed that most of the values were '999', which was a placeholder to note that the information was missing. Over 96% of the values were '999'. We will consider removing this feature as we tune our model.\n",
    "- We also noted that 'cci' and 'currentCampaignContacts' and age have a low correlation with response. We will include these features in our base model, but will consider removing these features as we tune our model."
   ]
  },
  {
   "cell_type": "markdown",
   "id": "9782e408",
   "metadata": {},
   "source": [
    "# Splitting Features From Target"
   ]
  },
  {
   "cell_type": "code",
   "execution_count": 37,
   "id": "bf98b913",
   "metadata": {},
   "outputs": [],
   "source": [
    "#Converting the subscribed variable from a boolean feature to numerical feature\n",
    "bank.response = bank.response.replace({'yes': 1, 'no': 0})"
   ]
  },
  {
   "cell_type": "code",
   "execution_count": 38,
   "id": "83f2985b",
   "metadata": {},
   "outputs": [],
   "source": [
    "X = bank.drop(columns = ['duration', 'response'])\n",
    "y = bank.response"
   ]
  },
  {
   "cell_type": "code",
   "execution_count": 39,
   "id": "409b05c3",
   "metadata": {},
   "outputs": [],
   "source": [
    "feature_names = X.columns"
   ]
  },
  {
   "cell_type": "markdown",
   "id": "ffdf4126",
   "metadata": {},
   "source": [
    "# Encoding Categorical Variables"
   ]
  },
  {
   "cell_type": "markdown",
   "id": "e3a7d914",
   "metadata": {},
   "source": [
    "We will use the get_dummies function to encode categorical variables"
   ]
  },
  {
   "cell_type": "code",
   "execution_count": 65,
   "id": "e4ca332e",
   "metadata": {
    "scrolled": true
   },
   "outputs": [
    {
     "data": {
      "text/html": [
       "<div>\n",
       "<style scoped>\n",
       "    .dataframe tbody tr th:only-of-type {\n",
       "        vertical-align: middle;\n",
       "    }\n",
       "\n",
       "    .dataframe tbody tr th {\n",
       "        vertical-align: top;\n",
       "    }\n",
       "\n",
       "    .dataframe thead th {\n",
       "        text-align: right;\n",
       "    }\n",
       "</style>\n",
       "<table border=\"1\" class=\"dataframe\">\n",
       "  <thead>\n",
       "    <tr style=\"text-align: right;\">\n",
       "      <th></th>\n",
       "      <th>age</th>\n",
       "      <th>currentCampaignContacts</th>\n",
       "      <th>daysLastContacted</th>\n",
       "      <th>previousCampaignContacts</th>\n",
       "      <th>employmentRate</th>\n",
       "      <th>cpi</th>\n",
       "      <th>cci</th>\n",
       "      <th>euribor3m</th>\n",
       "      <th>noEmployed</th>\n",
       "      <th>job_admin.</th>\n",
       "      <th>...</th>\n",
       "      <th>month_oct</th>\n",
       "      <th>month_sep</th>\n",
       "      <th>dayOfWeek_fri</th>\n",
       "      <th>dayOfWeek_mon</th>\n",
       "      <th>dayOfWeek_thu</th>\n",
       "      <th>dayOfWeek_tue</th>\n",
       "      <th>dayOfWeek_wed</th>\n",
       "      <th>lastCampaignOutcome_failure</th>\n",
       "      <th>lastCampaignOutcome_nonexistent</th>\n",
       "      <th>lastCampaignOutcome_success</th>\n",
       "    </tr>\n",
       "  </thead>\n",
       "  <tbody>\n",
       "    <tr>\n",
       "      <th>0</th>\n",
       "      <td>56</td>\n",
       "      <td>1</td>\n",
       "      <td>999</td>\n",
       "      <td>0</td>\n",
       "      <td>1.1</td>\n",
       "      <td>93.994</td>\n",
       "      <td>-36.4</td>\n",
       "      <td>4.857</td>\n",
       "      <td>5191.0</td>\n",
       "      <td>0</td>\n",
       "      <td>...</td>\n",
       "      <td>0</td>\n",
       "      <td>0</td>\n",
       "      <td>0</td>\n",
       "      <td>1</td>\n",
       "      <td>0</td>\n",
       "      <td>0</td>\n",
       "      <td>0</td>\n",
       "      <td>0</td>\n",
       "      <td>1</td>\n",
       "      <td>0</td>\n",
       "    </tr>\n",
       "    <tr>\n",
       "      <th>1</th>\n",
       "      <td>57</td>\n",
       "      <td>1</td>\n",
       "      <td>999</td>\n",
       "      <td>0</td>\n",
       "      <td>1.1</td>\n",
       "      <td>93.994</td>\n",
       "      <td>-36.4</td>\n",
       "      <td>4.857</td>\n",
       "      <td>5191.0</td>\n",
       "      <td>0</td>\n",
       "      <td>...</td>\n",
       "      <td>0</td>\n",
       "      <td>0</td>\n",
       "      <td>0</td>\n",
       "      <td>1</td>\n",
       "      <td>0</td>\n",
       "      <td>0</td>\n",
       "      <td>0</td>\n",
       "      <td>0</td>\n",
       "      <td>1</td>\n",
       "      <td>0</td>\n",
       "    </tr>\n",
       "    <tr>\n",
       "      <th>2</th>\n",
       "      <td>37</td>\n",
       "      <td>1</td>\n",
       "      <td>999</td>\n",
       "      <td>0</td>\n",
       "      <td>1.1</td>\n",
       "      <td>93.994</td>\n",
       "      <td>-36.4</td>\n",
       "      <td>4.857</td>\n",
       "      <td>5191.0</td>\n",
       "      <td>0</td>\n",
       "      <td>...</td>\n",
       "      <td>0</td>\n",
       "      <td>0</td>\n",
       "      <td>0</td>\n",
       "      <td>1</td>\n",
       "      <td>0</td>\n",
       "      <td>0</td>\n",
       "      <td>0</td>\n",
       "      <td>0</td>\n",
       "      <td>1</td>\n",
       "      <td>0</td>\n",
       "    </tr>\n",
       "    <tr>\n",
       "      <th>3</th>\n",
       "      <td>40</td>\n",
       "      <td>1</td>\n",
       "      <td>999</td>\n",
       "      <td>0</td>\n",
       "      <td>1.1</td>\n",
       "      <td>93.994</td>\n",
       "      <td>-36.4</td>\n",
       "      <td>4.857</td>\n",
       "      <td>5191.0</td>\n",
       "      <td>1</td>\n",
       "      <td>...</td>\n",
       "      <td>0</td>\n",
       "      <td>0</td>\n",
       "      <td>0</td>\n",
       "      <td>1</td>\n",
       "      <td>0</td>\n",
       "      <td>0</td>\n",
       "      <td>0</td>\n",
       "      <td>0</td>\n",
       "      <td>1</td>\n",
       "      <td>0</td>\n",
       "    </tr>\n",
       "    <tr>\n",
       "      <th>4</th>\n",
       "      <td>56</td>\n",
       "      <td>1</td>\n",
       "      <td>999</td>\n",
       "      <td>0</td>\n",
       "      <td>1.1</td>\n",
       "      <td>93.994</td>\n",
       "      <td>-36.4</td>\n",
       "      <td>4.857</td>\n",
       "      <td>5191.0</td>\n",
       "      <td>0</td>\n",
       "      <td>...</td>\n",
       "      <td>0</td>\n",
       "      <td>0</td>\n",
       "      <td>0</td>\n",
       "      <td>1</td>\n",
       "      <td>0</td>\n",
       "      <td>0</td>\n",
       "      <td>0</td>\n",
       "      <td>0</td>\n",
       "      <td>1</td>\n",
       "      <td>0</td>\n",
       "    </tr>\n",
       "  </tbody>\n",
       "</table>\n",
       "<p>5 rows × 62 columns</p>\n",
       "</div>"
      ],
      "text/plain": [
       "   age  currentCampaignContacts  daysLastContacted  previousCampaignContacts  \\\n",
       "0   56                        1                999                         0   \n",
       "1   57                        1                999                         0   \n",
       "2   37                        1                999                         0   \n",
       "3   40                        1                999                         0   \n",
       "4   56                        1                999                         0   \n",
       "\n",
       "   employmentRate     cpi   cci  euribor3m  noEmployed  job_admin.  ...  \\\n",
       "0             1.1  93.994 -36.4      4.857      5191.0           0  ...   \n",
       "1             1.1  93.994 -36.4      4.857      5191.0           0  ...   \n",
       "2             1.1  93.994 -36.4      4.857      5191.0           0  ...   \n",
       "3             1.1  93.994 -36.4      4.857      5191.0           1  ...   \n",
       "4             1.1  93.994 -36.4      4.857      5191.0           0  ...   \n",
       "\n",
       "   month_oct  month_sep  dayOfWeek_fri  dayOfWeek_mon  dayOfWeek_thu  \\\n",
       "0          0          0              0              1              0   \n",
       "1          0          0              0              1              0   \n",
       "2          0          0              0              1              0   \n",
       "3          0          0              0              1              0   \n",
       "4          0          0              0              1              0   \n",
       "\n",
       "   dayOfWeek_tue  dayOfWeek_wed  lastCampaignOutcome_failure  \\\n",
       "0              0              0                            0   \n",
       "1              0              0                            0   \n",
       "2              0              0                            0   \n",
       "3              0              0                            0   \n",
       "4              0              0                            0   \n",
       "\n",
       "   lastCampaignOutcome_nonexistent  lastCampaignOutcome_success  \n",
       "0                                1                            0  \n",
       "1                                1                            0  \n",
       "2                                1                            0  \n",
       "3                                1                            0  \n",
       "4                                1                            0  \n",
       "\n",
       "[5 rows x 62 columns]"
      ]
     },
     "execution_count": 65,
     "metadata": {},
     "output_type": "execute_result"
    }
   ],
   "source": [
    "#Encoding categorical variables\n",
    "X_dummies = pd.get_dummies(X)\n",
    "features_coded = X_dummies.columns\n",
    "X_dummies.head()"
   ]
  },
  {
   "cell_type": "markdown",
   "id": "2d1aa974",
   "metadata": {},
   "source": [
    "# Scaling the Data"
   ]
  },
  {
   "cell_type": "markdown",
   "id": "25a39098",
   "metadata": {},
   "source": [
    "We will use a standard scaler to scale out features"
   ]
  },
  {
   "cell_type": "code",
   "execution_count": 41,
   "id": "5c123d2b",
   "metadata": {},
   "outputs": [],
   "source": [
    "scaler = StandardScaler()"
   ]
  },
  {
   "cell_type": "code",
   "execution_count": 42,
   "id": "18bcf5a4",
   "metadata": {},
   "outputs": [],
   "source": [
    "X_scaled = scaler.fit_transform(X_dummies)"
   ]
  },
  {
   "cell_type": "markdown",
   "id": "1f20f62e",
   "metadata": {},
   "source": [
    "# Creating Train / Test Split"
   ]
  },
  {
   "cell_type": "code",
   "execution_count": 43,
   "id": "318e8560",
   "metadata": {},
   "outputs": [],
   "source": [
    "X_train, X_test, y_train, y_test = train_test_split(X_scaled, y, stratify = y, test_size = 0.3, random_state = 77)"
   ]
  },
  {
   "cell_type": "code",
   "execution_count": 44,
   "id": "7acee27f",
   "metadata": {},
   "outputs": [
    {
     "data": {
      "text/plain": [
       "((28831, 62), (12357, 62))"
      ]
     },
     "execution_count": 44,
     "metadata": {},
     "output_type": "execute_result"
    }
   ],
   "source": [
    "X_train.shape, X_test.shape"
   ]
  },
  {
   "cell_type": "code",
   "execution_count": 45,
   "id": "b3091f07",
   "metadata": {
    "scrolled": true
   },
   "outputs": [
    {
     "data": {
      "text/plain": [
       "((28831,), (12357,))"
      ]
     },
     "execution_count": 45,
     "metadata": {},
     "output_type": "execute_result"
    }
   ],
   "source": [
    "y_train.shape, y_test.shape"
   ]
  },
  {
   "cell_type": "code",
   "execution_count": 46,
   "id": "d68c505f",
   "metadata": {
    "scrolled": true
   },
   "outputs": [
    {
     "data": {
      "text/plain": [
       "0    25583\n",
       "1     3248\n",
       "Name: response, dtype: int64"
      ]
     },
     "execution_count": 46,
     "metadata": {},
     "output_type": "execute_result"
    }
   ],
   "source": [
    "y_train.value_counts()"
   ]
  },
  {
   "cell_type": "markdown",
   "id": "fb4a5418",
   "metadata": {},
   "source": [
    "# Baseline Model - Logistic Regression"
   ]
  },
  {
   "cell_type": "markdown",
   "id": "f377b26c",
   "metadata": {},
   "source": [
    "The baseline algorithm that we shall use to create a model is logistic regression."
   ]
  },
  {
   "cell_type": "code",
   "execution_count": 47,
   "id": "e08dacd5",
   "metadata": {},
   "outputs": [],
   "source": [
    "logreg = LogisticRegression(random_state = 77)"
   ]
  },
  {
   "cell_type": "code",
   "execution_count": 48,
   "id": "3bc93e95",
   "metadata": {},
   "outputs": [],
   "source": [
    "logreg.fit(X_train, y_train);"
   ]
  },
  {
   "cell_type": "code",
   "execution_count": 49,
   "id": "deece1d7",
   "metadata": {},
   "outputs": [],
   "source": [
    "#Determine predictions for train and the test set\n",
    "y_train_pred_lg = logreg.predict(X_train)\n",
    "y_test_pred_lg= logreg.predict(X_test)"
   ]
  },
  {
   "cell_type": "markdown",
   "id": "4b1385d0",
   "metadata": {},
   "source": [
    "# Model Assessment"
   ]
  },
  {
   "cell_type": "markdown",
   "id": "8f4d1345",
   "metadata": {},
   "source": [
    "## Imbalanced Dataset"
   ]
  },
  {
   "cell_type": "code",
   "execution_count": 50,
   "id": "9eca0a3f",
   "metadata": {
    "scrolled": false
   },
   "outputs": [
    {
     "data": {
      "text/plain": [
       "0    36548\n",
       "1     4640\n",
       "Name: response, dtype: int64"
      ]
     },
     "execution_count": 50,
     "metadata": {},
     "output_type": "execute_result"
    }
   ],
   "source": [
    "#Get the number of negative and positive responses\n",
    "y.value_counts()"
   ]
  },
  {
   "cell_type": "code",
   "execution_count": 51,
   "id": "5c74fac2",
   "metadata": {
    "scrolled": true
   },
   "outputs": [
    {
     "data": {
      "text/plain": [
       "7.876724137931035"
      ]
     },
     "execution_count": 51,
     "metadata": {},
     "output_type": "execute_result"
    }
   ],
   "source": [
    "#Get the ratio of positive to negative responses\n",
    "y.value_counts()[0] / y.value_counts()[1]"
   ]
  },
  {
   "cell_type": "markdown",
   "id": "6452ac23",
   "metadata": {},
   "source": [
    "Our data is imbalanced. The ratio of positive responses to negative responses is roughly 1 to 8. It is therefore very likely that the typical metrics will not yield favorable outcomes. "
   ]
  },
  {
   "cell_type": "markdown",
   "id": "0e22fa00",
   "metadata": {},
   "source": [
    "## Metrics"
   ]
  },
  {
   "cell_type": "markdown",
   "id": "f4ca4313",
   "metadata": {},
   "source": [
    "It is important that our model is able to prioritize the prediction of positive responses, in this case, a 'yes' indicating that a potential client will accept a marketing request to open a term-deposit account. Our model must find these clients more often than nought. \n",
    "\n",
    "Our metric of relevance will therefore be recall. Recall is the proportion of relevant cases that is selected by the model. We define our positive case as the case related to clients accepting a request to open a term-deposit account (i.e. the 'yes' or '1' response value). Relevant cases are actual positive cases (predicted or not). The selected cases are the positive cases that were appropriately predicted by the model. \n",
    "\n",
    "For this project, we want to err on the side of predicting positive cases, meaning that we will favor a probability threshold for selecting positive cases. Accordingly, it is very likely that our precision suffers and we get a higher false positive rate. \n",
    "\n",
    "In reality, there are costs associated with making wrong predictions. This means that we will be contacting clients that are unlikely to favorably respond to the marketing campaign. There should therefore be a cost / benefit analysis done to determine the trade-off between precision and recall when choosing a model.\n",
    "\n",
    "We shall use a classification report to review model performance, with a focus on the positive case's recall. Furthermore, it should be noted that the classification report will change based on the probability threshold for predicting the positive case - the default probability being 0.5. The Area Under the Curve (AUC) gives us a metric for all such thresholds for the positive case from 0 to 1. "
   ]
  },
  {
   "cell_type": "code",
   "execution_count": 52,
   "id": "2770316b",
   "metadata": {
    "scrolled": true
   },
   "outputs": [
    {
     "data": {
      "text/plain": [
       "0.9019179412478757"
      ]
     },
     "execution_count": 52,
     "metadata": {},
     "output_type": "execute_result"
    }
   ],
   "source": [
    "#Accuracy scores\n",
    "logreg.score(X_test, y_test)"
   ]
  },
  {
   "cell_type": "code",
   "execution_count": 53,
   "id": "e43cdecb",
   "metadata": {},
   "outputs": [
    {
     "data": {
      "text/plain": [
       "array([[10792,   173],\n",
       "       [ 1039,   353]], dtype=int64)"
      ]
     },
     "execution_count": 53,
     "metadata": {},
     "output_type": "execute_result"
    }
   ],
   "source": [
    "#Check confusion matrix\n",
    "confusion_matrix(y_test, y_test_pred_lg)"
   ]
  },
  {
   "cell_type": "code",
   "execution_count": 54,
   "id": "0206afde",
   "metadata": {
    "scrolled": true
   },
   "outputs": [
    {
     "name": "stdout",
     "output_type": "stream",
     "text": [
      "              precision    recall  f1-score   support\n",
      "\n",
      "           0       0.91      0.98      0.95     10965\n",
      "           1       0.67      0.25      0.37      1392\n",
      "\n",
      "    accuracy                           0.90     12357\n",
      "   macro avg       0.79      0.62      0.66     12357\n",
      "weighted avg       0.89      0.90      0.88     12357\n",
      "\n"
     ]
    }
   ],
   "source": [
    "#Check classification report\n",
    "print(classification_report(y_test, y_test_pred_lg))"
   ]
  },
  {
   "cell_type": "code",
   "execution_count": 55,
   "id": "309b17ea",
   "metadata": {
    "scrolled": true
   },
   "outputs": [
    {
     "data": {
      "text/plain": [
       "0.7968221771467208"
      ]
     },
     "execution_count": 55,
     "metadata": {},
     "output_type": "execute_result"
    }
   ],
   "source": [
    "#Check area under the curve\n",
    "y_pred_prob_logreg = logreg.predict_proba(X_test)[:,1]\n",
    "roc_auc_score(y_test, y_pred_prob_logreg)"
   ]
  },
  {
   "cell_type": "code",
   "execution_count": 63,
   "id": "acb19ef3",
   "metadata": {},
   "outputs": [
    {
     "data": {
      "text/plain": [
       "0.4640770191901702"
      ]
     },
     "execution_count": 63,
     "metadata": {},
     "output_type": "execute_result"
    }
   ],
   "source": [
    "#Determine area under precision-recall curve\n",
    "average_precision_score(y_test, y_pred_prob_logreg)"
   ]
  },
  {
   "cell_type": "code",
   "execution_count": 56,
   "id": "e06e80c2",
   "metadata": {},
   "outputs": [
    {
     "data": {
      "text/plain": [
       "0.2896291434197571"
      ]
     },
     "execution_count": 56,
     "metadata": {},
     "output_type": "execute_result"
    }
   ],
   "source": [
    "#F2 score\n",
    "fbeta_score(y_test, y_test_pred_lg, beta = 2)"
   ]
  },
  {
   "cell_type": "markdown",
   "id": "43573589",
   "metadata": {},
   "source": [
    "# Summary"
   ]
  },
  {
   "cell_type": "markdown",
   "id": "dda9e763",
   "metadata": {},
   "source": [
    "Our base model gives a good accuracy of 90%, but this score is meaningless in light of the unbalanced nature of the labels. The more reflective performance metric are the recall and precision scores of 0.23 and 0.64 respectively. Our work we turn to optimizing the F1 score for the class of positive responses ('1').  "
   ]
  },
  {
   "cell_type": "markdown",
   "id": "d3351cbc",
   "metadata": {},
   "source": [
    "# Saving"
   ]
  },
  {
   "cell_type": "code",
   "execution_count": 57,
   "id": "f79ae9dd",
   "metadata": {},
   "outputs": [],
   "source": [
    "import pickle"
   ]
  },
  {
   "cell_type": "code",
   "execution_count": 58,
   "id": "0175df5f",
   "metadata": {},
   "outputs": [],
   "source": [
    "filepath = '../data/interim/'"
   ]
  },
  {
   "cell_type": "code",
   "execution_count": 66,
   "id": "a9d96851",
   "metadata": {},
   "outputs": [],
   "source": [
    "pickle.dump(logreg, open(filepath + 'logreg_base.pkl', 'wb'))\n",
    "pickle.dump(X_test, open(filepath + 'X_test_base.pkl', 'wb'))\n",
    "pickle.dump(y_test, open(filepath + 'y_test_base.pkl', 'wb'))\n",
    "pickle.dump(X_train, open(filepath + 'X_train_base.pkl', 'wb'))\n",
    "pickle.dump(y_train, open(filepath + 'y_train_base.pkl', 'wb'))\n",
    "pickle.dump(feature_names, open(filepath + 'feature_names_base.pkl', 'wb'))\n",
    "pickle.dump(features_coded, open(filepath + 'features_coded_base.pkl', 'wb'))"
   ]
  },
  {
   "cell_type": "code",
   "execution_count": 60,
   "id": "a8a881c3",
   "metadata": {},
   "outputs": [],
   "source": [
    "pickle.dump(X, open(filepath + 'X.pkl', 'wb'))"
   ]
  },
  {
   "cell_type": "code",
   "execution_count": 61,
   "id": "798a3ea7",
   "metadata": {},
   "outputs": [],
   "source": [
    "pickle.dump(y, open(filepath + 'y.pkl', 'wb'))"
   ]
  },
  {
   "cell_type": "markdown",
   "id": "fbe93cb7",
   "metadata": {},
   "source": [
    "# Extended Modelling Plan"
   ]
  },
  {
   "cell_type": "markdown",
   "id": "89f88b1d",
   "metadata": {},
   "source": [
    "We will extend our model by doing the following:\n",
    "1. Feature selection: As noted 'cci' and 'currentCampaignContacts' were show to have a lower correlation coefficient than the other features. We will drop these features and see if performance improves.\n",
    "2. Algorithms: We will trial tree-based algorithms (e.g. Random Forest, XGBoost) and nearest neigbhour models (e.g. kNN) to see if performance improves.\n",
    "3. Hyper-parameter tuning: We will tune hyperparamaters appropriately for all models.\n",
    "4. Resampling methods: We will use sampling methods to appropriately represent the under-represented class.\n"
   ]
  }
 ],
 "metadata": {
  "kernelspec": {
   "display_name": "Python 3",
   "language": "python",
   "name": "python3"
  },
  "language_info": {
   "codemirror_mode": {
    "name": "ipython",
    "version": 3
   },
   "file_extension": ".py",
   "mimetype": "text/x-python",
   "name": "python",
   "nbconvert_exporter": "python",
   "pygments_lexer": "ipython3",
   "version": "3.8.10"
  }
 },
 "nbformat": 4,
 "nbformat_minor": 5
}
