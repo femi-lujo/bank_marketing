{
 "cells": [
  {
   "cell_type": "markdown",
   "id": "7f7a962f",
   "metadata": {},
   "source": [
    "# Data Pre-processing"
   ]
  },
  {
   "cell_type": "markdown",
   "id": "e82cb7c6",
   "metadata": {},
   "source": [
    "# Load Packages"
   ]
  },
  {
   "cell_type": "code",
   "execution_count": 1,
   "id": "c1a1de9e",
   "metadata": {},
   "outputs": [],
   "source": [
    "import pandas as pd\n",
    "import numpy as np\n",
    "import os\n",
    "import pickle\n",
    "import matplotlib.pyplot as plt\n",
    "import seaborn as sns\n",
    "from sklearn.preprocessing import scale\n",
    "from sklearn.model_selection import train_test_split, cross_validate, GridSearchCV, learning_curve\n",
    "from sklearn.preprocessing import StandardScaler, MinMaxScaler\n",
    "from sklearn.dummy import DummyRegressor\n",
    "from sklearn.linear_model import LogisticRegression\n",
    "from sklearn.ensemble import RandomForestRegressor\n",
    "from sklearn.metrics import roc_auc_score\n",
    "from sklearn.pipeline import make_pipeline\n",
    "from sklearn.impute import SimpleImputer\n",
    "from sklearn.metrics import confusion_matrix, classification_report\n",
    "from sklearn.neighbors import KNeighborsClassifier\n",
    "import datetime\n",
    "import numpy as np\n",
    "import warnings\n",
    "warnings.filterwarnings('ignore')"
   ]
  },
  {
   "cell_type": "markdown",
   "id": "56cf0714",
   "metadata": {},
   "source": [
    "# Load Data"
   ]
  },
  {
   "cell_type": "code",
   "execution_count": 2,
   "id": "b9a57691",
   "metadata": {},
   "outputs": [],
   "source": [
    "data = pd.read_csv(\"../data/interim/bank_modeling.csv\")"
   ]
  },
  {
   "cell_type": "code",
   "execution_count": 3,
   "id": "11c5de6f",
   "metadata": {},
   "outputs": [],
   "source": [
    "bank = data.copy()"
   ]
  },
  {
   "cell_type": "markdown",
   "id": "3b88c72b",
   "metadata": {},
   "source": [
    "# Inspect Data"
   ]
  },
  {
   "cell_type": "code",
   "execution_count": 4,
   "id": "5dd9619f",
   "metadata": {},
   "outputs": [
    {
     "data": {
      "text/html": [
       "<div>\n",
       "<style scoped>\n",
       "    .dataframe tbody tr th:only-of-type {\n",
       "        vertical-align: middle;\n",
       "    }\n",
       "\n",
       "    .dataframe tbody tr th {\n",
       "        vertical-align: top;\n",
       "    }\n",
       "\n",
       "    .dataframe thead th {\n",
       "        text-align: right;\n",
       "    }\n",
       "</style>\n",
       "<table border=\"1\" class=\"dataframe\">\n",
       "  <thead>\n",
       "    <tr style=\"text-align: right;\">\n",
       "      <th></th>\n",
       "      <th>age</th>\n",
       "      <th>job</th>\n",
       "      <th>marital</th>\n",
       "      <th>education</th>\n",
       "      <th>default</th>\n",
       "      <th>housing</th>\n",
       "      <th>loan</th>\n",
       "      <th>contactType</th>\n",
       "      <th>month</th>\n",
       "      <th>dayOfWeek</th>\n",
       "      <th>...</th>\n",
       "      <th>currentCampaignContacts</th>\n",
       "      <th>daysLastContacted</th>\n",
       "      <th>previousCampaignContacts</th>\n",
       "      <th>lastCampaignOutcome</th>\n",
       "      <th>employmentRate</th>\n",
       "      <th>cpi</th>\n",
       "      <th>cci</th>\n",
       "      <th>euribor3m</th>\n",
       "      <th>noEmployed</th>\n",
       "      <th>response</th>\n",
       "    </tr>\n",
       "  </thead>\n",
       "  <tbody>\n",
       "    <tr>\n",
       "      <th>0</th>\n",
       "      <td>56</td>\n",
       "      <td>housemaid</td>\n",
       "      <td>married</td>\n",
       "      <td>basic_4y</td>\n",
       "      <td>no</td>\n",
       "      <td>no</td>\n",
       "      <td>no</td>\n",
       "      <td>telephone</td>\n",
       "      <td>may</td>\n",
       "      <td>mon</td>\n",
       "      <td>...</td>\n",
       "      <td>1</td>\n",
       "      <td>999</td>\n",
       "      <td>0</td>\n",
       "      <td>nonexistent</td>\n",
       "      <td>1.1</td>\n",
       "      <td>93.994</td>\n",
       "      <td>-36.4</td>\n",
       "      <td>4.857</td>\n",
       "      <td>5191.0</td>\n",
       "      <td>0</td>\n",
       "    </tr>\n",
       "    <tr>\n",
       "      <th>1</th>\n",
       "      <td>57</td>\n",
       "      <td>services</td>\n",
       "      <td>married</td>\n",
       "      <td>high_school</td>\n",
       "      <td>unknown</td>\n",
       "      <td>no</td>\n",
       "      <td>no</td>\n",
       "      <td>telephone</td>\n",
       "      <td>may</td>\n",
       "      <td>mon</td>\n",
       "      <td>...</td>\n",
       "      <td>1</td>\n",
       "      <td>999</td>\n",
       "      <td>0</td>\n",
       "      <td>nonexistent</td>\n",
       "      <td>1.1</td>\n",
       "      <td>93.994</td>\n",
       "      <td>-36.4</td>\n",
       "      <td>4.857</td>\n",
       "      <td>5191.0</td>\n",
       "      <td>0</td>\n",
       "    </tr>\n",
       "    <tr>\n",
       "      <th>2</th>\n",
       "      <td>37</td>\n",
       "      <td>services</td>\n",
       "      <td>married</td>\n",
       "      <td>high_school</td>\n",
       "      <td>no</td>\n",
       "      <td>yes</td>\n",
       "      <td>no</td>\n",
       "      <td>telephone</td>\n",
       "      <td>may</td>\n",
       "      <td>mon</td>\n",
       "      <td>...</td>\n",
       "      <td>1</td>\n",
       "      <td>999</td>\n",
       "      <td>0</td>\n",
       "      <td>nonexistent</td>\n",
       "      <td>1.1</td>\n",
       "      <td>93.994</td>\n",
       "      <td>-36.4</td>\n",
       "      <td>4.857</td>\n",
       "      <td>5191.0</td>\n",
       "      <td>0</td>\n",
       "    </tr>\n",
       "    <tr>\n",
       "      <th>3</th>\n",
       "      <td>40</td>\n",
       "      <td>admin.</td>\n",
       "      <td>married</td>\n",
       "      <td>basic_6y</td>\n",
       "      <td>no</td>\n",
       "      <td>no</td>\n",
       "      <td>no</td>\n",
       "      <td>telephone</td>\n",
       "      <td>may</td>\n",
       "      <td>mon</td>\n",
       "      <td>...</td>\n",
       "      <td>1</td>\n",
       "      <td>999</td>\n",
       "      <td>0</td>\n",
       "      <td>nonexistent</td>\n",
       "      <td>1.1</td>\n",
       "      <td>93.994</td>\n",
       "      <td>-36.4</td>\n",
       "      <td>4.857</td>\n",
       "      <td>5191.0</td>\n",
       "      <td>0</td>\n",
       "    </tr>\n",
       "    <tr>\n",
       "      <th>4</th>\n",
       "      <td>56</td>\n",
       "      <td>services</td>\n",
       "      <td>married</td>\n",
       "      <td>high_school</td>\n",
       "      <td>no</td>\n",
       "      <td>no</td>\n",
       "      <td>yes</td>\n",
       "      <td>telephone</td>\n",
       "      <td>may</td>\n",
       "      <td>mon</td>\n",
       "      <td>...</td>\n",
       "      <td>1</td>\n",
       "      <td>999</td>\n",
       "      <td>0</td>\n",
       "      <td>nonexistent</td>\n",
       "      <td>1.1</td>\n",
       "      <td>93.994</td>\n",
       "      <td>-36.4</td>\n",
       "      <td>4.857</td>\n",
       "      <td>5191.0</td>\n",
       "      <td>0</td>\n",
       "    </tr>\n",
       "  </tbody>\n",
       "</table>\n",
       "<p>5 rows × 21 columns</p>\n",
       "</div>"
      ],
      "text/plain": [
       "   age        job  marital    education  default housing loan contactType  \\\n",
       "0   56  housemaid  married     basic_4y       no      no   no   telephone   \n",
       "1   57   services  married  high_school  unknown      no   no   telephone   \n",
       "2   37   services  married  high_school       no     yes   no   telephone   \n",
       "3   40     admin.  married     basic_6y       no      no   no   telephone   \n",
       "4   56   services  married  high_school       no      no  yes   telephone   \n",
       "\n",
       "  month dayOfWeek  ...  currentCampaignContacts  daysLastContacted  \\\n",
       "0   may       mon  ...                        1                999   \n",
       "1   may       mon  ...                        1                999   \n",
       "2   may       mon  ...                        1                999   \n",
       "3   may       mon  ...                        1                999   \n",
       "4   may       mon  ...                        1                999   \n",
       "\n",
       "   previousCampaignContacts  lastCampaignOutcome employmentRate     cpi   cci  \\\n",
       "0                         0          nonexistent            1.1  93.994 -36.4   \n",
       "1                         0          nonexistent            1.1  93.994 -36.4   \n",
       "2                         0          nonexistent            1.1  93.994 -36.4   \n",
       "3                         0          nonexistent            1.1  93.994 -36.4   \n",
       "4                         0          nonexistent            1.1  93.994 -36.4   \n",
       "\n",
       "   euribor3m  noEmployed  response  \n",
       "0      4.857      5191.0         0  \n",
       "1      4.857      5191.0         0  \n",
       "2      4.857      5191.0         0  \n",
       "3      4.857      5191.0         0  \n",
       "4      4.857      5191.0         0  \n",
       "\n",
       "[5 rows x 21 columns]"
      ]
     },
     "execution_count": 4,
     "metadata": {},
     "output_type": "execute_result"
    }
   ],
   "source": [
    "bank.head()"
   ]
  },
  {
   "cell_type": "code",
   "execution_count": 65,
   "id": "7d7d6731",
   "metadata": {},
   "outputs": [
    {
     "name": "stdout",
     "output_type": "stream",
     "text": [
      "<class 'pandas.core.frame.DataFrame'>\n",
      "RangeIndex: 41188 entries, 0 to 41187\n",
      "Data columns (total 21 columns):\n",
      " #   Column                    Non-Null Count  Dtype  \n",
      "---  ------                    --------------  -----  \n",
      " 0   age                       41188 non-null  int64  \n",
      " 1   job                       41188 non-null  object \n",
      " 2   marital                   41188 non-null  object \n",
      " 3   education                 41188 non-null  object \n",
      " 4   default                   41188 non-null  object \n",
      " 5   housing                   41188 non-null  object \n",
      " 6   loan                      41188 non-null  object \n",
      " 7   contactType               41188 non-null  object \n",
      " 8   month                     41188 non-null  object \n",
      " 9   dayOfWeek                 41188 non-null  object \n",
      " 10  duration                  41188 non-null  int64  \n",
      " 11  currentCampaignContacts   41188 non-null  int64  \n",
      " 12  daysLastContacted         41188 non-null  int64  \n",
      " 13  previousCampaignContacts  41188 non-null  int64  \n",
      " 14  lastCampaignOutcome       41188 non-null  object \n",
      " 15  employmentRate            41188 non-null  float64\n",
      " 16  cpi                       41188 non-null  float64\n",
      " 17  cci                       41188 non-null  float64\n",
      " 18  euribor3m                 41188 non-null  float64\n",
      " 19  noEmployed                41188 non-null  float64\n",
      " 20  response                  41188 non-null  int64  \n",
      "dtypes: float64(5), int64(6), object(10)\n",
      "memory usage: 6.6+ MB\n"
     ]
    }
   ],
   "source": [
    "bank.info()"
   ]
  },
  {
   "cell_type": "markdown",
   "id": "fe1f1641",
   "metadata": {},
   "source": [
    "# Feature Selection"
   ]
  },
  {
   "cell_type": "markdown",
   "id": "7fc75fa0",
   "metadata": {},
   "source": [
    "As noted during EDA we will be dropping these features and for the following reasons:\n",
    "- 'duration' - This feature was found to be highly correlated with response because a dropped call (0s duration) necessarily implies a negative response.\n",
    "- 'daysLastContacted' - We observed that most of the values were '999', which was a placeholder to note that the information was missing. Over 96% of the values were '999'.\n",
    "- We also noted that 'cci' and 'currentCampaignContacts' and age have a low correlation with response. We will include these features in our base model, but will consider removing these features as we tune our model."
   ]
  },
  {
   "cell_type": "markdown",
   "id": "9782e408",
   "metadata": {},
   "source": [
    "# Splitting Features From Target"
   ]
  },
  {
   "cell_type": "code",
   "execution_count": 5,
   "id": "83f2985b",
   "metadata": {},
   "outputs": [],
   "source": [
    "X = bank.drop(columns = ['daysLastContacted', 'duration', 'response'])\n",
    "y = bank.response"
   ]
  },
  {
   "cell_type": "markdown",
   "id": "ffdf4126",
   "metadata": {},
   "source": [
    "# Encoding Categorical Variables"
   ]
  },
  {
   "cell_type": "markdown",
   "id": "e3a7d914",
   "metadata": {},
   "source": [
    "We will use the get_dummies function to encode categorical variables"
   ]
  },
  {
   "cell_type": "code",
   "execution_count": 7,
   "id": "e4ca332e",
   "metadata": {},
   "outputs": [
    {
     "data": {
      "text/html": [
       "<div>\n",
       "<style scoped>\n",
       "    .dataframe tbody tr th:only-of-type {\n",
       "        vertical-align: middle;\n",
       "    }\n",
       "\n",
       "    .dataframe tbody tr th {\n",
       "        vertical-align: top;\n",
       "    }\n",
       "\n",
       "    .dataframe thead th {\n",
       "        text-align: right;\n",
       "    }\n",
       "</style>\n",
       "<table border=\"1\" class=\"dataframe\">\n",
       "  <thead>\n",
       "    <tr style=\"text-align: right;\">\n",
       "      <th></th>\n",
       "      <th>age</th>\n",
       "      <th>currentCampaignContacts</th>\n",
       "      <th>previousCampaignContacts</th>\n",
       "      <th>employmentRate</th>\n",
       "      <th>cpi</th>\n",
       "      <th>cci</th>\n",
       "      <th>euribor3m</th>\n",
       "      <th>noEmployed</th>\n",
       "      <th>job_admin.</th>\n",
       "      <th>job_blue-collar</th>\n",
       "      <th>...</th>\n",
       "      <th>month_oct</th>\n",
       "      <th>month_sep</th>\n",
       "      <th>dayOfWeek_fri</th>\n",
       "      <th>dayOfWeek_mon</th>\n",
       "      <th>dayOfWeek_thu</th>\n",
       "      <th>dayOfWeek_tue</th>\n",
       "      <th>dayOfWeek_wed</th>\n",
       "      <th>lastCampaignOutcome_failure</th>\n",
       "      <th>lastCampaignOutcome_nonexistent</th>\n",
       "      <th>lastCampaignOutcome_success</th>\n",
       "    </tr>\n",
       "  </thead>\n",
       "  <tbody>\n",
       "    <tr>\n",
       "      <th>0</th>\n",
       "      <td>56</td>\n",
       "      <td>1</td>\n",
       "      <td>0</td>\n",
       "      <td>1.1</td>\n",
       "      <td>93.994</td>\n",
       "      <td>-36.4</td>\n",
       "      <td>4.857</td>\n",
       "      <td>5191.0</td>\n",
       "      <td>0</td>\n",
       "      <td>0</td>\n",
       "      <td>...</td>\n",
       "      <td>0</td>\n",
       "      <td>0</td>\n",
       "      <td>0</td>\n",
       "      <td>1</td>\n",
       "      <td>0</td>\n",
       "      <td>0</td>\n",
       "      <td>0</td>\n",
       "      <td>0</td>\n",
       "      <td>1</td>\n",
       "      <td>0</td>\n",
       "    </tr>\n",
       "    <tr>\n",
       "      <th>1</th>\n",
       "      <td>57</td>\n",
       "      <td>1</td>\n",
       "      <td>0</td>\n",
       "      <td>1.1</td>\n",
       "      <td>93.994</td>\n",
       "      <td>-36.4</td>\n",
       "      <td>4.857</td>\n",
       "      <td>5191.0</td>\n",
       "      <td>0</td>\n",
       "      <td>0</td>\n",
       "      <td>...</td>\n",
       "      <td>0</td>\n",
       "      <td>0</td>\n",
       "      <td>0</td>\n",
       "      <td>1</td>\n",
       "      <td>0</td>\n",
       "      <td>0</td>\n",
       "      <td>0</td>\n",
       "      <td>0</td>\n",
       "      <td>1</td>\n",
       "      <td>0</td>\n",
       "    </tr>\n",
       "    <tr>\n",
       "      <th>2</th>\n",
       "      <td>37</td>\n",
       "      <td>1</td>\n",
       "      <td>0</td>\n",
       "      <td>1.1</td>\n",
       "      <td>93.994</td>\n",
       "      <td>-36.4</td>\n",
       "      <td>4.857</td>\n",
       "      <td>5191.0</td>\n",
       "      <td>0</td>\n",
       "      <td>0</td>\n",
       "      <td>...</td>\n",
       "      <td>0</td>\n",
       "      <td>0</td>\n",
       "      <td>0</td>\n",
       "      <td>1</td>\n",
       "      <td>0</td>\n",
       "      <td>0</td>\n",
       "      <td>0</td>\n",
       "      <td>0</td>\n",
       "      <td>1</td>\n",
       "      <td>0</td>\n",
       "    </tr>\n",
       "    <tr>\n",
       "      <th>3</th>\n",
       "      <td>40</td>\n",
       "      <td>1</td>\n",
       "      <td>0</td>\n",
       "      <td>1.1</td>\n",
       "      <td>93.994</td>\n",
       "      <td>-36.4</td>\n",
       "      <td>4.857</td>\n",
       "      <td>5191.0</td>\n",
       "      <td>1</td>\n",
       "      <td>0</td>\n",
       "      <td>...</td>\n",
       "      <td>0</td>\n",
       "      <td>0</td>\n",
       "      <td>0</td>\n",
       "      <td>1</td>\n",
       "      <td>0</td>\n",
       "      <td>0</td>\n",
       "      <td>0</td>\n",
       "      <td>0</td>\n",
       "      <td>1</td>\n",
       "      <td>0</td>\n",
       "    </tr>\n",
       "    <tr>\n",
       "      <th>4</th>\n",
       "      <td>56</td>\n",
       "      <td>1</td>\n",
       "      <td>0</td>\n",
       "      <td>1.1</td>\n",
       "      <td>93.994</td>\n",
       "      <td>-36.4</td>\n",
       "      <td>4.857</td>\n",
       "      <td>5191.0</td>\n",
       "      <td>0</td>\n",
       "      <td>0</td>\n",
       "      <td>...</td>\n",
       "      <td>0</td>\n",
       "      <td>0</td>\n",
       "      <td>0</td>\n",
       "      <td>1</td>\n",
       "      <td>0</td>\n",
       "      <td>0</td>\n",
       "      <td>0</td>\n",
       "      <td>0</td>\n",
       "      <td>1</td>\n",
       "      <td>0</td>\n",
       "    </tr>\n",
       "  </tbody>\n",
       "</table>\n",
       "<p>5 rows × 61 columns</p>\n",
       "</div>"
      ],
      "text/plain": [
       "   age  currentCampaignContacts  previousCampaignContacts  employmentRate  \\\n",
       "0   56                        1                         0             1.1   \n",
       "1   57                        1                         0             1.1   \n",
       "2   37                        1                         0             1.1   \n",
       "3   40                        1                         0             1.1   \n",
       "4   56                        1                         0             1.1   \n",
       "\n",
       "      cpi   cci  euribor3m  noEmployed  job_admin.  job_blue-collar  ...  \\\n",
       "0  93.994 -36.4      4.857      5191.0           0                0  ...   \n",
       "1  93.994 -36.4      4.857      5191.0           0                0  ...   \n",
       "2  93.994 -36.4      4.857      5191.0           0                0  ...   \n",
       "3  93.994 -36.4      4.857      5191.0           1                0  ...   \n",
       "4  93.994 -36.4      4.857      5191.0           0                0  ...   \n",
       "\n",
       "   month_oct  month_sep  dayOfWeek_fri  dayOfWeek_mon  dayOfWeek_thu  \\\n",
       "0          0          0              0              1              0   \n",
       "1          0          0              0              1              0   \n",
       "2          0          0              0              1              0   \n",
       "3          0          0              0              1              0   \n",
       "4          0          0              0              1              0   \n",
       "\n",
       "   dayOfWeek_tue  dayOfWeek_wed  lastCampaignOutcome_failure  \\\n",
       "0              0              0                            0   \n",
       "1              0              0                            0   \n",
       "2              0              0                            0   \n",
       "3              0              0                            0   \n",
       "4              0              0                            0   \n",
       "\n",
       "   lastCampaignOutcome_nonexistent  lastCampaignOutcome_success  \n",
       "0                                1                            0  \n",
       "1                                1                            0  \n",
       "2                                1                            0  \n",
       "3                                1                            0  \n",
       "4                                1                            0  \n",
       "\n",
       "[5 rows x 61 columns]"
      ]
     },
     "execution_count": 7,
     "metadata": {},
     "output_type": "execute_result"
    }
   ],
   "source": [
    "#Encoding categorical variables\n",
    "X_dummies = pd.get_dummies(X)\n",
    "X_dummies.head()"
   ]
  },
  {
   "cell_type": "markdown",
   "id": "2d1aa974",
   "metadata": {},
   "source": [
    "# Scaling the Data"
   ]
  },
  {
   "cell_type": "markdown",
   "id": "25a39098",
   "metadata": {},
   "source": [
    "We will use a standard scaler to scale out features"
   ]
  },
  {
   "cell_type": "code",
   "execution_count": 8,
   "id": "5c123d2b",
   "metadata": {},
   "outputs": [],
   "source": [
    "scaler = StandardScaler()"
   ]
  },
  {
   "cell_type": "code",
   "execution_count": 10,
   "id": "18bcf5a4",
   "metadata": {},
   "outputs": [
    {
     "data": {
      "text/plain": [
       "array([[ 1.53303429, -0.56592197, -0.34949428, ..., -0.3392905 ,\n",
       "         0.39770593, -0.1857    ],\n",
       "       [ 1.62899323, -0.56592197, -0.34949428, ..., -0.3392905 ,\n",
       "         0.39770593, -0.1857    ],\n",
       "       [-0.29018564, -0.56592197, -0.34949428, ..., -0.3392905 ,\n",
       "         0.39770593, -0.1857    ],\n",
       "       ...,\n",
       "       [ 1.53303429, -0.20490853, -0.34949428, ..., -0.3392905 ,\n",
       "         0.39770593, -0.1857    ],\n",
       "       [ 0.38152696, -0.56592197, -0.34949428, ..., -0.3392905 ,\n",
       "         0.39770593, -0.1857    ],\n",
       "       [ 3.26029527,  0.15610492,  1.67113606, ...,  2.94732687,\n",
       "        -2.51442063, -0.1857    ]])"
      ]
     },
     "execution_count": 10,
     "metadata": {},
     "output_type": "execute_result"
    }
   ],
   "source": [
    "X_scaled = scaler.fit_transform(X_dummies)\n",
    "X_scaled"
   ]
  },
  {
   "cell_type": "markdown",
   "id": "1f20f62e",
   "metadata": {},
   "source": [
    "# Creating Train / Test Split"
   ]
  },
  {
   "cell_type": "code",
   "execution_count": 18,
   "id": "318e8560",
   "metadata": {},
   "outputs": [],
   "source": [
    "X_train, X_test, y_train, y_test = train_test_split(X_scaled, y, test_size = 0.3, random_state = 77)"
   ]
  },
  {
   "cell_type": "code",
   "execution_count": 19,
   "id": "7acee27f",
   "metadata": {},
   "outputs": [
    {
     "data": {
      "text/plain": [
       "((28831, 61), (12357, 61))"
      ]
     },
     "execution_count": 19,
     "metadata": {},
     "output_type": "execute_result"
    }
   ],
   "source": [
    "X_train.shape, X_test.shape"
   ]
  },
  {
   "cell_type": "code",
   "execution_count": 20,
   "id": "b3091f07",
   "metadata": {
    "scrolled": true
   },
   "outputs": [
    {
     "data": {
      "text/plain": [
       "((28831,), (12357,))"
      ]
     },
     "execution_count": 20,
     "metadata": {},
     "output_type": "execute_result"
    }
   ],
   "source": [
    "y_train.shape, y_test.shape"
   ]
  },
  {
   "cell_type": "code",
   "execution_count": 15,
   "id": "d68c505f",
   "metadata": {},
   "outputs": [
    {
     "data": {
      "text/plain": [
       "0    25520\n",
       "1     3311\n",
       "Name: response, dtype: int64"
      ]
     },
     "execution_count": 15,
     "metadata": {},
     "output_type": "execute_result"
    }
   ],
   "source": [
    "y_train.value_counts()"
   ]
  },
  {
   "cell_type": "markdown",
   "id": "fb4a5418",
   "metadata": {},
   "source": [
    "# Baseline Model - Logistic Regression"
   ]
  },
  {
   "cell_type": "code",
   "execution_count": 21,
   "id": "e08dacd5",
   "metadata": {},
   "outputs": [],
   "source": [
    "logreg = LogisticRegression(random_state = 77)"
   ]
  },
  {
   "cell_type": "code",
   "execution_count": 22,
   "id": "3bc93e95",
   "metadata": {},
   "outputs": [],
   "source": [
    "logreg.fit(X_train, y_train);"
   ]
  },
  {
   "cell_type": "code",
   "execution_count": 23,
   "id": "deece1d7",
   "metadata": {},
   "outputs": [],
   "source": [
    "#Determine predictions for train and the test set\n",
    "y_train_pred_lg = logreg.predict(X_train)\n",
    "y_test_pred_lg= logreg.predict(X_test)"
   ]
  },
  {
   "cell_type": "code",
   "execution_count": 24,
   "id": "2770316b",
   "metadata": {},
   "outputs": [
    {
     "data": {
      "text/plain": [
       "0.9031318281136198"
      ]
     },
     "execution_count": 24,
     "metadata": {},
     "output_type": "execute_result"
    }
   ],
   "source": [
    "#Accuracy scores\n",
    "logreg.score(X_test, y_test)"
   ]
  },
  {
   "cell_type": "code",
   "execution_count": 25,
   "id": "e43cdecb",
   "metadata": {},
   "outputs": [
    {
     "data": {
      "text/plain": [
       "array([[10859,   169],\n",
       "       [ 1028,   301]], dtype=int64)"
      ]
     },
     "execution_count": 25,
     "metadata": {},
     "output_type": "execute_result"
    }
   ],
   "source": [
    "#Check confusion matrix\n",
    "confusion_matrix(y_test, y_test_pred_lg)"
   ]
  },
  {
   "cell_type": "code",
   "execution_count": 26,
   "id": "0206afde",
   "metadata": {
    "scrolled": true
   },
   "outputs": [
    {
     "name": "stdout",
     "output_type": "stream",
     "text": [
      "              precision    recall  f1-score   support\n",
      "\n",
      "           0       0.91      0.98      0.95     11028\n",
      "           1       0.64      0.23      0.33      1329\n",
      "\n",
      "    accuracy                           0.90     12357\n",
      "   macro avg       0.78      0.61      0.64     12357\n",
      "weighted avg       0.88      0.90      0.88     12357\n",
      "\n"
     ]
    }
   ],
   "source": [
    "#Check classification report\n",
    "print(classification_report(y_test, y_test_pred_lg))"
   ]
  },
  {
   "cell_type": "code",
   "execution_count": 27,
   "id": "309b17ea",
   "metadata": {},
   "outputs": [],
   "source": [
    "#Check area under the curve\n",
    "y_pred_prob_logreg = logistic.predict_proba(X_test)[:,1]\n",
    "roc_auc_score(y_test, y_pred_prob_logreg)"
   ]
  },
  {
   "cell_type": "markdown",
   "id": "44be46cd",
   "metadata": {},
   "source": [
    "KNN"
   ]
  },
  {
   "cell_type": "code",
   "execution_count": 29,
   "id": "27e35a8d",
   "metadata": {},
   "outputs": [],
   "source": [
    "knn = KNeighborsClassifier(n_neighbors=6)\n",
    "knn.fit(X_train, y_train.values.ravel());"
   ]
  },
  {
   "cell_type": "code",
   "execution_count": 30,
   "id": "5c7c8a58",
   "metadata": {},
   "outputs": [],
   "source": [
    "#Determine predictions for train and the test set\n",
    "y_train_pred_knn = knn.predict(X_train)\n",
    "y_test_pred_knn = knn.predict(X_test)"
   ]
  },
  {
   "cell_type": "code",
   "execution_count": 31,
   "id": "199d6678",
   "metadata": {},
   "outputs": [
    {
     "data": {
      "text/plain": [
       "0.8976288743222465"
      ]
     },
     "execution_count": 31,
     "metadata": {},
     "output_type": "execute_result"
    }
   ],
   "source": [
    "knn.score(X_test,y_test)"
   ]
  },
  {
   "cell_type": "code",
   "execution_count": 32,
   "id": "e5b3c0e5",
   "metadata": {},
   "outputs": [
    {
     "data": {
      "text/plain": [
       "array([[10827,   201],\n",
       "       [ 1064,   265]], dtype=int64)"
      ]
     },
     "execution_count": 32,
     "metadata": {},
     "output_type": "execute_result"
    }
   ],
   "source": [
    "confusion_matrix(y_test, y_test_pred_knn)"
   ]
  },
  {
   "cell_type": "code",
   "execution_count": 33,
   "id": "e8442bd2",
   "metadata": {
    "scrolled": true
   },
   "outputs": [
    {
     "name": "stdout",
     "output_type": "stream",
     "text": [
      "              precision    recall  f1-score   support\n",
      "\n",
      "           0       0.91      0.98      0.94     11028\n",
      "           1       0.57      0.20      0.30      1329\n",
      "\n",
      "    accuracy                           0.90     12357\n",
      "   macro avg       0.74      0.59      0.62     12357\n",
      "weighted avg       0.87      0.90      0.87     12357\n",
      "\n"
     ]
    }
   ],
   "source": [
    "print(classification_report(y_test, y_test_pred_knn))"
   ]
  },
  {
   "cell_type": "code",
   "execution_count": 34,
   "id": "824916b4",
   "metadata": {},
   "outputs": [],
   "source": [
    "y_pred_prob_knn = knn.predict_proba(X_test)[:,1]"
   ]
  },
  {
   "cell_type": "code",
   "execution_count": 35,
   "id": "581934a3",
   "metadata": {},
   "outputs": [
    {
     "data": {
      "text/plain": [
       "0.7257466322130166"
      ]
     },
     "execution_count": 35,
     "metadata": {},
     "output_type": "execute_result"
    }
   ],
   "source": [
    "roc_auc_score(y_test, y_pred_prob_knn)"
   ]
  },
  {
   "cell_type": "code",
   "execution_count": null,
   "id": "93369973",
   "metadata": {},
   "outputs": [],
   "source": []
  }
 ],
 "metadata": {
  "kernelspec": {
   "display_name": "Python 3",
   "language": "python",
   "name": "python3"
  },
  "language_info": {
   "codemirror_mode": {
    "name": "ipython",
    "version": 3
   },
   "file_extension": ".py",
   "mimetype": "text/x-python",
   "name": "python",
   "nbconvert_exporter": "python",
   "pygments_lexer": "ipython3",
   "version": "3.8.10"
  }
 },
 "nbformat": 4,
 "nbformat_minor": 5
}
