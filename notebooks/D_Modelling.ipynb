{
 "cells": [
  {
   "cell_type": "markdown",
   "id": "b2d3a5ed",
   "metadata": {},
   "source": [
    "# D. Modeling"
   ]
  },
  {
   "cell_type": "markdown",
   "id": "1c5edb7d",
   "metadata": {},
   "source": [
    "# Load Packages"
   ]
  },
  {
   "cell_type": "code",
   "execution_count": 1,
   "id": "a02707dd",
   "metadata": {},
   "outputs": [],
   "source": [
    "import pandas as pd\n",
    "import numpy as np\n",
    "import os\n",
    "import pickle\n",
    "import matplotlib.pyplot as plt\n",
    "import seaborn as sns\n",
    "from sklearn.preprocessing import scale\n",
    "from sklearn.model_selection import train_test_split, cross_validate, GridSearchCV, learning_curve\n",
    "from sklearn.preprocessing import StandardScaler, MinMaxScaler\n",
    "from sklearn.linear_model import LogisticRegression\n",
    "from sklearn.ensemble import RandomForestClassifier\n",
    "from sklearn.metrics import average_precision_score, precision_recall_curve, plot_precision_recall_curve, auc\n",
    "from sklearn.pipeline import make_pipeline\n",
    "from sklearn.impute import SimpleImputer\n",
    "from sklearn.metrics import confusion_matrix, classification_report, fbeta_score\n",
    "from sklearn.neighbors import KNeighborsClassifier\n",
    "import datetime\n",
    "import numpy as np\n",
    "import pickle\n",
    "import xgboost as xgb\n",
    "from numpy import argmax\n",
    "from imblearn.over_sampling import SMOTE\n",
    "from imblearn.under_sampling import RandomUnderSampler\n",
    "from imblearn.pipeline import Pipeline "
   ]
  },
  {
   "cell_type": "markdown",
   "id": "56f57091",
   "metadata": {},
   "source": [
    "# Load Data"
   ]
  },
  {
   "cell_type": "code",
   "execution_count": 2,
   "id": "24509cac",
   "metadata": {},
   "outputs": [],
   "source": [
    "# Specifiy filepath\n",
    "filepath = '../data/interim/'"
   ]
  },
  {
   "cell_type": "code",
   "execution_count": 3,
   "id": "e77932d8",
   "metadata": {},
   "outputs": [],
   "source": [
    "# Load feature and target data\n",
    "X = pickle.load(open(filepath + 'X.pkl', 'rb'))\n",
    "y = pickle.load(open(filepath + 'y.pkl', 'rb'))\n",
    "feature_names = pickle.load(open(filepath + 'feature_names_base.pkl', 'rb'))\n",
    "features_coded = pickle.load(open(filepath + 'features_coded_base.pkl', 'rb'))\n",
    "X_train = pickle.load(open(filepath + 'X_train_base.pkl', 'rb'))\n",
    "y_train = pickle.load(open(filepath + 'y_train_base.pkl', 'rb'))\n",
    "X_test = pickle.load(open(filepath + 'X_test_base.pkl', 'rb'))\n",
    "y_test = pickle.load(open(filepath + 'y_test_base.pkl', 'rb'))\n",
    "logreg = pickle.load(open(filepath + 'logreg_base.pkl', 'rb'))"
   ]
  },
  {
   "cell_type": "markdown",
   "id": "0c99ac67",
   "metadata": {},
   "source": [
    "# Baseline Peformance From Logistic Regression Model"
   ]
  },
  {
   "cell_type": "markdown",
   "id": "354f776a",
   "metadata": {},
   "source": [
    "We computed various performance metrics for our baseline logistic regression model in the pre-processing notebook. The key metric for our classification task was determined to be the area under the precision-recall curve (also known as average precision) because our focus is on optimizing the proper classification of our minority class (e.g. those who said 'yes' to the marketing request). The ratio between our minority (1) and majority class (0) was determined to be 1:7.88 or approximately 0.12. This corresponds to the area under the precision-recall curve for perfect recall. It is the odds of randomly chosing an example from the minority class in the dataset. Any model we choose must beat this benchmark of 0.12 (or its representative value given the distribution of minority and majority classes in the dataset). Our logistic regression model yielded an average precision of 0.46. We will review a random forest and XGBoost algorithm to determine if we can improve on this score. We will also trial techniques such as applying class weights and resampling the data to determine if our score improves."
   ]
  },
  {
   "cell_type": "markdown",
   "id": "e065705a",
   "metadata": {},
   "source": [
    "# Peformance Assessment Function"
   ]
  },
  {
   "cell_type": "markdown",
   "id": "3baf8520",
   "metadata": {},
   "source": [
    "The function below will be used to compute a variety of performance metrics on a 10-fold cross validation set (done on the test set) and the test set. Of paramountcy are the computed values for average precision. Other revealing metrics include the precision, recall and F1 scores for a probability threshold of 50%. "
   ]
  },
  {
   "cell_type": "code",
   "execution_count": 4,
   "id": "b1d71afd",
   "metadata": {},
   "outputs": [],
   "source": [
    "# Mean Average Precision on cross-validation set\n",
    "def model_performance(clf, feature = X_train, target = y_train, kfolds = 10):\n",
    "    '''This function computes the average precision score for a 10-fold cross validation set, average precision on the test set\n",
    "    and a precision-recall plot for the test set'''\n",
    "    #Cross validation scores on training set\n",
    "    print(f'\\033[4mResults for {clf.__name__} \\033[0m')\n",
    "    cv_results = cross_validate(estimator = clf, X = feature, y = target,  \\\n",
    "                                           scoring = 'average_precision', cv= kfolds)\n",
    "    cv_scores = cv_results['test_score']\n",
    "    print(f\"Area Under Precision-Recall Curve for Train Set ({kfolds}-fold CV): {cv_scores.mean():.2f} +/- {cv_scores.std():.2f}\")\n",
    "    \n",
    "    #Performance on test set\n",
    "    clf.fit(feature, target)\n",
    "    y_clf_pred = clf.predict(X_test)\n",
    "    y_clf_prob = clf.predict_proba(X_test)[:,1]\n",
    "    \n",
    "    \n",
    "    #Area under precision-recall curve is equivalent to the average precision\n",
    "    auc_pr = average_precision_score(y_test, y_clf_prob)\n",
    "    print(f'Area Under Precision-Recall Curve for Test Set              : {auc_pr:.2f}')\n",
    "    \n",
    "    #Baseline performance\n",
    "    no_skill = len(y_test[y_test==1]) / len(y_test)\n",
    "    print(f'Area Under P-R Curve on Test Set (No-Skill Performance)     : {no_skill:.2f}')\n",
    "    \n",
    "    print(classification_report(y_test, y_clf_pred))\n",
    "    \n",
    "\n",
    "    #Plot precision-recall curve and show no-skill line\n",
    "    precision, recall, thresholds = precision_recall_curve(y_test, y_clf_prob) \n",
    "    plt.figure(figsize = (10, 5))\n",
    "    plt.title(f'Precision versus Recall of {clf.__name__}')\n",
    "    plt.plot(recall, precision, marker = '.', label = f'{clf.__name__}', zorder = -1)\n",
    "    plt.plot([0, 1], [no_skill, no_skill], linestyle = '--', label = 'No Skill')\n",
    "    plt.xlabel('Recall')\n",
    "    plt.ylabel('Precision')\n",
    "    plt.annotate(f'(0.00, {no_skill: .2f})',(0, no_skill))\n",
    "\n",
    "    plt.legend()\n",
    "    plt.show()\n",
    "    \n",
    "    \n",
    "\n",
    "\n",
    "    "
   ]
  },
  {
   "cell_type": "markdown",
   "id": "2aaa284c",
   "metadata": {},
   "source": [
    "# Baseline Performance of Algorithms"
   ]
  },
  {
   "cell_type": "markdown",
   "id": "b74bbcbe",
   "metadata": {},
   "source": [
    "## Logistic Regression"
   ]
  },
  {
   "cell_type": "markdown",
   "id": "a8a16319",
   "metadata": {},
   "source": [
    "We already determined the baseline performance for the logistic regression algorithm. However, we will review the associated precision-recall curve. "
   ]
  },
  {
   "cell_type": "code",
   "execution_count": 5,
   "id": "c8c50a8d",
   "metadata": {},
   "outputs": [],
   "source": [
    "logreg.__name__ = 'Logistic Regression'"
   ]
  },
  {
   "cell_type": "code",
   "execution_count": 6,
   "id": "78021bf2",
   "metadata": {
    "scrolled": false
   },
   "outputs": [
    {
     "name": "stdout",
     "output_type": "stream",
     "text": [
      "\u001b[4mResults for Logistic Regression \u001b[0m\n",
      "Area Under Precision-Recall Curve for Train Set (10-fold CV): 0.45 +/- 0.02\n",
      "Area Under Precision-Recall Curve for Test Set              : 0.46\n",
      "Area Under P-R Curve on Test Set (No-Skill Performance)     : 0.11\n",
      "              precision    recall  f1-score   support\n",
      "\n",
      "           0       0.91      0.98      0.95     10965\n",
      "           1       0.67      0.25      0.37      1392\n",
      "\n",
      "    accuracy                           0.90     12357\n",
      "   macro avg       0.79      0.62      0.66     12357\n",
      "weighted avg       0.89      0.90      0.88     12357\n",
      "\n"
     ]
    },
    {
     "data": {
      "image/png": "[encoded data removed]",
      "text/plain": [
       "<Figure size 720x360 with 1 Axes>"
      ]
     },
     "metadata": {
      "needs_background": "light"
     },
     "output_type": "display_data"
    }
   ],
   "source": [
    "model_performance(logreg, kfolds = 10)"
   ]
  },
  {
   "cell_type": "markdown",
   "id": "55d8fa2f",
   "metadata": {},
   "source": [
    "The cross validation AUC-PR score of 0.45 is close to the test set score of 0.46. There is therefore minimal overfitting in the model. This test performance is also better than the no-skill performance of 0.11, however the recall on the minority class of 0.25 is low. "
   ]
  },
  {
   "cell_type": "markdown",
   "id": "37c7de38",
   "metadata": {},
   "source": [
    "## Random Forest"
   ]
  },
  {
   "cell_type": "markdown",
   "id": "16046707",
   "metadata": {},
   "source": [
    "Let us assess the performance of the baseline random forest model. "
   ]
  },
  {
   "cell_type": "code",
   "execution_count": 7,
   "id": "99174f50",
   "metadata": {},
   "outputs": [],
   "source": [
    "rf = RandomForestClassifier(random_state = 77)\n",
    "rf.__name__ = 'Random Forest'"
   ]
  },
  {
   "cell_type": "code",
   "execution_count": 8,
   "id": "ba708ed6",
   "metadata": {
    "scrolled": false
   },
   "outputs": [
    {
     "name": "stdout",
     "output_type": "stream",
     "text": [
      "\u001b[4mResults for Random Forest \u001b[0m\n",
      "Area Under Precision-Recall Curve for Train Set (10-fold CV): 0.40 +/- 0.03\n",
      "Area Under Precision-Recall Curve for Test Set              : 0.42\n",
      "Area Under P-R Curve on Test Set (No-Skill Performance)     : 0.11\n",
      "              precision    recall  f1-score   support\n",
      "\n",
      "           0       0.92      0.97      0.94     10965\n",
      "           1       0.57      0.32      0.41      1392\n",
      "\n",
      "    accuracy                           0.90     12357\n",
      "   macro avg       0.74      0.64      0.68     12357\n",
      "weighted avg       0.88      0.90      0.88     12357\n",
      "\n"
     ]
    },
    {
     "data": {
      "image/png": "[encoded data removed]",
      "text/plain": [
       "<Figure size 720x360 with 1 Axes>"
      ]
     },
     "metadata": {
      "needs_background": "light"
     },
     "output_type": "display_data"
    }
   ],
   "source": [
    "model_performance(rf, kfolds = 10)"
   ]
  },
  {
   "cell_type": "markdown",
   "id": "d7d3b19f",
   "metadata": {},
   "source": [
    "The closeness of the cross validation score for the training set and the score for the test set suggest that there is minimal overfitting. The cross performance of 0.4 is worse than that observed from the logistic regression algorithm (0.44), suggesting that the logistic regression model performs better than random forest. However, the random forest offers better test scores on precision than the logistic regression model.  "
   ]
  },
  {
   "cell_type": "markdown",
   "id": "5c2769ff",
   "metadata": {},
   "source": [
    "## XGBoost Classifier"
   ]
  },
  {
   "cell_type": "code",
   "execution_count": 9,
   "id": "a327d24f",
   "metadata": {},
   "outputs": [],
   "source": [
    "xg_cl = xgb.XGBClassifier(objective='binary:logistic', use_label_encoder = False, eval_metric = 'logloss', seed= 77)\n",
    "xg_cl.__name__ = 'XGBoost'"
   ]
  },
  {
   "cell_type": "code",
   "execution_count": 10,
   "id": "3f5a8af0",
   "metadata": {
    "scrolled": false
   },
   "outputs": [
    {
     "name": "stdout",
     "output_type": "stream",
     "text": [
      "\u001b[4mResults for XGBoost \u001b[0m\n",
      "Area Under Precision-Recall Curve for Train Set (10-fold CV): 0.44 +/- 0.03\n",
      "Area Under Precision-Recall Curve for Test Set              : 0.46\n",
      "Area Under P-R Curve on Test Set (No-Skill Performance)     : 0.11\n",
      "              precision    recall  f1-score   support\n",
      "\n",
      "           0       0.92      0.97      0.94     10965\n",
      "           1       0.60      0.31      0.41      1392\n",
      "\n",
      "    accuracy                           0.90     12357\n",
      "   macro avg       0.76      0.64      0.68     12357\n",
      "weighted avg       0.88      0.90      0.88     12357\n",
      "\n"
     ]
    },
    {
     "data": {
      "image/png": "[encoded data removed]",
      "text/plain": [
       "<Figure size 720x360 with 1 Axes>"
      ]
     },
     "metadata": {
      "needs_background": "light"
     },
     "output_type": "display_data"
    }
   ],
   "source": [
    "model_performance(xg_cl, kfolds = 10)"
   ]
  },
  {
   "cell_type": "markdown",
   "id": "ce2c83f9",
   "metadata": {},
   "source": [
    "The performance of the XGBoost model is better than the random forest model but worse than the logistic regression model."
   ]
  },
  {
   "cell_type": "markdown",
   "id": "7d31d898",
   "metadata": {},
   "source": [
    "## Performance Summary for Baseline Algorithms"
   ]
  },
  {
   "cell_type": "code",
   "execution_count": 11,
   "id": "665760a9",
   "metadata": {
    "scrolled": true
   },
   "outputs": [
    {
     "data": {
      "text/html": [
       "<div>\n",
       "<style scoped>\n",
       "    .dataframe tbody tr th:only-of-type {\n",
       "        vertical-align: middle;\n",
       "    }\n",
       "\n",
       "    .dataframe tbody tr th {\n",
       "        vertical-align: top;\n",
       "    }\n",
       "\n",
       "    .dataframe thead th {\n",
       "        text-align: right;\n",
       "    }\n",
       "</style>\n",
       "<table border=\"1\" class=\"dataframe\">\n",
       "  <thead>\n",
       "    <tr style=\"text-align: right;\">\n",
       "      <th></th>\n",
       "      <th>AUC_pr_10-fold_CV_train</th>\n",
       "      <th>AUC_pr_test</th>\n",
       "      <th>f1_minor_class_test</th>\n",
       "    </tr>\n",
       "  </thead>\n",
       "  <tbody>\n",
       "    <tr>\n",
       "      <th>Logistic Regression</th>\n",
       "      <td>0.45</td>\n",
       "      <td>0.46</td>\n",
       "      <td>0.37</td>\n",
       "    </tr>\n",
       "    <tr>\n",
       "      <th>Random Forest</th>\n",
       "      <td>0.40</td>\n",
       "      <td>0.42</td>\n",
       "      <td>0.41</td>\n",
       "    </tr>\n",
       "    <tr>\n",
       "      <th>XGBoost</th>\n",
       "      <td>0.44</td>\n",
       "      <td>0.46</td>\n",
       "      <td>0.41</td>\n",
       "    </tr>\n",
       "  </tbody>\n",
       "</table>\n",
       "</div>"
      ],
      "text/plain": [
       "                     AUC_pr_10-fold_CV_train  AUC_pr_test  f1_minor_class_test\n",
       "Logistic Regression                     0.45         0.46                 0.37\n",
       "Random Forest                           0.40         0.42                 0.41\n",
       "XGBoost                                 0.44         0.46                 0.41"
      ]
     },
     "execution_count": 11,
     "metadata": {},
     "output_type": "execute_result"
    }
   ],
   "source": [
    "models = ['Logistic Regression', 'Random Forest', 'XGBoost']\n",
    "logreg_scores = [0.45, 0.46, 0.37]\n",
    "rf_scores = [0.40, 0.42, 0.41]\n",
    "XGBoost_scores = [0.44, 0.46, 0.41]\n",
    "metrics = ['AUC_pr_10-fold_CV_train', 'AUC_pr_test', 'f1_minor_class_test']\n",
    "performance_summary = [logreg_scores, rf_scores, XGBoost_scores]\n",
    "base_algos = pd.DataFrame(performance_summary, index = models, columns = metrics)\n",
    "base_algos"
   ]
  },
  {
   "cell_type": "markdown",
   "id": "eb6667d1",
   "metadata": {},
   "source": [
    "We observe that the logistic regression model beats out the other models based on average precision scores but performs worse than the other models on the f1 score of the minority class. "
   ]
  },
  {
   "cell_type": "markdown",
   "id": "7ac67b2c",
   "metadata": {},
   "source": [
    "# Performance with Class Weights"
   ]
  },
  {
   "cell_type": "markdown",
   "id": "4e8e700f",
   "metadata": {},
   "source": [
    "As noted earlier, the ratio of the minority to majority class is 1:8. We will therefore assign a class weight of 8 to the minority class errors. This ensure that the misclassification of the minority class is penalized more than the misclassification of the majority class. "
   ]
  },
  {
   "cell_type": "markdown",
   "id": "c847b2ba",
   "metadata": {},
   "source": [
    "## Logistic Regression"
   ]
  },
  {
   "cell_type": "markdown",
   "id": "32ba173a",
   "metadata": {},
   "source": [
    "We will apply class weights to the logistic regression model and determine if this improves performance."
   ]
  },
  {
   "cell_type": "code",
   "execution_count": 12,
   "id": "51288f0a",
   "metadata": {},
   "outputs": [],
   "source": [
    "logreg_cw = LogisticRegression(class_weight = {0: 1, 1: 8}, max_iter = 10000, random_state = 77)\n",
    "logreg_cw.__name__ = 'Logistic Regression with Class Weights'"
   ]
  },
  {
   "cell_type": "code",
   "execution_count": 13,
   "id": "729436be",
   "metadata": {},
   "outputs": [
    {
     "name": "stdout",
     "output_type": "stream",
     "text": [
      "\u001b[4mResults for Logistic Regression with Class Weights \u001b[0m\n",
      "Area Under Precision-Recall Curve for Train Set (10-fold CV): 0.44 +/- 0.03\n",
      "Area Under Precision-Recall Curve for Test Set              : 0.46\n",
      "Area Under P-R Curve on Test Set (No-Skill Performance)     : 0.11\n",
      "              precision    recall  f1-score   support\n",
      "\n",
      "           0       0.95      0.84      0.89     10965\n",
      "           1       0.34      0.65      0.45      1392\n",
      "\n",
      "    accuracy                           0.82     12357\n",
      "   macro avg       0.65      0.75      0.67     12357\n",
      "weighted avg       0.88      0.82      0.84     12357\n",
      "\n"
     ]
    },
    {
     "data": {
      "image/png": "[encoded data removed]",
      "text/plain": [
       "<Figure size 720x360 with 1 Axes>"
      ]
     },
     "metadata": {
      "needs_background": "light"
     },
     "output_type": "display_data"
    }
   ],
   "source": [
    "model_performance(logreg_cw, kfolds = 10)"
   ]
  },
  {
   "cell_type": "markdown",
   "id": "badcaa6d",
   "metadata": {},
   "source": [
    "The cross-validated mean Average Precision performance slightly reduced from 0.45 (logreg without class weights) to 0.44 (logreg with class weights). However, we saw substantial improvement in our f1 score (from 0.37 to 0.45). "
   ]
  },
  {
   "cell_type": "markdown",
   "id": "652e1667",
   "metadata": {},
   "source": [
    "## Random Forest "
   ]
  },
  {
   "cell_type": "markdown",
   "id": "92b63347",
   "metadata": {},
   "source": [
    "We will apply class weights to the random forest model and determine if this improves performance."
   ]
  },
  {
   "cell_type": "code",
   "execution_count": 14,
   "id": "8f83a86f",
   "metadata": {},
   "outputs": [],
   "source": [
    "rf_cw = RandomForestClassifier(class_weight = {0: 1, 1: 8}, random_state = 77)\n",
    "rf_cw.__name__ = 'Random Forest with Class Weights'"
   ]
  },
  {
   "cell_type": "code",
   "execution_count": 15,
   "id": "cdfac9b5",
   "metadata": {},
   "outputs": [
    {
     "name": "stdout",
     "output_type": "stream",
     "text": [
      "\u001b[4mResults for Random Forest with Class Weights \u001b[0m\n",
      "Area Under Precision-Recall Curve for Train Set (10-fold CV): 0.40 +/- 0.03\n",
      "Area Under Precision-Recall Curve for Test Set              : 0.41\n",
      "Area Under P-R Curve on Test Set (No-Skill Performance)     : 0.11\n",
      "              precision    recall  f1-score   support\n",
      "\n",
      "           0       0.92      0.97      0.94     10965\n",
      "           1       0.55      0.30      0.39      1392\n",
      "\n",
      "    accuracy                           0.89     12357\n",
      "   macro avg       0.73      0.64      0.67     12357\n",
      "weighted avg       0.88      0.89      0.88     12357\n",
      "\n"
     ]
    },
    {
     "data": {
      "image/png": "[encoded data removed]",
      "text/plain": [
       "<Figure size 720x360 with 1 Axes>"
      ]
     },
     "metadata": {
      "needs_background": "light"
     },
     "output_type": "display_data"
    }
   ],
   "source": [
    "model_performance(rf_cw, kfolds = 10)"
   ]
  },
  {
   "cell_type": "markdown",
   "id": "70152cf1",
   "metadata": {},
   "source": [
    "We note that including a class weight parameter does not improve the performance of the random forest classifier. They both resulted in a cross-validated mean average precision score of 0.4 and the f1 score is worse (0.39 versus 0.41)."
   ]
  },
  {
   "cell_type": "markdown",
   "id": "ec64f0c0",
   "metadata": {},
   "source": [
    "## XGBoost"
   ]
  },
  {
   "cell_type": "markdown",
   "id": "c7e284be",
   "metadata": {},
   "source": [
    "We will apply class weights to the XGBoost model and determine if this improves performance."
   ]
  },
  {
   "cell_type": "code",
   "execution_count": 16,
   "id": "651d0185",
   "metadata": {},
   "outputs": [],
   "source": [
    "xg_cw = xgb.XGBClassifier(objective = 'binary:logistic', use_label_encoder = False, eval_metric = 'logloss', scale_pos_weight = 8, seed = 77)\n",
    "xg_cw.__name__ = 'XGBoost With Class Weights'"
   ]
  },
  {
   "cell_type": "code",
   "execution_count": 17,
   "id": "a215ae34",
   "metadata": {
    "scrolled": false
   },
   "outputs": [
    {
     "name": "stdout",
     "output_type": "stream",
     "text": [
      "\u001b[4mResults for XGBoost With Class Weights \u001b[0m\n",
      "Area Under Precision-Recall Curve for Train Set (10-fold CV): 0.42 +/- 0.03\n",
      "Area Under Precision-Recall Curve for Test Set              : 0.44\n",
      "Area Under P-R Curve on Test Set (No-Skill Performance)     : 0.11\n",
      "              precision    recall  f1-score   support\n",
      "\n",
      "           0       0.94      0.87      0.90     10965\n",
      "           1       0.37      0.60      0.45      1392\n",
      "\n",
      "    accuracy                           0.84     12357\n",
      "   macro avg       0.66      0.73      0.68     12357\n",
      "weighted avg       0.88      0.84      0.85     12357\n",
      "\n"
     ]
    },
    {
     "data": {
      "image/png": "[encoded data removed]",
      "text/plain": [
       "<Figure size 720x360 with 1 Axes>"
      ]
     },
     "metadata": {
      "needs_background": "light"
     },
     "output_type": "display_data"
    }
   ],
   "source": [
    "model_performance(xg_cw, kfolds = 10)"
   ]
  },
  {
   "cell_type": "markdown",
   "id": "34d82654",
   "metadata": {},
   "source": [
    "We note that including class weights reduces the performance of the XGBoost Classifier. The cross-validated mean Average Precision performance reduced from 0.44 (xgboost without class weights) to 0.42 (xgboost with class weights). However, the f1 score improved. "
   ]
  },
  {
   "cell_type": "markdown",
   "id": "a21b3b59",
   "metadata": {},
   "source": [
    "## Performance Summary of Algorithms with Class Weights"
   ]
  },
  {
   "cell_type": "code",
   "execution_count": 18,
   "id": "f44ff609",
   "metadata": {
    "scrolled": true
   },
   "outputs": [
    {
     "data": {
      "text/html": [
       "<div>\n",
       "<style scoped>\n",
       "    .dataframe tbody tr th:only-of-type {\n",
       "        vertical-align: middle;\n",
       "    }\n",
       "\n",
       "    .dataframe tbody tr th {\n",
       "        vertical-align: top;\n",
       "    }\n",
       "\n",
       "    .dataframe thead th {\n",
       "        text-align: right;\n",
       "    }\n",
       "</style>\n",
       "<table border=\"1\" class=\"dataframe\">\n",
       "  <thead>\n",
       "    <tr style=\"text-align: right;\">\n",
       "      <th></th>\n",
       "      <th>AUC_pr_10-fold_CV_train</th>\n",
       "      <th>AUC_pr_test</th>\n",
       "      <th>f1_minor_class_test</th>\n",
       "    </tr>\n",
       "  </thead>\n",
       "  <tbody>\n",
       "    <tr>\n",
       "      <th>Logistic Regression with Class Weights</th>\n",
       "      <td>0.44</td>\n",
       "      <td>0.46</td>\n",
       "      <td>0.45</td>\n",
       "    </tr>\n",
       "    <tr>\n",
       "      <th>Random Forest with Class Weights</th>\n",
       "      <td>0.40</td>\n",
       "      <td>0.41</td>\n",
       "      <td>0.39</td>\n",
       "    </tr>\n",
       "    <tr>\n",
       "      <th>XGBoost with Class Weights</th>\n",
       "      <td>0.42</td>\n",
       "      <td>0.44</td>\n",
       "      <td>0.45</td>\n",
       "    </tr>\n",
       "  </tbody>\n",
       "</table>\n",
       "</div>"
      ],
      "text/plain": [
       "                                        AUC_pr_10-fold_CV_train  AUC_pr_test  \\\n",
       "Logistic Regression with Class Weights                     0.44         0.46   \n",
       "Random Forest with Class Weights                           0.40         0.41   \n",
       "XGBoost with Class Weights                                 0.42         0.44   \n",
       "\n",
       "                                        f1_minor_class_test  \n",
       "Logistic Regression with Class Weights                 0.45  \n",
       "Random Forest with Class Weights                       0.39  \n",
       "XGBoost with Class Weights                             0.45  "
      ]
     },
     "execution_count": 18,
     "metadata": {},
     "output_type": "execute_result"
    }
   ],
   "source": [
    "models_cw = ['Logistic Regression with Class Weights', 'Random Forest with Class Weights', 'XGBoost with Class Weights']\n",
    "logreg_cw_scores = [0.44, 0.46, 0.45]\n",
    "rf_cw_scores = [0.40, 0.41, 0.39]\n",
    "XGBoost_cw_scores = [0.42, 0.44, 0.45]\n",
    "performance_summary_cw = [logreg_cw_scores, rf_cw_scores, XGBoost_cw_scores]\n",
    "class_weights = pd.DataFrame(performance_summary_cw, index = models_cw, columns = metrics)\n",
    "class_weights"
   ]
  },
  {
   "cell_type": "markdown",
   "id": "f90ba76f",
   "metadata": {},
   "source": [
    "The model that seemed to benefit the most from applying class weights was the logistic regression model. Even though its cross validation average precision reduced by 0.01, its f1 score went up significantly."
   ]
  },
  {
   "cell_type": "markdown",
   "id": "7947df67",
   "metadata": {},
   "source": [
    "# Undersampling and Oversampling"
   ]
  },
  {
   "cell_type": "markdown",
   "id": "011f786a",
   "metadata": {},
   "source": [
    "Another technique to deal with the imbalanced nature of our data is to resample the data in such a way that creates an equal number of observations for our target features - in this case, having the same number of clients that said 'yes' and 'no' to the marketing camapagne. The imbalanced nature of our dataset may result in models that are biased towards the majority class due to their comparatively higher numbers. Balancing the dataset may reduce this bias. We accomplish this by either reducing the number of clients in the majority class to equal that of the minority class or increasing the number of clients in the minority class to equal that of the majority class by resampling with replacement. We will try both approaches. We will balance only data in our training set. The test set (as usual) will be used to determine the performance of our balancing techniques."
   ]
  },
  {
   "cell_type": "markdown",
   "id": "f701e4ee",
   "metadata": {},
   "source": [
    "## Random Undersampling"
   ]
  },
  {
   "cell_type": "markdown",
   "id": "525931f0",
   "metadata": {},
   "source": [
    "In this case, we will randomly select a number of clients in the majority class to equal that of the minority class. "
   ]
  },
  {
   "cell_type": "code",
   "execution_count": 19,
   "id": "d895a7da",
   "metadata": {
    "scrolled": false
   },
   "outputs": [
    {
     "data": {
      "text/html": [
       "<div>\n",
       "<style scoped>\n",
       "    .dataframe tbody tr th:only-of-type {\n",
       "        vertical-align: middle;\n",
       "    }\n",
       "\n",
       "    .dataframe tbody tr th {\n",
       "        vertical-align: top;\n",
       "    }\n",
       "\n",
       "    .dataframe thead th {\n",
       "        text-align: right;\n",
       "    }\n",
       "</style>\n",
       "<table border=\"1\" class=\"dataframe\">\n",
       "  <thead>\n",
       "    <tr style=\"text-align: right;\">\n",
       "      <th></th>\n",
       "      <th>age</th>\n",
       "      <th>currentCampaignContacts</th>\n",
       "      <th>daysLastContacted</th>\n",
       "      <th>previousCampaignContacts</th>\n",
       "      <th>employmentRate</th>\n",
       "      <th>cpi</th>\n",
       "      <th>cci</th>\n",
       "      <th>euribor3m</th>\n",
       "      <th>noEmployed</th>\n",
       "      <th>job_admin.</th>\n",
       "      <th>...</th>\n",
       "      <th>month_sep</th>\n",
       "      <th>dayOfWeek_fri</th>\n",
       "      <th>dayOfWeek_mon</th>\n",
       "      <th>dayOfWeek_thu</th>\n",
       "      <th>dayOfWeek_tue</th>\n",
       "      <th>dayOfWeek_wed</th>\n",
       "      <th>lastCampaignOutcome_failure</th>\n",
       "      <th>lastCampaignOutcome_nonexistent</th>\n",
       "      <th>lastCampaignOutcome_success</th>\n",
       "      <th>response</th>\n",
       "    </tr>\n",
       "  </thead>\n",
       "  <tbody>\n",
       "    <tr>\n",
       "      <th>0</th>\n",
       "      <td>-0.386145</td>\n",
       "      <td>-0.204909</td>\n",
       "      <td>0.195414</td>\n",
       "      <td>-0.349494</td>\n",
       "      <td>-0.115781</td>\n",
       "      <td>-0.649003</td>\n",
       "      <td>-0.323542</td>\n",
       "      <td>0.328471</td>\n",
       "      <td>0.398115</td>\n",
       "      <td>-0.582023</td>\n",
       "      <td>...</td>\n",
       "      <td>-0.118462</td>\n",
       "      <td>-0.484371</td>\n",
       "      <td>1.959000</td>\n",
       "      <td>-0.514581</td>\n",
       "      <td>-0.494394</td>\n",
       "      <td>-0.496067</td>\n",
       "      <td>-0.33929</td>\n",
       "      <td>0.397706</td>\n",
       "      <td>-0.1857</td>\n",
       "      <td>0</td>\n",
       "    </tr>\n",
       "    <tr>\n",
       "      <th>1</th>\n",
       "      <td>1.916870</td>\n",
       "      <td>-0.565922</td>\n",
       "      <td>0.195414</td>\n",
       "      <td>-0.349494</td>\n",
       "      <td>0.648092</td>\n",
       "      <td>0.722722</td>\n",
       "      <td>0.886447</td>\n",
       "      <td>0.711307</td>\n",
       "      <td>0.331680</td>\n",
       "      <td>-0.582023</td>\n",
       "      <td>...</td>\n",
       "      <td>-0.118462</td>\n",
       "      <td>2.064533</td>\n",
       "      <td>-0.510465</td>\n",
       "      <td>-0.514581</td>\n",
       "      <td>-0.494394</td>\n",
       "      <td>-0.496067</td>\n",
       "      <td>-0.33929</td>\n",
       "      <td>0.397706</td>\n",
       "      <td>-0.1857</td>\n",
       "      <td>0</td>\n",
       "    </tr>\n",
       "  </tbody>\n",
       "</table>\n",
       "<p>2 rows × 63 columns</p>\n",
       "</div>"
      ],
      "text/plain": [
       "        age  currentCampaignContacts  daysLastContacted  \\\n",
       "0 -0.386145                -0.204909           0.195414   \n",
       "1  1.916870                -0.565922           0.195414   \n",
       "\n",
       "   previousCampaignContacts  employmentRate       cpi       cci  euribor3m  \\\n",
       "0                 -0.349494       -0.115781 -0.649003 -0.323542   0.328471   \n",
       "1                 -0.349494        0.648092  0.722722  0.886447   0.711307   \n",
       "\n",
       "   noEmployed  job_admin.  ...  month_sep  dayOfWeek_fri  dayOfWeek_mon  \\\n",
       "0    0.398115   -0.582023  ...  -0.118462      -0.484371       1.959000   \n",
       "1    0.331680   -0.582023  ...  -0.118462       2.064533      -0.510465   \n",
       "\n",
       "   dayOfWeek_thu  dayOfWeek_tue  dayOfWeek_wed  lastCampaignOutcome_failure  \\\n",
       "0      -0.514581      -0.494394      -0.496067                     -0.33929   \n",
       "1      -0.514581      -0.494394      -0.496067                     -0.33929   \n",
       "\n",
       "   lastCampaignOutcome_nonexistent  lastCampaignOutcome_success  response  \n",
       "0                         0.397706                      -0.1857         0  \n",
       "1                         0.397706                      -0.1857         0  \n",
       "\n",
       "[2 rows x 63 columns]"
      ]
     },
     "execution_count": 19,
     "metadata": {},
     "output_type": "execute_result"
    }
   ],
   "source": [
    "#Create scaled dataframe to undersample from \n",
    "df = pd.merge(pd.DataFrame(X_train, columns = features_coded), y_train, left_index = True, right_index = True)\n",
    "df.head(2)"
   ]
  },
  {
   "cell_type": "code",
   "execution_count": 20,
   "id": "ac3d2fb6",
   "metadata": {
    "scrolled": true
   },
   "outputs": [
    {
     "data": {
      "text/plain": [
       "0    19045\n",
       "1     1134\n",
       "Name: response, dtype: int64"
      ]
     },
     "execution_count": 20,
     "metadata": {},
     "output_type": "execute_result"
    }
   ],
   "source": [
    "#Determine number of 'yes' responses as basis to undersample\n",
    "df.response.value_counts()"
   ]
  },
  {
   "cell_type": "code",
   "execution_count": 21,
   "id": "fd71eaf7",
   "metadata": {
    "scrolled": true
   },
   "outputs": [
    {
     "data": {
      "text/html": [
       "<div>\n",
       "<style scoped>\n",
       "    .dataframe tbody tr th:only-of-type {\n",
       "        vertical-align: middle;\n",
       "    }\n",
       "\n",
       "    .dataframe tbody tr th {\n",
       "        vertical-align: top;\n",
       "    }\n",
       "\n",
       "    .dataframe thead th {\n",
       "        text-align: right;\n",
       "    }\n",
       "</style>\n",
       "<table border=\"1\" class=\"dataframe\">\n",
       "  <thead>\n",
       "    <tr style=\"text-align: right;\">\n",
       "      <th></th>\n",
       "      <th>age</th>\n",
       "      <th>currentCampaignContacts</th>\n",
       "      <th>daysLastContacted</th>\n",
       "      <th>previousCampaignContacts</th>\n",
       "      <th>employmentRate</th>\n",
       "      <th>cpi</th>\n",
       "      <th>cci</th>\n",
       "      <th>euribor3m</th>\n",
       "      <th>noEmployed</th>\n",
       "      <th>job_admin.</th>\n",
       "      <th>...</th>\n",
       "      <th>month_sep</th>\n",
       "      <th>dayOfWeek_fri</th>\n",
       "      <th>dayOfWeek_mon</th>\n",
       "      <th>dayOfWeek_thu</th>\n",
       "      <th>dayOfWeek_tue</th>\n",
       "      <th>dayOfWeek_wed</th>\n",
       "      <th>lastCampaignOutcome_failure</th>\n",
       "      <th>lastCampaignOutcome_nonexistent</th>\n",
       "      <th>lastCampaignOutcome_success</th>\n",
       "      <th>response</th>\n",
       "    </tr>\n",
       "  </thead>\n",
       "  <tbody>\n",
       "    <tr>\n",
       "      <th>26198</th>\n",
       "      <td>-0.674021</td>\n",
       "      <td>-0.565922</td>\n",
       "      <td>0.195414</td>\n",
       "      <td>-0.349494</td>\n",
       "      <td>0.648092</td>\n",
       "      <td>0.722722</td>\n",
       "      <td>0.886447</td>\n",
       "      <td>0.711883</td>\n",
       "      <td>0.331680</td>\n",
       "      <td>-0.582023</td>\n",
       "      <td>...</td>\n",
       "      <td>-0.118462</td>\n",
       "      <td>-0.484371</td>\n",
       "      <td>-0.510465</td>\n",
       "      <td>-0.514581</td>\n",
       "      <td>2.022677</td>\n",
       "      <td>-0.496067</td>\n",
       "      <td>-0.339290</td>\n",
       "      <td>0.397706</td>\n",
       "      <td>-0.1857</td>\n",
       "      <td>0</td>\n",
       "    </tr>\n",
       "    <tr>\n",
       "      <th>4872</th>\n",
       "      <td>0.477486</td>\n",
       "      <td>-0.565922</td>\n",
       "      <td>0.195414</td>\n",
       "      <td>-0.349494</td>\n",
       "      <td>-0.115781</td>\n",
       "      <td>-0.649003</td>\n",
       "      <td>-0.323542</td>\n",
       "      <td>0.328471</td>\n",
       "      <td>0.398115</td>\n",
       "      <td>-0.582023</td>\n",
       "      <td>...</td>\n",
       "      <td>-0.118462</td>\n",
       "      <td>-0.484371</td>\n",
       "      <td>1.959000</td>\n",
       "      <td>-0.514581</td>\n",
       "      <td>-0.494394</td>\n",
       "      <td>-0.496067</td>\n",
       "      <td>-0.339290</td>\n",
       "      <td>0.397706</td>\n",
       "      <td>-0.1857</td>\n",
       "      <td>1</td>\n",
       "    </tr>\n",
       "    <tr>\n",
       "      <th>28337</th>\n",
       "      <td>1.341116</td>\n",
       "      <td>0.156105</td>\n",
       "      <td>0.195414</td>\n",
       "      <td>-0.349494</td>\n",
       "      <td>-1.898153</td>\n",
       "      <td>-1.058448</td>\n",
       "      <td>-0.064259</td>\n",
       "      <td>-1.356812</td>\n",
       "      <td>-1.257233</td>\n",
       "      <td>1.718146</td>\n",
       "      <td>...</td>\n",
       "      <td>-0.118462</td>\n",
       "      <td>2.064533</td>\n",
       "      <td>-0.510465</td>\n",
       "      <td>-0.514581</td>\n",
       "      <td>-0.494394</td>\n",
       "      <td>-0.496067</td>\n",
       "      <td>-0.339290</td>\n",
       "      <td>0.397706</td>\n",
       "      <td>-0.1857</td>\n",
       "      <td>1</td>\n",
       "    </tr>\n",
       "    <tr>\n",
       "      <th>3551</th>\n",
       "      <td>-0.194227</td>\n",
       "      <td>-0.565922</td>\n",
       "      <td>0.195414</td>\n",
       "      <td>-0.349494</td>\n",
       "      <td>0.839061</td>\n",
       "      <td>0.591424</td>\n",
       "      <td>-0.474791</td>\n",
       "      <td>0.772999</td>\n",
       "      <td>0.845170</td>\n",
       "      <td>1.718146</td>\n",
       "      <td>...</td>\n",
       "      <td>-0.118462</td>\n",
       "      <td>-0.484371</td>\n",
       "      <td>-0.510465</td>\n",
       "      <td>-0.514581</td>\n",
       "      <td>2.022677</td>\n",
       "      <td>-0.496067</td>\n",
       "      <td>-0.339290</td>\n",
       "      <td>0.397706</td>\n",
       "      <td>-0.1857</td>\n",
       "      <td>0</td>\n",
       "    </tr>\n",
       "    <tr>\n",
       "      <th>13457</th>\n",
       "      <td>1.149199</td>\n",
       "      <td>-0.565922</td>\n",
       "      <td>0.195414</td>\n",
       "      <td>1.671136</td>\n",
       "      <td>-0.115781</td>\n",
       "      <td>-0.649003</td>\n",
       "      <td>-0.323542</td>\n",
       "      <td>0.230456</td>\n",
       "      <td>0.398115</td>\n",
       "      <td>-0.582023</td>\n",
       "      <td>...</td>\n",
       "      <td>-0.118462</td>\n",
       "      <td>2.064533</td>\n",
       "      <td>-0.510465</td>\n",
       "      <td>-0.514581</td>\n",
       "      <td>-0.494394</td>\n",
       "      <td>-0.496067</td>\n",
       "      <td>2.947327</td>\n",
       "      <td>-2.514421</td>\n",
       "      <td>-0.1857</td>\n",
       "      <td>1</td>\n",
       "    </tr>\n",
       "  </tbody>\n",
       "</table>\n",
       "<p>5 rows × 63 columns</p>\n",
       "</div>"
      ],
      "text/plain": [
       "            age  currentCampaignContacts  daysLastContacted  \\\n",
       "26198 -0.674021                -0.565922           0.195414   \n",
       "4872   0.477486                -0.565922           0.195414   \n",
       "28337  1.341116                 0.156105           0.195414   \n",
       "3551  -0.194227                -0.565922           0.195414   \n",
       "13457  1.149199                -0.565922           0.195414   \n",
       "\n",
       "       previousCampaignContacts  employmentRate       cpi       cci  \\\n",
       "26198                 -0.349494        0.648092  0.722722  0.886447   \n",
       "4872                  -0.349494       -0.115781 -0.649003 -0.323542   \n",
       "28337                 -0.349494       -1.898153 -1.058448 -0.064259   \n",
       "3551                  -0.349494        0.839061  0.591424 -0.474791   \n",
       "13457                  1.671136       -0.115781 -0.649003 -0.323542   \n",
       "\n",
       "       euribor3m  noEmployed  job_admin.  ...  month_sep  dayOfWeek_fri  \\\n",
       "26198   0.711883    0.331680   -0.582023  ...  -0.118462      -0.484371   \n",
       "4872    0.328471    0.398115   -0.582023  ...  -0.118462      -0.484371   \n",
       "28337  -1.356812   -1.257233    1.718146  ...  -0.118462       2.064533   \n",
       "3551    0.772999    0.845170    1.718146  ...  -0.118462      -0.484371   \n",
       "13457   0.230456    0.398115   -0.582023  ...  -0.118462       2.064533   \n",
       "\n",
       "       dayOfWeek_mon  dayOfWeek_thu  dayOfWeek_tue  dayOfWeek_wed  \\\n",
       "26198      -0.510465      -0.514581       2.022677      -0.496067   \n",
       "4872        1.959000      -0.514581      -0.494394      -0.496067   \n",
       "28337      -0.510465      -0.514581      -0.494394      -0.496067   \n",
       "3551       -0.510465      -0.514581       2.022677      -0.496067   \n",
       "13457      -0.510465      -0.514581      -0.494394      -0.496067   \n",
       "\n",
       "       lastCampaignOutcome_failure  lastCampaignOutcome_nonexistent  \\\n",
       "26198                    -0.339290                         0.397706   \n",
       "4872                     -0.339290                         0.397706   \n",
       "28337                    -0.339290                         0.397706   \n",
       "3551                     -0.339290                         0.397706   \n",
       "13457                     2.947327                        -2.514421   \n",
       "\n",
       "       lastCampaignOutcome_success  response  \n",
       "26198                      -0.1857         0  \n",
       "4872                       -0.1857         1  \n",
       "28337                      -0.1857         1  \n",
       "3551                       -0.1857         0  \n",
       "13457                      -0.1857         1  \n",
       "\n",
       "[5 rows x 63 columns]"
      ]
     },
     "execution_count": 21,
     "metadata": {},
     "output_type": "execute_result"
    }
   ],
   "source": [
    "# Shuffle data\n",
    "df_shuffled = df.sample(frac=1)\n",
    "\n",
    "# Create subsamples for 'yes' class, which is 1134 rows.\n",
    "yes_df = df_shuffled.loc[df_shuffled.response == 1]\n",
    "no_df = df_shuffled.loc[df_shuffled.response == 0][:1134]\n",
    "\n",
    "normal_df = pd.concat([yes_df, no_df])\n",
    "\n",
    "# Shuffle dataframe rows\n",
    "df_undersampled = normal_df.sample(frac=1, random_state= 77)\n",
    "\n",
    "df_undersampled.head()"
   ]
  },
  {
   "cell_type": "code",
   "execution_count": 22,
   "id": "7e514696",
   "metadata": {
    "scrolled": false
   },
   "outputs": [
    {
     "data": {
      "text/plain": [
       "0    1134\n",
       "1    1134\n",
       "Name: response, dtype: int64"
      ]
     },
     "execution_count": 22,
     "metadata": {},
     "output_type": "execute_result"
    }
   ],
   "source": [
    "#Check distribution of response\n",
    "df_undersampled.response.value_counts()"
   ]
  },
  {
   "cell_type": "code",
   "execution_count": 23,
   "id": "ecb9a182",
   "metadata": {},
   "outputs": [],
   "source": [
    "#Create X_train and y_train for undersampled dataframe\n",
    "X_train_undersampled = df_undersampled.drop(columns = ['response'])\n",
    "y_train_undersampled = df_undersampled.response.values.ravel()"
   ]
  },
  {
   "cell_type": "markdown",
   "id": "c2776658",
   "metadata": {},
   "source": [
    "### Train Models on Undersampled Dataframe And Assess Performance"
   ]
  },
  {
   "cell_type": "markdown",
   "id": "8b3dfe5c",
   "metadata": {},
   "source": [
    "#### Logistic Regression "
   ]
  },
  {
   "cell_type": "code",
   "execution_count": 24,
   "id": "e79a2b96",
   "metadata": {},
   "outputs": [],
   "source": [
    "logreg_undersampled = LogisticRegression(max_iter = 10000, random_state = 77)\n",
    "logreg_undersampled.__name__ = 'Logistic Regression With Undersampling'"
   ]
  },
  {
   "cell_type": "code",
   "execution_count": 25,
   "id": "27bcb117",
   "metadata": {
    "scrolled": false
   },
   "outputs": [
    {
     "name": "stdout",
     "output_type": "stream",
     "text": [
      "\u001b[4mResults for Logistic Regression With Undersampling \u001b[0m\n",
      "Area Under Precision-Recall Curve for Train Set (10-fold CV): 0.51 +/- 0.03\n",
      "Area Under Precision-Recall Curve for Test Set              : 0.13\n",
      "Area Under P-R Curve on Test Set (No-Skill Performance)     : 0.11\n",
      "              precision    recall  f1-score   support\n",
      "\n",
      "           0       0.89      0.52      0.66     10965\n",
      "           1       0.12      0.51      0.19      1392\n",
      "\n",
      "    accuracy                           0.52     12357\n",
      "   macro avg       0.51      0.51      0.43     12357\n",
      "weighted avg       0.81      0.52      0.61     12357\n",
      "\n"
     ]
    },
    {
     "data": {
      "image/png": "[encoded data removed]",
      "text/plain": [
       "<Figure size 720x360 with 1 Axes>"
      ]
     },
     "metadata": {
      "needs_background": "light"
     },
     "output_type": "display_data"
    }
   ],
   "source": [
    "model_performance(logreg_undersampled, X_train_undersampled, y_train_undersampled, kfolds = 10)"
   ]
  },
  {
   "cell_type": "markdown",
   "id": "a3e33adf",
   "metadata": {},
   "source": [
    "Although our undersampling improved our test scores, it significantly reduced our test scores such that our average precision is barely better than the no-skill performance as illustrated in the chart."
   ]
  },
  {
   "cell_type": "markdown",
   "id": "a786b33d",
   "metadata": {},
   "source": [
    "#### Random Forest "
   ]
  },
  {
   "cell_type": "code",
   "execution_count": 26,
   "id": "1b0ba0dc",
   "metadata": {},
   "outputs": [],
   "source": [
    "rf_undersampled = RandomForestClassifier(random_state = 77)\n",
    "rf_undersampled.__name__ = 'Random Forest With Undersampling'"
   ]
  },
  {
   "cell_type": "code",
   "execution_count": 27,
   "id": "7d606ae9",
   "metadata": {
    "scrolled": false
   },
   "outputs": [
    {
     "name": "stdout",
     "output_type": "stream",
     "text": [
      "\u001b[4mResults for Random Forest With Undersampling \u001b[0m\n",
      "Area Under Precision-Recall Curve for Train Set (10-fold CV): 0.52 +/- 0.02\n",
      "Area Under Precision-Recall Curve for Test Set              : 0.11\n",
      "Area Under P-R Curve on Test Set (No-Skill Performance)     : 0.11\n",
      "              precision    recall  f1-score   support\n",
      "\n",
      "           0       0.89      0.52      0.65     10965\n",
      "           1       0.11      0.48      0.18      1392\n",
      "\n",
      "    accuracy                           0.51     12357\n",
      "   macro avg       0.50      0.50      0.42     12357\n",
      "weighted avg       0.80      0.51      0.60     12357\n",
      "\n"
     ]
    },
    {
     "data": {
      "image/png": "[encoded data removed]",
      "text/plain": [
       "<Figure size 720x360 with 1 Axes>"
      ]
     },
     "metadata": {
      "needs_background": "light"
     },
     "output_type": "display_data"
    }
   ],
   "source": [
    "model_performance(rf_undersampled, X_train_undersampled, y_train_undersampled, kfolds = 10)"
   ]
  },
  {
   "cell_type": "markdown",
   "id": "8b7519a1",
   "metadata": {},
   "source": [
    "Similarly to our logistic regression model, our performance on the random forest model is poor on the test set. "
   ]
  },
  {
   "cell_type": "markdown",
   "id": "189314a2",
   "metadata": {},
   "source": [
    "#### XGBoost"
   ]
  },
  {
   "cell_type": "code",
   "execution_count": 28,
   "id": "4d8f9b16",
   "metadata": {},
   "outputs": [],
   "source": [
    "xg_undersampled = xgb.XGBClassifier(objective='binary:logistic', use_label_encoder = False, eval_metric = 'logloss', seed= 77)\n",
    "xg_undersampled.__name__ = 'XGBoost With Undersampling'"
   ]
  },
  {
   "cell_type": "code",
   "execution_count": 29,
   "id": "3aa28152",
   "metadata": {},
   "outputs": [
    {
     "name": "stdout",
     "output_type": "stream",
     "text": [
      "\u001b[4mResults for XGBoost With Undersampling \u001b[0m\n",
      "Area Under Precision-Recall Curve for Train Set (10-fold CV): 0.52 +/- 0.04\n",
      "Area Under Precision-Recall Curve for Test Set              : 0.13\n",
      "Area Under P-R Curve on Test Set (No-Skill Performance)     : 0.11\n",
      "              precision    recall  f1-score   support\n",
      "\n",
      "           0       0.89      0.50      0.64     10965\n",
      "           1       0.11      0.50      0.19      1392\n",
      "\n",
      "    accuracy                           0.50     12357\n",
      "   macro avg       0.50      0.50      0.41     12357\n",
      "weighted avg       0.80      0.50      0.59     12357\n",
      "\n"
     ]
    },
    {
     "data": {
      "image/png": "[encoded data removed]",
      "text/plain": [
       "<Figure size 720x360 with 1 Axes>"
      ]
     },
     "metadata": {
      "needs_background": "light"
     },
     "output_type": "display_data"
    }
   ],
   "source": [
    "model_performance(xg_undersampled, X_train_undersampled, y_train_undersampled, kfolds = 10)"
   ]
  },
  {
   "cell_type": "markdown",
   "id": "e44475d6",
   "metadata": {},
   "source": [
    "Similarly to our logistic regression and random forest models, our performance on the XGBoost model is poor on the test set. "
   ]
  },
  {
   "cell_type": "markdown",
   "id": "f38eab8b",
   "metadata": {},
   "source": [
    "### Performance Summary of Random Undersampling"
   ]
  },
  {
   "cell_type": "code",
   "execution_count": 30,
   "id": "3c034026",
   "metadata": {},
   "outputs": [
    {
     "data": {
      "text/html": [
       "<div>\n",
       "<style scoped>\n",
       "    .dataframe tbody tr th:only-of-type {\n",
       "        vertical-align: middle;\n",
       "    }\n",
       "\n",
       "    .dataframe tbody tr th {\n",
       "        vertical-align: top;\n",
       "    }\n",
       "\n",
       "    .dataframe thead th {\n",
       "        text-align: right;\n",
       "    }\n",
       "</style>\n",
       "<table border=\"1\" class=\"dataframe\">\n",
       "  <thead>\n",
       "    <tr style=\"text-align: right;\">\n",
       "      <th></th>\n",
       "      <th>AUC_pr_10-fold_CV_train</th>\n",
       "      <th>AUC_pr_test</th>\n",
       "      <th>f1_minor_class_test</th>\n",
       "    </tr>\n",
       "  </thead>\n",
       "  <tbody>\n",
       "    <tr>\n",
       "      <th>Logistic Regression with Undersampling</th>\n",
       "      <td>0.53</td>\n",
       "      <td>0.13</td>\n",
       "      <td>0.19</td>\n",
       "    </tr>\n",
       "    <tr>\n",
       "      <th>Random Forest with Undersampling</th>\n",
       "      <td>0.52</td>\n",
       "      <td>0.11</td>\n",
       "      <td>0.18</td>\n",
       "    </tr>\n",
       "    <tr>\n",
       "      <th>XGBoost with Undersampling</th>\n",
       "      <td>0.52</td>\n",
       "      <td>0.14</td>\n",
       "      <td>0.19</td>\n",
       "    </tr>\n",
       "  </tbody>\n",
       "</table>\n",
       "</div>"
      ],
      "text/plain": [
       "                                        AUC_pr_10-fold_CV_train  AUC_pr_test  \\\n",
       "Logistic Regression with Undersampling                     0.53         0.13   \n",
       "Random Forest with Undersampling                           0.52         0.11   \n",
       "XGBoost with Undersampling                                 0.52         0.14   \n",
       "\n",
       "                                        f1_minor_class_test  \n",
       "Logistic Regression with Undersampling                 0.19  \n",
       "Random Forest with Undersampling                       0.18  \n",
       "XGBoost with Undersampling                             0.19  "
      ]
     },
     "execution_count": 30,
     "metadata": {},
     "output_type": "execute_result"
    }
   ],
   "source": [
    "models_under = ['Logistic Regression with Undersampling', 'Random Forest with Undersampling', 'XGBoost with Undersampling']\n",
    "logreg_under_scores = [0.53, 0.13, 0.19]\n",
    "rf_under_scores = [0.52, 0.11, 0.18]\n",
    "XGBoost_under_scores = [0.52, 0.14, 0.19]\n",
    "performance_summary_under = [logreg_under_scores, rf_under_scores, XGBoost_under_scores]\n",
    "undersampling = pd.DataFrame(performance_summary_under, index = models_under, columns = metrics)\n",
    "undersampling"
   ]
  },
  {
   "cell_type": "markdown",
   "id": "06b155b9",
   "metadata": {},
   "source": [
    "The undersampled models performed well on the training set, but substantially worse on the test set. This implies that the models created by undersampled data is significantly different from those created by the more representative dataset."
   ]
  },
  {
   "cell_type": "markdown",
   "id": "226cc69f",
   "metadata": {},
   "source": [
    "## Random Oversampling"
   ]
  },
  {
   "cell_type": "markdown",
   "id": "44035967",
   "metadata": {},
   "source": [
    "In this case, we will oversample the minority class to equal the number of clients in the majority class."
   ]
  },
  {
   "cell_type": "code",
   "execution_count": 31,
   "id": "7287bf4c",
   "metadata": {
    "scrolled": true
   },
   "outputs": [
    {
     "data": {
      "text/plain": [
       "0    19045\n",
       "1     1134\n",
       "Name: response, dtype: int64"
      ]
     },
     "execution_count": 31,
     "metadata": {},
     "output_type": "execute_result"
    }
   ],
   "source": [
    "#Determine number of 'yes' and 'no' responses as basis to oversample\n",
    "df.response.value_counts()"
   ]
  },
  {
   "cell_type": "markdown",
   "id": "899491f4",
   "metadata": {},
   "source": [
    "We need 19,045 samples of the 'yes' class."
   ]
  },
  {
   "cell_type": "code",
   "execution_count": 32,
   "id": "c23a2ba1",
   "metadata": {},
   "outputs": [
    {
     "data": {
      "text/html": [
       "<div>\n",
       "<style scoped>\n",
       "    .dataframe tbody tr th:only-of-type {\n",
       "        vertical-align: middle;\n",
       "    }\n",
       "\n",
       "    .dataframe tbody tr th {\n",
       "        vertical-align: top;\n",
       "    }\n",
       "\n",
       "    .dataframe thead th {\n",
       "        text-align: right;\n",
       "    }\n",
       "</style>\n",
       "<table border=\"1\" class=\"dataframe\">\n",
       "  <thead>\n",
       "    <tr style=\"text-align: right;\">\n",
       "      <th></th>\n",
       "      <th>age</th>\n",
       "      <th>currentCampaignContacts</th>\n",
       "      <th>daysLastContacted</th>\n",
       "      <th>previousCampaignContacts</th>\n",
       "      <th>employmentRate</th>\n",
       "      <th>cpi</th>\n",
       "      <th>cci</th>\n",
       "      <th>euribor3m</th>\n",
       "      <th>noEmployed</th>\n",
       "      <th>job_admin.</th>\n",
       "      <th>...</th>\n",
       "      <th>month_sep</th>\n",
       "      <th>dayOfWeek_fri</th>\n",
       "      <th>dayOfWeek_mon</th>\n",
       "      <th>dayOfWeek_thu</th>\n",
       "      <th>dayOfWeek_tue</th>\n",
       "      <th>dayOfWeek_wed</th>\n",
       "      <th>lastCampaignOutcome_failure</th>\n",
       "      <th>lastCampaignOutcome_nonexistent</th>\n",
       "      <th>lastCampaignOutcome_success</th>\n",
       "      <th>response</th>\n",
       "    </tr>\n",
       "  </thead>\n",
       "  <tbody>\n",
       "    <tr>\n",
       "      <th>17160</th>\n",
       "      <td>0.573445</td>\n",
       "      <td>1.600159</td>\n",
       "      <td>0.195414</td>\n",
       "      <td>-0.349494</td>\n",
       "      <td>-1.197935</td>\n",
       "      <td>-0.864955</td>\n",
       "      <td>-1.425496</td>\n",
       "      <td>-1.277824</td>\n",
       "      <td>-0.940281</td>\n",
       "      <td>1.718146</td>\n",
       "      <td>...</td>\n",
       "      <td>-0.118462</td>\n",
       "      <td>-0.484371</td>\n",
       "      <td>-0.510465</td>\n",
       "      <td>-0.514581</td>\n",
       "      <td>-0.494394</td>\n",
       "      <td>2.015858</td>\n",
       "      <td>-0.339290</td>\n",
       "      <td>0.397706</td>\n",
       "      <td>-0.1857</td>\n",
       "      <td>0</td>\n",
       "    </tr>\n",
       "    <tr>\n",
       "      <th>14573</th>\n",
       "      <td>0.669404</td>\n",
       "      <td>-0.565922</td>\n",
       "      <td>0.195414</td>\n",
       "      <td>1.671136</td>\n",
       "      <td>-0.115781</td>\n",
       "      <td>-0.649003</td>\n",
       "      <td>-0.323542</td>\n",
       "      <td>0.230456</td>\n",
       "      <td>0.398115</td>\n",
       "      <td>-0.582023</td>\n",
       "      <td>...</td>\n",
       "      <td>-0.118462</td>\n",
       "      <td>2.064533</td>\n",
       "      <td>-0.510465</td>\n",
       "      <td>-0.514581</td>\n",
       "      <td>-0.494394</td>\n",
       "      <td>-0.496067</td>\n",
       "      <td>2.947327</td>\n",
       "      <td>-2.514421</td>\n",
       "      <td>-0.1857</td>\n",
       "      <td>0</td>\n",
       "    </tr>\n",
       "    <tr>\n",
       "      <th>26705</th>\n",
       "      <td>0.189609</td>\n",
       "      <td>-0.204909</td>\n",
       "      <td>0.195414</td>\n",
       "      <td>-0.349494</td>\n",
       "      <td>0.648092</td>\n",
       "      <td>0.722722</td>\n",
       "      <td>0.886447</td>\n",
       "      <td>0.712460</td>\n",
       "      <td>0.331680</td>\n",
       "      <td>1.718146</td>\n",
       "      <td>...</td>\n",
       "      <td>-0.118462</td>\n",
       "      <td>-0.484371</td>\n",
       "      <td>-0.510465</td>\n",
       "      <td>-0.514581</td>\n",
       "      <td>2.022677</td>\n",
       "      <td>-0.496067</td>\n",
       "      <td>-0.339290</td>\n",
       "      <td>0.397706</td>\n",
       "      <td>-0.1857</td>\n",
       "      <td>0</td>\n",
       "    </tr>\n",
       "    <tr>\n",
       "      <th>2538</th>\n",
       "      <td>-0.769980</td>\n",
       "      <td>3.766239</td>\n",
       "      <td>0.195414</td>\n",
       "      <td>-0.349494</td>\n",
       "      <td>0.839061</td>\n",
       "      <td>0.591424</td>\n",
       "      <td>-0.474791</td>\n",
       "      <td>0.773575</td>\n",
       "      <td>0.845170</td>\n",
       "      <td>-0.582023</td>\n",
       "      <td>...</td>\n",
       "      <td>-0.118462</td>\n",
       "      <td>2.064533</td>\n",
       "      <td>-0.510465</td>\n",
       "      <td>-0.514581</td>\n",
       "      <td>-0.494394</td>\n",
       "      <td>-0.496067</td>\n",
       "      <td>-0.339290</td>\n",
       "      <td>0.397706</td>\n",
       "      <td>-0.1857</td>\n",
       "      <td>0</td>\n",
       "    </tr>\n",
       "    <tr>\n",
       "      <th>2584</th>\n",
       "      <td>-0.194227</td>\n",
       "      <td>-0.204909</td>\n",
       "      <td>0.195414</td>\n",
       "      <td>-0.349494</td>\n",
       "      <td>-1.197935</td>\n",
       "      <td>-1.179380</td>\n",
       "      <td>-1.231034</td>\n",
       "      <td>-1.357965</td>\n",
       "      <td>-0.940281</td>\n",
       "      <td>-0.582023</td>\n",
       "      <td>...</td>\n",
       "      <td>-0.118462</td>\n",
       "      <td>-0.484371</td>\n",
       "      <td>-0.510465</td>\n",
       "      <td>-0.514581</td>\n",
       "      <td>2.022677</td>\n",
       "      <td>-0.496067</td>\n",
       "      <td>-0.339290</td>\n",
       "      <td>0.397706</td>\n",
       "      <td>-0.1857</td>\n",
       "      <td>0</td>\n",
       "    </tr>\n",
       "  </tbody>\n",
       "</table>\n",
       "<p>5 rows × 63 columns</p>\n",
       "</div>"
      ],
      "text/plain": [
       "            age  currentCampaignContacts  daysLastContacted  \\\n",
       "17160  0.573445                 1.600159           0.195414   \n",
       "14573  0.669404                -0.565922           0.195414   \n",
       "26705  0.189609                -0.204909           0.195414   \n",
       "2538  -0.769980                 3.766239           0.195414   \n",
       "2584  -0.194227                -0.204909           0.195414   \n",
       "\n",
       "       previousCampaignContacts  employmentRate       cpi       cci  \\\n",
       "17160                 -0.349494       -1.197935 -0.864955 -1.425496   \n",
       "14573                  1.671136       -0.115781 -0.649003 -0.323542   \n",
       "26705                 -0.349494        0.648092  0.722722  0.886447   \n",
       "2538                  -0.349494        0.839061  0.591424 -0.474791   \n",
       "2584                  -0.349494       -1.197935 -1.179380 -1.231034   \n",
       "\n",
       "       euribor3m  noEmployed  job_admin.  ...  month_sep  dayOfWeek_fri  \\\n",
       "17160  -1.277824   -0.940281    1.718146  ...  -0.118462      -0.484371   \n",
       "14573   0.230456    0.398115   -0.582023  ...  -0.118462       2.064533   \n",
       "26705   0.712460    0.331680    1.718146  ...  -0.118462      -0.484371   \n",
       "2538    0.773575    0.845170   -0.582023  ...  -0.118462       2.064533   \n",
       "2584   -1.357965   -0.940281   -0.582023  ...  -0.118462      -0.484371   \n",
       "\n",
       "       dayOfWeek_mon  dayOfWeek_thu  dayOfWeek_tue  dayOfWeek_wed  \\\n",
       "17160      -0.510465      -0.514581      -0.494394       2.015858   \n",
       "14573      -0.510465      -0.514581      -0.494394      -0.496067   \n",
       "26705      -0.510465      -0.514581       2.022677      -0.496067   \n",
       "2538       -0.510465      -0.514581      -0.494394      -0.496067   \n",
       "2584       -0.510465      -0.514581       2.022677      -0.496067   \n",
       "\n",
       "       lastCampaignOutcome_failure  lastCampaignOutcome_nonexistent  \\\n",
       "17160                    -0.339290                         0.397706   \n",
       "14573                     2.947327                        -2.514421   \n",
       "26705                    -0.339290                         0.397706   \n",
       "2538                     -0.339290                         0.397706   \n",
       "2584                     -0.339290                         0.397706   \n",
       "\n",
       "       lastCampaignOutcome_success  response  \n",
       "17160                      -0.1857         0  \n",
       "14573                      -0.1857         0  \n",
       "26705                      -0.1857         0  \n",
       "2538                       -0.1857         0  \n",
       "2584                       -0.1857         0  \n",
       "\n",
       "[5 rows x 63 columns]"
      ]
     },
     "execution_count": 32,
     "metadata": {},
     "output_type": "execute_result"
    }
   ],
   "source": [
    "# Shuffle data\n",
    "df_shuffled_over = df.sample(frac=1)\n",
    "\n",
    "# Create subsamples for 'yes' class, which is 1134 rows.\n",
    "yes_df_over = df_shuffled_over.loc[df_shuffled_over.response == 1].sample(n = 19045, replace = True)\n",
    "no_df_over = df_shuffled_over.loc[df_shuffled_over.response == 0]\n",
    "\n",
    "normal_df_over = pd.concat([yes_df_over, no_df_over])\n",
    "\n",
    "# Shuffle dataframe rows\n",
    "df_oversampled = normal_df_over.sample(frac=1, random_state= 77)\n",
    "\n",
    "df_oversampled.head()"
   ]
  },
  {
   "cell_type": "code",
   "execution_count": 33,
   "id": "26740564",
   "metadata": {
    "scrolled": true
   },
   "outputs": [
    {
     "data": {
      "text/plain": [
       "0    19045\n",
       "1    19045\n",
       "Name: response, dtype: int64"
      ]
     },
     "execution_count": 33,
     "metadata": {},
     "output_type": "execute_result"
    }
   ],
   "source": [
    "#Check distribution of response\n",
    "df_oversampled.response.value_counts()"
   ]
  },
  {
   "cell_type": "code",
   "execution_count": 34,
   "id": "3f0e6f72",
   "metadata": {},
   "outputs": [],
   "source": [
    "#Create X_train and y_train for undersampled dataframe\n",
    "X_train_oversampled = df_oversampled.drop(columns = ['response'])\n",
    "y_train_oversampled = df_oversampled.response.values.ravel()"
   ]
  },
  {
   "cell_type": "markdown",
   "id": "f818eed1",
   "metadata": {},
   "source": [
    "### Train Models on Oversampled Dataframe And Assess Performance\n"
   ]
  },
  {
   "cell_type": "markdown",
   "id": "e4db0ceb",
   "metadata": {},
   "source": [
    "#### Logistic Regression "
   ]
  },
  {
   "cell_type": "code",
   "execution_count": 35,
   "id": "086d5d45",
   "metadata": {},
   "outputs": [],
   "source": [
    "logreg_oversampled = LogisticRegression(max_iter = 10000, random_state = 77)\n",
    "logreg_oversampled.__name__ = 'Logistic Regression With Oversampling'"
   ]
  },
  {
   "cell_type": "code",
   "execution_count": 36,
   "id": "fea1b712",
   "metadata": {
    "scrolled": false
   },
   "outputs": [
    {
     "name": "stdout",
     "output_type": "stream",
     "text": [
      "\u001b[4mResults for Logistic Regression With Oversampling \u001b[0m\n",
      "Area Under Precision-Recall Curve for Train Set (10-fold CV): 0.54 +/- 0.00\n",
      "Area Under Precision-Recall Curve for Test Set              : 0.11\n",
      "Area Under P-R Curve on Test Set (No-Skill Performance)     : 0.11\n",
      "              precision    recall  f1-score   support\n",
      "\n",
      "           0       0.87      0.51      0.65     10965\n",
      "           1       0.10      0.41      0.16      1392\n",
      "\n",
      "    accuracy                           0.50     12357\n",
      "   macro avg       0.49      0.46      0.40     12357\n",
      "weighted avg       0.79      0.50      0.59     12357\n",
      "\n"
     ]
    },
    {
     "data": {
      "image/png": "[encoded data removed]",
      "text/plain": [
       "<Figure size 720x360 with 1 Axes>"
      ]
     },
     "metadata": {
      "needs_background": "light"
     },
     "output_type": "display_data"
    }
   ],
   "source": [
    "model_performance(logreg_oversampled, X_train_oversampled, y_train_oversampled, kfolds = 10)"
   ]
  },
  {
   "cell_type": "markdown",
   "id": "03bf7d2d",
   "metadata": {},
   "source": [
    "Similar to the undersampling case, the logistc regression model performs well on the cross-validated training set but poorly on the test set."
   ]
  },
  {
   "cell_type": "markdown",
   "id": "216432b4",
   "metadata": {},
   "source": [
    "#### Random Forest"
   ]
  },
  {
   "cell_type": "code",
   "execution_count": 37,
   "id": "2b698d00",
   "metadata": {},
   "outputs": [],
   "source": [
    "rf_oversampled = RandomForestClassifier(random_state = 77)\n",
    "rf_oversampled.__name__ = 'Random Forest With Oversampling'"
   ]
  },
  {
   "cell_type": "code",
   "execution_count": 38,
   "id": "b45d6c74",
   "metadata": {},
   "outputs": [
    {
     "name": "stdout",
     "output_type": "stream",
     "text": [
      "\u001b[4mResults for Random Forest With Oversampling \u001b[0m\n",
      "Area Under Precision-Recall Curve for Train Set (10-fold CV): 1.00 +/- 0.00\n",
      "Area Under Precision-Recall Curve for Test Set              : 0.11\n",
      "Area Under P-R Curve on Test Set (No-Skill Performance)     : 0.11\n",
      "              precision    recall  f1-score   support\n",
      "\n",
      "           0       0.89      0.99      0.93     10965\n",
      "           1       0.07      0.01      0.02      1392\n",
      "\n",
      "    accuracy                           0.88     12357\n",
      "   macro avg       0.48      0.50      0.47     12357\n",
      "weighted avg       0.79      0.88      0.83     12357\n",
      "\n"
     ]
    },
    {
     "data": {
      "image/png": "[encoded data removed]",
      "text/plain": [
       "<Figure size 720x360 with 1 Axes>"
      ]
     },
     "metadata": {
      "needs_background": "light"
     },
     "output_type": "display_data"
    }
   ],
   "source": [
    "model_performance(rf_oversampled, X_train_oversampled, y_train_oversampled, kfolds = 10)"
   ]
  },
  {
   "cell_type": "markdown",
   "id": "528e78a5",
   "metadata": {},
   "source": [
    "Our random forest model performs perfectly on the cross-validated training set but very poorly on the test set."
   ]
  },
  {
   "cell_type": "markdown",
   "id": "e8dfdf8c",
   "metadata": {},
   "source": [
    "#### XGBoost"
   ]
  },
  {
   "cell_type": "code",
   "execution_count": 39,
   "id": "39c661e5",
   "metadata": {},
   "outputs": [],
   "source": [
    "xg_oversampled = xgb.XGBClassifier(objective='binary:logistic', use_label_encoder = False, eval_metric = 'logloss', seed= 77)\n",
    "xg_oversampled.__name__ = 'XGBoost With Oversampling'"
   ]
  },
  {
   "cell_type": "code",
   "execution_count": 40,
   "id": "f5fe8fbb",
   "metadata": {
    "scrolled": false
   },
   "outputs": [
    {
     "name": "stdout",
     "output_type": "stream",
     "text": [
      "\u001b[4mResults for XGBoost With Oversampling \u001b[0m\n",
      "Area Under Precision-Recall Curve for Train Set (10-fold CV): 0.94 +/- 0.00\n",
      "Area Under Precision-Recall Curve for Test Set              : 0.08\n",
      "Area Under P-R Curve on Test Set (No-Skill Performance)     : 0.11\n",
      "              precision    recall  f1-score   support\n",
      "\n",
      "           0       0.88      0.81      0.84     10965\n",
      "           1       0.07      0.11      0.08      1392\n",
      "\n",
      "    accuracy                           0.73     12357\n",
      "   macro avg       0.47      0.46      0.46     12357\n",
      "weighted avg       0.79      0.73      0.76     12357\n",
      "\n"
     ]
    },
    {
     "data": {
      "image/png": "[encoded data removed]",
      "text/plain": [
       "<Figure size 720x360 with 1 Axes>"
      ]
     },
     "metadata": {
      "needs_background": "light"
     },
     "output_type": "display_data"
    }
   ],
   "source": [
    "model_performance(xg_oversampled, X_train_oversampled, y_train_oversampled, kfolds = 10)"
   ]
  },
  {
   "cell_type": "markdown",
   "id": "ad7529c7",
   "metadata": {},
   "source": [
    "Our XGBoost model performs remarkably well on the training set but very poorly on the test set. "
   ]
  },
  {
   "cell_type": "markdown",
   "id": "0da6aba5",
   "metadata": {},
   "source": [
    "### Performance Summary for Random Oversampling"
   ]
  },
  {
   "cell_type": "code",
   "execution_count": 67,
   "id": "34456199",
   "metadata": {
    "scrolled": true
   },
   "outputs": [
    {
     "data": {
      "text/html": [
       "<div>\n",
       "<style scoped>\n",
       "    .dataframe tbody tr th:only-of-type {\n",
       "        vertical-align: middle;\n",
       "    }\n",
       "\n",
       "    .dataframe tbody tr th {\n",
       "        vertical-align: top;\n",
       "    }\n",
       "\n",
       "    .dataframe thead th {\n",
       "        text-align: right;\n",
       "    }\n",
       "</style>\n",
       "<table border=\"1\" class=\"dataframe\">\n",
       "  <thead>\n",
       "    <tr style=\"text-align: right;\">\n",
       "      <th></th>\n",
       "      <th>AUC_pr_10-fold_CV_train</th>\n",
       "      <th>AUC_pr_test</th>\n",
       "      <th>f1_minor_class_test</th>\n",
       "    </tr>\n",
       "  </thead>\n",
       "  <tbody>\n",
       "    <tr>\n",
       "      <th>Logistic Regression with Oversampling</th>\n",
       "      <td>0.54</td>\n",
       "      <td>0.12</td>\n",
       "      <td>0.16</td>\n",
       "    </tr>\n",
       "    <tr>\n",
       "      <th>Random Forest with Oversampling</th>\n",
       "      <td>1.00</td>\n",
       "      <td>0.11</td>\n",
       "      <td>0.02</td>\n",
       "    </tr>\n",
       "    <tr>\n",
       "      <th>XGBoost with Oversampling</th>\n",
       "      <td>0.94</td>\n",
       "      <td>0.09</td>\n",
       "      <td>0.09</td>\n",
       "    </tr>\n",
       "  </tbody>\n",
       "</table>\n",
       "</div>"
      ],
      "text/plain": [
       "                                       AUC_pr_10-fold_CV_train  AUC_pr_test  \\\n",
       "Logistic Regression with Oversampling                     0.54         0.12   \n",
       "Random Forest with Oversampling                           1.00         0.11   \n",
       "XGBoost with Oversampling                                 0.94         0.09   \n",
       "\n",
       "                                       f1_minor_class_test  \n",
       "Logistic Regression with Oversampling                 0.16  \n",
       "Random Forest with Oversampling                       0.02  \n",
       "XGBoost with Oversampling                             0.09  "
      ]
     },
     "execution_count": 67,
     "metadata": {},
     "output_type": "execute_result"
    }
   ],
   "source": [
    "models_over = ['Logistic Regression with Oversampling', 'Random Forest with Oversampling', 'XGBoost with Oversampling']\n",
    "logreg_over_scores = [0.54, 0.12, 0.16]\n",
    "rf_over_scores = [1.00, 0.11, 0.02]\n",
    "XGBoost_over_scores = [0.94, 0.09, 0.09]\n",
    "performance_summary_over = [logreg_over_scores, rf_over_scores, XGBoost_over_scores]\n",
    "oversampling_df = pd.DataFrame(performance_summary_over, index = models_over, columns = metrics)\n",
    "oversampling_df"
   ]
  },
  {
   "cell_type": "markdown",
   "id": "b729548c",
   "metadata": {},
   "source": [
    "We observe that we get even higher average precision scores on the cross-validated training set when we oversample. However, our test scores are still poor."
   ]
  },
  {
   "cell_type": "markdown",
   "id": "e79cec26",
   "metadata": {},
   "source": [
    "## Oversampling with SMOTE (Synthetic Minority Oversampling Technique)"
   ]
  },
  {
   "cell_type": "markdown",
   "id": "c03aff89",
   "metadata": {},
   "source": [
    "SMOTE oversamples the minority class by interpolating between nearest neigbhours associated with minority examples. This is a more suffisticated way of oversampling the dataset rather than resampling with replacement. We will determine if SMOTE provides improved performance scores on our base algorithms."
   ]
  },
  {
   "cell_type": "markdown",
   "id": "26c401dd",
   "metadata": {},
   "source": [
    "### Creating SMOTE Dataset"
   ]
  },
  {
   "cell_type": "code",
   "execution_count": 42,
   "id": "b1f2e18a",
   "metadata": {},
   "outputs": [],
   "source": [
    "oversampling = SMOTE()\n",
    "X_SMOTE, y_SMOTE = oversampling.fit_resample(X_train, y_train)"
   ]
  },
  {
   "cell_type": "code",
   "execution_count": 43,
   "id": "430a63bf",
   "metadata": {
    "scrolled": false
   },
   "outputs": [
    {
     "data": {
      "text/plain": [
       "0    25583\n",
       "1    25583\n",
       "Name: response, dtype: int64"
      ]
     },
     "execution_count": 43,
     "metadata": {},
     "output_type": "execute_result"
    }
   ],
   "source": [
    "#Data is balanced\n",
    "y_SMOTE.value_counts()"
   ]
  },
  {
   "cell_type": "markdown",
   "id": "042dedcd",
   "metadata": {},
   "source": [
    "### Train Models on SMOTE Dataframe And Assess Performance\n"
   ]
  },
  {
   "cell_type": "markdown",
   "id": "7a6395bb",
   "metadata": {},
   "source": [
    "#### Logistic Regression"
   ]
  },
  {
   "cell_type": "code",
   "execution_count": 44,
   "id": "b70de63e",
   "metadata": {},
   "outputs": [],
   "source": [
    "logreg_SMOTE = LogisticRegression(max_iter = 10000, random_state = 77)\n",
    "logreg_SMOTE.__name__ = 'Logistic Regression With SMOTE'"
   ]
  },
  {
   "cell_type": "code",
   "execution_count": 45,
   "id": "35c0c35d",
   "metadata": {
    "scrolled": false
   },
   "outputs": [
    {
     "name": "stdout",
     "output_type": "stream",
     "text": [
      "\u001b[4mResults for Logistic Regression With SMOTE \u001b[0m\n",
      "Area Under Precision-Recall Curve for Train Set (10-fold CV): 0.82 +/- 0.01\n",
      "Area Under Precision-Recall Curve for Test Set              : 0.46\n",
      "Area Under P-R Curve on Test Set (No-Skill Performance)     : 0.11\n",
      "              precision    recall  f1-score   support\n",
      "\n",
      "           0       0.95      0.83      0.89     10965\n",
      "           1       0.33      0.66      0.44      1392\n",
      "\n",
      "    accuracy                           0.81     12357\n",
      "   macro avg       0.64      0.74      0.66     12357\n",
      "weighted avg       0.88      0.81      0.84     12357\n",
      "\n"
     ]
    },
    {
     "data": {
      "image/png": "[encoded data removed]",
      "text/plain": [
       "<Figure size 720x360 with 1 Axes>"
      ]
     },
     "metadata": {
      "needs_background": "light"
     },
     "output_type": "display_data"
    }
   ],
   "source": [
    "model_performance(logreg_SMOTE, X_SMOTE, y_SMOTE, kfolds = 10)"
   ]
  },
  {
   "cell_type": "markdown",
   "id": "6eaa79f2",
   "metadata": {},
   "source": [
    "The cross-validated score is high for the SMOTE dataset and we get good performance scores on our test set as well. Our test f1 score for the logistic regression algorithm with class weights is however better (0.45 versus 0.44)."
   ]
  },
  {
   "cell_type": "markdown",
   "id": "ab8519f6",
   "metadata": {},
   "source": [
    "#### Random Forest"
   ]
  },
  {
   "cell_type": "code",
   "execution_count": 46,
   "id": "6c944899",
   "metadata": {},
   "outputs": [],
   "source": [
    "rf_SMOTE = RandomForestClassifier(random_state = 77)\n",
    "rf_SMOTE.__name__ = 'Random Forest With SMOTE'"
   ]
  },
  {
   "cell_type": "code",
   "execution_count": 47,
   "id": "b01292eb",
   "metadata": {
    "scrolled": false
   },
   "outputs": [
    {
     "name": "stdout",
     "output_type": "stream",
     "text": [
      "\u001b[4mResults for Random Forest With SMOTE \u001b[0m\n",
      "Area Under Precision-Recall Curve for Train Set (10-fold CV): 0.99 +/- 0.03\n",
      "Area Under Precision-Recall Curve for Test Set              : 0.40\n",
      "Area Under P-R Curve on Test Set (No-Skill Performance)     : 0.11\n",
      "              precision    recall  f1-score   support\n",
      "\n",
      "           0       0.92      0.95      0.94     10965\n",
      "           1       0.50      0.38      0.43      1392\n",
      "\n",
      "    accuracy                           0.89     12357\n",
      "   macro avg       0.71      0.67      0.68     12357\n",
      "weighted avg       0.88      0.89      0.88     12357\n",
      "\n"
     ]
    },
    {
     "data": {
      "image/png": "[encoded data removed]",
      "text/plain": [
       "<Figure size 720x360 with 1 Axes>"
      ]
     },
     "metadata": {
      "needs_background": "light"
     },
     "output_type": "display_data"
    }
   ],
   "source": [
    "model_performance(rf_SMOTE, X_SMOTE, y_SMOTE, kfolds = 10)"
   ]
  },
  {
   "cell_type": "markdown",
   "id": "86cbe915",
   "metadata": {},
   "source": [
    "Again, we observe high average precision scores for the cross-validated train set. The test scores are mixed. SMOTE oversampling improves the f1 score when compared to the base dataset (0.43 versus 0.42) but reduces the average precision score when compared to the base dataset (0.4 versus 0.42). These differences are however not significant. "
   ]
  },
  {
   "cell_type": "markdown",
   "id": "d19270b8",
   "metadata": {},
   "source": [
    "#### XGBoost"
   ]
  },
  {
   "cell_type": "code",
   "execution_count": 48,
   "id": "fd8981b7",
   "metadata": {},
   "outputs": [],
   "source": [
    "xg_SMOTE = xgb.XGBClassifier(objective='binary:logistic', use_label_encoder = False, eval_metric = 'logloss', seed= 77)\n",
    "xg_SMOTE.__name__ = 'XGBoost With SMOTE'"
   ]
  },
  {
   "cell_type": "code",
   "execution_count": 49,
   "id": "1e874fcd",
   "metadata": {
    "scrolled": false
   },
   "outputs": [
    {
     "name": "stdout",
     "output_type": "stream",
     "text": [
      "\u001b[4mResults for XGBoost With SMOTE \u001b[0m\n",
      "Area Under Precision-Recall Curve for Train Set (10-fold CV): 0.98 +/- 0.05\n",
      "Area Under Precision-Recall Curve for Test Set              : 0.46\n",
      "Area Under P-R Curve on Test Set (No-Skill Performance)     : 0.11\n",
      "              precision    recall  f1-score   support\n",
      "\n",
      "           0       0.92      0.97      0.94     10965\n",
      "           1       0.59      0.33      0.42      1392\n",
      "\n",
      "    accuracy                           0.90     12357\n",
      "   macro avg       0.76      0.65      0.68     12357\n",
      "weighted avg       0.88      0.90      0.89     12357\n",
      "\n"
     ]
    },
    {
     "data": {
      "image/png": "[encoded data removed]",
      "text/plain": [
       "<Figure size 720x360 with 1 Axes>"
      ]
     },
     "metadata": {
      "needs_background": "light"
     },
     "output_type": "display_data"
    }
   ],
   "source": [
    "model_performance(xg_SMOTE, X_SMOTE, y_SMOTE, kfolds = 10)"
   ]
  },
  {
   "cell_type": "markdown",
   "id": "3df56307",
   "metadata": {},
   "source": [
    "SMOTE oversampling improves the cross-validated average precision score on the training set, but not much else. The f1 score and averaga precision score on the test set is worse when  compared to the base XGBoost model. "
   ]
  },
  {
   "cell_type": "markdown",
   "id": "114a7b17",
   "metadata": {},
   "source": [
    "### Performance Summary for SMOTE"
   ]
  },
  {
   "cell_type": "code",
   "execution_count": 50,
   "id": "55f5673a",
   "metadata": {},
   "outputs": [
    {
     "data": {
      "text/html": [
       "<div>\n",
       "<style scoped>\n",
       "    .dataframe tbody tr th:only-of-type {\n",
       "        vertical-align: middle;\n",
       "    }\n",
       "\n",
       "    .dataframe tbody tr th {\n",
       "        vertical-align: top;\n",
       "    }\n",
       "\n",
       "    .dataframe thead th {\n",
       "        text-align: right;\n",
       "    }\n",
       "</style>\n",
       "<table border=\"1\" class=\"dataframe\">\n",
       "  <thead>\n",
       "    <tr style=\"text-align: right;\">\n",
       "      <th></th>\n",
       "      <th>AUC_pr_10-fold_CV_train</th>\n",
       "      <th>AUC_pr_test</th>\n",
       "      <th>f1_minor_class_test</th>\n",
       "    </tr>\n",
       "  </thead>\n",
       "  <tbody>\n",
       "    <tr>\n",
       "      <th>Logistic Regression with SMOTE</th>\n",
       "      <td>0.82</td>\n",
       "      <td>0.46</td>\n",
       "      <td>0.44</td>\n",
       "    </tr>\n",
       "    <tr>\n",
       "      <th>Random Forest with SMOTE</th>\n",
       "      <td>0.99</td>\n",
       "      <td>0.40</td>\n",
       "      <td>0.43</td>\n",
       "    </tr>\n",
       "    <tr>\n",
       "      <th>XGBoost with SMOTE</th>\n",
       "      <td>0.98</td>\n",
       "      <td>0.46</td>\n",
       "      <td>0.40</td>\n",
       "    </tr>\n",
       "  </tbody>\n",
       "</table>\n",
       "</div>"
      ],
      "text/plain": [
       "                                AUC_pr_10-fold_CV_train  AUC_pr_test  \\\n",
       "Logistic Regression with SMOTE                     0.82         0.46   \n",
       "Random Forest with SMOTE                           0.99         0.40   \n",
       "XGBoost with SMOTE                                 0.98         0.46   \n",
       "\n",
       "                                f1_minor_class_test  \n",
       "Logistic Regression with SMOTE                 0.44  \n",
       "Random Forest with SMOTE                       0.43  \n",
       "XGBoost with SMOTE                             0.40  "
      ]
     },
     "execution_count": 50,
     "metadata": {},
     "output_type": "execute_result"
    }
   ],
   "source": [
    "models_SMOTE = ['Logistic Regression with SMOTE', 'Random Forest with SMOTE', 'XGBoost with SMOTE']\n",
    "logreg_SMOTE_scores = [0.82, 0.46, 0.44]\n",
    "rf_SMOTE_scores = [0.99, 0.40, 0.43]\n",
    "XGBoost_SMOTE_scores = [0.98, 0.46, 0.40]\n",
    "performance_summary_SMOTE = [logreg_SMOTE_scores, rf_SMOTE_scores, XGBoost_SMOTE_scores]\n",
    "SMOTE_df = pd.DataFrame(performance_summary_SMOTE, index = models_SMOTE, columns = metrics)\n",
    "SMOTE_df"
   ]
  },
  {
   "cell_type": "markdown",
   "id": "4ef76aa2",
   "metadata": {},
   "source": [
    "SMOTE definitely produced scores that were much better than random oversampling, but these results were not significantly better than scores obtained on the base models for the test set."
   ]
  },
  {
   "cell_type": "markdown",
   "id": "f3131d58",
   "metadata": {},
   "source": [
    "## SMOTE with Undersampling"
   ]
  },
  {
   "cell_type": "markdown",
   "id": "6f6f3c14",
   "metadata": {},
   "source": [
    "In addition to synthetic oversampling of the minority class one could also undersample the majority. This may lead to better scores.We shall create a new dataset with this approach and determine the performance of our models."
   ]
  },
  {
   "cell_type": "markdown",
   "id": "687f5158",
   "metadata": {},
   "source": [
    "### Create SMOTE with Undersampling Dataset"
   ]
  },
  {
   "cell_type": "markdown",
   "id": "6b701ad9",
   "metadata": {},
   "source": [
    "We will oversample the minority samples to be 50% of the majority samples and undersample the majority samples to be 50% of the majority samples."
   ]
  },
  {
   "cell_type": "code",
   "execution_count": 51,
   "id": "7199ba85",
   "metadata": {},
   "outputs": [],
   "source": [
    "#Create SMOTE oversampling of minority class and undersampling of majority class\n",
    "oversampler = SMOTE(sampling_strategy = 0.5)\n",
    "undersampler = RandomUnderSampler(sampling_strategy = 0.5)\n",
    "steps = [('oversampler', oversampler), ('undersampler', undersampler)]\n",
    "pipeline = Pipeline(steps = steps)"
   ]
  },
  {
   "cell_type": "code",
   "execution_count": 52,
   "id": "97869856",
   "metadata": {},
   "outputs": [],
   "source": [
    "#Create SMOTE dataset that has been undersampled\n",
    "X_SMOTE_under, y_SMOTE_under = pipeline.fit_resample(X_train, y_train)"
   ]
  },
  {
   "cell_type": "code",
   "execution_count": 53,
   "id": "f9478973",
   "metadata": {
    "scrolled": true
   },
   "outputs": [
    {
     "data": {
      "text/plain": [
       "0    25582\n",
       "1    12791\n",
       "Name: response, dtype: int64"
      ]
     },
     "execution_count": 53,
     "metadata": {},
     "output_type": "execute_result"
    }
   ],
   "source": [
    "#Review class distribution\n",
    "y_SMOTE_under.value_counts()"
   ]
  },
  {
   "cell_type": "markdown",
   "id": "ccc225f8",
   "metadata": {},
   "source": [
    "### Train Models on undersampled SMOTE Dataframe And Assess Performance\n"
   ]
  },
  {
   "cell_type": "markdown",
   "id": "613c9db8",
   "metadata": {},
   "source": [
    "#### Logistic Regression"
   ]
  },
  {
   "cell_type": "code",
   "execution_count": 54,
   "id": "0f0b851f",
   "metadata": {},
   "outputs": [],
   "source": [
    "logreg_SMOTE_under = LogisticRegression(max_iter = 10000, random_state = 77)\n",
    "logreg_SMOTE_under.__name__ = 'Logistic Regression With SMOTE and Undersampling'"
   ]
  },
  {
   "cell_type": "code",
   "execution_count": 55,
   "id": "3e889a0f",
   "metadata": {},
   "outputs": [
    {
     "name": "stdout",
     "output_type": "stream",
     "text": [
      "\u001b[4mResults for Logistic Regression With SMOTE and Undersampling \u001b[0m\n",
      "Area Under Precision-Recall Curve for Train Set (10-fold CV): 0.71 +/- 0.01\n",
      "Area Under Precision-Recall Curve for Test Set              : 0.46\n",
      "Area Under P-R Curve on Test Set (No-Skill Performance)     : 0.11\n",
      "              precision    recall  f1-score   support\n",
      "\n",
      "           0       0.94      0.91      0.93     10965\n",
      "           1       0.44      0.55      0.49      1392\n",
      "\n",
      "    accuracy                           0.87     12357\n",
      "   macro avg       0.69      0.73      0.71     12357\n",
      "weighted avg       0.88      0.87      0.88     12357\n",
      "\n"
     ]
    },
    {
     "data": {
      "image/png": "[encoded data removed]",
      "text/plain": [
       "<Figure size 720x360 with 1 Axes>"
      ]
     },
     "metadata": {
      "needs_background": "light"
     },
     "output_type": "display_data"
    }
   ],
   "source": [
    "model_performance(logreg_SMOTE_under, X_SMOTE_under, y_SMOTE_under, kfolds = 10)"
   ]
  },
  {
   "cell_type": "markdown",
   "id": "7de2d622",
   "metadata": {},
   "source": [
    "Here again, we notice performance on the test set is not significantly better than the base logistic regression model."
   ]
  },
  {
   "cell_type": "markdown",
   "id": "d44395df",
   "metadata": {},
   "source": [
    "#### Random Forest"
   ]
  },
  {
   "cell_type": "code",
   "execution_count": 56,
   "id": "1db70fb7",
   "metadata": {},
   "outputs": [],
   "source": [
    "rf_SMOTE_under = RandomForestClassifier(random_state = 77)\n",
    "rf_SMOTE_under.__name__ = 'Random Forest With SMOTE and Undersampling'"
   ]
  },
  {
   "cell_type": "code",
   "execution_count": 57,
   "id": "dc279da0",
   "metadata": {},
   "outputs": [
    {
     "name": "stdout",
     "output_type": "stream",
     "text": [
      "\u001b[4mResults for Random Forest With SMOTE and Undersampling \u001b[0m\n",
      "Area Under Precision-Recall Curve for Train Set (10-fold CV): 0.94 +/- 0.09\n",
      "Area Under Precision-Recall Curve for Test Set              : 0.41\n",
      "Area Under P-R Curve on Test Set (No-Skill Performance)     : 0.11\n",
      "              precision    recall  f1-score   support\n",
      "\n",
      "           0       0.92      0.96      0.94     10965\n",
      "           1       0.52      0.36      0.42      1392\n",
      "\n",
      "    accuracy                           0.89     12357\n",
      "   macro avg       0.72      0.66      0.68     12357\n",
      "weighted avg       0.88      0.89      0.88     12357\n",
      "\n"
     ]
    },
    {
     "data": {
      "image/png": "[encoded data removed]",
      "text/plain": [
       "<Figure size 720x360 with 1 Axes>"
      ]
     },
     "metadata": {
      "needs_background": "light"
     },
     "output_type": "display_data"
    }
   ],
   "source": [
    "model_performance(rf_SMOTE_under, X_SMOTE_under, y_SMOTE_under, kfolds = 10)"
   ]
  },
  {
   "cell_type": "markdown",
   "id": "5e1f8f01",
   "metadata": {},
   "source": [
    "We notice that the performance on the test set is not significantly better than the base random forest model."
   ]
  },
  {
   "cell_type": "markdown",
   "id": "8c0a6fe4",
   "metadata": {},
   "source": [
    "#### XGBoost"
   ]
  },
  {
   "cell_type": "code",
   "execution_count": 58,
   "id": "2056d223",
   "metadata": {},
   "outputs": [],
   "source": [
    "xg_SMOTE_under = xgb.XGBClassifier(objective='binary:logistic', use_label_encoder = False, eval_metric = 'logloss', seed= 77)\n",
    "xg_SMOTE_under.__name__ = 'XGBoost With Oversampling and Undersampling'"
   ]
  },
  {
   "cell_type": "code",
   "execution_count": 59,
   "id": "c54963d7",
   "metadata": {},
   "outputs": [
    {
     "name": "stdout",
     "output_type": "stream",
     "text": [
      "\u001b[4mResults for XGBoost With Oversampling and Undersampling \u001b[0m\n",
      "Area Under Precision-Recall Curve for Train Set (10-fold CV): 0.93 +/- 0.11\n",
      "Area Under Precision-Recall Curve for Test Set              : 0.46\n",
      "Area Under P-R Curve on Test Set (No-Skill Performance)     : 0.11\n",
      "              precision    recall  f1-score   support\n",
      "\n",
      "           0       0.92      0.97      0.94     10965\n",
      "           1       0.60      0.31      0.41      1392\n",
      "\n",
      "    accuracy                           0.90     12357\n",
      "   macro avg       0.76      0.64      0.68     12357\n",
      "weighted avg       0.88      0.90      0.88     12357\n",
      "\n"
     ]
    },
    {
     "data": {
      "image/png": "[encoded data removed]",
      "text/plain": [
       "<Figure size 720x360 with 1 Axes>"
      ]
     },
     "metadata": {
      "needs_background": "light"
     },
     "output_type": "display_data"
    }
   ],
   "source": [
    "model_performance(xg_SMOTE_under, X_SMOTE_under, y_SMOTE_under, kfolds = 10)"
   ]
  },
  {
   "cell_type": "markdown",
   "id": "698d9011",
   "metadata": {},
   "source": [
    "Here again, we notice performance on the test set is not significantly better than the base XGBoost model."
   ]
  },
  {
   "cell_type": "markdown",
   "id": "5cb16a96",
   "metadata": {},
   "source": [
    "### Performance Summary for Undersampled SMOTE"
   ]
  },
  {
   "cell_type": "code",
   "execution_count": 60,
   "id": "5c44c801",
   "metadata": {},
   "outputs": [
    {
     "data": {
      "text/html": [
       "<div>\n",
       "<style scoped>\n",
       "    .dataframe tbody tr th:only-of-type {\n",
       "        vertical-align: middle;\n",
       "    }\n",
       "\n",
       "    .dataframe tbody tr th {\n",
       "        vertical-align: top;\n",
       "    }\n",
       "\n",
       "    .dataframe thead th {\n",
       "        text-align: right;\n",
       "    }\n",
       "</style>\n",
       "<table border=\"1\" class=\"dataframe\">\n",
       "  <thead>\n",
       "    <tr style=\"text-align: right;\">\n",
       "      <th></th>\n",
       "      <th>AUC_pr_10-fold_CV_train</th>\n",
       "      <th>AUC_pr_test</th>\n",
       "      <th>f1_minor_class_test</th>\n",
       "    </tr>\n",
       "  </thead>\n",
       "  <tbody>\n",
       "    <tr>\n",
       "      <th>Logistic Regression with undersampled SMOTE</th>\n",
       "      <td>0.82</td>\n",
       "      <td>0.46</td>\n",
       "      <td>0.44</td>\n",
       "    </tr>\n",
       "    <tr>\n",
       "      <th>Random Forest with undersampled SMOTE</th>\n",
       "      <td>0.99</td>\n",
       "      <td>0.40</td>\n",
       "      <td>0.43</td>\n",
       "    </tr>\n",
       "    <tr>\n",
       "      <th>XGBoost with undersampled SMOTE</th>\n",
       "      <td>0.98</td>\n",
       "      <td>0.46</td>\n",
       "      <td>0.40</td>\n",
       "    </tr>\n",
       "  </tbody>\n",
       "</table>\n",
       "</div>"
      ],
      "text/plain": [
       "                                             AUC_pr_10-fold_CV_train  \\\n",
       "Logistic Regression with undersampled SMOTE                     0.82   \n",
       "Random Forest with undersampled SMOTE                           0.99   \n",
       "XGBoost with undersampled SMOTE                                 0.98   \n",
       "\n",
       "                                             AUC_pr_test  f1_minor_class_test  \n",
       "Logistic Regression with undersampled SMOTE         0.46                 0.44  \n",
       "Random Forest with undersampled SMOTE               0.40                 0.43  \n",
       "XGBoost with undersampled SMOTE                     0.46                 0.40  "
      ]
     },
     "execution_count": 60,
     "metadata": {},
     "output_type": "execute_result"
    }
   ],
   "source": [
    "models_SMOTE_under = ['Logistic Regression with undersampled SMOTE', 'Random Forest with undersampled SMOTE', 'XGBoost with undersampled SMOTE']\n",
    "logreg_SMOTE_under_scores = [0.82, 0.46, 0.44]\n",
    "rf_SMOTE_under_scores = [0.99, 0.40, 0.43]\n",
    "XGBoost_SMOTE_under_scores = [0.98, 0.46, 0.40]\n",
    "performance_summary_SMOTE_under = [logreg_SMOTE_under_scores, rf_SMOTE_under_scores, XGBoost_SMOTE_under_scores]\n",
    "SMOTE_under = pd.DataFrame(performance_summary_SMOTE_under, index = models_SMOTE_under, columns = metrics)\n",
    "SMOTE_under"
   ]
  },
  {
   "cell_type": "markdown",
   "id": "b6cee46f",
   "metadata": {},
   "source": [
    "SMOTE with undersampling does not improve the performance of the models."
   ]
  },
  {
   "cell_type": "markdown",
   "id": "93478cce",
   "metadata": {},
   "source": [
    "# Conclusion"
   ]
  },
  {
   "cell_type": "code",
   "execution_count": 68,
   "id": "074c6189",
   "metadata": {},
   "outputs": [
    {
     "data": {
      "text/html": [
       "<div>\n",
       "<style scoped>\n",
       "    .dataframe tbody tr th:only-of-type {\n",
       "        vertical-align: middle;\n",
       "    }\n",
       "\n",
       "    .dataframe tbody tr th {\n",
       "        vertical-align: top;\n",
       "    }\n",
       "\n",
       "    .dataframe thead th {\n",
       "        text-align: right;\n",
       "    }\n",
       "</style>\n",
       "<table border=\"1\" class=\"dataframe\">\n",
       "  <thead>\n",
       "    <tr style=\"text-align: right;\">\n",
       "      <th></th>\n",
       "      <th>AUC_pr_10-fold_CV_train</th>\n",
       "      <th>AUC_pr_test</th>\n",
       "      <th>f1_minor_class_test</th>\n",
       "    </tr>\n",
       "  </thead>\n",
       "  <tbody>\n",
       "    <tr>\n",
       "      <th>Logistic Regression with Class Weights</th>\n",
       "      <td>0.44</td>\n",
       "      <td>0.46</td>\n",
       "      <td>0.45</td>\n",
       "    </tr>\n",
       "    <tr>\n",
       "      <th>Logistic Regression with SMOTE</th>\n",
       "      <td>0.82</td>\n",
       "      <td>0.46</td>\n",
       "      <td>0.44</td>\n",
       "    </tr>\n",
       "    <tr>\n",
       "      <th>Logistic Regression with undersampled SMOTE</th>\n",
       "      <td>0.82</td>\n",
       "      <td>0.46</td>\n",
       "      <td>0.44</td>\n",
       "    </tr>\n",
       "    <tr>\n",
       "      <th>XGBoost</th>\n",
       "      <td>0.44</td>\n",
       "      <td>0.46</td>\n",
       "      <td>0.41</td>\n",
       "    </tr>\n",
       "    <tr>\n",
       "      <th>XGBoost with SMOTE</th>\n",
       "      <td>0.98</td>\n",
       "      <td>0.46</td>\n",
       "      <td>0.40</td>\n",
       "    </tr>\n",
       "    <tr>\n",
       "      <th>XGBoost with undersampled SMOTE</th>\n",
       "      <td>0.98</td>\n",
       "      <td>0.46</td>\n",
       "      <td>0.40</td>\n",
       "    </tr>\n",
       "    <tr>\n",
       "      <th>Logistic Regression</th>\n",
       "      <td>0.45</td>\n",
       "      <td>0.46</td>\n",
       "      <td>0.37</td>\n",
       "    </tr>\n",
       "    <tr>\n",
       "      <th>XGBoost with Class Weights</th>\n",
       "      <td>0.42</td>\n",
       "      <td>0.44</td>\n",
       "      <td>0.45</td>\n",
       "    </tr>\n",
       "    <tr>\n",
       "      <th>Random Forest</th>\n",
       "      <td>0.40</td>\n",
       "      <td>0.42</td>\n",
       "      <td>0.41</td>\n",
       "    </tr>\n",
       "    <tr>\n",
       "      <th>Random Forest with Class Weights</th>\n",
       "      <td>0.40</td>\n",
       "      <td>0.41</td>\n",
       "      <td>0.39</td>\n",
       "    </tr>\n",
       "    <tr>\n",
       "      <th>Random Forest with SMOTE</th>\n",
       "      <td>0.99</td>\n",
       "      <td>0.40</td>\n",
       "      <td>0.43</td>\n",
       "    </tr>\n",
       "    <tr>\n",
       "      <th>Random Forest with undersampled SMOTE</th>\n",
       "      <td>0.99</td>\n",
       "      <td>0.40</td>\n",
       "      <td>0.43</td>\n",
       "    </tr>\n",
       "    <tr>\n",
       "      <th>XGBoost with Undersampling</th>\n",
       "      <td>0.52</td>\n",
       "      <td>0.14</td>\n",
       "      <td>0.19</td>\n",
       "    </tr>\n",
       "    <tr>\n",
       "      <th>Logistic Regression with Undersampling</th>\n",
       "      <td>0.53</td>\n",
       "      <td>0.13</td>\n",
       "      <td>0.19</td>\n",
       "    </tr>\n",
       "    <tr>\n",
       "      <th>Logistic Regression with Oversampling</th>\n",
       "      <td>0.54</td>\n",
       "      <td>0.12</td>\n",
       "      <td>0.16</td>\n",
       "    </tr>\n",
       "    <tr>\n",
       "      <th>Random Forest with Undersampling</th>\n",
       "      <td>0.52</td>\n",
       "      <td>0.11</td>\n",
       "      <td>0.18</td>\n",
       "    </tr>\n",
       "    <tr>\n",
       "      <th>Random Forest with Oversampling</th>\n",
       "      <td>1.00</td>\n",
       "      <td>0.11</td>\n",
       "      <td>0.02</td>\n",
       "    </tr>\n",
       "    <tr>\n",
       "      <th>XGBoost with Oversampling</th>\n",
       "      <td>0.94</td>\n",
       "      <td>0.09</td>\n",
       "      <td>0.09</td>\n",
       "    </tr>\n",
       "  </tbody>\n",
       "</table>\n",
       "</div>"
      ],
      "text/plain": [
       "                                             AUC_pr_10-fold_CV_train  \\\n",
       "Logistic Regression with Class Weights                          0.44   \n",
       "Logistic Regression with SMOTE                                  0.82   \n",
       "Logistic Regression with undersampled SMOTE                     0.82   \n",
       "XGBoost                                                         0.44   \n",
       "XGBoost with SMOTE                                              0.98   \n",
       "XGBoost with undersampled SMOTE                                 0.98   \n",
       "Logistic Regression                                             0.45   \n",
       "XGBoost with Class Weights                                      0.42   \n",
       "Random Forest                                                   0.40   \n",
       "Random Forest with Class Weights                                0.40   \n",
       "Random Forest with SMOTE                                        0.99   \n",
       "Random Forest with undersampled SMOTE                           0.99   \n",
       "XGBoost with Undersampling                                      0.52   \n",
       "Logistic Regression with Undersampling                          0.53   \n",
       "Logistic Regression with Oversampling                           0.54   \n",
       "Random Forest with Undersampling                                0.52   \n",
       "Random Forest with Oversampling                                 1.00   \n",
       "XGBoost with Oversampling                                       0.94   \n",
       "\n",
       "                                             AUC_pr_test  f1_minor_class_test  \n",
       "Logistic Regression with Class Weights              0.46                 0.45  \n",
       "Logistic Regression with SMOTE                      0.46                 0.44  \n",
       "Logistic Regression with undersampled SMOTE         0.46                 0.44  \n",
       "XGBoost                                             0.46                 0.41  \n",
       "XGBoost with SMOTE                                  0.46                 0.40  \n",
       "XGBoost with undersampled SMOTE                     0.46                 0.40  \n",
       "Logistic Regression                                 0.46                 0.37  \n",
       "XGBoost with Class Weights                          0.44                 0.45  \n",
       "Random Forest                                       0.42                 0.41  \n",
       "Random Forest with Class Weights                    0.41                 0.39  \n",
       "Random Forest with SMOTE                            0.40                 0.43  \n",
       "Random Forest with undersampled SMOTE               0.40                 0.43  \n",
       "XGBoost with Undersampling                          0.14                 0.19  \n",
       "Logistic Regression with Undersampling              0.13                 0.19  \n",
       "Logistic Regression with Oversampling               0.12                 0.16  \n",
       "Random Forest with Undersampling                    0.11                 0.18  \n",
       "Random Forest with Oversampling                     0.11                 0.02  \n",
       "XGBoost with Oversampling                           0.09                 0.09  "
      ]
     },
     "execution_count": 68,
     "metadata": {},
     "output_type": "execute_result"
    }
   ],
   "source": [
    "#Get model performance scores for all models\n",
    "pd.concat([base_algos, class_weights, undersampling, SMOTE_df, oversampling_df, SMOTE_under]).sort_values(by = ['AUC_pr_test', 'f1_minor_class_test'], ascending = False)"
   ]
  },
  {
   "cell_type": "markdown",
   "id": "cec20930",
   "metadata": {},
   "source": [
    "The goal of our project was to create a model to predict the response of a marketing campagne, whether a 'yes' or 'no'. To do so, we created various imperfect models that improved our ability to predict the response. We highlighted the importance of prioritizing the prediction of our positive class because these were clients, especially because of the imbalanced nature of the dataset, with a 1:8 ratio of clients who responded positively to the marketing campagne and those who did not. Accordingly, we determined that precision and recall were the most useful metrics of relevance and the area under the precision-recall curve as the most important scoring metric followed by the f1 score. \n",
    "\n",
    "From the above models, the logisitic regression model with class weights offered the best performance on the test set, both in terms of the average precision and the f1 score for the minority class. This is the model we recommend to the business.\n",
    "\n",
    "Generally, the logisitic regression algorithm performed better than the random forest and XGBoost algorithm. We also noted that random undersampling and oversampling techniques yielded poor results."
   ]
  },
  {
   "cell_type": "markdown",
   "id": "b48a467d",
   "metadata": {},
   "source": [
    "# Further Improvements"
   ]
  },
  {
   "cell_type": "markdown",
   "id": "4c514d32",
   "metadata": {},
   "source": [
    "The business should consider the following measures to improve the performance of the model.\n",
    "\n",
    "1. Gather more data as they continue their campagne\n",
    "2. Review other algorithms to determine if they improve performance\n",
    "3. Engineer additional features"
   ]
  }
 ],
 "metadata": {
  "kernelspec": {
   "display_name": "Python 3",
   "language": "python",
   "name": "python3"
  },
  "language_info": {
   "codemirror_mode": {
    "name": "ipython",
    "version": 3
   },
   "file_extension": ".py",
   "mimetype": "text/x-python",
   "name": "python",
   "nbconvert_exporter": "python",
   "pygments_lexer": "ipython3",
   "version": "3.8.10"
  }
 },
 "nbformat": 4,
 "nbformat_minor": 5
}
