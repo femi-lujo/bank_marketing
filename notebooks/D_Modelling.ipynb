{
 "cells": [
  {
   "cell_type": "markdown",
   "id": "b2d3a5ed",
   "metadata": {},
   "source": [
    "# D. Modeling"
   ]
  },
  {
   "cell_type": "markdown",
   "id": "1c5edb7d",
   "metadata": {},
   "source": [
    "# Load Packages"
   ]
  },
  {
   "cell_type": "code",
   "execution_count": 1,
   "id": "a02707dd",
   "metadata": {},
   "outputs": [],
   "source": [
    "import pandas as pd\n",
    "import numpy as np\n",
    "import os\n",
    "import pickle\n",
    "import matplotlib.pyplot as plt\n",
    "import seaborn as sns\n",
    "from sklearn.preprocessing import scale\n",
    "from sklearn.model_selection import train_test_split, cross_validate, GridSearchCV, learning_curve, RandomizedSearchCV\n",
    "from sklearn.preprocessing import StandardScaler, MinMaxScaler\n",
    "from sklearn.linear_model import LogisticRegression\n",
    "from sklearn.ensemble import RandomForestClassifier\n",
    "from sklearn.metrics import average_precision_score, precision_recall_curve, plot_precision_recall_curve, roc_auc_score\n",
    "from sklearn.pipeline import make_pipeline\n",
    "from sklearn.impute import SimpleImputer\n",
    "from sklearn.metrics import confusion_matrix, classification_report, fbeta_score\n",
    "from sklearn.neighbors import KNeighborsClassifier\n",
    "import datetime\n",
    "import numpy as np\n",
    "import pickle\n",
    "import xgboost as xgb\n",
    "from numpy import argmax\n",
    "from imblearn.over_sampling import SMOTE\n",
    "from imblearn.under_sampling import RandomUnderSampler\n",
    "from imblearn.pipeline import Pipeline as pipeline\n",
    "from sklearn.feature_selection import SelectFromModel\n",
    "from sklearn.pipeline import Pipeline\n",
    "from sklearn.model_selection import RepeatedStratifiedKFold"
   ]
  },
  {
   "cell_type": "markdown",
   "id": "56f57091",
   "metadata": {},
   "source": [
    "# Load Data"
   ]
  },
  {
   "cell_type": "code",
   "execution_count": 2,
   "id": "24509cac",
   "metadata": {},
   "outputs": [],
   "source": [
    "# Specifiy filepath\n",
    "filepath = '../data/interim/'"
   ]
  },
  {
   "cell_type": "code",
   "execution_count": 3,
   "id": "e77932d8",
   "metadata": {},
   "outputs": [],
   "source": [
    "# Load feature and target data\n",
    "X = pickle.load(open(filepath + 'X.pkl', 'rb'))\n",
    "X_scaled = pickle.load(open(filepath + 'X_scaled.pkl', 'rb'))\n",
    "y = pickle.load(open(filepath + 'y.pkl', 'rb'))\n",
    "feature_names = pickle.load(open(filepath + 'feature_names_base.pkl', 'rb'))\n",
    "X_train = pickle.load(open(filepath + 'X_train_base.pkl', 'rb'))\n",
    "y_train = pickle.load(open(filepath + 'y_train_base.pkl', 'rb'))\n",
    "X_test = pickle.load(open(filepath + 'X_test_base.pkl', 'rb'))\n",
    "y_test = pickle.load(open(filepath + 'y_test_base.pkl', 'rb'))\n",
    "application_set = pickle.load(open(filepath + 'application_df.pkl', 'rb'))"
   ]
  },
  {
   "cell_type": "markdown",
   "id": "0c99ac67",
   "metadata": {},
   "source": [
    "# Baseline Peformance From Logistic Regression Model"
   ]
  },
  {
   "cell_type": "markdown",
   "id": "354f776a",
   "metadata": {},
   "source": [
    "We computed various performance metrics for our baseline logistic regression model in the pre-processing notebook. The key metric for our classification task was determined to be the area under the precision-recall curve (also known as average precision) because our focus is on optimizing the proper classification of our minority class (e.g. those who said 'yes' to the marketing request). The ratio between our minority (1) and majority class (0) was determined to be 1:7.88 or approximately 0.12. This corresponds to the area under the precision-recall curve for perfect recall. It is the odds of randomly chosing an example from the minority class in the dataset. Any model we choose must beat this benchmark of 0.12 (or its representative value given the distribution of minority and majority classes in the dataset). Our logistic regression model yielded an average precision of 0.46. We will review a random forest and XGBoost algorithm to determine if we can improve on this score. We will also trial techniques such as applying class weights and resampling the data to determine if our score improves."
   ]
  },
  {
   "cell_type": "markdown",
   "id": "e065705a",
   "metadata": {},
   "source": [
    "# Peformance Assessment Function"
   ]
  },
  {
   "cell_type": "markdown",
   "id": "3baf8520",
   "metadata": {},
   "source": [
    "The function below will be used to compute a variety of performance metrics on a 10-fold cross validation set (done on the test set) and the test set. Of paramountcy are the computed values for average precision. Other revealing metrics include the precision, recall and F1 scores for a probability threshold of 50%. "
   ]
  },
  {
   "cell_type": "code",
   "execution_count": 4,
   "id": "b1d71afd",
   "metadata": {},
   "outputs": [],
   "source": [
    "# Mean Average Precision on cross-validation set\n",
    "def cv_performance(clf, feature = X_train, target = y_train, kfolds = 10):\n",
    "    '''This function computes the average precision score for a 10-fold cross validation set, average precision on the test set\n",
    "    and a precision-recall plot for the test set'''\n",
    "    #Cross validation scores on training set\n",
    "    #print(f'\\033[4mResults for {clf.__name__} \\033[0m')\n",
    "    cv_results = cross_validate(estimator = clf, X = feature, y = target, scoring = 'average_precision', cv= kfolds)\n",
    "    cv_scores = cv_results['test_score']\n",
    "    return cv_scores\n",
    "\n",
    "def pred(clf, Xtr = X_train, ytr = y_train, Xte = X_test, pipeline = False, **kwargs):\n",
    "    clf.fit(Xtr, ytr)\n",
    "    y_pred = clf.predict(Xte)\n",
    "    y_prob = clf.predict_proba(Xte)[:, 1]\n",
    "    if pipeline:\n",
    "        for key, value in kwargs.items():\n",
    "            if key == 'model':\n",
    "                coef = clf.named_steps[value].coef_[0]\n",
    "            if key == 'select':\n",
    "                mask = clf.named_steps[value].get_support()\n",
    "    else:\n",
    "        coef = clf.coef_[0]\n",
    "        mask = None\n",
    "    return y_pred, y_prob, coef, mask\n",
    "\n",
    "def pred_tree(clf, Xtr = X_train, ytr = y_train, Xte = X_test, pipeline = False, **kwargs):\n",
    "    clf.fit(Xtr, ytr)\n",
    "    y_pred = clf.predict(Xte)\n",
    "    y_prob = clf.predict_proba(Xte)[:, 1]\n",
    "    if pipeline:\n",
    "        for key, value in kwargs.items():\n",
    "            if key == 'model':\n",
    "                coef = clf.named_steps[value].feature_importances_\n",
    "            if key == 'select':\n",
    "                mask = clf.named_steps[value].get_support()\n",
    "    else:\n",
    "        coef = clf.feature_importances_\n",
    "        mask = None\n",
    "    return y_pred, y_prob, coef, mask    \n",
    "    \n",
    "def auc_plot(y_test, y_prob, label):\n",
    "    precision, recall, thresholds = precision_recall_curve(y_test, y_prob) \n",
    "    plt.plot(recall, precision, label = label, marker = '.')\n",
    "    \n",
    "def cv_mean_std(cv_scores):\n",
    "    cv_mean = cv_scores.mean()\n",
    "    cv_std = cv_scores.std()\n",
    "    return cv_mean, cv_std\n",
    "\n",
    "def limits(mean, std):\n",
    "    upper = mean + std\n",
    "    lower = mean -std\n",
    "    return lower, upper   "
   ]
  },
  {
   "cell_type": "markdown",
   "id": "2aaa284c",
   "metadata": {},
   "source": [
    "# Baseline Performance of Algorithms"
   ]
  },
  {
   "cell_type": "markdown",
   "id": "b74bbcbe",
   "metadata": {},
   "source": [
    "## Logistic Regression"
   ]
  },
  {
   "cell_type": "markdown",
   "id": "a8a16319",
   "metadata": {},
   "source": [
    "We already determined the baseline performance for the logistic regression algorithm. However, we will review the associated precision-recall curve. "
   ]
  },
  {
   "cell_type": "code",
   "execution_count": 5,
   "id": "c8c50a8d",
   "metadata": {},
   "outputs": [],
   "source": [
    "logreg = LogisticRegression(random_state = 77, max_iter = 1000)"
   ]
  },
  {
   "cell_type": "code",
   "execution_count": 6,
   "id": "78021bf2",
   "metadata": {
    "scrolled": true
   },
   "outputs": [],
   "source": [
    "logreg_cv = cv_performance(logreg)"
   ]
  },
  {
   "cell_type": "code",
   "execution_count": 7,
   "id": "eba7a337",
   "metadata": {},
   "outputs": [],
   "source": [
    "logreg_cv_mean, logreg_cv_std = cv_mean_std(logreg_cv)"
   ]
  },
  {
   "cell_type": "code",
   "execution_count": 8,
   "id": "38679590",
   "metadata": {
    "scrolled": true
   },
   "outputs": [
    {
     "data": {
      "text/plain": [
       "(0.4533335978961531, 0.03112362395308293)"
      ]
     },
     "execution_count": 8,
     "metadata": {},
     "output_type": "execute_result"
    }
   ],
   "source": [
    "logreg_cv_mean, logreg_cv_std"
   ]
  },
  {
   "cell_type": "code",
   "execution_count": 9,
   "id": "d34a1a8c",
   "metadata": {
    "scrolled": true
   },
   "outputs": [],
   "source": [
    "logreg_pred, logreg_prob, logreg_coef, _ = pred(logreg)"
   ]
  },
  {
   "cell_type": "code",
   "execution_count": 10,
   "id": "d8a10ea5",
   "metadata": {
    "scrolled": true
   },
   "outputs": [
    {
     "data": {
      "text/plain": [
       "0.47551327455602055"
      ]
     },
     "execution_count": 10,
     "metadata": {},
     "output_type": "execute_result"
    }
   ],
   "source": [
    "logreg_auc_pr = average_precision_score(y_test, logreg_prob)\n",
    "logreg_auc_pr"
   ]
  },
  {
   "cell_type": "code",
   "execution_count": 11,
   "id": "ef33e809",
   "metadata": {},
   "outputs": [
    {
     "data": {
      "text/html": [
       "<div>\n",
       "<style scoped>\n",
       "    .dataframe tbody tr th:only-of-type {\n",
       "        vertical-align: middle;\n",
       "    }\n",
       "\n",
       "    .dataframe tbody tr th {\n",
       "        vertical-align: top;\n",
       "    }\n",
       "\n",
       "    .dataframe thead th {\n",
       "        text-align: right;\n",
       "    }\n",
       "</style>\n",
       "<table border=\"1\" class=\"dataframe\">\n",
       "  <thead>\n",
       "    <tr style=\"text-align: right;\">\n",
       "      <th></th>\n",
       "      <th>coefficient</th>\n",
       "    </tr>\n",
       "  </thead>\n",
       "  <tbody>\n",
       "    <tr>\n",
       "      <th>cpi</th>\n",
       "      <td>1.054576</td>\n",
       "    </tr>\n",
       "    <tr>\n",
       "      <th>euribor3m</th>\n",
       "      <td>-0.903468</td>\n",
       "    </tr>\n",
       "    <tr>\n",
       "      <th>noEmployed</th>\n",
       "      <td>0.855754</td>\n",
       "    </tr>\n",
       "    <tr>\n",
       "      <th>euribor3m_grp_3.301_4.2</th>\n",
       "      <td>-0.717255</td>\n",
       "    </tr>\n",
       "    <tr>\n",
       "      <th>employmentRate_grp_0.1_1.5</th>\n",
       "      <td>-0.467143</td>\n",
       "    </tr>\n",
       "    <tr>\n",
       "      <th>employmentRate_grp_neg0.9_0</th>\n",
       "      <td>0.456644</td>\n",
       "    </tr>\n",
       "    <tr>\n",
       "      <th>month_nov</th>\n",
       "      <td>0.333957</td>\n",
       "    </tr>\n",
       "    <tr>\n",
       "      <th>currentCampaignContacts</th>\n",
       "      <td>-0.326053</td>\n",
       "    </tr>\n",
       "    <tr>\n",
       "      <th>euribor3m_grp_rr</th>\n",
       "      <td>0.239489</td>\n",
       "    </tr>\n",
       "    <tr>\n",
       "      <th>cci</th>\n",
       "      <td>0.235932</td>\n",
       "    </tr>\n",
       "  </tbody>\n",
       "</table>\n",
       "</div>"
      ],
      "text/plain": [
       "                             coefficient\n",
       "cpi                             1.054576\n",
       "euribor3m                      -0.903468\n",
       "noEmployed                      0.855754\n",
       "euribor3m_grp_3.301_4.2        -0.717255\n",
       "employmentRate_grp_0.1_1.5     -0.467143\n",
       "employmentRate_grp_neg0.9_0     0.456644\n",
       "month_nov                       0.333957\n",
       "currentCampaignContacts        -0.326053\n",
       "euribor3m_grp_rr                0.239489\n",
       "cci                             0.235932"
      ]
     },
     "execution_count": 11,
     "metadata": {},
     "output_type": "execute_result"
    }
   ],
   "source": [
    "logreg_features = pd.DataFrame(logreg_coef, index = feature_names, columns = ['coefficient'])\n",
    "logreg_features.reindex(logreg_features.coefficient.abs().sort_values(ascending = False).index).head(10)"
   ]
  },
  {
   "cell_type": "markdown",
   "id": "55d8fa2f",
   "metadata": {},
   "source": [
    "The cross validation AUC-PR score of 0.45 is close to the test set score of 0.46. There is therefore minimal overfitting in the model. This test performance is also better than the no-skill performance of 0.11, however the recall on the minority class of 0.25 is low. "
   ]
  },
  {
   "cell_type": "markdown",
   "id": "fdfafcef",
   "metadata": {},
   "source": [
    "## Logistic regression with feature selection"
   ]
  },
  {
   "cell_type": "code",
   "execution_count": 12,
   "id": "453f857f",
   "metadata": {},
   "outputs": [],
   "source": [
    "#Instantiate transformer that selects features with coefficients greater than the mean coefficient\n",
    "selector = SelectFromModel(logreg, prefit = False)"
   ]
  },
  {
   "cell_type": "code",
   "execution_count": 13,
   "id": "dbf298f5",
   "metadata": {},
   "outputs": [],
   "source": [
    "#Instantiate pipeline that select important features and trains a logistic regression model\n",
    "select_logreg = Pipeline(steps = [('selector',selector), ('logreg', logreg)])"
   ]
  },
  {
   "cell_type": "code",
   "execution_count": 14,
   "id": "319d774b",
   "metadata": {},
   "outputs": [],
   "source": [
    "#Obtain the 5 fold cross validation performance of model with pre-selected features\n",
    "select_logreg_cv = cv_performance(select_logreg, kfolds = 5)"
   ]
  },
  {
   "cell_type": "code",
   "execution_count": 15,
   "id": "05bb80d3",
   "metadata": {},
   "outputs": [
    {
     "data": {
      "text/plain": [
       "(0.4105143078680767, 0.027657325881146985)"
      ]
     },
     "execution_count": 15,
     "metadata": {},
     "output_type": "execute_result"
    }
   ],
   "source": [
    "#Review mean and standard deviation of logistic regression model with pre-selected features\n",
    "select_logreg_cv_mean, select_logreg_cv_std = cv_mean_std(select_logreg_cv)\n",
    "select_logreg_cv_mean, select_logreg_cv_std"
   ]
  },
  {
   "cell_type": "code",
   "execution_count": 16,
   "id": "07c9b495",
   "metadata": {},
   "outputs": [],
   "source": [
    "#Obtain predictions, probabilities and coeffificents of logistic regression model with pre-selected features\n",
    "select_logreg_pred, select_logreg_prob, select_logreg_coef, select_logreg_mask = pred(clf = select_logreg, \\\n",
    "            Xtr = X_train, ytr = y_train, Xte = X_test, pipeline = True, model = 'logreg', select = 'selector')"
   ]
  },
  {
   "cell_type": "code",
   "execution_count": 17,
   "id": "b425891d",
   "metadata": {},
   "outputs": [
    {
     "data": {
      "text/plain": [
       "0.465876242463211"
      ]
     },
     "execution_count": 17,
     "metadata": {},
     "output_type": "execute_result"
    }
   ],
   "source": [
    "select_logreg_auc_pr = average_precision_score(y_test, select_logreg_prob)\n",
    "select_logreg_auc_pr"
   ]
  },
  {
   "cell_type": "code",
   "execution_count": 18,
   "id": "4dcb8e37",
   "metadata": {},
   "outputs": [
    {
     "data": {
      "text/html": [
       "<div>\n",
       "<style scoped>\n",
       "    .dataframe tbody tr th:only-of-type {\n",
       "        vertical-align: middle;\n",
       "    }\n",
       "\n",
       "    .dataframe tbody tr th {\n",
       "        vertical-align: top;\n",
       "    }\n",
       "\n",
       "    .dataframe thead th {\n",
       "        text-align: right;\n",
       "    }\n",
       "</style>\n",
       "<table border=\"1\" class=\"dataframe\">\n",
       "  <thead>\n",
       "    <tr style=\"text-align: right;\">\n",
       "      <th></th>\n",
       "      <th>coefficient</th>\n",
       "    </tr>\n",
       "  </thead>\n",
       "  <tbody>\n",
       "    <tr>\n",
       "      <th>euribor3m</th>\n",
       "      <td>-1.064822</td>\n",
       "    </tr>\n",
       "    <tr>\n",
       "      <th>cpi</th>\n",
       "      <td>0.967789</td>\n",
       "    </tr>\n",
       "    <tr>\n",
       "      <th>employmentRate_grp_neg0.9_0</th>\n",
       "      <td>0.845725</td>\n",
       "    </tr>\n",
       "    <tr>\n",
       "      <th>euribor3m_grp_3.301_4.2</th>\n",
       "      <td>-0.801990</td>\n",
       "    </tr>\n",
       "    <tr>\n",
       "      <th>euribor3m_grp_rr</th>\n",
       "      <td>0.732143</td>\n",
       "    </tr>\n",
       "    <tr>\n",
       "      <th>noEmployed</th>\n",
       "      <td>0.678280</td>\n",
       "    </tr>\n",
       "    <tr>\n",
       "      <th>employmentRate_grp_0.1_1.5</th>\n",
       "      <td>-0.519269</td>\n",
       "    </tr>\n",
       "    <tr>\n",
       "      <th>cci</th>\n",
       "      <td>0.325329</td>\n",
       "    </tr>\n",
       "    <tr>\n",
       "      <th>cpi_grp_93.001_94</th>\n",
       "      <td>0.266817</td>\n",
       "    </tr>\n",
       "    <tr>\n",
       "      <th>daysLastContacted</th>\n",
       "      <td>-0.251106</td>\n",
       "    </tr>\n",
       "  </tbody>\n",
       "</table>\n",
       "</div>"
      ],
      "text/plain": [
       "                             coefficient\n",
       "euribor3m                      -1.064822\n",
       "cpi                             0.967789\n",
       "employmentRate_grp_neg0.9_0     0.845725\n",
       "euribor3m_grp_3.301_4.2        -0.801990\n",
       "euribor3m_grp_rr                0.732143\n",
       "noEmployed                      0.678280\n",
       "employmentRate_grp_0.1_1.5     -0.519269\n",
       "cci                             0.325329\n",
       "cpi_grp_93.001_94               0.266817\n",
       "daysLastContacted              -0.251106"
      ]
     },
     "execution_count": 18,
     "metadata": {},
     "output_type": "execute_result"
    }
   ],
   "source": [
    "logreg_select_features = pd.DataFrame(select_logreg_coef, index = feature_names[select_logreg_mask], columns = ['coefficient'])\n",
    "logreg_select_features.reindex(logreg_select_features.coefficient.abs().sort_values(ascending = False).index).head(10)"
   ]
  },
  {
   "cell_type": "markdown",
   "id": "632f5ec2",
   "metadata": {},
   "source": [
    "## Logistic regression with class weights"
   ]
  },
  {
   "cell_type": "code",
   "execution_count": 19,
   "id": "7553fa95",
   "metadata": {},
   "outputs": [],
   "source": [
    "logreg_cw = LogisticRegression(class_weight = {0: 1, 1: 8}, max_iter = 10000, random_state = 77)"
   ]
  },
  {
   "cell_type": "code",
   "execution_count": 20,
   "id": "fce976f8",
   "metadata": {},
   "outputs": [],
   "source": [
    "logreg_cw_cv = cv_performance(logreg_cw)"
   ]
  },
  {
   "cell_type": "code",
   "execution_count": 21,
   "id": "e6b60f7a",
   "metadata": {},
   "outputs": [
    {
     "data": {
      "text/plain": [
       "(0.449333817479881, 0.03235619719570669)"
      ]
     },
     "execution_count": 21,
     "metadata": {},
     "output_type": "execute_result"
    }
   ],
   "source": [
    "logreg_cw_cv_mean, logreg_cw_cv_std = cv_mean_std(logreg_cw_cv)\n",
    "logreg_cw_cv_mean, logreg_cw_cv_std"
   ]
  },
  {
   "cell_type": "code",
   "execution_count": 22,
   "id": "e98063f0",
   "metadata": {},
   "outputs": [],
   "source": [
    "logreg_cw_pred, logreg_cw_prob, logreg_cw_coef, logreg_cw_mask = pred(logreg_cw)"
   ]
  },
  {
   "cell_type": "code",
   "execution_count": 23,
   "id": "1be9a111",
   "metadata": {},
   "outputs": [
    {
     "data": {
      "text/html": [
       "<div>\n",
       "<style scoped>\n",
       "    .dataframe tbody tr th:only-of-type {\n",
       "        vertical-align: middle;\n",
       "    }\n",
       "\n",
       "    .dataframe tbody tr th {\n",
       "        vertical-align: top;\n",
       "    }\n",
       "\n",
       "    .dataframe thead th {\n",
       "        text-align: right;\n",
       "    }\n",
       "</style>\n",
       "<table border=\"1\" class=\"dataframe\">\n",
       "  <thead>\n",
       "    <tr style=\"text-align: right;\">\n",
       "      <th></th>\n",
       "      <th>coefficient</th>\n",
       "    </tr>\n",
       "  </thead>\n",
       "  <tbody>\n",
       "    <tr>\n",
       "      <th>euribor3m</th>\n",
       "      <td>-2.161277</td>\n",
       "    </tr>\n",
       "    <tr>\n",
       "      <th>cpi</th>\n",
       "      <td>1.468551</td>\n",
       "    </tr>\n",
       "    <tr>\n",
       "      <th>noEmployed</th>\n",
       "      <td>1.268859</td>\n",
       "    </tr>\n",
       "    <tr>\n",
       "      <th>cci</th>\n",
       "      <td>0.738183</td>\n",
       "    </tr>\n",
       "    <tr>\n",
       "      <th>euribor3m_grp_3.301_4.2</th>\n",
       "      <td>-0.736949</td>\n",
       "    </tr>\n",
       "    <tr>\n",
       "      <th>employmentRate_grp_neg0.9_0</th>\n",
       "      <td>0.560133</td>\n",
       "    </tr>\n",
       "    <tr>\n",
       "      <th>employmentRate_grp_0.1_1.5</th>\n",
       "      <td>-0.428410</td>\n",
       "    </tr>\n",
       "    <tr>\n",
       "      <th>month_nov</th>\n",
       "      <td>0.427498</td>\n",
       "    </tr>\n",
       "    <tr>\n",
       "      <th>currentCampaignContacts</th>\n",
       "      <td>-0.389711</td>\n",
       "    </tr>\n",
       "    <tr>\n",
       "      <th>cci_grp_neg51_neg46</th>\n",
       "      <td>0.388036</td>\n",
       "    </tr>\n",
       "  </tbody>\n",
       "</table>\n",
       "</div>"
      ],
      "text/plain": [
       "                             coefficient\n",
       "euribor3m                      -2.161277\n",
       "cpi                             1.468551\n",
       "noEmployed                      1.268859\n",
       "cci                             0.738183\n",
       "euribor3m_grp_3.301_4.2        -0.736949\n",
       "employmentRate_grp_neg0.9_0     0.560133\n",
       "employmentRate_grp_0.1_1.5     -0.428410\n",
       "month_nov                       0.427498\n",
       "currentCampaignContacts        -0.389711\n",
       "cci_grp_neg51_neg46             0.388036"
      ]
     },
     "execution_count": 23,
     "metadata": {},
     "output_type": "execute_result"
    }
   ],
   "source": [
    "logreg_cw_features = pd.DataFrame(logreg_cw_coef, index = feature_names, columns = ['coefficient'])\n",
    "logreg_cw_features.reindex(logreg_cw_features.coefficient.abs().sort_values(ascending = False).index).head(10)"
   ]
  },
  {
   "cell_type": "code",
   "execution_count": 24,
   "id": "54634b2d",
   "metadata": {},
   "outputs": [
    {
     "data": {
      "text/plain": [
       "0.46980538358872587"
      ]
     },
     "execution_count": 24,
     "metadata": {},
     "output_type": "execute_result"
    }
   ],
   "source": [
    "logreg_cw_auc_pr = average_precision_score(y_test, logreg_cw_prob)\n",
    "logreg_cw_auc_pr"
   ]
  },
  {
   "cell_type": "markdown",
   "id": "63e1b6dd",
   "metadata": {},
   "source": [
    "## Logistic regression with hyperparamter tuning"
   ]
  },
  {
   "cell_type": "code",
   "execution_count": 25,
   "id": "b05685a5",
   "metadata": {
    "scrolled": true
   },
   "outputs": [],
   "source": [
    "#Define parameters\n",
    "solvers = ['newton-cg', 'lbfgs', 'liblinear']\n",
    "penalty = ['l2']\n",
    "c = [100, 10, 1.0, 0.1, 0.01]\n",
    "#Define grid search\n",
    "param_grid = dict(solver = solvers, penalty = penalty, C = c)\n",
    "logreg_search = GridSearchCV(estimator = logreg, param_grid = param_grid, n_jobs=-1, cv = 5, scoring='average_precision',error_score=0)\n",
    "logreg_search.fit(X_train, y_train);"
   ]
  },
  {
   "cell_type": "code",
   "execution_count": 26,
   "id": "2a73e0ef",
   "metadata": {},
   "outputs": [
    {
     "data": {
      "text/plain": [
       "(0.45112559553015297, 0.022857191440560393)"
      ]
     },
     "execution_count": 26,
     "metadata": {},
     "output_type": "execute_result"
    }
   ],
   "source": [
    "logreg_search.best_score_, logreg_search.cv_results_['std_test_score'][logreg_search.best_index_]"
   ]
  },
  {
   "cell_type": "code",
   "execution_count": 27,
   "id": "314001f3",
   "metadata": {
    "scrolled": false
   },
   "outputs": [
    {
     "data": {
      "text/plain": [
       "{'C': 1.0, 'penalty': 'l2', 'solver': 'liblinear'}"
      ]
     },
     "execution_count": 27,
     "metadata": {},
     "output_type": "execute_result"
    }
   ],
   "source": [
    "logreg_search.best_params_"
   ]
  },
  {
   "cell_type": "code",
   "execution_count": 28,
   "id": "daf223f6",
   "metadata": {},
   "outputs": [],
   "source": [
    "logreg_hyp = LogisticRegression(C = 1, penalty = 'l2', solver = 'newton-cg', max_iter = 10000, random_state = 77)"
   ]
  },
  {
   "cell_type": "code",
   "execution_count": 29,
   "id": "3f0ed5b1",
   "metadata": {},
   "outputs": [],
   "source": [
    "logreg_hyp_pred, logreg_hyp_prob, logreg_hyp_coef, logreg_hyp_mask = pred(logreg_hyp)"
   ]
  },
  {
   "cell_type": "code",
   "execution_count": 30,
   "id": "7f148add",
   "metadata": {},
   "outputs": [
    {
     "data": {
      "text/html": [
       "<div>\n",
       "<style scoped>\n",
       "    .dataframe tbody tr th:only-of-type {\n",
       "        vertical-align: middle;\n",
       "    }\n",
       "\n",
       "    .dataframe tbody tr th {\n",
       "        vertical-align: top;\n",
       "    }\n",
       "\n",
       "    .dataframe thead th {\n",
       "        text-align: right;\n",
       "    }\n",
       "</style>\n",
       "<table border=\"1\" class=\"dataframe\">\n",
       "  <thead>\n",
       "    <tr style=\"text-align: right;\">\n",
       "      <th></th>\n",
       "      <th>coefficient</th>\n",
       "    </tr>\n",
       "  </thead>\n",
       "  <tbody>\n",
       "    <tr>\n",
       "      <th>cpi</th>\n",
       "      <td>1.065987</td>\n",
       "    </tr>\n",
       "    <tr>\n",
       "      <th>euribor3m</th>\n",
       "      <td>-0.889792</td>\n",
       "    </tr>\n",
       "    <tr>\n",
       "      <th>noEmployed</th>\n",
       "      <td>0.868012</td>\n",
       "    </tr>\n",
       "    <tr>\n",
       "      <th>euribor3m_grp_3.301_4.2</th>\n",
       "      <td>-0.717333</td>\n",
       "    </tr>\n",
       "    <tr>\n",
       "      <th>employmentRate_grp_0.1_1.5</th>\n",
       "      <td>-0.472305</td>\n",
       "    </tr>\n",
       "    <tr>\n",
       "      <th>employmentRate_grp_neg0.9_0</th>\n",
       "      <td>0.459591</td>\n",
       "    </tr>\n",
       "    <tr>\n",
       "      <th>month_nov</th>\n",
       "      <td>0.333881</td>\n",
       "    </tr>\n",
       "    <tr>\n",
       "      <th>currentCampaignContacts</th>\n",
       "      <td>-0.330368</td>\n",
       "    </tr>\n",
       "    <tr>\n",
       "      <th>cci</th>\n",
       "      <td>0.253859</td>\n",
       "    </tr>\n",
       "    <tr>\n",
       "      <th>euribor3m_grp_rr</th>\n",
       "      <td>0.243000</td>\n",
       "    </tr>\n",
       "  </tbody>\n",
       "</table>\n",
       "</div>"
      ],
      "text/plain": [
       "                             coefficient\n",
       "cpi                             1.065987\n",
       "euribor3m                      -0.889792\n",
       "noEmployed                      0.868012\n",
       "euribor3m_grp_3.301_4.2        -0.717333\n",
       "employmentRate_grp_0.1_1.5     -0.472305\n",
       "employmentRate_grp_neg0.9_0     0.459591\n",
       "month_nov                       0.333881\n",
       "currentCampaignContacts        -0.330368\n",
       "cci                             0.253859\n",
       "euribor3m_grp_rr                0.243000"
      ]
     },
     "execution_count": 30,
     "metadata": {},
     "output_type": "execute_result"
    }
   ],
   "source": [
    "logreg_hyp_features = pd.DataFrame(logreg_hyp_coef, index = feature_names, columns = ['coefficient'])\n",
    "logreg_hyp_features.reindex(logreg_hyp_features.coefficient.abs().sort_values(ascending = False).index).head(10)"
   ]
  },
  {
   "cell_type": "code",
   "execution_count": 31,
   "id": "513838f9",
   "metadata": {
    "scrolled": true
   },
   "outputs": [
    {
     "data": {
      "text/plain": [
       "0.4754929359535215"
      ]
     },
     "execution_count": 31,
     "metadata": {},
     "output_type": "execute_result"
    }
   ],
   "source": [
    "logreg_hyp_auc_pr = average_precision_score(y_test, logreg_hyp_prob)\n",
    "logreg_hyp_auc_pr"
   ]
  },
  {
   "cell_type": "code",
   "execution_count": 32,
   "id": "ab56fd8d",
   "metadata": {},
   "outputs": [],
   "source": [
    "logreg_aucpr_cv_scores = [logreg_cv_mean, select_logreg_cv_mean, logreg_cw_cv_mean, logreg_search.best_score_]\n",
    "logreg_aucpr_test_scores = [logreg_auc_pr, select_logreg_auc_pr, logreg_cw_auc_pr, logreg_hyp_auc_pr]\n",
    "logreg_performance_scores = dict(logreg_cv_scores =  logreg_aucpr_cv_scores, logreg_test_scores = logreg_aucpr_test_scores)\n",
    "logreg_names = ['Logreg', 'Logreg w/ feature selection', 'Logreg w/ class weights', 'Logreg w/ tuning hyperparamters']\n",
    "logreg_probs = [logreg_prob, select_logreg_prob, logreg_cw_prob, logreg_hyp_prob]\n",
    "logreg_info = zip(logreg_names, logreg_probs)"
   ]
  },
  {
   "cell_type": "code",
   "execution_count": 33,
   "id": "d1799c7b",
   "metadata": {},
   "outputs": [
    {
     "data": {
      "text/html": [
       "<div>\n",
       "<style scoped>\n",
       "    .dataframe tbody tr th:only-of-type {\n",
       "        vertical-align: middle;\n",
       "    }\n",
       "\n",
       "    .dataframe tbody tr th {\n",
       "        vertical-align: top;\n",
       "    }\n",
       "\n",
       "    .dataframe thead th {\n",
       "        text-align: right;\n",
       "    }\n",
       "</style>\n",
       "<table border=\"1\" class=\"dataframe\">\n",
       "  <thead>\n",
       "    <tr style=\"text-align: right;\">\n",
       "      <th></th>\n",
       "      <th>logreg_cv_scores</th>\n",
       "      <th>logreg_test_scores</th>\n",
       "    </tr>\n",
       "  </thead>\n",
       "  <tbody>\n",
       "    <tr>\n",
       "      <th>Logreg</th>\n",
       "      <td>0.453334</td>\n",
       "      <td>0.475513</td>\n",
       "    </tr>\n",
       "    <tr>\n",
       "      <th>Logreg w/ tuning hyperparamters</th>\n",
       "      <td>0.451126</td>\n",
       "      <td>0.475493</td>\n",
       "    </tr>\n",
       "    <tr>\n",
       "      <th>Logreg w/ class weights</th>\n",
       "      <td>0.449334</td>\n",
       "      <td>0.469805</td>\n",
       "    </tr>\n",
       "    <tr>\n",
       "      <th>Logreg w/ feature selection</th>\n",
       "      <td>0.410514</td>\n",
       "      <td>0.465876</td>\n",
       "    </tr>\n",
       "  </tbody>\n",
       "</table>\n",
       "</div>"
      ],
      "text/plain": [
       "                                 logreg_cv_scores  logreg_test_scores\n",
       "Logreg                                   0.453334            0.475513\n",
       "Logreg w/ tuning hyperparamters          0.451126            0.475493\n",
       "Logreg w/ class weights                  0.449334            0.469805\n",
       "Logreg w/ feature selection              0.410514            0.465876"
      ]
     },
     "execution_count": 33,
     "metadata": {},
     "output_type": "execute_result"
    }
   ],
   "source": [
    "logreg_perf_df = pd.DataFrame(logreg_performance_scores, index = logreg_names)\n",
    "logreg_perf_df.sort_values(by = 'logreg_cv_scores', ascending = False)"
   ]
  },
  {
   "cell_type": "code",
   "execution_count": 34,
   "id": "9f9847b0",
   "metadata": {
    "scrolled": false
   },
   "outputs": [
    {
     "data": {
      "image/png": "[encoded data removed]",
      "text/plain": [
       "<Figure size 576x360 with 1 Axes>"
      ]
     },
     "metadata": {
      "needs_background": "light"
     },
     "output_type": "display_data"
    }
   ],
   "source": [
    "no_skill = len(y_test[y_test==1]) / len(y_test)\n",
    "fig, axs = plt.subplots(figsize = (8, 5))\n",
    "\n",
    "for name, prob in logreg_info:\n",
    "    auc_plot(y_test, prob, name)\n",
    "plt.xlabel('Recall')\n",
    "plt.ylabel('Precision')\n",
    "plt.title('Precision - recall curves for logistic regression classifiers')\n",
    "plt.plot([0, 1], [no_skill, no_skill], linestyle = '--', label = 'No Skill')\n",
    "plt.annotate(f'(0.00, {no_skill: .2f})',(0, no_skill))\n",
    "plt.legend()\n",
    "plt.savefig('..\\\\reports\\\\figures\\\\logreg.png', bbox_inches=\"tight\");"
   ]
  },
  {
   "cell_type": "markdown",
   "id": "cf7e80d0",
   "metadata": {},
   "source": [
    "Basic logistic regression classifier seems to work the best."
   ]
  },
  {
   "cell_type": "markdown",
   "id": "37c7de38",
   "metadata": {},
   "source": [
    "## Random Forest"
   ]
  },
  {
   "cell_type": "markdown",
   "id": "16046707",
   "metadata": {},
   "source": [
    "Let us assess the performance of the baseline random forest model. "
   ]
  },
  {
   "cell_type": "code",
   "execution_count": 35,
   "id": "99174f50",
   "metadata": {},
   "outputs": [],
   "source": [
    "rf = RandomForestClassifier(random_state = 77)"
   ]
  },
  {
   "cell_type": "code",
   "execution_count": 36,
   "id": "ba708ed6",
   "metadata": {
    "scrolled": false
   },
   "outputs": [],
   "source": [
    "rf_cv = cv_performance(rf)"
   ]
  },
  {
   "cell_type": "markdown",
   "id": "d7d3b19f",
   "metadata": {},
   "source": [
    "The closeness of the cross validation score for the training set and the score for the test set suggest that there is minimal overfitting. The cross performance of 0.4 is worse than that observed from the logistic regression algorithm (0.44), suggesting that the logistic regression model performs better than random forest. However, the random forest offers better test scores on precision than the logistic regression model.  "
   ]
  },
  {
   "cell_type": "code",
   "execution_count": 37,
   "id": "b7f6cc10",
   "metadata": {},
   "outputs": [
    {
     "data": {
      "text/plain": [
       "(0.40397960734393423, 0.027580319458172943)"
      ]
     },
     "execution_count": 37,
     "metadata": {},
     "output_type": "execute_result"
    }
   ],
   "source": [
    "rf_cv_mean, rf_cv_std = cv_mean_std(rf_cv)\n",
    "rf_cv_mean, rf_cv_std"
   ]
  },
  {
   "cell_type": "code",
   "execution_count": 38,
   "id": "cf8d023d",
   "metadata": {},
   "outputs": [],
   "source": [
    "rf_pred, rf_prob, rf_coef, _ = pred_tree(rf)"
   ]
  },
  {
   "cell_type": "code",
   "execution_count": 39,
   "id": "24ebd8cd",
   "metadata": {},
   "outputs": [
    {
     "data": {
      "text/plain": [
       "0.4140080767074705"
      ]
     },
     "execution_count": 39,
     "metadata": {},
     "output_type": "execute_result"
    }
   ],
   "source": [
    "rf_auc_pr = average_precision_score(y_test, rf_prob)\n",
    "rf_auc_pr"
   ]
  },
  {
   "cell_type": "code",
   "execution_count": 40,
   "id": "2d3b020e",
   "metadata": {
    "scrolled": true
   },
   "outputs": [
    {
     "data": {
      "text/html": [
       "<div>\n",
       "<style scoped>\n",
       "    .dataframe tbody tr th:only-of-type {\n",
       "        vertical-align: middle;\n",
       "    }\n",
       "\n",
       "    .dataframe tbody tr th {\n",
       "        vertical-align: top;\n",
       "    }\n",
       "\n",
       "    .dataframe thead th {\n",
       "        text-align: right;\n",
       "    }\n",
       "</style>\n",
       "<table border=\"1\" class=\"dataframe\">\n",
       "  <thead>\n",
       "    <tr style=\"text-align: right;\">\n",
       "      <th></th>\n",
       "      <th>impurity</th>\n",
       "    </tr>\n",
       "  </thead>\n",
       "  <tbody>\n",
       "    <tr>\n",
       "      <th>age</th>\n",
       "      <td>0.089726</td>\n",
       "    </tr>\n",
       "    <tr>\n",
       "      <th>euribor3m</th>\n",
       "      <td>0.078598</td>\n",
       "    </tr>\n",
       "    <tr>\n",
       "      <th>job_rr</th>\n",
       "      <td>0.033099</td>\n",
       "    </tr>\n",
       "    <tr>\n",
       "      <th>education_rr</th>\n",
       "      <td>0.028873</td>\n",
       "    </tr>\n",
       "    <tr>\n",
       "      <th>dayOfWeek_rr</th>\n",
       "      <td>0.028094</td>\n",
       "    </tr>\n",
       "    <tr>\n",
       "      <th>noEmployed</th>\n",
       "      <td>0.025499</td>\n",
       "    </tr>\n",
       "    <tr>\n",
       "      <th>currentCampaignContacts</th>\n",
       "      <td>0.024551</td>\n",
       "    </tr>\n",
       "    <tr>\n",
       "      <th>currentCampaignContacts_grp_rr</th>\n",
       "      <td>0.024017</td>\n",
       "    </tr>\n",
       "    <tr>\n",
       "      <th>age_grp_rr</th>\n",
       "      <td>0.021735</td>\n",
       "    </tr>\n",
       "    <tr>\n",
       "      <th>daysLastContacted</th>\n",
       "      <td>0.021475</td>\n",
       "    </tr>\n",
       "  </tbody>\n",
       "</table>\n",
       "</div>"
      ],
      "text/plain": [
       "                                impurity\n",
       "age                             0.089726\n",
       "euribor3m                       0.078598\n",
       "job_rr                          0.033099\n",
       "education_rr                    0.028873\n",
       "dayOfWeek_rr                    0.028094\n",
       "noEmployed                      0.025499\n",
       "currentCampaignContacts         0.024551\n",
       "currentCampaignContacts_grp_rr  0.024017\n",
       "age_grp_rr                      0.021735\n",
       "daysLastContacted               0.021475"
      ]
     },
     "execution_count": 40,
     "metadata": {},
     "output_type": "execute_result"
    }
   ],
   "source": [
    "rf_features = pd.DataFrame(rf_coef, index = feature_names, columns = ['impurity'])\n",
    "rf_features.reindex(rf_features.impurity.abs().sort_values(ascending = False).index).head(10)"
   ]
  },
  {
   "cell_type": "markdown",
   "id": "c11949bd",
   "metadata": {},
   "source": [
    "## Random forest with feature selection"
   ]
  },
  {
   "cell_type": "code",
   "execution_count": 41,
   "id": "0d344250",
   "metadata": {},
   "outputs": [],
   "source": [
    "#Instantiate transformer that selects features with impurities greater than the mean impurity\n",
    "selector_rf = SelectFromModel(rf, prefit = False)"
   ]
  },
  {
   "cell_type": "code",
   "execution_count": 42,
   "id": "c455d0e2",
   "metadata": {},
   "outputs": [],
   "source": [
    "#Instantiate pipeline that select important features and trains a logistic regression model\n",
    "select_rf = Pipeline(steps = [('selector_rf',selector_rf), ('rf', rf)])"
   ]
  },
  {
   "cell_type": "code",
   "execution_count": 43,
   "id": "fa8b5751",
   "metadata": {},
   "outputs": [],
   "source": [
    "#Obtain the 5 fold cross validation performance of model with pre-selected features\n",
    "select_rf_cv = cv_performance(select_rf, kfolds = 5)"
   ]
  },
  {
   "cell_type": "code",
   "execution_count": 44,
   "id": "4635b630",
   "metadata": {},
   "outputs": [
    {
     "data": {
      "text/plain": [
       "(0.3852413556566428, 0.019886128266401133)"
      ]
     },
     "execution_count": 44,
     "metadata": {},
     "output_type": "execute_result"
    }
   ],
   "source": [
    "#Review mean and standard deviation of logistic regression model with pre-selected features\n",
    "select_rf_cv_mean, select_rf_cv_std = cv_mean_std(select_rf_cv)\n",
    "select_rf_cv_mean, select_rf_cv_std"
   ]
  },
  {
   "cell_type": "code",
   "execution_count": 45,
   "id": "4e196444",
   "metadata": {},
   "outputs": [],
   "source": [
    "#Obtain predictions, probabilities and coeffificents of logistic regression model with pre-selected features\n",
    "select_rf_pred, select_rf_prob, select_rf_coef, select_rf_mask = pred_tree(clf = select_rf, \\\n",
    "            Xtr = X_train, ytr = y_train, Xte = X_test, pipeline = True, model = 'rf', select = 'selector_rf')"
   ]
  },
  {
   "cell_type": "code",
   "execution_count": 46,
   "id": "b585afb4",
   "metadata": {},
   "outputs": [
    {
     "data": {
      "text/plain": [
       "0.4022934164237752"
      ]
     },
     "execution_count": 46,
     "metadata": {},
     "output_type": "execute_result"
    }
   ],
   "source": [
    "select_rf_auc_pr = average_precision_score(y_test, select_rf_prob)\n",
    "select_rf_auc_pr"
   ]
  },
  {
   "cell_type": "code",
   "execution_count": 47,
   "id": "9cf450f9",
   "metadata": {},
   "outputs": [
    {
     "data": {
      "text/html": [
       "<div>\n",
       "<style scoped>\n",
       "    .dataframe tbody tr th:only-of-type {\n",
       "        vertical-align: middle;\n",
       "    }\n",
       "\n",
       "    .dataframe tbody tr th {\n",
       "        vertical-align: top;\n",
       "    }\n",
       "\n",
       "    .dataframe thead th {\n",
       "        text-align: right;\n",
       "    }\n",
       "</style>\n",
       "<table border=\"1\" class=\"dataframe\">\n",
       "  <thead>\n",
       "    <tr style=\"text-align: right;\">\n",
       "      <th></th>\n",
       "      <th>impurity</th>\n",
       "    </tr>\n",
       "  </thead>\n",
       "  <tbody>\n",
       "    <tr>\n",
       "      <th>age</th>\n",
       "      <td>0.117203</td>\n",
       "    </tr>\n",
       "    <tr>\n",
       "      <th>euribor3m</th>\n",
       "      <td>0.106621</td>\n",
       "    </tr>\n",
       "    <tr>\n",
       "      <th>job_rr</th>\n",
       "      <td>0.052060</td>\n",
       "    </tr>\n",
       "    <tr>\n",
       "      <th>education_rr</th>\n",
       "      <td>0.043941</td>\n",
       "    </tr>\n",
       "    <tr>\n",
       "      <th>noEmployed</th>\n",
       "      <td>0.036253</td>\n",
       "    </tr>\n",
       "    <tr>\n",
       "      <th>currentCampaignContacts_grp_rr</th>\n",
       "      <td>0.030058</td>\n",
       "    </tr>\n",
       "    <tr>\n",
       "      <th>currentCampaignContacts</th>\n",
       "      <td>0.030032</td>\n",
       "    </tr>\n",
       "    <tr>\n",
       "      <th>dayOfWeek_rr</th>\n",
       "      <td>0.029522</td>\n",
       "    </tr>\n",
       "    <tr>\n",
       "      <th>age_grp_rr</th>\n",
       "      <td>0.027648</td>\n",
       "    </tr>\n",
       "    <tr>\n",
       "      <th>noEmployed_grp_rr</th>\n",
       "      <td>0.024342</td>\n",
       "    </tr>\n",
       "  </tbody>\n",
       "</table>\n",
       "</div>"
      ],
      "text/plain": [
       "                                impurity\n",
       "age                             0.117203\n",
       "euribor3m                       0.106621\n",
       "job_rr                          0.052060\n",
       "education_rr                    0.043941\n",
       "noEmployed                      0.036253\n",
       "currentCampaignContacts_grp_rr  0.030058\n",
       "currentCampaignContacts         0.030032\n",
       "dayOfWeek_rr                    0.029522\n",
       "age_grp_rr                      0.027648\n",
       "noEmployed_grp_rr               0.024342"
      ]
     },
     "execution_count": 47,
     "metadata": {},
     "output_type": "execute_result"
    }
   ],
   "source": [
    "rf_select_features = pd.DataFrame(select_rf_coef, index = feature_names[select_rf_mask], columns = ['impurity'])\n",
    "rf_select_features.reindex(rf_select_features.impurity.abs().sort_values(ascending = False).index).head(10)"
   ]
  },
  {
   "cell_type": "markdown",
   "id": "280cb83a",
   "metadata": {},
   "source": [
    "## Random forest with class weights"
   ]
  },
  {
   "cell_type": "code",
   "execution_count": 48,
   "id": "63826550",
   "metadata": {},
   "outputs": [],
   "source": [
    "rf_cw = RandomForestClassifier(class_weight = {0: 1, 1: 8}, random_state = 77)"
   ]
  },
  {
   "cell_type": "code",
   "execution_count": 49,
   "id": "af57d78c",
   "metadata": {},
   "outputs": [],
   "source": [
    "rf_cw_cv = cv_performance(rf_cw)"
   ]
  },
  {
   "cell_type": "code",
   "execution_count": 50,
   "id": "fd083a5a",
   "metadata": {},
   "outputs": [
    {
     "data": {
      "text/plain": [
       "(0.402201457265685, 0.030524679034745452)"
      ]
     },
     "execution_count": 50,
     "metadata": {},
     "output_type": "execute_result"
    }
   ],
   "source": [
    "rf_cw_cv_mean, rf_cw_cv_std = cv_mean_std(rf_cw_cv)\n",
    "rf_cw_cv_mean, rf_cw_cv_std"
   ]
  },
  {
   "cell_type": "code",
   "execution_count": 51,
   "id": "2422c051",
   "metadata": {},
   "outputs": [],
   "source": [
    "rf_cw_pred, rf_cw_prob, rf_cw_coef, _ = pred_tree(rf_cw)"
   ]
  },
  {
   "cell_type": "code",
   "execution_count": 52,
   "id": "c523e75f",
   "metadata": {},
   "outputs": [
    {
     "data": {
      "text/html": [
       "<div>\n",
       "<style scoped>\n",
       "    .dataframe tbody tr th:only-of-type {\n",
       "        vertical-align: middle;\n",
       "    }\n",
       "\n",
       "    .dataframe tbody tr th {\n",
       "        vertical-align: top;\n",
       "    }\n",
       "\n",
       "    .dataframe thead th {\n",
       "        text-align: right;\n",
       "    }\n",
       "</style>\n",
       "<table border=\"1\" class=\"dataframe\">\n",
       "  <thead>\n",
       "    <tr style=\"text-align: right;\">\n",
       "      <th></th>\n",
       "      <th>impurity</th>\n",
       "    </tr>\n",
       "  </thead>\n",
       "  <tbody>\n",
       "    <tr>\n",
       "      <th>age</th>\n",
       "      <td>0.075998</td>\n",
       "    </tr>\n",
       "    <tr>\n",
       "      <th>euribor3m</th>\n",
       "      <td>0.075917</td>\n",
       "    </tr>\n",
       "    <tr>\n",
       "      <th>noEmployed</th>\n",
       "      <td>0.035492</td>\n",
       "    </tr>\n",
       "    <tr>\n",
       "      <th>job_rr</th>\n",
       "      <td>0.032824</td>\n",
       "    </tr>\n",
       "    <tr>\n",
       "      <th>education_rr</th>\n",
       "      <td>0.027876</td>\n",
       "    </tr>\n",
       "    <tr>\n",
       "      <th>dayOfWeek_rr</th>\n",
       "      <td>0.026953</td>\n",
       "    </tr>\n",
       "    <tr>\n",
       "      <th>euribor3m_grp_rr</th>\n",
       "      <td>0.026203</td>\n",
       "    </tr>\n",
       "    <tr>\n",
       "      <th>currentCampaignContacts</th>\n",
       "      <td>0.025824</td>\n",
       "    </tr>\n",
       "    <tr>\n",
       "      <th>currentCampaignContacts_grp_rr</th>\n",
       "      <td>0.024373</td>\n",
       "    </tr>\n",
       "    <tr>\n",
       "      <th>employmentRate_grp_rr</th>\n",
       "      <td>0.022253</td>\n",
       "    </tr>\n",
       "  </tbody>\n",
       "</table>\n",
       "</div>"
      ],
      "text/plain": [
       "                                impurity\n",
       "age                             0.075998\n",
       "euribor3m                       0.075917\n",
       "noEmployed                      0.035492\n",
       "job_rr                          0.032824\n",
       "education_rr                    0.027876\n",
       "dayOfWeek_rr                    0.026953\n",
       "euribor3m_grp_rr                0.026203\n",
       "currentCampaignContacts         0.025824\n",
       "currentCampaignContacts_grp_rr  0.024373\n",
       "employmentRate_grp_rr           0.022253"
      ]
     },
     "execution_count": 52,
     "metadata": {},
     "output_type": "execute_result"
    }
   ],
   "source": [
    "rf_cw_features = pd.DataFrame(rf_cw_coef, index = feature_names, columns = ['impurity'])\n",
    "rf_cw_features.reindex(rf_cw_features.impurity.abs().sort_values(ascending = False).index).head(10)"
   ]
  },
  {
   "cell_type": "code",
   "execution_count": 53,
   "id": "0ad6f6ea",
   "metadata": {},
   "outputs": [
    {
     "data": {
      "text/plain": [
       "0.4135837406458667"
      ]
     },
     "execution_count": 53,
     "metadata": {},
     "output_type": "execute_result"
    }
   ],
   "source": [
    "rf_cw_auc_pr = average_precision_score(y_test, rf_cw_prob)\n",
    "rf_cw_auc_pr"
   ]
  },
  {
   "cell_type": "markdown",
   "id": "794d02c6",
   "metadata": {},
   "source": [
    "## Random forest with hyperparameter tuning"
   ]
  },
  {
   "cell_type": "code",
   "execution_count": 54,
   "id": "b0675773",
   "metadata": {},
   "outputs": [],
   "source": [
    "#Define parameters\n",
    "n_estimators = [10, 100, 1000]\n",
    "max_features = ['sqrt', 'log2']\n",
    "#Define grid search\n",
    "param_grid = dict(n_estimators = n_estimators, max_features = max_features)\n",
    "rf_search = GridSearchCV(estimator = rf, param_grid = param_grid, n_jobs=-1, cv = 5, scoring='average_precision',error_score=0)\n",
    "rf_search.fit(X_train, y_train);"
   ]
  },
  {
   "cell_type": "code",
   "execution_count": 55,
   "id": "e027e11a",
   "metadata": {},
   "outputs": [
    {
     "data": {
      "text/plain": [
       "(0.4131665951667679, 0.022924845223318085)"
      ]
     },
     "execution_count": 55,
     "metadata": {},
     "output_type": "execute_result"
    }
   ],
   "source": [
    "rf_search.best_score_, rf_search.cv_results_['std_test_score'][rf_search.best_index_]"
   ]
  },
  {
   "cell_type": "code",
   "execution_count": 56,
   "id": "e3fa3d53",
   "metadata": {},
   "outputs": [
    {
     "data": {
      "text/plain": [
       "{'max_features': 'sqrt', 'n_estimators': 1000}"
      ]
     },
     "execution_count": 56,
     "metadata": {},
     "output_type": "execute_result"
    }
   ],
   "source": [
    "rf_search.best_params_"
   ]
  },
  {
   "cell_type": "code",
   "execution_count": 57,
   "id": "27f3f9c2",
   "metadata": {},
   "outputs": [],
   "source": [
    "rf_hyp = RandomForestClassifier(max_features = 'sqrt', n_estimators = 1000, random_state = 77)"
   ]
  },
  {
   "cell_type": "code",
   "execution_count": 58,
   "id": "b83a7b6d",
   "metadata": {},
   "outputs": [],
   "source": [
    "rf_hyp_pred, rf_hyp_prob, rf_hyp_coef, rf_hyp_mask = pred_tree(rf_hyp)"
   ]
  },
  {
   "cell_type": "code",
   "execution_count": 59,
   "id": "cb0e174f",
   "metadata": {},
   "outputs": [
    {
     "data": {
      "text/html": [
       "<div>\n",
       "<style scoped>\n",
       "    .dataframe tbody tr th:only-of-type {\n",
       "        vertical-align: middle;\n",
       "    }\n",
       "\n",
       "    .dataframe tbody tr th {\n",
       "        vertical-align: top;\n",
       "    }\n",
       "\n",
       "    .dataframe thead th {\n",
       "        text-align: right;\n",
       "    }\n",
       "</style>\n",
       "<table border=\"1\" class=\"dataframe\">\n",
       "  <thead>\n",
       "    <tr style=\"text-align: right;\">\n",
       "      <th></th>\n",
       "      <th>impurity</th>\n",
       "    </tr>\n",
       "  </thead>\n",
       "  <tbody>\n",
       "    <tr>\n",
       "      <th>age</th>\n",
       "      <td>0.088991</td>\n",
       "    </tr>\n",
       "    <tr>\n",
       "      <th>euribor3m</th>\n",
       "      <td>0.076998</td>\n",
       "    </tr>\n",
       "    <tr>\n",
       "      <th>job_rr</th>\n",
       "      <td>0.033344</td>\n",
       "    </tr>\n",
       "    <tr>\n",
       "      <th>education_rr</th>\n",
       "      <td>0.028560</td>\n",
       "    </tr>\n",
       "    <tr>\n",
       "      <th>dayOfWeek_rr</th>\n",
       "      <td>0.028159</td>\n",
       "    </tr>\n",
       "    <tr>\n",
       "      <th>currentCampaignContacts</th>\n",
       "      <td>0.024709</td>\n",
       "    </tr>\n",
       "    <tr>\n",
       "      <th>noEmployed</th>\n",
       "      <td>0.024601</td>\n",
       "    </tr>\n",
       "    <tr>\n",
       "      <th>currentCampaignContacts_grp_rr</th>\n",
       "      <td>0.024204</td>\n",
       "    </tr>\n",
       "    <tr>\n",
       "      <th>age_grp_rr</th>\n",
       "      <td>0.021966</td>\n",
       "    </tr>\n",
       "    <tr>\n",
       "      <th>marital_rr</th>\n",
       "      <td>0.015604</td>\n",
       "    </tr>\n",
       "  </tbody>\n",
       "</table>\n",
       "</div>"
      ],
      "text/plain": [
       "                                impurity\n",
       "age                             0.088991\n",
       "euribor3m                       0.076998\n",
       "job_rr                          0.033344\n",
       "education_rr                    0.028560\n",
       "dayOfWeek_rr                    0.028159\n",
       "currentCampaignContacts         0.024709\n",
       "noEmployed                      0.024601\n",
       "currentCampaignContacts_grp_rr  0.024204\n",
       "age_grp_rr                      0.021966\n",
       "marital_rr                      0.015604"
      ]
     },
     "execution_count": 59,
     "metadata": {},
     "output_type": "execute_result"
    }
   ],
   "source": [
    "rf_hyp_features = pd.DataFrame(rf_hyp_coef, index = feature_names, columns = ['impurity'])\n",
    "rf_hyp_features.reindex(rf_hyp_features.impurity.abs().sort_values(ascending = False).index).head(10)"
   ]
  },
  {
   "cell_type": "code",
   "execution_count": 60,
   "id": "4dc80ed7",
   "metadata": {},
   "outputs": [
    {
     "data": {
      "text/plain": [
       "0.4206094842852117"
      ]
     },
     "execution_count": 60,
     "metadata": {},
     "output_type": "execute_result"
    }
   ],
   "source": [
    "rf_hyp_auc_pr = average_precision_score(y_test, rf_hyp_prob)\n",
    "rf_hyp_auc_pr"
   ]
  },
  {
   "cell_type": "code",
   "execution_count": 61,
   "id": "39bfba82",
   "metadata": {},
   "outputs": [],
   "source": [
    "rf_aucpr_cv_scores = [rf_cv_mean, select_rf_cv_mean, rf_cw_cv_mean, rf_search.best_score_]\n",
    "rf_aucpr_test_scores = [rf_auc_pr, rf_auc_pr, rf_cw_auc_pr, rf_hyp_auc_pr]\n",
    "rf_performance_scores = dict(rf_cv_scores =  rf_aucpr_cv_scores, rf_test_scores = rf_aucpr_test_scores)\n",
    "rf_names = ['rf', 'rf w/ feature selection', 'rf w/ class weights', 'rf w/ tuning hyperparamters']\n",
    "rf_probs = [rf_prob, select_rf_prob, rf_cw_prob, rf_hyp_prob]\n",
    "rf_info = zip(rf_names, rf_probs)"
   ]
  },
  {
   "cell_type": "code",
   "execution_count": 62,
   "id": "fa1839e8",
   "metadata": {},
   "outputs": [
    {
     "data": {
      "text/html": [
       "<div>\n",
       "<style scoped>\n",
       "    .dataframe tbody tr th:only-of-type {\n",
       "        vertical-align: middle;\n",
       "    }\n",
       "\n",
       "    .dataframe tbody tr th {\n",
       "        vertical-align: top;\n",
       "    }\n",
       "\n",
       "    .dataframe thead th {\n",
       "        text-align: right;\n",
       "    }\n",
       "</style>\n",
       "<table border=\"1\" class=\"dataframe\">\n",
       "  <thead>\n",
       "    <tr style=\"text-align: right;\">\n",
       "      <th></th>\n",
       "      <th>rf_cv_scores</th>\n",
       "      <th>rf_test_scores</th>\n",
       "    </tr>\n",
       "  </thead>\n",
       "  <tbody>\n",
       "    <tr>\n",
       "      <th>rf w/ tuning hyperparamters</th>\n",
       "      <td>0.413167</td>\n",
       "      <td>0.420609</td>\n",
       "    </tr>\n",
       "    <tr>\n",
       "      <th>rf</th>\n",
       "      <td>0.403980</td>\n",
       "      <td>0.414008</td>\n",
       "    </tr>\n",
       "    <tr>\n",
       "      <th>rf w/ class weights</th>\n",
       "      <td>0.402201</td>\n",
       "      <td>0.413584</td>\n",
       "    </tr>\n",
       "    <tr>\n",
       "      <th>rf w/ feature selection</th>\n",
       "      <td>0.385241</td>\n",
       "      <td>0.414008</td>\n",
       "    </tr>\n",
       "  </tbody>\n",
       "</table>\n",
       "</div>"
      ],
      "text/plain": [
       "                             rf_cv_scores  rf_test_scores\n",
       "rf w/ tuning hyperparamters      0.413167        0.420609\n",
       "rf                               0.403980        0.414008\n",
       "rf w/ class weights              0.402201        0.413584\n",
       "rf w/ feature selection          0.385241        0.414008"
      ]
     },
     "execution_count": 62,
     "metadata": {},
     "output_type": "execute_result"
    }
   ],
   "source": [
    "rf_perf_df = pd.DataFrame(rf_performance_scores, index = rf_names)\n",
    "rf_perf_df.sort_values(by = 'rf_cv_scores', ascending = False)"
   ]
  },
  {
   "cell_type": "code",
   "execution_count": 63,
   "id": "a07bad19",
   "metadata": {
    "scrolled": false
   },
   "outputs": [
    {
     "data": {
      "image/png": "[encoded data removed]",
      "text/plain": [
       "<Figure size 576x360 with 1 Axes>"
      ]
     },
     "metadata": {
      "needs_background": "light"
     },
     "output_type": "display_data"
    }
   ],
   "source": [
    "no_skill = len(y_test[y_test==1]) / len(y_test)\n",
    "fig, axs = plt.subplots(figsize = (8, 5))\n",
    "\n",
    "for name, prob in rf_info:\n",
    "    auc_plot(y_test, prob, name)\n",
    "plt.xlabel('Recall')\n",
    "plt.ylabel('Precision')\n",
    "plt.title('Precision - recall curves for random forest classifiers')\n",
    "plt.plot([0, 1], [no_skill, no_skill], linestyle = '--', label = 'No Skill')\n",
    "plt.annotate(f'(0.00, {no_skill: .2f})',(0, no_skill))\n",
    "plt.legend()\n",
    "plt.savefig('..\\\\reports\\\\figures\\\\rf.png', bbox_inches=\"tight\");"
   ]
  },
  {
   "cell_type": "markdown",
   "id": "5c2769ff",
   "metadata": {},
   "source": [
    "## XGBoost Classifier"
   ]
  },
  {
   "cell_type": "code",
   "execution_count": 64,
   "id": "a327d24f",
   "metadata": {},
   "outputs": [],
   "source": [
    "xg = xgb.XGBClassifier(objective='binary:logistic', use_label_encoder = False, eval_metric = 'logloss', seed= 77)"
   ]
  },
  {
   "cell_type": "code",
   "execution_count": 65,
   "id": "3f5a8af0",
   "metadata": {
    "scrolled": false
   },
   "outputs": [],
   "source": [
    "xg_cv = cv_performance(xg)"
   ]
  },
  {
   "cell_type": "markdown",
   "id": "ce2c83f9",
   "metadata": {},
   "source": [
    "The performance of the XGBoost model is better than the random forest model but worse than the logistic regression model."
   ]
  },
  {
   "cell_type": "code",
   "execution_count": 66,
   "id": "e4942019",
   "metadata": {},
   "outputs": [
    {
     "data": {
      "text/plain": [
       "(0.43268380524360117, 0.024451964443255994)"
      ]
     },
     "execution_count": 66,
     "metadata": {},
     "output_type": "execute_result"
    }
   ],
   "source": [
    "xg_cv_mean, xg_cv_std = cv_mean_std(xg_cv)\n",
    "xg_cv_mean, xg_cv_std"
   ]
  },
  {
   "cell_type": "code",
   "execution_count": 67,
   "id": "2966027e",
   "metadata": {},
   "outputs": [],
   "source": [
    "xg_pred, xg_prob, xg_coef, _ = pred_tree(xg)"
   ]
  },
  {
   "cell_type": "code",
   "execution_count": 68,
   "id": "22c6dbe4",
   "metadata": {},
   "outputs": [
    {
     "data": {
      "text/plain": [
       "0.45733648264504656"
      ]
     },
     "execution_count": 68,
     "metadata": {},
     "output_type": "execute_result"
    }
   ],
   "source": [
    "xg_auc_pr = average_precision_score(y_test, xg_prob)\n",
    "xg_auc_pr"
   ]
  },
  {
   "cell_type": "code",
   "execution_count": 69,
   "id": "23f0b099",
   "metadata": {},
   "outputs": [
    {
     "data": {
      "text/html": [
       "<div>\n",
       "<style scoped>\n",
       "    .dataframe tbody tr th:only-of-type {\n",
       "        vertical-align: middle;\n",
       "    }\n",
       "\n",
       "    .dataframe tbody tr th {\n",
       "        vertical-align: top;\n",
       "    }\n",
       "\n",
       "    .dataframe thead th {\n",
       "        text-align: right;\n",
       "    }\n",
       "</style>\n",
       "<table border=\"1\" class=\"dataframe\">\n",
       "  <thead>\n",
       "    <tr style=\"text-align: right;\">\n",
       "      <th></th>\n",
       "      <th>impurity</th>\n",
       "    </tr>\n",
       "  </thead>\n",
       "  <tbody>\n",
       "    <tr>\n",
       "      <th>noEmployed</th>\n",
       "      <td>0.390820</td>\n",
       "    </tr>\n",
       "    <tr>\n",
       "      <th>lastCampaignOutcome_rr</th>\n",
       "      <td>0.064431</td>\n",
       "    </tr>\n",
       "    <tr>\n",
       "      <th>month_rr</th>\n",
       "      <td>0.026674</td>\n",
       "    </tr>\n",
       "    <tr>\n",
       "      <th>daysLastContacted</th>\n",
       "      <td>0.022545</td>\n",
       "    </tr>\n",
       "    <tr>\n",
       "      <th>month_oct</th>\n",
       "      <td>0.014783</td>\n",
       "    </tr>\n",
       "    <tr>\n",
       "      <th>employmentRate_grp_rr</th>\n",
       "      <td>0.012202</td>\n",
       "    </tr>\n",
       "    <tr>\n",
       "      <th>daysLastContacted_grp_7days</th>\n",
       "      <td>0.011233</td>\n",
       "    </tr>\n",
       "    <tr>\n",
       "      <th>contactType_rr</th>\n",
       "      <td>0.010701</td>\n",
       "    </tr>\n",
       "    <tr>\n",
       "      <th>month_dec</th>\n",
       "      <td>0.010372</td>\n",
       "    </tr>\n",
       "    <tr>\n",
       "      <th>euribor3m</th>\n",
       "      <td>0.010309</td>\n",
       "    </tr>\n",
       "  </tbody>\n",
       "</table>\n",
       "</div>"
      ],
      "text/plain": [
       "                             impurity\n",
       "noEmployed                   0.390820\n",
       "lastCampaignOutcome_rr       0.064431\n",
       "month_rr                     0.026674\n",
       "daysLastContacted            0.022545\n",
       "month_oct                    0.014783\n",
       "employmentRate_grp_rr        0.012202\n",
       "daysLastContacted_grp_7days  0.011233\n",
       "contactType_rr               0.010701\n",
       "month_dec                    0.010372\n",
       "euribor3m                    0.010309"
      ]
     },
     "execution_count": 69,
     "metadata": {},
     "output_type": "execute_result"
    }
   ],
   "source": [
    "xg_features = pd.DataFrame(xg_coef, index = feature_names, columns = ['impurity'])\n",
    "xg_features.reindex(xg_features.impurity.abs().sort_values(ascending = False).index).head(10)"
   ]
  },
  {
   "cell_type": "markdown",
   "id": "40e58b76",
   "metadata": {},
   "source": [
    "## XGBoost with feature selection"
   ]
  },
  {
   "cell_type": "code",
   "execution_count": 70,
   "id": "c8ae26b6",
   "metadata": {},
   "outputs": [],
   "source": [
    "#Instantiate transformer that selects features with impurities greater than the mean impurity\n",
    "selector_xg = SelectFromModel(xg, prefit = False)"
   ]
  },
  {
   "cell_type": "code",
   "execution_count": 71,
   "id": "22550e47",
   "metadata": {},
   "outputs": [],
   "source": [
    "#Instantiate pipeline that select important features and trains a XGBoost model\n",
    "select_xg = Pipeline(steps = [('selector_xg',selector_xg), ('xg', xg)])"
   ]
  },
  {
   "cell_type": "code",
   "execution_count": 72,
   "id": "5c0e1659",
   "metadata": {},
   "outputs": [],
   "source": [
    "#Obtain the 5 fold cross validation performance of model with pre-selected features\n",
    "select_xg_cv = cv_performance(select_xg, kfolds = 5)"
   ]
  },
  {
   "cell_type": "code",
   "execution_count": 73,
   "id": "e8b8cc8f",
   "metadata": {},
   "outputs": [
    {
     "data": {
      "text/plain": [
       "(0.44057151223634267, 0.019304425262752452)"
      ]
     },
     "execution_count": 73,
     "metadata": {},
     "output_type": "execute_result"
    }
   ],
   "source": [
    "#Review mean and standard deviation of logistic regression model with pre-selected features\n",
    "select_xg_cv_mean, select_xg_cv_std = cv_mean_std(select_xg_cv)\n",
    "select_xg_cv_mean, select_xg_cv_std"
   ]
  },
  {
   "cell_type": "code",
   "execution_count": 74,
   "id": "96782bd4",
   "metadata": {},
   "outputs": [],
   "source": [
    "#Obtain predictions, probabilities and coeffificents of logistic regression model with pre-selected features\n",
    "select_xg_pred, select_xg_prob, select_xg_coef, select_xg_mask = pred_tree(clf = select_xg, \\\n",
    "            Xtr = X_train, ytr = y_train, Xte = X_test, pipeline = True, model = 'xg', select = 'selector_xg')"
   ]
  },
  {
   "cell_type": "code",
   "execution_count": 75,
   "id": "b7622c15",
   "metadata": {},
   "outputs": [
    {
     "data": {
      "text/plain": [
       "0.45876740787701087"
      ]
     },
     "execution_count": 75,
     "metadata": {},
     "output_type": "execute_result"
    }
   ],
   "source": [
    "select_xg_auc_pr = average_precision_score(y_test, select_xg_prob)\n",
    "select_xg_auc_pr"
   ]
  },
  {
   "cell_type": "code",
   "execution_count": 76,
   "id": "265b10a5",
   "metadata": {
    "scrolled": true
   },
   "outputs": [
    {
     "data": {
      "text/html": [
       "<div>\n",
       "<style scoped>\n",
       "    .dataframe tbody tr th:only-of-type {\n",
       "        vertical-align: middle;\n",
       "    }\n",
       "\n",
       "    .dataframe tbody tr th {\n",
       "        vertical-align: top;\n",
       "    }\n",
       "\n",
       "    .dataframe thead th {\n",
       "        text-align: right;\n",
       "    }\n",
       "</style>\n",
       "<table border=\"1\" class=\"dataframe\">\n",
       "  <thead>\n",
       "    <tr style=\"text-align: right;\">\n",
       "      <th></th>\n",
       "      <th>impurity</th>\n",
       "    </tr>\n",
       "  </thead>\n",
       "  <tbody>\n",
       "    <tr>\n",
       "      <th>noEmployed</th>\n",
       "      <td>0.648102</td>\n",
       "    </tr>\n",
       "    <tr>\n",
       "      <th>month_rr</th>\n",
       "      <td>0.067980</td>\n",
       "    </tr>\n",
       "    <tr>\n",
       "      <th>daysLastContacted</th>\n",
       "      <td>0.031059</td>\n",
       "    </tr>\n",
       "    <tr>\n",
       "      <th>month_oct</th>\n",
       "      <td>0.030846</td>\n",
       "    </tr>\n",
       "    <tr>\n",
       "      <th>month_apr</th>\n",
       "      <td>0.029191</td>\n",
       "    </tr>\n",
       "    <tr>\n",
       "      <th>employmentRate_grp_rr</th>\n",
       "      <td>0.028116</td>\n",
       "    </tr>\n",
       "    <tr>\n",
       "      <th>lastCampaignOutcome_failure</th>\n",
       "      <td>0.019034</td>\n",
       "    </tr>\n",
       "    <tr>\n",
       "      <th>euribor3m</th>\n",
       "      <td>0.016720</td>\n",
       "    </tr>\n",
       "    <tr>\n",
       "      <th>contactType_rr</th>\n",
       "      <td>0.015942</td>\n",
       "    </tr>\n",
       "    <tr>\n",
       "      <th>lastCampaignOutcome_rr</th>\n",
       "      <td>0.015712</td>\n",
       "    </tr>\n",
       "  </tbody>\n",
       "</table>\n",
       "</div>"
      ],
      "text/plain": [
       "                             impurity\n",
       "noEmployed                   0.648102\n",
       "month_rr                     0.067980\n",
       "daysLastContacted            0.031059\n",
       "month_oct                    0.030846\n",
       "month_apr                    0.029191\n",
       "employmentRate_grp_rr        0.028116\n",
       "lastCampaignOutcome_failure  0.019034\n",
       "euribor3m                    0.016720\n",
       "contactType_rr               0.015942\n",
       "lastCampaignOutcome_rr       0.015712"
      ]
     },
     "execution_count": 76,
     "metadata": {},
     "output_type": "execute_result"
    }
   ],
   "source": [
    "xg_select_features = pd.DataFrame(select_xg_coef, index = feature_names[select_xg_mask], columns = ['impurity'])\n",
    "xg_select_features.reindex(xg_select_features.impurity.abs().sort_values(ascending = False).index).head(10)"
   ]
  },
  {
   "cell_type": "markdown",
   "id": "a0766a3a",
   "metadata": {},
   "source": [
    "## XGBoost with class weights"
   ]
  },
  {
   "cell_type": "code",
   "execution_count": 77,
   "id": "f9af91b5",
   "metadata": {},
   "outputs": [],
   "source": [
    "xg_cw = xgb.XGBClassifier(objective = 'binary:logistic', use_label_encoder = False, eval_metric = 'logloss', scale_pos_weight = 8, seed = 77)"
   ]
  },
  {
   "cell_type": "code",
   "execution_count": 78,
   "id": "bbfb69f9",
   "metadata": {},
   "outputs": [],
   "source": [
    "xg_cw_cv = cv_performance(xg_cw)"
   ]
  },
  {
   "cell_type": "code",
   "execution_count": 79,
   "id": "d8c72191",
   "metadata": {},
   "outputs": [
    {
     "data": {
      "text/plain": [
       "(0.41764596625545075, 0.02122821630435805)"
      ]
     },
     "execution_count": 79,
     "metadata": {},
     "output_type": "execute_result"
    }
   ],
   "source": [
    "xg_cw_cv_mean, xg_cw_cv_std = cv_mean_std(xg_cw_cv)\n",
    "xg_cw_cv_mean, xg_cw_cv_std"
   ]
  },
  {
   "cell_type": "code",
   "execution_count": 80,
   "id": "96fd48ad",
   "metadata": {},
   "outputs": [],
   "source": [
    "xg_cw_pred, xg_cw_prob, xg_cw_coef, _ = pred_tree(xg_cw)"
   ]
  },
  {
   "cell_type": "code",
   "execution_count": 81,
   "id": "6d94f905",
   "metadata": {},
   "outputs": [
    {
     "data": {
      "text/plain": [
       "0.4493580813408267"
      ]
     },
     "execution_count": 81,
     "metadata": {},
     "output_type": "execute_result"
    }
   ],
   "source": [
    "xg_cw_auc_pr = average_precision_score(y_test, xg_cw_prob)\n",
    "xg_cw_auc_pr"
   ]
  },
  {
   "cell_type": "code",
   "execution_count": 82,
   "id": "d4c6231a",
   "metadata": {},
   "outputs": [
    {
     "data": {
      "text/html": [
       "<div>\n",
       "<style scoped>\n",
       "    .dataframe tbody tr th:only-of-type {\n",
       "        vertical-align: middle;\n",
       "    }\n",
       "\n",
       "    .dataframe tbody tr th {\n",
       "        vertical-align: top;\n",
       "    }\n",
       "\n",
       "    .dataframe thead th {\n",
       "        text-align: right;\n",
       "    }\n",
       "</style>\n",
       "<table border=\"1\" class=\"dataframe\">\n",
       "  <thead>\n",
       "    <tr style=\"text-align: right;\">\n",
       "      <th></th>\n",
       "      <th>impurity</th>\n",
       "    </tr>\n",
       "  </thead>\n",
       "  <tbody>\n",
       "    <tr>\n",
       "      <th>noEmployed</th>\n",
       "      <td>0.434847</td>\n",
       "    </tr>\n",
       "    <tr>\n",
       "      <th>month_rr</th>\n",
       "      <td>0.046319</td>\n",
       "    </tr>\n",
       "    <tr>\n",
       "      <th>cci</th>\n",
       "      <td>0.016354</td>\n",
       "    </tr>\n",
       "    <tr>\n",
       "      <th>lastCampaignOutcome_rr</th>\n",
       "      <td>0.014824</td>\n",
       "    </tr>\n",
       "    <tr>\n",
       "      <th>daysLastContacted</th>\n",
       "      <td>0.011964</td>\n",
       "    </tr>\n",
       "    <tr>\n",
       "      <th>contactType_rr</th>\n",
       "      <td>0.010929</td>\n",
       "    </tr>\n",
       "    <tr>\n",
       "      <th>employmentRate_grp_neg2.4_neg1.5</th>\n",
       "      <td>0.010908</td>\n",
       "    </tr>\n",
       "    <tr>\n",
       "      <th>lastCampaignOutcome_failure</th>\n",
       "      <td>0.010143</td>\n",
       "    </tr>\n",
       "    <tr>\n",
       "      <th>noEmployed_grp_5050.1_5140</th>\n",
       "      <td>0.009639</td>\n",
       "    </tr>\n",
       "    <tr>\n",
       "      <th>job_management</th>\n",
       "      <td>0.009581</td>\n",
       "    </tr>\n",
       "  </tbody>\n",
       "</table>\n",
       "</div>"
      ],
      "text/plain": [
       "                                  impurity\n",
       "noEmployed                        0.434847\n",
       "month_rr                          0.046319\n",
       "cci                               0.016354\n",
       "lastCampaignOutcome_rr            0.014824\n",
       "daysLastContacted                 0.011964\n",
       "contactType_rr                    0.010929\n",
       "employmentRate_grp_neg2.4_neg1.5  0.010908\n",
       "lastCampaignOutcome_failure       0.010143\n",
       "noEmployed_grp_5050.1_5140        0.009639\n",
       "job_management                    0.009581"
      ]
     },
     "execution_count": 82,
     "metadata": {},
     "output_type": "execute_result"
    }
   ],
   "source": [
    "xg_cw_features = pd.DataFrame(xg_cw_coef, index = feature_names, columns = ['impurity'])\n",
    "xg_cw_features.reindex(xg_cw_features.impurity.abs().sort_values(ascending = False).index).head(10)"
   ]
  },
  {
   "cell_type": "markdown",
   "id": "875628e6",
   "metadata": {},
   "source": [
    "## XGBoost with hyperparameter tuning"
   ]
  },
  {
   "cell_type": "code",
   "execution_count": 83,
   "id": "699e5fcd",
   "metadata": {},
   "outputs": [],
   "source": [
    "#Define parameters\n",
    "subsample = [0.5, 0.7, 1.0]\n",
    "max_depth = [3, 7, 9]\n",
    "#Define grid search\n",
    "param_grid = dict(subsample = subsample, max_depth = max_depth)\n",
    "xg_search = GridSearchCV(estimator = xg, param_grid = param_grid, cv = 5, scoring='average_precision',error_score=0)\n",
    "xg_search.fit(X_train, y_train);"
   ]
  },
  {
   "cell_type": "code",
   "execution_count": 84,
   "id": "38682a12",
   "metadata": {},
   "outputs": [
    {
     "data": {
      "text/plain": [
       "(0.46068397003152456, 0.016459925994177872)"
      ]
     },
     "execution_count": 84,
     "metadata": {},
     "output_type": "execute_result"
    }
   ],
   "source": [
    "xg_search.best_score_, xg_search.cv_results_['std_test_score'][xg_search.best_index_]"
   ]
  },
  {
   "cell_type": "code",
   "execution_count": 85,
   "id": "457c85f2",
   "metadata": {},
   "outputs": [
    {
     "data": {
      "text/plain": [
       "{'max_depth': 3, 'subsample': 1.0}"
      ]
     },
     "execution_count": 85,
     "metadata": {},
     "output_type": "execute_result"
    }
   ],
   "source": [
    "xg_search.best_params_"
   ]
  },
  {
   "cell_type": "code",
   "execution_count": 86,
   "id": "f1253e60",
   "metadata": {},
   "outputs": [],
   "source": [
    "xg_hyp = xgb.XGBClassifier(objective='binary:logistic', use_label_encoder = False, eval_metric = 'logloss', subsample = 1, max_depth = 3, seed= 77)"
   ]
  },
  {
   "cell_type": "code",
   "execution_count": 87,
   "id": "0f505f07",
   "metadata": {},
   "outputs": [],
   "source": [
    "xg_hyp_pred, xg_hyp_prob, xg_hyp_coef, xg_hyp_mask = pred_tree(xg_hyp)"
   ]
  },
  {
   "cell_type": "code",
   "execution_count": 88,
   "id": "a663ca80",
   "metadata": {},
   "outputs": [
    {
     "data": {
      "text/html": [
       "<div>\n",
       "<style scoped>\n",
       "    .dataframe tbody tr th:only-of-type {\n",
       "        vertical-align: middle;\n",
       "    }\n",
       "\n",
       "    .dataframe tbody tr th {\n",
       "        vertical-align: top;\n",
       "    }\n",
       "\n",
       "    .dataframe thead th {\n",
       "        text-align: right;\n",
       "    }\n",
       "</style>\n",
       "<table border=\"1\" class=\"dataframe\">\n",
       "  <thead>\n",
       "    <tr style=\"text-align: right;\">\n",
       "      <th></th>\n",
       "      <th>impurity</th>\n",
       "    </tr>\n",
       "  </thead>\n",
       "  <tbody>\n",
       "    <tr>\n",
       "      <th>noEmployed</th>\n",
       "      <td>0.399593</td>\n",
       "    </tr>\n",
       "    <tr>\n",
       "      <th>lastCampaignOutcome_rr</th>\n",
       "      <td>0.086378</td>\n",
       "    </tr>\n",
       "    <tr>\n",
       "      <th>month_rr</th>\n",
       "      <td>0.064311</td>\n",
       "    </tr>\n",
       "    <tr>\n",
       "      <th>daysLastContacted</th>\n",
       "      <td>0.028735</td>\n",
       "    </tr>\n",
       "    <tr>\n",
       "      <th>employmentRate</th>\n",
       "      <td>0.022260</td>\n",
       "    </tr>\n",
       "    <tr>\n",
       "      <th>lastCampaignOutcome_failure</th>\n",
       "      <td>0.018553</td>\n",
       "    </tr>\n",
       "    <tr>\n",
       "      <th>month_oct</th>\n",
       "      <td>0.017735</td>\n",
       "    </tr>\n",
       "    <tr>\n",
       "      <th>dayOfWeek_tue</th>\n",
       "      <td>0.016052</td>\n",
       "    </tr>\n",
       "    <tr>\n",
       "      <th>euribor3m</th>\n",
       "      <td>0.014887</td>\n",
       "    </tr>\n",
       "    <tr>\n",
       "      <th>employmentRate_grp_neg0.9_0</th>\n",
       "      <td>0.012689</td>\n",
       "    </tr>\n",
       "  </tbody>\n",
       "</table>\n",
       "</div>"
      ],
      "text/plain": [
       "                             impurity\n",
       "noEmployed                   0.399593\n",
       "lastCampaignOutcome_rr       0.086378\n",
       "month_rr                     0.064311\n",
       "daysLastContacted            0.028735\n",
       "employmentRate               0.022260\n",
       "lastCampaignOutcome_failure  0.018553\n",
       "month_oct                    0.017735\n",
       "dayOfWeek_tue                0.016052\n",
       "euribor3m                    0.014887\n",
       "employmentRate_grp_neg0.9_0  0.012689"
      ]
     },
     "execution_count": 88,
     "metadata": {},
     "output_type": "execute_result"
    }
   ],
   "source": [
    "xg_hyp_features = pd.DataFrame(xg_hyp_coef, index = feature_names, columns = ['impurity'])\n",
    "xg_hyp_features.reindex(xg_hyp_features.impurity.abs().sort_values(ascending = False).index).head(10)"
   ]
  },
  {
   "cell_type": "code",
   "execution_count": 89,
   "id": "673ecda4",
   "metadata": {},
   "outputs": [
    {
     "data": {
      "text/plain": [
       "0.4814558916397618"
      ]
     },
     "execution_count": 89,
     "metadata": {},
     "output_type": "execute_result"
    }
   ],
   "source": [
    "xg_hyp_auc_pr = average_precision_score(y_test, xg_hyp_prob)\n",
    "xg_hyp_auc_pr"
   ]
  },
  {
   "cell_type": "code",
   "execution_count": 90,
   "id": "f3b1fbfa",
   "metadata": {},
   "outputs": [],
   "source": [
    "xg_aucpr_cv_scores = [xg_cv_mean, select_xg_cv_mean, xg_cw_cv_mean, xg_search.best_score_]\n",
    "xg_aucpr_test_scores = [xg_auc_pr, xg_auc_pr, xg_cw_auc_pr, xg_hyp_auc_pr]\n",
    "xg_performance_scores = dict(xg_cv_scores =  xg_aucpr_cv_scores, xg_test_scores = xg_aucpr_test_scores)\n",
    "xg_names = ['xg', 'xg w/ feature selection', 'xg w/ class weights', 'xg w/ tuning hyperparamters']\n",
    "xg_probs = [xg_prob, select_xg_prob, xg_cw_prob, xg_hyp_prob]\n",
    "xg_info = zip(xg_names, xg_probs)"
   ]
  },
  {
   "cell_type": "code",
   "execution_count": 91,
   "id": "eb47a82a",
   "metadata": {},
   "outputs": [
    {
     "data": {
      "text/html": [
       "<div>\n",
       "<style scoped>\n",
       "    .dataframe tbody tr th:only-of-type {\n",
       "        vertical-align: middle;\n",
       "    }\n",
       "\n",
       "    .dataframe tbody tr th {\n",
       "        vertical-align: top;\n",
       "    }\n",
       "\n",
       "    .dataframe thead th {\n",
       "        text-align: right;\n",
       "    }\n",
       "</style>\n",
       "<table border=\"1\" class=\"dataframe\">\n",
       "  <thead>\n",
       "    <tr style=\"text-align: right;\">\n",
       "      <th></th>\n",
       "      <th>xg_cv_scores</th>\n",
       "      <th>xg_test_scores</th>\n",
       "    </tr>\n",
       "  </thead>\n",
       "  <tbody>\n",
       "    <tr>\n",
       "      <th>xg w/ tuning hyperparamters</th>\n",
       "      <td>0.460684</td>\n",
       "      <td>0.481456</td>\n",
       "    </tr>\n",
       "    <tr>\n",
       "      <th>xg w/ feature selection</th>\n",
       "      <td>0.440572</td>\n",
       "      <td>0.457336</td>\n",
       "    </tr>\n",
       "    <tr>\n",
       "      <th>xg</th>\n",
       "      <td>0.432684</td>\n",
       "      <td>0.457336</td>\n",
       "    </tr>\n",
       "    <tr>\n",
       "      <th>xg w/ class weights</th>\n",
       "      <td>0.417646</td>\n",
       "      <td>0.449358</td>\n",
       "    </tr>\n",
       "  </tbody>\n",
       "</table>\n",
       "</div>"
      ],
      "text/plain": [
       "                             xg_cv_scores  xg_test_scores\n",
       "xg w/ tuning hyperparamters      0.460684        0.481456\n",
       "xg w/ feature selection          0.440572        0.457336\n",
       "xg                               0.432684        0.457336\n",
       "xg w/ class weights              0.417646        0.449358"
      ]
     },
     "execution_count": 91,
     "metadata": {},
     "output_type": "execute_result"
    }
   ],
   "source": [
    "xg_perf_df = pd.DataFrame(xg_performance_scores, index = xg_names)\n",
    "xg_perf_df.sort_values(by = 'xg_cv_scores', ascending = False)"
   ]
  },
  {
   "cell_type": "code",
   "execution_count": 92,
   "id": "281f1630",
   "metadata": {
    "scrolled": false
   },
   "outputs": [
    {
     "data": {
      "image/png": "[encoded data removed]",
      "text/plain": [
       "<Figure size 576x360 with 1 Axes>"
      ]
     },
     "metadata": {
      "needs_background": "light"
     },
     "output_type": "display_data"
    }
   ],
   "source": [
    "no_skill = len(y_test[y_test==1]) / len(y_test)\n",
    "fig, axs = plt.subplots(figsize = (8, 5))\n",
    "\n",
    "for name, prob in xg_info:\n",
    "    auc_plot(y_test, prob, name)\n",
    "plt.xlabel('Recall')\n",
    "plt.ylabel('Precision')\n",
    "plt.title('Precision - recall curves for XGBoost classifiers')\n",
    "plt.plot([0, 1], [no_skill, no_skill], linestyle = '--', label = 'No Skill')\n",
    "plt.annotate(f'(0.00, {no_skill: .2f})',(0, no_skill))\n",
    "plt.legend()\n",
    "plt.savefig('..\\\\reports\\\\figures\\\\xg.png', bbox_inches=\"tight\");"
   ]
  },
  {
   "cell_type": "markdown",
   "id": "f1df19f8",
   "metadata": {},
   "source": [
    "## Comparing the best models from each algorithm"
   ]
  },
  {
   "cell_type": "code",
   "execution_count": 93,
   "id": "a96c5c1b",
   "metadata": {},
   "outputs": [],
   "source": [
    "best_aucpr_cv_scores = [logreg_cv_mean, rf_search.best_score_, xg_search.best_score_]\n",
    "best_aucpr_test_scores = [logreg_auc_pr, rf_hyp_auc_pr, xg_hyp_auc_pr]\n",
    "best_performance_scores = dict(cv_scores =  best_aucpr_cv_scores, test_scores = best_aucpr_test_scores)\n",
    "best_models = ['logreg', 'rf w/ hyperparameter tuning', 'xg w/ hyperparameter tuning']\n",
    "best_probs = [logreg_prob, rf_hyp_prob, xg_hyp_prob]\n",
    "models_info = zip(best_models, best_probs)"
   ]
  },
  {
   "cell_type": "code",
   "execution_count": 94,
   "id": "3131c493",
   "metadata": {},
   "outputs": [
    {
     "data": {
      "text/html": [
       "<div>\n",
       "<style scoped>\n",
       "    .dataframe tbody tr th:only-of-type {\n",
       "        vertical-align: middle;\n",
       "    }\n",
       "\n",
       "    .dataframe tbody tr th {\n",
       "        vertical-align: top;\n",
       "    }\n",
       "\n",
       "    .dataframe thead th {\n",
       "        text-align: right;\n",
       "    }\n",
       "</style>\n",
       "<table border=\"1\" class=\"dataframe\">\n",
       "  <thead>\n",
       "    <tr style=\"text-align: right;\">\n",
       "      <th></th>\n",
       "      <th>cv_scores</th>\n",
       "      <th>test_scores</th>\n",
       "    </tr>\n",
       "  </thead>\n",
       "  <tbody>\n",
       "    <tr>\n",
       "      <th>xg w/ hyperparameter tuning</th>\n",
       "      <td>0.460684</td>\n",
       "      <td>0.481456</td>\n",
       "    </tr>\n",
       "    <tr>\n",
       "      <th>logreg</th>\n",
       "      <td>0.453334</td>\n",
       "      <td>0.475513</td>\n",
       "    </tr>\n",
       "    <tr>\n",
       "      <th>rf w/ hyperparameter tuning</th>\n",
       "      <td>0.413167</td>\n",
       "      <td>0.420609</td>\n",
       "    </tr>\n",
       "  </tbody>\n",
       "</table>\n",
       "</div>"
      ],
      "text/plain": [
       "                             cv_scores  test_scores\n",
       "xg w/ hyperparameter tuning   0.460684     0.481456\n",
       "logreg                        0.453334     0.475513\n",
       "rf w/ hyperparameter tuning   0.413167     0.420609"
      ]
     },
     "execution_count": 94,
     "metadata": {},
     "output_type": "execute_result"
    }
   ],
   "source": [
    "best_perf_df = pd.DataFrame(best_performance_scores, index = best_models)\n",
    "best_perf_df.sort_values(by = 'cv_scores', ascending = False)"
   ]
  },
  {
   "cell_type": "code",
   "execution_count": 95,
   "id": "fa1d4302",
   "metadata": {},
   "outputs": [
    {
     "data": {
      "image/png": "[encoded data removed]",
      "text/plain": [
       "<Figure size 576x360 with 1 Axes>"
      ]
     },
     "metadata": {
      "needs_background": "light"
     },
     "output_type": "display_data"
    }
   ],
   "source": [
    "no_skill = len(y_test[y_test==1]) / len(y_test)\n",
    "fig, axs = plt.subplots(figsize = (8, 5))\n",
    "\n",
    "for name, prob in models_info:\n",
    "    auc_plot(y_test, prob, name)\n",
    "plt.xlabel('Recall')\n",
    "plt.ylabel('Precision')\n",
    "plt.title('Precision - recall curves for best classifiers')\n",
    "plt.plot([0, 1], [no_skill, no_skill], linestyle = '--', label = 'No Skill')\n",
    "plt.annotate(f'(0.00, {no_skill: .2f})',(0, no_skill))\n",
    "plt.legend()\n",
    "plt.savefig('..\\\\reports\\\\figures\\\\best.png', bbox_inches=\"tight\");"
   ]
  },
  {
   "cell_type": "markdown",
   "id": "5a634707",
   "metadata": {},
   "source": [
    "It seems the XGBoost with tuned parameters offer the best results."
   ]
  },
  {
   "cell_type": "markdown",
   "id": "7947df67",
   "metadata": {},
   "source": [
    "# Undersampling and Oversampling"
   ]
  },
  {
   "cell_type": "markdown",
   "id": "011f786a",
   "metadata": {},
   "source": [
    "Another technique to deal with the imbalanced nature of our data is to resample the data in such a way that creates an equal number of observations for our target features - in this case, having the same number of clients that said 'yes' and 'no' to the marketing camapagne. The imbalanced nature of our dataset may result in models that are biased towards the majority class due to their comparatively higher numbers. Balancing the dataset may reduce this bias. We accomplish this by either reducing the number of clients in the majority class to equal that of the minority class or increasing the number of clients in the minority class to equal that of the majority class by resampling with replacement. We will try both approaches. We will balance only data in our training set. The test set (as usual) will be used to determine the performance of our balancing techniques."
   ]
  },
  {
   "cell_type": "markdown",
   "id": "f701e4ee",
   "metadata": {},
   "source": [
    "## Random Undersampling (RU)"
   ]
  },
  {
   "cell_type": "markdown",
   "id": "525931f0",
   "metadata": {},
   "source": [
    "In this case, we will randomly select a number of clients in the majority class to equal that of the minority class. "
   ]
  },
  {
   "cell_type": "code",
   "execution_count": 96,
   "id": "d895a7da",
   "metadata": {
    "scrolled": false
   },
   "outputs": [
    {
     "data": {
      "text/html": [
       "<div>\n",
       "<style scoped>\n",
       "    .dataframe tbody tr th:only-of-type {\n",
       "        vertical-align: middle;\n",
       "    }\n",
       "\n",
       "    .dataframe tbody tr th {\n",
       "        vertical-align: top;\n",
       "    }\n",
       "\n",
       "    .dataframe thead th {\n",
       "        text-align: right;\n",
       "    }\n",
       "</style>\n",
       "<table border=\"1\" class=\"dataframe\">\n",
       "  <thead>\n",
       "    <tr style=\"text-align: right;\">\n",
       "      <th></th>\n",
       "      <th>age</th>\n",
       "      <th>currentCampaignContacts</th>\n",
       "      <th>daysLastContacted</th>\n",
       "      <th>previousCampaignContacts</th>\n",
       "      <th>employmentRate</th>\n",
       "      <th>cpi</th>\n",
       "      <th>cci</th>\n",
       "      <th>euribor3m</th>\n",
       "      <th>noEmployed</th>\n",
       "      <th>age_grp_rr</th>\n",
       "      <th>...</th>\n",
       "      <th>cci_grp_neg51_neg46</th>\n",
       "      <th>euribor3m_grp_0.6_1.5</th>\n",
       "      <th>euribor3m_grp_1.501_2.4</th>\n",
       "      <th>euribor3m_grp_2.401_3.3</th>\n",
       "      <th>euribor3m_grp_3.301_4.2</th>\n",
       "      <th>euribor3m_grp_4.201_5.1</th>\n",
       "      <th>noEmployed_grp_4960_5050</th>\n",
       "      <th>noEmployed_grp_5050.1_5140</th>\n",
       "      <th>noEmployed_grp_5140.1_5230</th>\n",
       "      <th>response</th>\n",
       "    </tr>\n",
       "  </thead>\n",
       "  <tbody>\n",
       "    <tr>\n",
       "      <th>0</th>\n",
       "      <td>0.957287</td>\n",
       "      <td>0.156082</td>\n",
       "      <td>0.195329</td>\n",
       "      <td>-0.349869</td>\n",
       "      <td>-0.115984</td>\n",
       "      <td>-0.649037</td>\n",
       "      <td>-0.323487</td>\n",
       "      <td>0.230256</td>\n",
       "      <td>0.397942</td>\n",
       "      <td>-0.526988</td>\n",
       "      <td>...</td>\n",
       "      <td>-0.523788</td>\n",
       "      <td>-0.687229</td>\n",
       "      <td>-0.08305</td>\n",
       "      <td>-0.00697</td>\n",
       "      <td>3.248739</td>\n",
       "      <td>-1.189168</td>\n",
       "      <td>-0.29496</td>\n",
       "      <td>-0.573648</td>\n",
       "      <td>0.698057</td>\n",
       "      <td>0</td>\n",
       "    </tr>\n",
       "    <tr>\n",
       "      <th>1</th>\n",
       "      <td>-1.441852</td>\n",
       "      <td>0.156082</td>\n",
       "      <td>0.195329</td>\n",
       "      <td>-0.349869</td>\n",
       "      <td>0.838905</td>\n",
       "      <td>0.591467</td>\n",
       "      <td>-0.474739</td>\n",
       "      <td>0.771698</td>\n",
       "      <td>0.845115</td>\n",
       "      <td>0.591103</td>\n",
       "      <td>...</td>\n",
       "      <td>-0.523788</td>\n",
       "      <td>-0.687229</td>\n",
       "      <td>-0.08305</td>\n",
       "      <td>-0.00697</td>\n",
       "      <td>-0.307812</td>\n",
       "      <td>0.840924</td>\n",
       "      <td>-0.29496</td>\n",
       "      <td>-0.573648</td>\n",
       "      <td>0.698057</td>\n",
       "      <td>0</td>\n",
       "    </tr>\n",
       "  </tbody>\n",
       "</table>\n",
       "<p>2 rows × 130 columns</p>\n",
       "</div>"
      ],
      "text/plain": [
       "        age  currentCampaignContacts  daysLastContacted  \\\n",
       "0  0.957287                 0.156082           0.195329   \n",
       "1 -1.441852                 0.156082           0.195329   \n",
       "\n",
       "   previousCampaignContacts  employmentRate       cpi       cci  euribor3m  \\\n",
       "0                 -0.349869       -0.115984 -0.649037 -0.323487   0.230256   \n",
       "1                 -0.349869        0.838905  0.591467 -0.474739   0.771698   \n",
       "\n",
       "   noEmployed  age_grp_rr  ...  cci_grp_neg51_neg46  euribor3m_grp_0.6_1.5  \\\n",
       "0    0.397942   -0.526988  ...            -0.523788              -0.687229   \n",
       "1    0.845115    0.591103  ...            -0.523788              -0.687229   \n",
       "\n",
       "   euribor3m_grp_1.501_2.4  euribor3m_grp_2.401_3.3  euribor3m_grp_3.301_4.2  \\\n",
       "0                 -0.08305                 -0.00697                 3.248739   \n",
       "1                 -0.08305                 -0.00697                -0.307812   \n",
       "\n",
       "   euribor3m_grp_4.201_5.1  noEmployed_grp_4960_5050  \\\n",
       "0                -1.189168                  -0.29496   \n",
       "1                 0.840924                  -0.29496   \n",
       "\n",
       "   noEmployed_grp_5050.1_5140  noEmployed_grp_5140.1_5230  response  \n",
       "0                   -0.573648                    0.698057         0  \n",
       "1                   -0.573648                    0.698057         0  \n",
       "\n",
       "[2 rows x 130 columns]"
      ]
     },
     "execution_count": 96,
     "metadata": {},
     "output_type": "execute_result"
    }
   ],
   "source": [
    "#Create scaled dataframe to undersample from \n",
    "df = pd.merge(pd.DataFrame(X_train, columns = feature_names), y_train, left_index = True, right_index = True)\n",
    "df.head(2)"
   ]
  },
  {
   "cell_type": "code",
   "execution_count": 97,
   "id": "ac3d2fb6",
   "metadata": {
    "scrolled": true
   },
   "outputs": [
    {
     "data": {
      "text/plain": [
       "0    19022\n",
       "1     1135\n",
       "Name: response, dtype: int64"
      ]
     },
     "execution_count": 97,
     "metadata": {},
     "output_type": "execute_result"
    }
   ],
   "source": [
    "#Determine number of 'yes' responses as basis to undersample\n",
    "df.response.value_counts()"
   ]
  },
  {
   "cell_type": "code",
   "execution_count": 98,
   "id": "fd71eaf7",
   "metadata": {
    "scrolled": true
   },
   "outputs": [
    {
     "data": {
      "text/html": [
       "<div>\n",
       "<style scoped>\n",
       "    .dataframe tbody tr th:only-of-type {\n",
       "        vertical-align: middle;\n",
       "    }\n",
       "\n",
       "    .dataframe tbody tr th {\n",
       "        vertical-align: top;\n",
       "    }\n",
       "\n",
       "    .dataframe thead th {\n",
       "        text-align: right;\n",
       "    }\n",
       "</style>\n",
       "<table border=\"1\" class=\"dataframe\">\n",
       "  <thead>\n",
       "    <tr style=\"text-align: right;\">\n",
       "      <th></th>\n",
       "      <th>age</th>\n",
       "      <th>currentCampaignContacts</th>\n",
       "      <th>daysLastContacted</th>\n",
       "      <th>previousCampaignContacts</th>\n",
       "      <th>employmentRate</th>\n",
       "      <th>cpi</th>\n",
       "      <th>cci</th>\n",
       "      <th>euribor3m</th>\n",
       "      <th>noEmployed</th>\n",
       "      <th>age_grp_rr</th>\n",
       "      <th>...</th>\n",
       "      <th>cci_grp_neg51_neg46</th>\n",
       "      <th>euribor3m_grp_0.6_1.5</th>\n",
       "      <th>euribor3m_grp_1.501_2.4</th>\n",
       "      <th>euribor3m_grp_2.401_3.3</th>\n",
       "      <th>euribor3m_grp_3.301_4.2</th>\n",
       "      <th>euribor3m_grp_4.201_5.1</th>\n",
       "      <th>noEmployed_grp_4960_5050</th>\n",
       "      <th>noEmployed_grp_5050.1_5140</th>\n",
       "      <th>noEmployed_grp_5140.1_5230</th>\n",
       "      <th>response</th>\n",
       "    </tr>\n",
       "  </thead>\n",
       "  <tbody>\n",
       "    <tr>\n",
       "      <th>14340</th>\n",
       "      <td>0.669391</td>\n",
       "      <td>0.156082</td>\n",
       "      <td>0.195329</td>\n",
       "      <td>-0.349869</td>\n",
       "      <td>0.838905</td>\n",
       "      <td>-0.227473</td>\n",
       "      <td>0.951353</td>\n",
       "      <td>0.775157</td>\n",
       "      <td>0.845115</td>\n",
       "      <td>-0.526988</td>\n",
       "      <td>...</td>\n",
       "      <td>-0.523788</td>\n",
       "      <td>-0.687229</td>\n",
       "      <td>-0.08305</td>\n",
       "      <td>-0.00697</td>\n",
       "      <td>-0.307812</td>\n",
       "      <td>0.840924</td>\n",
       "      <td>-0.294960</td>\n",
       "      <td>-0.573648</td>\n",
       "      <td>0.698057</td>\n",
       "      <td>0</td>\n",
       "    </tr>\n",
       "    <tr>\n",
       "      <th>15925</th>\n",
       "      <td>1.149219</td>\n",
       "      <td>-0.204866</td>\n",
       "      <td>0.195329</td>\n",
       "      <td>-0.349869</td>\n",
       "      <td>-1.198192</td>\n",
       "      <td>-1.179448</td>\n",
       "      <td>-1.231000</td>\n",
       "      <td>-1.307575</td>\n",
       "      <td>-0.940808</td>\n",
       "      <td>-0.104129</td>\n",
       "      <td>...</td>\n",
       "      <td>1.909170</td>\n",
       "      <td>1.455119</td>\n",
       "      <td>-0.08305</td>\n",
       "      <td>-0.00697</td>\n",
       "      <td>-0.307812</td>\n",
       "      <td>-1.189168</td>\n",
       "      <td>-0.294960</td>\n",
       "      <td>1.743230</td>\n",
       "      <td>-1.432548</td>\n",
       "      <td>1</td>\n",
       "    </tr>\n",
       "    <tr>\n",
       "      <th>14574</th>\n",
       "      <td>-1.249921</td>\n",
       "      <td>-0.565814</td>\n",
       "      <td>0.195329</td>\n",
       "      <td>-0.349869</td>\n",
       "      <td>-1.198192</td>\n",
       "      <td>-0.865002</td>\n",
       "      <td>-1.425467</td>\n",
       "      <td>-1.224542</td>\n",
       "      <td>-0.940808</td>\n",
       "      <td>0.591103</td>\n",
       "      <td>...</td>\n",
       "      <td>1.909170</td>\n",
       "      <td>1.455119</td>\n",
       "      <td>-0.08305</td>\n",
       "      <td>-0.00697</td>\n",
       "      <td>-0.307812</td>\n",
       "      <td>-1.189168</td>\n",
       "      <td>-0.294960</td>\n",
       "      <td>1.743230</td>\n",
       "      <td>-1.432548</td>\n",
       "      <td>0</td>\n",
       "    </tr>\n",
       "    <tr>\n",
       "      <th>24032</th>\n",
       "      <td>-0.290265</td>\n",
       "      <td>-0.204866</td>\n",
       "      <td>0.195329</td>\n",
       "      <td>-0.349869</td>\n",
       "      <td>0.838905</td>\n",
       "      <td>-0.227473</td>\n",
       "      <td>0.951353</td>\n",
       "      <td>0.777464</td>\n",
       "      <td>0.845115</td>\n",
       "      <td>-0.258807</td>\n",
       "      <td>...</td>\n",
       "      <td>-0.523788</td>\n",
       "      <td>-0.687229</td>\n",
       "      <td>-0.08305</td>\n",
       "      <td>-0.00697</td>\n",
       "      <td>-0.307812</td>\n",
       "      <td>0.840924</td>\n",
       "      <td>-0.294960</td>\n",
       "      <td>-0.573648</td>\n",
       "      <td>0.698057</td>\n",
       "      <td>1</td>\n",
       "    </tr>\n",
       "    <tr>\n",
       "      <th>14618</th>\n",
       "      <td>-0.482196</td>\n",
       "      <td>-0.565814</td>\n",
       "      <td>-5.130277</td>\n",
       "      <td>3.700015</td>\n",
       "      <td>-2.216741</td>\n",
       "      <td>-1.977655</td>\n",
       "      <td>2.939239</td>\n",
       "      <td>-1.653544</td>\n",
       "      <td>-2.070509</td>\n",
       "      <td>-0.258807</td>\n",
       "      <td>...</td>\n",
       "      <td>-0.523788</td>\n",
       "      <td>1.455119</td>\n",
       "      <td>-0.08305</td>\n",
       "      <td>-0.00697</td>\n",
       "      <td>-0.307812</td>\n",
       "      <td>-1.189168</td>\n",
       "      <td>3.390292</td>\n",
       "      <td>-0.573648</td>\n",
       "      <td>-1.432548</td>\n",
       "      <td>1</td>\n",
       "    </tr>\n",
       "  </tbody>\n",
       "</table>\n",
       "<p>5 rows × 130 columns</p>\n",
       "</div>"
      ],
      "text/plain": [
       "            age  currentCampaignContacts  daysLastContacted  \\\n",
       "14340  0.669391                 0.156082           0.195329   \n",
       "15925  1.149219                -0.204866           0.195329   \n",
       "14574 -1.249921                -0.565814           0.195329   \n",
       "24032 -0.290265                -0.204866           0.195329   \n",
       "14618 -0.482196                -0.565814          -5.130277   \n",
       "\n",
       "       previousCampaignContacts  employmentRate       cpi       cci  \\\n",
       "14340                 -0.349869        0.838905 -0.227473  0.951353   \n",
       "15925                 -0.349869       -1.198192 -1.179448 -1.231000   \n",
       "14574                 -0.349869       -1.198192 -0.865002 -1.425467   \n",
       "24032                 -0.349869        0.838905 -0.227473  0.951353   \n",
       "14618                  3.700015       -2.216741 -1.977655  2.939239   \n",
       "\n",
       "       euribor3m  noEmployed  age_grp_rr  ...  cci_grp_neg51_neg46  \\\n",
       "14340   0.775157    0.845115   -0.526988  ...            -0.523788   \n",
       "15925  -1.307575   -0.940808   -0.104129  ...             1.909170   \n",
       "14574  -1.224542   -0.940808    0.591103  ...             1.909170   \n",
       "24032   0.777464    0.845115   -0.258807  ...            -0.523788   \n",
       "14618  -1.653544   -2.070509   -0.258807  ...            -0.523788   \n",
       "\n",
       "       euribor3m_grp_0.6_1.5  euribor3m_grp_1.501_2.4  \\\n",
       "14340              -0.687229                 -0.08305   \n",
       "15925               1.455119                 -0.08305   \n",
       "14574               1.455119                 -0.08305   \n",
       "24032              -0.687229                 -0.08305   \n",
       "14618               1.455119                 -0.08305   \n",
       "\n",
       "       euribor3m_grp_2.401_3.3  euribor3m_grp_3.301_4.2  \\\n",
       "14340                 -0.00697                -0.307812   \n",
       "15925                 -0.00697                -0.307812   \n",
       "14574                 -0.00697                -0.307812   \n",
       "24032                 -0.00697                -0.307812   \n",
       "14618                 -0.00697                -0.307812   \n",
       "\n",
       "       euribor3m_grp_4.201_5.1  noEmployed_grp_4960_5050  \\\n",
       "14340                 0.840924                 -0.294960   \n",
       "15925                -1.189168                 -0.294960   \n",
       "14574                -1.189168                 -0.294960   \n",
       "24032                 0.840924                 -0.294960   \n",
       "14618                -1.189168                  3.390292   \n",
       "\n",
       "       noEmployed_grp_5050.1_5140  noEmployed_grp_5140.1_5230  response  \n",
       "14340                   -0.573648                    0.698057         0  \n",
       "15925                    1.743230                   -1.432548         1  \n",
       "14574                    1.743230                   -1.432548         0  \n",
       "24032                   -0.573648                    0.698057         1  \n",
       "14618                   -0.573648                   -1.432548         1  \n",
       "\n",
       "[5 rows x 130 columns]"
      ]
     },
     "execution_count": 98,
     "metadata": {},
     "output_type": "execute_result"
    }
   ],
   "source": [
    "# Shuffle data\n",
    "df_shuffled = df.sample(frac=1)\n",
    "\n",
    "# Create subsamples for 'yes' class, which is 1134 rows.\n",
    "yes_df = df_shuffled.loc[df_shuffled.response == 1]\n",
    "no_df = df_shuffled.loc[df_shuffled.response == 0][:1134]\n",
    "\n",
    "normal_df = pd.concat([yes_df, no_df])\n",
    "\n",
    "# Shuffle dataframe rows\n",
    "df_undersampled = normal_df.sample(frac=1, random_state= 77)\n",
    "\n",
    "df_undersampled.head()"
   ]
  },
  {
   "cell_type": "code",
   "execution_count": 99,
   "id": "7e514696",
   "metadata": {
    "scrolled": false
   },
   "outputs": [
    {
     "data": {
      "text/plain": [
       "1    1135\n",
       "0    1134\n",
       "Name: response, dtype: int64"
      ]
     },
     "execution_count": 99,
     "metadata": {},
     "output_type": "execute_result"
    }
   ],
   "source": [
    "#Check distribution of response\n",
    "df_undersampled.response.value_counts()"
   ]
  },
  {
   "cell_type": "code",
   "execution_count": 100,
   "id": "ecb9a182",
   "metadata": {},
   "outputs": [],
   "source": [
    "#Create X_train and y_train for undersampled dataframe\n",
    "X_train_undersampled = df_undersampled.drop(columns = ['response'])\n",
    "y_train_undersampled = df_undersampled.response.values.ravel()"
   ]
  },
  {
   "cell_type": "markdown",
   "id": "c2776658",
   "metadata": {},
   "source": [
    "### Train Models on Undersampled Dataframe And Assess Performance"
   ]
  },
  {
   "cell_type": "code",
   "execution_count": 101,
   "id": "a7485d00",
   "metadata": {},
   "outputs": [],
   "source": [
    "ru_logreg_cv = cv_performance(logreg, feature = X_train_undersampled, target = y_train_undersampled)\n",
    "ru_rf_hyp_cv = cv_performance(rf_hyp, feature = X_train_undersampled, target = y_train_undersampled)\n",
    "ru_xg_hyp_cv = cv_performance(xg_hyp, feature = X_train_undersampled, target = y_train_undersampled)"
   ]
  },
  {
   "cell_type": "code",
   "execution_count": 102,
   "id": "86edd6ab",
   "metadata": {},
   "outputs": [],
   "source": [
    "ru_logreg_cv_mean, ru_logreg_cv_std = cv_mean_std(ru_logreg_cv)\n",
    "ru_rf_hyp_cv_mean, ru_rf_cv_std = cv_mean_std(ru_rf_hyp_cv)\n",
    "ru_xg_hyp_cv_mean, ru_xg_hyp_cv_std = cv_mean_std(ru_xg_hyp_cv)"
   ]
  },
  {
   "cell_type": "code",
   "execution_count": 103,
   "id": "80254180",
   "metadata": {},
   "outputs": [],
   "source": [
    "ru_logreg_pred, ru_logreg_prob, ru_logreg_coef, _ = pred(logreg, Xtr = X_train_undersampled, ytr = y_train_undersampled)\n",
    "ru_rf_hyp_pred, ru_rf_hyp_prob, ru_rf_hyp_coef, _ = pred_tree(rf_hyp, Xtr = X_train_undersampled, ytr = y_train_undersampled)\n",
    "ru_xg_hyp_pred, ru_xg_hyp_prob, ru_xg_hyp_coef, _ = pred_tree(xg_hyp, Xtr = X_train_undersampled, ytr = y_train_undersampled)"
   ]
  },
  {
   "cell_type": "code",
   "execution_count": 104,
   "id": "13393e4a",
   "metadata": {},
   "outputs": [],
   "source": [
    "ru_logreg_auc_pr = average_precision_score(y_test, ru_logreg_prob)\n",
    "ru_rf_hyp_auc_pr = average_precision_score(y_test, ru_rf_hyp_prob)\n",
    "ru_xg_hyp_auc_pr = average_precision_score(y_test, ru_xg_hyp_prob)"
   ]
  },
  {
   "cell_type": "code",
   "execution_count": 105,
   "id": "3e4a34b6",
   "metadata": {},
   "outputs": [],
   "source": [
    "ru_aucpr_cv_scores = [ru_logreg_cv_mean, ru_rf_hyp_cv_mean, ru_xg_hyp_cv_mean]\n",
    "ru_aucpr_test_scores = [ru_logreg_auc_pr, ru_rf_hyp_auc_pr, ru_xg_hyp_auc_pr]\n",
    "ru_performance_scores = dict(ru_cv_scores =  ru_aucpr_cv_scores, ru_test_scores = ru_aucpr_test_scores)\n",
    "ru_probs = [ru_logreg_prob, ru_rf_hyp_prob, ru_xg_hyp_prob]\n",
    "ru_info = zip(best_models, ru_probs)"
   ]
  },
  {
   "cell_type": "code",
   "execution_count": 106,
   "id": "4e7dbf77",
   "metadata": {},
   "outputs": [
    {
     "data": {
      "text/html": [
       "<div>\n",
       "<style scoped>\n",
       "    .dataframe tbody tr th:only-of-type {\n",
       "        vertical-align: middle;\n",
       "    }\n",
       "\n",
       "    .dataframe tbody tr th {\n",
       "        vertical-align: top;\n",
       "    }\n",
       "\n",
       "    .dataframe thead th {\n",
       "        text-align: right;\n",
       "    }\n",
       "</style>\n",
       "<table border=\"1\" class=\"dataframe\">\n",
       "  <thead>\n",
       "    <tr style=\"text-align: right;\">\n",
       "      <th></th>\n",
       "      <th>ru_cv_scores</th>\n",
       "      <th>ru_test_scores</th>\n",
       "    </tr>\n",
       "  </thead>\n",
       "  <tbody>\n",
       "    <tr>\n",
       "      <th>logreg</th>\n",
       "      <td>0.519437</td>\n",
       "      <td>0.139163</td>\n",
       "    </tr>\n",
       "    <tr>\n",
       "      <th>xg w/ hyperparameter tuning</th>\n",
       "      <td>0.505656</td>\n",
       "      <td>0.138683</td>\n",
       "    </tr>\n",
       "    <tr>\n",
       "      <th>rf w/ hyperparameter tuning</th>\n",
       "      <td>0.518432</td>\n",
       "      <td>0.111726</td>\n",
       "    </tr>\n",
       "  </tbody>\n",
       "</table>\n",
       "</div>"
      ],
      "text/plain": [
       "                             ru_cv_scores  ru_test_scores\n",
       "logreg                           0.519437        0.139163\n",
       "xg w/ hyperparameter tuning      0.505656        0.138683\n",
       "rf w/ hyperparameter tuning      0.518432        0.111726"
      ]
     },
     "execution_count": 106,
     "metadata": {},
     "output_type": "execute_result"
    }
   ],
   "source": [
    "ru_perf_df = pd.DataFrame(ru_performance_scores, index = best_models)\n",
    "ru_perf_df.sort_values(by = 'ru_test_scores', ascending = False)"
   ]
  },
  {
   "cell_type": "code",
   "execution_count": 107,
   "id": "0c4748cf",
   "metadata": {},
   "outputs": [
    {
     "data": {
      "image/png": "[encoded data removed]",
      "text/plain": [
       "<Figure size 864x648 with 1 Axes>"
      ]
     },
     "metadata": {
      "needs_background": "light"
     },
     "output_type": "display_data"
    }
   ],
   "source": [
    "no_skill = len(y_test[y_test==1]) / len(y_test)\n",
    "fig, axs = plt.subplots(figsize = (12, 9))\n",
    "\n",
    "for name, prob in ru_info:\n",
    "    auc_plot(y_test, prob, name)\n",
    "plt.xlabel('Recall')\n",
    "plt.ylabel('Precision')\n",
    "plt.title('Precision - recall curves for best classifiers with random undersampling')\n",
    "plt.plot([0, 1], [no_skill, no_skill], linestyle = '--', label = 'No Skill')\n",
    "plt.annotate(f'(0.00, {no_skill: .2f})',(0, no_skill))\n",
    "plt.legend();"
   ]
  },
  {
   "cell_type": "markdown",
   "id": "06b155b9",
   "metadata": {},
   "source": [
    "The undersampled models performed well on the training set, but substantially worse on the test set. This implies that the models created by undersampled data is significantly different from those created by the more representative dataset."
   ]
  },
  {
   "cell_type": "markdown",
   "id": "226cc69f",
   "metadata": {},
   "source": [
    "## Random Oversampling (RO)"
   ]
  },
  {
   "cell_type": "markdown",
   "id": "44035967",
   "metadata": {},
   "source": [
    "In this case, we will oversample the minority class to equal the number of clients in the majority class."
   ]
  },
  {
   "cell_type": "code",
   "execution_count": 108,
   "id": "7287bf4c",
   "metadata": {
    "scrolled": true
   },
   "outputs": [
    {
     "data": {
      "text/plain": [
       "0    19022\n",
       "1     1135\n",
       "Name: response, dtype: int64"
      ]
     },
     "execution_count": 108,
     "metadata": {},
     "output_type": "execute_result"
    }
   ],
   "source": [
    "#Determine number of 'yes' and 'no' responses as basis to oversample\n",
    "df.response.value_counts()"
   ]
  },
  {
   "cell_type": "markdown",
   "id": "899491f4",
   "metadata": {},
   "source": [
    "We need 19,045 samples of the 'yes' class."
   ]
  },
  {
   "cell_type": "code",
   "execution_count": 109,
   "id": "c23a2ba1",
   "metadata": {},
   "outputs": [
    {
     "data": {
      "text/html": [
       "<div>\n",
       "<style scoped>\n",
       "    .dataframe tbody tr th:only-of-type {\n",
       "        vertical-align: middle;\n",
       "    }\n",
       "\n",
       "    .dataframe tbody tr th {\n",
       "        vertical-align: top;\n",
       "    }\n",
       "\n",
       "    .dataframe thead th {\n",
       "        text-align: right;\n",
       "    }\n",
       "</style>\n",
       "<table border=\"1\" class=\"dataframe\">\n",
       "  <thead>\n",
       "    <tr style=\"text-align: right;\">\n",
       "      <th></th>\n",
       "      <th>age</th>\n",
       "      <th>currentCampaignContacts</th>\n",
       "      <th>daysLastContacted</th>\n",
       "      <th>previousCampaignContacts</th>\n",
       "      <th>employmentRate</th>\n",
       "      <th>cpi</th>\n",
       "      <th>cci</th>\n",
       "      <th>euribor3m</th>\n",
       "      <th>noEmployed</th>\n",
       "      <th>age_grp_rr</th>\n",
       "      <th>...</th>\n",
       "      <th>cci_grp_neg51_neg46</th>\n",
       "      <th>euribor3m_grp_0.6_1.5</th>\n",
       "      <th>euribor3m_grp_1.501_2.4</th>\n",
       "      <th>euribor3m_grp_2.401_3.3</th>\n",
       "      <th>euribor3m_grp_3.301_4.2</th>\n",
       "      <th>euribor3m_grp_4.201_5.1</th>\n",
       "      <th>noEmployed_grp_4960_5050</th>\n",
       "      <th>noEmployed_grp_5050.1_5140</th>\n",
       "      <th>noEmployed_grp_5140.1_5230</th>\n",
       "      <th>response</th>\n",
       "    </tr>\n",
       "  </thead>\n",
       "  <tbody>\n",
       "    <tr>\n",
       "      <th>24037</th>\n",
       "      <td>-0.674127</td>\n",
       "      <td>-0.565814</td>\n",
       "      <td>0.195329</td>\n",
       "      <td>-0.349869</td>\n",
       "      <td>-1.198192</td>\n",
       "      <td>-0.865002</td>\n",
       "      <td>-1.425467</td>\n",
       "      <td>-1.275285</td>\n",
       "      <td>-0.940808</td>\n",
       "      <td>-0.258807</td>\n",
       "      <td>...</td>\n",
       "      <td>1.909170</td>\n",
       "      <td>1.455119</td>\n",
       "      <td>-0.08305</td>\n",
       "      <td>-0.00697</td>\n",
       "      <td>-0.307812</td>\n",
       "      <td>-1.189168</td>\n",
       "      <td>-0.29496</td>\n",
       "      <td>1.743230</td>\n",
       "      <td>-1.432548</td>\n",
       "      <td>1</td>\n",
       "    </tr>\n",
       "    <tr>\n",
       "      <th>9841</th>\n",
       "      <td>0.477460</td>\n",
       "      <td>-0.565814</td>\n",
       "      <td>0.195329</td>\n",
       "      <td>-0.349869</td>\n",
       "      <td>0.647927</td>\n",
       "      <td>0.722774</td>\n",
       "      <td>0.886530</td>\n",
       "      <td>0.711153</td>\n",
       "      <td>0.331489</td>\n",
       "      <td>-0.526988</td>\n",
       "      <td>...</td>\n",
       "      <td>-0.523788</td>\n",
       "      <td>-0.687229</td>\n",
       "      <td>-0.08305</td>\n",
       "      <td>-0.00697</td>\n",
       "      <td>-0.307812</td>\n",
       "      <td>0.840924</td>\n",
       "      <td>-0.29496</td>\n",
       "      <td>-0.573648</td>\n",
       "      <td>0.698057</td>\n",
       "      <td>1</td>\n",
       "    </tr>\n",
       "    <tr>\n",
       "      <th>27973</th>\n",
       "      <td>-0.290265</td>\n",
       "      <td>-0.565814</td>\n",
       "      <td>0.195329</td>\n",
       "      <td>-0.349869</td>\n",
       "      <td>-1.198192</td>\n",
       "      <td>-1.179448</td>\n",
       "      <td>-1.231000</td>\n",
       "      <td>-1.371003</td>\n",
       "      <td>-0.940808</td>\n",
       "      <td>-0.258807</td>\n",
       "      <td>...</td>\n",
       "      <td>1.909170</td>\n",
       "      <td>1.455119</td>\n",
       "      <td>-0.08305</td>\n",
       "      <td>-0.00697</td>\n",
       "      <td>-0.307812</td>\n",
       "      <td>-1.189168</td>\n",
       "      <td>-0.29496</td>\n",
       "      <td>1.743230</td>\n",
       "      <td>-1.432548</td>\n",
       "      <td>1</td>\n",
       "    </tr>\n",
       "    <tr>\n",
       "      <th>2511</th>\n",
       "      <td>-1.345886</td>\n",
       "      <td>-0.565814</td>\n",
       "      <td>0.195329</td>\n",
       "      <td>1.675073</td>\n",
       "      <td>-1.198192</td>\n",
       "      <td>-1.179448</td>\n",
       "      <td>-1.231000</td>\n",
       "      <td>-1.367543</td>\n",
       "      <td>-0.940808</td>\n",
       "      <td>0.591103</td>\n",
       "      <td>...</td>\n",
       "      <td>1.909170</td>\n",
       "      <td>1.455119</td>\n",
       "      <td>-0.08305</td>\n",
       "      <td>-0.00697</td>\n",
       "      <td>-0.307812</td>\n",
       "      <td>-1.189168</td>\n",
       "      <td>-0.29496</td>\n",
       "      <td>1.743230</td>\n",
       "      <td>-1.432548</td>\n",
       "      <td>0</td>\n",
       "    </tr>\n",
       "    <tr>\n",
       "      <th>18116</th>\n",
       "      <td>-0.290265</td>\n",
       "      <td>-0.565814</td>\n",
       "      <td>0.195329</td>\n",
       "      <td>-0.349869</td>\n",
       "      <td>-0.115984</td>\n",
       "      <td>-0.649037</td>\n",
       "      <td>-0.323487</td>\n",
       "      <td>0.261970</td>\n",
       "      <td>0.397942</td>\n",
       "      <td>-0.258807</td>\n",
       "      <td>...</td>\n",
       "      <td>-0.523788</td>\n",
       "      <td>-0.687229</td>\n",
       "      <td>-0.08305</td>\n",
       "      <td>-0.00697</td>\n",
       "      <td>3.248739</td>\n",
       "      <td>-1.189168</td>\n",
       "      <td>-0.29496</td>\n",
       "      <td>-0.573648</td>\n",
       "      <td>0.698057</td>\n",
       "      <td>1</td>\n",
       "    </tr>\n",
       "  </tbody>\n",
       "</table>\n",
       "<p>5 rows × 130 columns</p>\n",
       "</div>"
      ],
      "text/plain": [
       "            age  currentCampaignContacts  daysLastContacted  \\\n",
       "24037 -0.674127                -0.565814           0.195329   \n",
       "9841   0.477460                -0.565814           0.195329   \n",
       "27973 -0.290265                -0.565814           0.195329   \n",
       "2511  -1.345886                -0.565814           0.195329   \n",
       "18116 -0.290265                -0.565814           0.195329   \n",
       "\n",
       "       previousCampaignContacts  employmentRate       cpi       cci  \\\n",
       "24037                 -0.349869       -1.198192 -0.865002 -1.425467   \n",
       "9841                  -0.349869        0.647927  0.722774  0.886530   \n",
       "27973                 -0.349869       -1.198192 -1.179448 -1.231000   \n",
       "2511                   1.675073       -1.198192 -1.179448 -1.231000   \n",
       "18116                 -0.349869       -0.115984 -0.649037 -0.323487   \n",
       "\n",
       "       euribor3m  noEmployed  age_grp_rr  ...  cci_grp_neg51_neg46  \\\n",
       "24037  -1.275285   -0.940808   -0.258807  ...             1.909170   \n",
       "9841    0.711153    0.331489   -0.526988  ...            -0.523788   \n",
       "27973  -1.371003   -0.940808   -0.258807  ...             1.909170   \n",
       "2511   -1.367543   -0.940808    0.591103  ...             1.909170   \n",
       "18116   0.261970    0.397942   -0.258807  ...            -0.523788   \n",
       "\n",
       "       euribor3m_grp_0.6_1.5  euribor3m_grp_1.501_2.4  \\\n",
       "24037               1.455119                 -0.08305   \n",
       "9841               -0.687229                 -0.08305   \n",
       "27973               1.455119                 -0.08305   \n",
       "2511                1.455119                 -0.08305   \n",
       "18116              -0.687229                 -0.08305   \n",
       "\n",
       "       euribor3m_grp_2.401_3.3  euribor3m_grp_3.301_4.2  \\\n",
       "24037                 -0.00697                -0.307812   \n",
       "9841                  -0.00697                -0.307812   \n",
       "27973                 -0.00697                -0.307812   \n",
       "2511                  -0.00697                -0.307812   \n",
       "18116                 -0.00697                 3.248739   \n",
       "\n",
       "       euribor3m_grp_4.201_5.1  noEmployed_grp_4960_5050  \\\n",
       "24037                -1.189168                  -0.29496   \n",
       "9841                  0.840924                  -0.29496   \n",
       "27973                -1.189168                  -0.29496   \n",
       "2511                 -1.189168                  -0.29496   \n",
       "18116                -1.189168                  -0.29496   \n",
       "\n",
       "       noEmployed_grp_5050.1_5140  noEmployed_grp_5140.1_5230  response  \n",
       "24037                    1.743230                   -1.432548         1  \n",
       "9841                    -0.573648                    0.698057         1  \n",
       "27973                    1.743230                   -1.432548         1  \n",
       "2511                     1.743230                   -1.432548         0  \n",
       "18116                   -0.573648                    0.698057         1  \n",
       "\n",
       "[5 rows x 130 columns]"
      ]
     },
     "execution_count": 109,
     "metadata": {},
     "output_type": "execute_result"
    }
   ],
   "source": [
    "# Shuffle data\n",
    "df_shuffled_over = df.sample(frac=1)\n",
    "\n",
    "# Create subsamples for 'yes' class, which is 1134 rows.\n",
    "yes_df_over = df_shuffled_over.loc[df_shuffled_over.response == 1].sample(n = 19045, replace = True)\n",
    "no_df_over = df_shuffled_over.loc[df_shuffled_over.response == 0]\n",
    "\n",
    "normal_df_over = pd.concat([yes_df_over, no_df_over])\n",
    "\n",
    "# Shuffle dataframe rows\n",
    "df_oversampled = normal_df_over.sample(frac=1, random_state= 77)\n",
    "\n",
    "df_oversampled.head()"
   ]
  },
  {
   "cell_type": "code",
   "execution_count": 110,
   "id": "26740564",
   "metadata": {
    "scrolled": true
   },
   "outputs": [
    {
     "data": {
      "text/plain": [
       "1    19045\n",
       "0    19022\n",
       "Name: response, dtype: int64"
      ]
     },
     "execution_count": 110,
     "metadata": {},
     "output_type": "execute_result"
    }
   ],
   "source": [
    "#Check distribution of response\n",
    "df_oversampled.response.value_counts()"
   ]
  },
  {
   "cell_type": "code",
   "execution_count": 111,
   "id": "3f0e6f72",
   "metadata": {},
   "outputs": [],
   "source": [
    "#Create X_train and y_train for undersampled dataframe\n",
    "X_train_oversampled = df_oversampled.drop(columns = ['response'])\n",
    "y_train_oversampled = df_oversampled.response.values.ravel()"
   ]
  },
  {
   "cell_type": "markdown",
   "id": "f818eed1",
   "metadata": {},
   "source": [
    "### Train Models on Oversampled Dataframe And Assess Performance\n"
   ]
  },
  {
   "cell_type": "code",
   "execution_count": 112,
   "id": "0a602277",
   "metadata": {},
   "outputs": [],
   "source": [
    "ro_logreg_cv = cv_performance(logreg, feature = X_train_oversampled, target = y_train_oversampled)\n",
    "ro_rf_hyp_cv = cv_performance(rf_hyp, feature = X_train_oversampled, target = y_train_oversampled)\n",
    "ro_xg_hyp_cv = cv_performance(xg_hyp, feature = X_train_oversampled, target = y_train_oversampled)"
   ]
  },
  {
   "cell_type": "code",
   "execution_count": 113,
   "id": "801896ba",
   "metadata": {},
   "outputs": [],
   "source": [
    "ro_logreg_cv_mean, _ = cv_mean_std(ro_logreg_cv)\n",
    "ro_rf_hyp_cv_mean, _ = cv_mean_std(ro_rf_hyp_cv)\n",
    "ro_xg_hyp_cv_mean, _ = cv_mean_std(ro_xg_hyp_cv)"
   ]
  },
  {
   "cell_type": "code",
   "execution_count": 114,
   "id": "a1812eb3",
   "metadata": {},
   "outputs": [],
   "source": [
    "ro_logreg_pred, ro_logreg_prob, ro_logreg_coef, _ = pred(logreg, Xtr = X_train_oversampled, ytr = y_train_oversampled)\n",
    "ro_rf_hyp_pred, ro_rf_hyp_prob, ro_rf_hyp_coef, _ = pred_tree(rf_hyp, Xtr = X_train_oversampled, ytr = y_train_oversampled)\n",
    "ro_xg_hyp_pred, ro_xg_hyp_prob, ro_xg_hyp_coef, _ = pred_tree(xg_hyp, Xtr = X_train_oversampled, ytr = y_train_oversampled)"
   ]
  },
  {
   "cell_type": "code",
   "execution_count": 115,
   "id": "741a12e1",
   "metadata": {},
   "outputs": [],
   "source": [
    "ro_logreg_auc_pr = average_precision_score(y_test, ro_logreg_prob)\n",
    "ro_rf_hyp_auc_pr = average_precision_score(y_test, ro_rf_hyp_prob)\n",
    "ro_xg_hyp_auc_pr = average_precision_score(y_test, ro_xg_hyp_prob)"
   ]
  },
  {
   "cell_type": "code",
   "execution_count": 116,
   "id": "571feff1",
   "metadata": {},
   "outputs": [],
   "source": [
    "ro_aucpr_cv_scores = [ro_logreg_cv_mean, ro_rf_hyp_cv_mean, ro_xg_hyp_cv_mean]\n",
    "ro_aucpr_test_scores = [ro_logreg_auc_pr, ro_rf_hyp_auc_pr, ro_xg_hyp_auc_pr]\n",
    "ro_performance_scores = dict(ro_cv_scores =  ro_aucpr_cv_scores, ro_test_scores = ro_aucpr_test_scores)\n",
    "ro_probs = [ro_logreg_prob, ro_rf_hyp_prob, ro_xg_hyp_prob]\n",
    "ro_info = zip(best_models, ro_probs)"
   ]
  },
  {
   "cell_type": "code",
   "execution_count": 117,
   "id": "a3925174",
   "metadata": {},
   "outputs": [
    {
     "data": {
      "text/html": [
       "<div>\n",
       "<style scoped>\n",
       "    .dataframe tbody tr th:only-of-type {\n",
       "        vertical-align: middle;\n",
       "    }\n",
       "\n",
       "    .dataframe tbody tr th {\n",
       "        vertical-align: top;\n",
       "    }\n",
       "\n",
       "    .dataframe thead th {\n",
       "        text-align: right;\n",
       "    }\n",
       "</style>\n",
       "<table border=\"1\" class=\"dataframe\">\n",
       "  <thead>\n",
       "    <tr style=\"text-align: right;\">\n",
       "      <th></th>\n",
       "      <th>ro_cv_scores</th>\n",
       "      <th>ro_test_scores</th>\n",
       "    </tr>\n",
       "  </thead>\n",
       "  <tbody>\n",
       "    <tr>\n",
       "      <th>logreg</th>\n",
       "      <td>0.563569</td>\n",
       "      <td>0.155322</td>\n",
       "    </tr>\n",
       "    <tr>\n",
       "      <th>rf w/ hyperparameter tuning</th>\n",
       "      <td>0.997112</td>\n",
       "      <td>0.120263</td>\n",
       "    </tr>\n",
       "    <tr>\n",
       "      <th>xg w/ hyperparameter tuning</th>\n",
       "      <td>0.734040</td>\n",
       "      <td>0.112760</td>\n",
       "    </tr>\n",
       "  </tbody>\n",
       "</table>\n",
       "</div>"
      ],
      "text/plain": [
       "                             ro_cv_scores  ro_test_scores\n",
       "logreg                           0.563569        0.155322\n",
       "rf w/ hyperparameter tuning      0.997112        0.120263\n",
       "xg w/ hyperparameter tuning      0.734040        0.112760"
      ]
     },
     "execution_count": 117,
     "metadata": {},
     "output_type": "execute_result"
    }
   ],
   "source": [
    "ro_perf_df = pd.DataFrame(ro_performance_scores, index = best_models)\n",
    "ro_perf_df.sort_values(by = 'ro_test_scores', ascending = False)"
   ]
  },
  {
   "cell_type": "code",
   "execution_count": 118,
   "id": "6de6d9d3",
   "metadata": {},
   "outputs": [
    {
     "data": {
      "image/png": "[encoded data removed]",
      "text/plain": [
       "<Figure size 864x648 with 1 Axes>"
      ]
     },
     "metadata": {
      "needs_background": "light"
     },
     "output_type": "display_data"
    }
   ],
   "source": [
    "no_skill = len(y_test[y_test==1]) / len(y_test)\n",
    "fig, axs = plt.subplots(figsize = (12, 9))\n",
    "\n",
    "for name, prob in ro_info:\n",
    "    auc_plot(y_test, prob, name)\n",
    "plt.xlabel('Recall')\n",
    "plt.ylabel('Precision')\n",
    "plt.title('Precision - recall curves for best classifiers with random oversampling')\n",
    "plt.plot([0, 1], [no_skill, no_skill], linestyle = '--', label = 'No Skill')\n",
    "plt.annotate(f'(0.00, {no_skill: .2f})',(0, no_skill))\n",
    "plt.legend();"
   ]
  },
  {
   "cell_type": "markdown",
   "id": "b729548c",
   "metadata": {},
   "source": [
    "We observe that we get even higher average precision scores on the cross-validated training set when we oversample. However, our test scores are still poor."
   ]
  },
  {
   "cell_type": "markdown",
   "id": "e79cec26",
   "metadata": {},
   "source": [
    "## Oversampling with SMOTE (Synthetic Minority Oversampling Technique)"
   ]
  },
  {
   "cell_type": "markdown",
   "id": "c03aff89",
   "metadata": {},
   "source": [
    "SMOTE oversamples the minority class by interpolating between nearest neigbhours associated with minority examples. This is a more suffisticated way of oversampling the dataset rather than resampling with replacement. We will determine if SMOTE provides improved performance scores on our base algorithms."
   ]
  },
  {
   "cell_type": "markdown",
   "id": "26c401dd",
   "metadata": {},
   "source": [
    "### Creating SMOTE Dataset"
   ]
  },
  {
   "cell_type": "code",
   "execution_count": 119,
   "id": "b1f2e18a",
   "metadata": {},
   "outputs": [],
   "source": [
    "oversampling = SMOTE()\n",
    "X_SMOTE, y_SMOTE = oversampling.fit_resample(X_train, y_train)"
   ]
  },
  {
   "cell_type": "markdown",
   "id": "b3ee7f29",
   "metadata": {},
   "source": [
    "Compare "
   ]
  },
  {
   "cell_type": "code",
   "execution_count": 120,
   "id": "430a63bf",
   "metadata": {
    "scrolled": false
   },
   "outputs": [
    {
     "data": {
      "text/plain": [
       "0    25572\n",
       "1    25572\n",
       "Name: response, dtype: int64"
      ]
     },
     "execution_count": 120,
     "metadata": {},
     "output_type": "execute_result"
    }
   ],
   "source": [
    "#Data is balanced\n",
    "y_SMOTE.value_counts()"
   ]
  },
  {
   "cell_type": "markdown",
   "id": "042dedcd",
   "metadata": {},
   "source": [
    "### Train Models on SMOTE Dataframe And Assess Performance\n"
   ]
  },
  {
   "cell_type": "code",
   "execution_count": 121,
   "id": "db698998",
   "metadata": {},
   "outputs": [],
   "source": [
    "SMOTE_logreg_cv = cv_performance(logreg, feature = X_SMOTE, target = y_SMOTE)\n",
    "SMOTE_rf_hyp_cv = cv_performance(rf_hyp, feature = X_SMOTE, target = y_SMOTE)\n",
    "SMOTE_xg_hyp_cv = cv_performance(xg_hyp, feature = X_SMOTE, target = y_SMOTE)"
   ]
  },
  {
   "cell_type": "code",
   "execution_count": 122,
   "id": "868cd90b",
   "metadata": {},
   "outputs": [],
   "source": [
    "SMOTE_logreg_cv_mean, _ = cv_mean_std(SMOTE_logreg_cv)\n",
    "SMOTE_rf_hyp_cv_mean, _ = cv_mean_std(SMOTE_rf_hyp_cv)\n",
    "SMOTE_xg_hyp_cv_mean, _ = cv_mean_std(SMOTE_xg_hyp_cv)"
   ]
  },
  {
   "cell_type": "code",
   "execution_count": 123,
   "id": "76c8cd52",
   "metadata": {},
   "outputs": [],
   "source": [
    "SMOTE_logreg_pred, SMOTE_logreg_prob, SMOTE_logreg_coef, _ = pred(logreg, Xtr = X_SMOTE, ytr = y_SMOTE)\n",
    "SMOTE_rf_hyp_pred, SMOTE_rf_hyp_prob, SMOTE_rf_hyp_coef, _ = pred_tree(rf_hyp, Xtr = X_SMOTE, ytr = y_SMOTE)\n",
    "SMOTE_xg_hyp_pred, SMOTE_xg_hyp_prob, SMOTE_xg_hyp_coef, _ = pred_tree(xg_hyp, Xtr = X_SMOTE, ytr = y_SMOTE)"
   ]
  },
  {
   "cell_type": "code",
   "execution_count": 124,
   "id": "9927f47a",
   "metadata": {},
   "outputs": [],
   "source": [
    "SMOTE_logreg_auc_pr = average_precision_score(y_test, SMOTE_logreg_prob)\n",
    "SMOTE_rf_hyp_auc_pr = average_precision_score(y_test, SMOTE_rf_hyp_prob)\n",
    "SMOTE_xg_hyp_auc_pr = average_precision_score(y_test, SMOTE_xg_hyp_prob)"
   ]
  },
  {
   "cell_type": "code",
   "execution_count": 125,
   "id": "415138cd",
   "metadata": {},
   "outputs": [],
   "source": [
    "SMOTE_aucpr_cv_scores = [SMOTE_logreg_cv_mean, SMOTE_rf_hyp_cv_mean, SMOTE_xg_hyp_cv_mean]\n",
    "SMOTE_aucpr_test_scores = [SMOTE_logreg_auc_pr, SMOTE_rf_hyp_auc_pr, SMOTE_xg_hyp_auc_pr]\n",
    "SMOTE_performance_scores = dict(SMOTE_cv_scores =  SMOTE_aucpr_cv_scores, SMOTE_test_scores = SMOTE_aucpr_test_scores)\n",
    "SMOTE_probs = [SMOTE_logreg_prob, SMOTE_rf_hyp_prob, SMOTE_xg_hyp_prob]\n",
    "SMOTE_info = zip(best_models, SMOTE_probs)"
   ]
  },
  {
   "cell_type": "code",
   "execution_count": 126,
   "id": "454a0342",
   "metadata": {},
   "outputs": [
    {
     "data": {
      "text/html": [
       "<div>\n",
       "<style scoped>\n",
       "    .dataframe tbody tr th:only-of-type {\n",
       "        vertical-align: middle;\n",
       "    }\n",
       "\n",
       "    .dataframe tbody tr th {\n",
       "        vertical-align: top;\n",
       "    }\n",
       "\n",
       "    .dataframe thead th {\n",
       "        text-align: right;\n",
       "    }\n",
       "</style>\n",
       "<table border=\"1\" class=\"dataframe\">\n",
       "  <thead>\n",
       "    <tr style=\"text-align: right;\">\n",
       "      <th></th>\n",
       "      <th>SMOTE_cv_scores</th>\n",
       "      <th>SMOTE_test_scores</th>\n",
       "    </tr>\n",
       "  </thead>\n",
       "  <tbody>\n",
       "    <tr>\n",
       "      <th>xg w/ hyperparameter tuning</th>\n",
       "      <td>0.975701</td>\n",
       "      <td>0.476895</td>\n",
       "    </tr>\n",
       "    <tr>\n",
       "      <th>logreg</th>\n",
       "      <td>0.825003</td>\n",
       "      <td>0.463602</td>\n",
       "    </tr>\n",
       "    <tr>\n",
       "      <th>rf w/ hyperparameter tuning</th>\n",
       "      <td>0.987076</td>\n",
       "      <td>0.407518</td>\n",
       "    </tr>\n",
       "  </tbody>\n",
       "</table>\n",
       "</div>"
      ],
      "text/plain": [
       "                             SMOTE_cv_scores  SMOTE_test_scores\n",
       "xg w/ hyperparameter tuning         0.975701           0.476895\n",
       "logreg                              0.825003           0.463602\n",
       "rf w/ hyperparameter tuning         0.987076           0.407518"
      ]
     },
     "execution_count": 126,
     "metadata": {},
     "output_type": "execute_result"
    }
   ],
   "source": [
    "SMOTE_perf_df = pd.DataFrame(SMOTE_performance_scores, index = best_models)\n",
    "SMOTE_perf_df.sort_values(by = 'SMOTE_test_scores', ascending = False)"
   ]
  },
  {
   "cell_type": "code",
   "execution_count": 127,
   "id": "bad06420",
   "metadata": {},
   "outputs": [
    {
     "data": {
      "image/png": "[encoded data removed]",
      "text/plain": [
       "<Figure size 864x648 with 1 Axes>"
      ]
     },
     "metadata": {
      "needs_background": "light"
     },
     "output_type": "display_data"
    }
   ],
   "source": [
    "no_skill = len(y_test[y_test==1]) / len(y_test)\n",
    "fig, axs = plt.subplots(figsize = (12, 9))\n",
    "\n",
    "for name, prob in SMOTE_info:\n",
    "    auc_plot(y_test, prob, name)\n",
    "plt.xlabel('Recall')\n",
    "plt.ylabel('Precision')\n",
    "plt.title('Precision - recall curves for best classifiers with SMOTE')\n",
    "plt.plot([0, 1], [no_skill, no_skill], linestyle = '--', label = 'No Skill')\n",
    "plt.annotate(f'(0.00, {no_skill: .2f})',(0, no_skill))\n",
    "plt.legend();"
   ]
  },
  {
   "cell_type": "markdown",
   "id": "4ef76aa2",
   "metadata": {},
   "source": [
    "SMOTE definitely produced scores that were much better than random oversampling, but these results were not significantly better than scores obtained on the base models for the test set."
   ]
  },
  {
   "cell_type": "markdown",
   "id": "f3131d58",
   "metadata": {},
   "source": [
    "## SMOTE with Undersampling"
   ]
  },
  {
   "cell_type": "markdown",
   "id": "6f6f3c14",
   "metadata": {},
   "source": [
    "In addition to synthetic oversampling of the minority class one could also undersample the majority. This may lead to better scores.We shall create a new dataset with this approach and determine the performance of our models."
   ]
  },
  {
   "cell_type": "markdown",
   "id": "687f5158",
   "metadata": {},
   "source": [
    "### Create SMOTE with Undersampling Dataset"
   ]
  },
  {
   "cell_type": "markdown",
   "id": "6b701ad9",
   "metadata": {},
   "source": [
    "We will oversample the minority samples to be 50% of the majority samples and undersample the majority samples to be 50% of the majority samples."
   ]
  },
  {
   "cell_type": "code",
   "execution_count": 128,
   "id": "7199ba85",
   "metadata": {},
   "outputs": [],
   "source": [
    "#Create SMOTE oversampling of minority class and undersampling of majority class\n",
    "oversampler = SMOTE(sampling_strategy = 0.5)\n",
    "undersampler = RandomUnderSampler(sampling_strategy = 0.5)\n",
    "steps = [('oversampler', oversampler), ('undersampler', undersampler)]\n",
    "pipeline = pipeline(steps = steps)"
   ]
  },
  {
   "cell_type": "code",
   "execution_count": 129,
   "id": "97869856",
   "metadata": {},
   "outputs": [],
   "source": [
    "#Create SMOTE dataset that has been undersampled\n",
    "X_SMOTE_under, y_SMOTE_under = pipeline.fit_resample(X_train, y_train)"
   ]
  },
  {
   "cell_type": "code",
   "execution_count": 130,
   "id": "f9478973",
   "metadata": {
    "scrolled": true
   },
   "outputs": [
    {
     "data": {
      "text/plain": [
       "0    25572\n",
       "1    12786\n",
       "Name: response, dtype: int64"
      ]
     },
     "execution_count": 130,
     "metadata": {},
     "output_type": "execute_result"
    }
   ],
   "source": [
    "#Review class distribution\n",
    "y_SMOTE_under.value_counts()"
   ]
  },
  {
   "cell_type": "markdown",
   "id": "ccc225f8",
   "metadata": {},
   "source": [
    "### Train Models on undersampled SMOTE Dataframe And Assess Performance\n"
   ]
  },
  {
   "cell_type": "code",
   "execution_count": 131,
   "id": "a9f74230",
   "metadata": {},
   "outputs": [],
   "source": [
    "SMOTE_under_logreg_cv = cv_performance(logreg, feature = X_SMOTE_under, target = y_SMOTE_under)\n",
    "SMOTE_under_rf_hyp_cv = cv_performance(rf_hyp, feature = X_SMOTE_under, target = y_SMOTE_under)\n",
    "SMOTE_under_xg_hyp_cv = cv_performance(xg_hyp, feature = X_SMOTE_under, target = y_SMOTE_under)"
   ]
  },
  {
   "cell_type": "code",
   "execution_count": 132,
   "id": "ad213def",
   "metadata": {},
   "outputs": [],
   "source": [
    "SMOTE_under_logreg_cv_mean, _ = cv_mean_std(SMOTE_under_logreg_cv)\n",
    "SMOTE_under_rf_hyp_cv_mean, _ = cv_mean_std(SMOTE_under_rf_hyp_cv)\n",
    "SMOTE_under_xg_hyp_cv_mean, _ = cv_mean_std(SMOTE_under_xg_hyp_cv)"
   ]
  },
  {
   "cell_type": "code",
   "execution_count": 133,
   "id": "2646b749",
   "metadata": {},
   "outputs": [],
   "source": [
    "SMOTE_under_logreg_pred, SMOTE_under_logreg_prob, SMOTE_under_logreg_coef, _ = pred(logreg, Xtr = X_SMOTE_under, ytr = y_SMOTE_under)\n",
    "SMOTE_under_rf_hyp_pred, SMOTE_under_rf_hyp_prob, SMOTE_under_rf_hyp_coef, _ = pred_tree(rf_hyp, Xtr = X_SMOTE_under, ytr = y_SMOTE_under)\n",
    "SMOTE_under_xg_hyp_pred, SMOTE_under_xg_hyp_prob, SMOTE_under_xg_hyp_coef, _ = pred_tree(xg_hyp, Xtr = X_SMOTE_under, ytr = y_SMOTE_under)"
   ]
  },
  {
   "cell_type": "code",
   "execution_count": 134,
   "id": "6be486de",
   "metadata": {},
   "outputs": [],
   "source": [
    "SMOTE_under_logreg_auc_pr = average_precision_score(y_test, SMOTE_under_logreg_prob)\n",
    "SMOTE_under_rf_hyp_auc_pr = average_precision_score(y_test, SMOTE_under_rf_hyp_prob)\n",
    "SMOTE_under_xg_hyp_auc_pr = average_precision_score(y_test, SMOTE_under_xg_hyp_prob)"
   ]
  },
  {
   "cell_type": "code",
   "execution_count": 135,
   "id": "a2b35c87",
   "metadata": {},
   "outputs": [],
   "source": [
    "SMOTE_under_aucpr_cv_scores = [SMOTE_under_logreg_cv_mean, SMOTE_under_rf_hyp_cv_mean, SMOTE_under_xg_hyp_cv_mean]\n",
    "SMOTE_under_aucpr_test_scores = [SMOTE_under_logreg_auc_pr, SMOTE_under_rf_hyp_auc_pr, SMOTE_under_xg_hyp_auc_pr]\n",
    "SMOTE_under_performance_scores = dict(SMOTE_under_cv_scores =  SMOTE_under_aucpr_cv_scores, SMOTE_under_test_scores = SMOTE_under_aucpr_test_scores)\n",
    "SMOTE_under_probs = [SMOTE_under_logreg_prob, SMOTE_under_rf_hyp_prob, SMOTE_under_xg_hyp_prob]\n",
    "SMOTE_under_info = zip(best_models, SMOTE_under_probs)"
   ]
  },
  {
   "cell_type": "code",
   "execution_count": 136,
   "id": "17adde98",
   "metadata": {},
   "outputs": [
    {
     "data": {
      "text/html": [
       "<div>\n",
       "<style scoped>\n",
       "    .dataframe tbody tr th:only-of-type {\n",
       "        vertical-align: middle;\n",
       "    }\n",
       "\n",
       "    .dataframe tbody tr th {\n",
       "        vertical-align: top;\n",
       "    }\n",
       "\n",
       "    .dataframe thead th {\n",
       "        text-align: right;\n",
       "    }\n",
       "</style>\n",
       "<table border=\"1\" class=\"dataframe\">\n",
       "  <thead>\n",
       "    <tr style=\"text-align: right;\">\n",
       "      <th></th>\n",
       "      <th>SMOTE_under_cv_scores</th>\n",
       "      <th>SMOTE_under_test_scores</th>\n",
       "    </tr>\n",
       "  </thead>\n",
       "  <tbody>\n",
       "    <tr>\n",
       "      <th>xg w/ hyperparameter tuning</th>\n",
       "      <td>0.929211</td>\n",
       "      <td>0.479435</td>\n",
       "    </tr>\n",
       "    <tr>\n",
       "      <th>logreg</th>\n",
       "      <td>0.719688</td>\n",
       "      <td>0.468005</td>\n",
       "    </tr>\n",
       "    <tr>\n",
       "      <th>rf w/ hyperparameter tuning</th>\n",
       "      <td>0.944094</td>\n",
       "      <td>0.412529</td>\n",
       "    </tr>\n",
       "  </tbody>\n",
       "</table>\n",
       "</div>"
      ],
      "text/plain": [
       "                             SMOTE_under_cv_scores  SMOTE_under_test_scores\n",
       "xg w/ hyperparameter tuning               0.929211                 0.479435\n",
       "logreg                                    0.719688                 0.468005\n",
       "rf w/ hyperparameter tuning               0.944094                 0.412529"
      ]
     },
     "execution_count": 136,
     "metadata": {},
     "output_type": "execute_result"
    }
   ],
   "source": [
    "SMOTE_under_perf_df = pd.DataFrame(SMOTE_under_performance_scores, index = best_models)\n",
    "SMOTE_under_perf_df.sort_values(by = 'SMOTE_under_test_scores', ascending = False)"
   ]
  },
  {
   "cell_type": "code",
   "execution_count": 137,
   "id": "253adf39",
   "metadata": {},
   "outputs": [
    {
     "data": {
      "image/png": "[encoded data removed]",
      "text/plain": [
       "<Figure size 864x648 with 1 Axes>"
      ]
     },
     "metadata": {
      "needs_background": "light"
     },
     "output_type": "display_data"
    }
   ],
   "source": [
    "no_skill = len(y_test[y_test==1]) / len(y_test)\n",
    "fig, axs = plt.subplots(figsize = (12, 9))\n",
    "\n",
    "for name, prob in SMOTE_under_info:\n",
    "    auc_plot(y_test, prob, name)\n",
    "plt.xlabel('Recall')\n",
    "plt.ylabel('Precision')\n",
    "plt.title('Precision - recall curves for best classifiers with SMOTE and undersampling')\n",
    "plt.plot([0, 1], [no_skill, no_skill], linestyle = '--', label = 'No Skill')\n",
    "plt.annotate(f'(0.00, {no_skill: .2f})',(0, no_skill))\n",
    "plt.legend();"
   ]
  },
  {
   "cell_type": "markdown",
   "id": "b6cee46f",
   "metadata": {},
   "source": [
    "SMOTE with undersampling does not improve the performance of the models."
   ]
  },
  {
   "cell_type": "markdown",
   "id": "67720a03",
   "metadata": {},
   "source": [
    "# Model selection"
   ]
  },
  {
   "cell_type": "markdown",
   "id": "cac613d3",
   "metadata": {},
   "source": [
    "### XGBoost with hyperparameter tuning"
   ]
  },
  {
   "cell_type": "code",
   "execution_count": 138,
   "id": "e98db7e8",
   "metadata": {},
   "outputs": [
    {
     "name": "stdout",
     "output_type": "stream",
     "text": [
      "Cross validation train set AUC-PR score: 0.46\n",
      "Test set AUC-PR score                  : 0.48\n",
      "Test set AUC-ROC score                 : 0.81\n",
      "Test set F2 score                      : 0.29\n",
      "              precision    recall  f1-score   support\n",
      "\n",
      "           0       0.91      0.98      0.95     10960\n",
      "           1       0.66      0.27      0.39      1391\n",
      "\n",
      "    accuracy                           0.90     12351\n",
      "   macro avg       0.79      0.63      0.67     12351\n",
      "weighted avg       0.89      0.90      0.88     12351\n",
      "\n"
     ]
    }
   ],
   "source": [
    "#Check classification report\n",
    "print(f'Cross validation train set AUC-PR score: {xg_search.best_score_:.2f}')\n",
    "print(f'Test set AUC-PR score                  : {xg_hyp_auc_pr:.2f}')\n",
    "print(f'Test set AUC-ROC score                 : {roc_auc_score(y_test, xg_hyp_prob):.2f}')\n",
    "print(f'Test set F2 score                      : {fbeta_score(y_test, logreg_hyp_pred, beta = 2):.2f}')\n",
    "print(classification_report(y_test, xg_hyp_pred))"
   ]
  },
  {
   "cell_type": "markdown",
   "id": "f31893f5",
   "metadata": {},
   "source": [
    "### Logistic regression"
   ]
  },
  {
   "cell_type": "code",
   "execution_count": 139,
   "id": "1281febb",
   "metadata": {
    "scrolled": true
   },
   "outputs": [
    {
     "name": "stdout",
     "output_type": "stream",
     "text": [
      "Cross validation train set AUC-PR score: 0.45\n",
      "Test set AUC-PR score                  : 0.48\n",
      "Test set AUC-ROC score                 : 0.81\n",
      "Test set F2 score                      : 0.29\n",
      "              precision    recall  f1-score   support\n",
      "\n",
      "           0       0.91      0.99      0.95     10960\n",
      "           1       0.69      0.25      0.37      1391\n",
      "\n",
      "    accuracy                           0.90     12351\n",
      "   macro avg       0.80      0.62      0.66     12351\n",
      "weighted avg       0.89      0.90      0.88     12351\n",
      "\n"
     ]
    }
   ],
   "source": [
    "#Check classification report\n",
    "print(f'Cross validation train set AUC-PR score: {logreg_cv_mean:.2f}')\n",
    "print(f'Test set AUC-PR score                  : {logreg_auc_pr:.2f}')\n",
    "print(f'Test set AUC-ROC score                 : {roc_auc_score(y_test, logreg_prob):.2f}')\n",
    "print(f'Test set F2 score                      : {fbeta_score(y_test, logreg_pred, beta = 2):.2f}')\n",
    "print(classification_report(y_test, logreg_pred))"
   ]
  },
  {
   "cell_type": "markdown",
   "id": "325d9a12",
   "metadata": {},
   "source": [
    "### Random forest with hyperparameter tuning"
   ]
  },
  {
   "cell_type": "code",
   "execution_count": 140,
   "id": "e36cb0fe",
   "metadata": {
    "scrolled": true
   },
   "outputs": [
    {
     "name": "stdout",
     "output_type": "stream",
     "text": [
      "Cross validation train set AUC-PR score: 0.41\n",
      "Test set AUC-PR score                  : 0.42\n",
      "Test set AUC-ROC score                 : 0.78\n",
      "Test set F2 score                      : 0.34\n",
      "              precision    recall  f1-score   support\n",
      "\n",
      "           0       0.92      0.97      0.94     10960\n",
      "           1       0.55      0.31      0.40      1391\n",
      "\n",
      "    accuracy                           0.89     12351\n",
      "   macro avg       0.74      0.64      0.67     12351\n",
      "weighted avg       0.88      0.89      0.88     12351\n",
      "\n"
     ]
    }
   ],
   "source": [
    "#Check classification report\n",
    "print(f'Cross validation train set AUC-PR score: {rf_search.best_score_:.2f}')\n",
    "print(f'Test set AUC-PR score                  : {rf_hyp_auc_pr:.2f}')\n",
    "print(f'Test set AUC-ROC score                 : {roc_auc_score(y_test, rf_hyp_prob):.2f}')\n",
    "print(f'Test set F2 score                      : {fbeta_score(y_test, rf_hyp_pred, beta = 2):.2f}')\n",
    "print(classification_report(y_test, rf_hyp_pred))"
   ]
  },
  {
   "cell_type": "markdown",
   "id": "098e45cb",
   "metadata": {},
   "source": [
    "# Final model training"
   ]
  },
  {
   "cell_type": "code",
   "execution_count": 141,
   "id": "3a76c6bf",
   "metadata": {},
   "outputs": [],
   "source": [
    "final_model = xgb.XGBClassifier(objective='binary:logistic', use_label_encoder = False, eval_metric = 'logloss', max_depth = 3, subsample = 1.0, seed = 77)"
   ]
  },
  {
   "cell_type": "code",
   "execution_count": 142,
   "id": "dc923c73",
   "metadata": {},
   "outputs": [],
   "source": [
    "final_model_cv = cv_performance(final_model, feature = X_scaled, target = y)"
   ]
  },
  {
   "cell_type": "code",
   "execution_count": 143,
   "id": "8158b24a",
   "metadata": {},
   "outputs": [
    {
     "data": {
      "text/plain": [
       "(0.08828162576071952, 0.05831196740554073)"
      ]
     },
     "execution_count": 143,
     "metadata": {},
     "output_type": "execute_result"
    }
   ],
   "source": [
    "final_model_cv_mean, final_model_cv_std = cv_mean_std(final_model_cv)\n",
    "final_model_cv_mean, final_model_cv_std"
   ]
  },
  {
   "cell_type": "code",
   "execution_count": 144,
   "id": "d8bd8819",
   "metadata": {
    "scrolled": true
   },
   "outputs": [],
   "source": [
    "final_model.fit(X_scaled, y);"
   ]
  },
  {
   "cell_type": "markdown",
   "id": "2d25ecf5",
   "metadata": {},
   "source": [
    "The model slightly performs better than a no skill classifier (at 0.11), maybe even worse based on the standard deviation. "
   ]
  },
  {
   "cell_type": "markdown",
   "id": "53bb5299",
   "metadata": {},
   "source": [
    "# Model application"
   ]
  },
  {
   "cell_type": "code",
   "execution_count": 145,
   "id": "2b7f63eb",
   "metadata": {},
   "outputs": [],
   "source": [
    "application_set_y = application_set.response\n",
    "application_set_x = application_set.drop(columns = ['response'])"
   ]
  },
  {
   "cell_type": "code",
   "execution_count": 146,
   "id": "95551d88",
   "metadata": {},
   "outputs": [
    {
     "data": {
      "text/plain": [
       "11994    0\n",
       "39824    0\n",
       "10278    0\n",
       "29948    0\n",
       "13012    0\n",
       "Name: response, dtype: int64"
      ]
     },
     "execution_count": 146,
     "metadata": {},
     "output_type": "execute_result"
    }
   ],
   "source": [
    "application_set_y.head()"
   ]
  },
  {
   "cell_type": "code",
   "execution_count": 147,
   "id": "ae94b3fd",
   "metadata": {
    "scrolled": true
   },
   "outputs": [
    {
     "data": {
      "text/html": [
       "<div>\n",
       "<style scoped>\n",
       "    .dataframe tbody tr th:only-of-type {\n",
       "        vertical-align: middle;\n",
       "    }\n",
       "\n",
       "    .dataframe tbody tr th {\n",
       "        vertical-align: top;\n",
       "    }\n",
       "\n",
       "    .dataframe thead th {\n",
       "        text-align: right;\n",
       "    }\n",
       "</style>\n",
       "<table border=\"1\" class=\"dataframe\">\n",
       "  <thead>\n",
       "    <tr style=\"text-align: right;\">\n",
       "      <th></th>\n",
       "      <th>age</th>\n",
       "      <th>currentCampaignContacts</th>\n",
       "      <th>daysLastContacted</th>\n",
       "      <th>previousCampaignContacts</th>\n",
       "      <th>employmentRate</th>\n",
       "      <th>cpi</th>\n",
       "      <th>cci</th>\n",
       "      <th>euribor3m</th>\n",
       "      <th>noEmployed</th>\n",
       "      <th>age_grp_rr</th>\n",
       "      <th>...</th>\n",
       "      <th>cci_grp_neg45.9_neg41</th>\n",
       "      <th>cci_grp_neg51_neg46</th>\n",
       "      <th>euribor3m_grp_0.6_1.5</th>\n",
       "      <th>euribor3m_grp_1.501_2.4</th>\n",
       "      <th>euribor3m_grp_2.401_3.3</th>\n",
       "      <th>euribor3m_grp_3.301_4.2</th>\n",
       "      <th>euribor3m_grp_4.201_5.1</th>\n",
       "      <th>noEmployed_grp_4960_5050</th>\n",
       "      <th>noEmployed_grp_5050.1_5140</th>\n",
       "      <th>noEmployed_grp_5140.1_5230</th>\n",
       "    </tr>\n",
       "  </thead>\n",
       "  <tbody>\n",
       "    <tr>\n",
       "      <th>11994</th>\n",
       "      <td>39</td>\n",
       "      <td>4</td>\n",
       "      <td>999</td>\n",
       "      <td>0</td>\n",
       "      <td>1.4</td>\n",
       "      <td>94.465</td>\n",
       "      <td>-41.8</td>\n",
       "      <td>4.958</td>\n",
       "      <td>5228.1</td>\n",
       "      <td>0.097467</td>\n",
       "      <td>...</td>\n",
       "      <td>1</td>\n",
       "      <td>0</td>\n",
       "      <td>0</td>\n",
       "      <td>0</td>\n",
       "      <td>0</td>\n",
       "      <td>0</td>\n",
       "      <td>1</td>\n",
       "      <td>0</td>\n",
       "      <td>0</td>\n",
       "      <td>1</td>\n",
       "    </tr>\n",
       "    <tr>\n",
       "      <th>39824</th>\n",
       "      <td>29</td>\n",
       "      <td>1</td>\n",
       "      <td>999</td>\n",
       "      <td>0</td>\n",
       "      <td>-1.7</td>\n",
       "      <td>94.055</td>\n",
       "      <td>-39.8</td>\n",
       "      <td>0.713</td>\n",
       "      <td>4991.6</td>\n",
       "      <td>0.147315</td>\n",
       "      <td>...</td>\n",
       "      <td>0</td>\n",
       "      <td>0</td>\n",
       "      <td>1</td>\n",
       "      <td>0</td>\n",
       "      <td>0</td>\n",
       "      <td>0</td>\n",
       "      <td>0</td>\n",
       "      <td>1</td>\n",
       "      <td>0</td>\n",
       "      <td>0</td>\n",
       "    </tr>\n",
       "    <tr>\n",
       "      <th>10278</th>\n",
       "      <td>50</td>\n",
       "      <td>4</td>\n",
       "      <td>999</td>\n",
       "      <td>0</td>\n",
       "      <td>1.4</td>\n",
       "      <td>94.465</td>\n",
       "      <td>-41.8</td>\n",
       "      <td>4.960</td>\n",
       "      <td>5228.1</td>\n",
       "      <td>0.081738</td>\n",
       "      <td>...</td>\n",
       "      <td>1</td>\n",
       "      <td>0</td>\n",
       "      <td>0</td>\n",
       "      <td>0</td>\n",
       "      <td>0</td>\n",
       "      <td>0</td>\n",
       "      <td>1</td>\n",
       "      <td>0</td>\n",
       "      <td>0</td>\n",
       "      <td>1</td>\n",
       "    </tr>\n",
       "    <tr>\n",
       "      <th>29948</th>\n",
       "      <td>40</td>\n",
       "      <td>2</td>\n",
       "      <td>999</td>\n",
       "      <td>0</td>\n",
       "      <td>-1.8</td>\n",
       "      <td>93.075</td>\n",
       "      <td>-47.1</td>\n",
       "      <td>1.405</td>\n",
       "      <td>5099.1</td>\n",
       "      <td>0.097467</td>\n",
       "      <td>...</td>\n",
       "      <td>0</td>\n",
       "      <td>1</td>\n",
       "      <td>1</td>\n",
       "      <td>0</td>\n",
       "      <td>0</td>\n",
       "      <td>0</td>\n",
       "      <td>0</td>\n",
       "      <td>0</td>\n",
       "      <td>1</td>\n",
       "      <td>0</td>\n",
       "    </tr>\n",
       "    <tr>\n",
       "      <th>13012</th>\n",
       "      <td>34</td>\n",
       "      <td>3</td>\n",
       "      <td>999</td>\n",
       "      <td>0</td>\n",
       "      <td>1.4</td>\n",
       "      <td>93.918</td>\n",
       "      <td>-42.7</td>\n",
       "      <td>4.962</td>\n",
       "      <td>5228.1</td>\n",
       "      <td>0.097467</td>\n",
       "      <td>...</td>\n",
       "      <td>1</td>\n",
       "      <td>0</td>\n",
       "      <td>0</td>\n",
       "      <td>0</td>\n",
       "      <td>0</td>\n",
       "      <td>0</td>\n",
       "      <td>1</td>\n",
       "      <td>0</td>\n",
       "      <td>0</td>\n",
       "      <td>1</td>\n",
       "    </tr>\n",
       "  </tbody>\n",
       "</table>\n",
       "<p>5 rows × 129 columns</p>\n",
       "</div>"
      ],
      "text/plain": [
       "       age  currentCampaignContacts  daysLastContacted  \\\n",
       "11994   39                        4                999   \n",
       "39824   29                        1                999   \n",
       "10278   50                        4                999   \n",
       "29948   40                        2                999   \n",
       "13012   34                        3                999   \n",
       "\n",
       "       previousCampaignContacts  employmentRate     cpi   cci  euribor3m  \\\n",
       "11994                         0             1.4  94.465 -41.8      4.958   \n",
       "39824                         0            -1.7  94.055 -39.8      0.713   \n",
       "10278                         0             1.4  94.465 -41.8      4.960   \n",
       "29948                         0            -1.8  93.075 -47.1      1.405   \n",
       "13012                         0             1.4  93.918 -42.7      4.962   \n",
       "\n",
       "       noEmployed  age_grp_rr  ...  cci_grp_neg45.9_neg41  \\\n",
       "11994      5228.1    0.097467  ...                      1   \n",
       "39824      4991.6    0.147315  ...                      0   \n",
       "10278      5228.1    0.081738  ...                      1   \n",
       "29948      5099.1    0.097467  ...                      0   \n",
       "13012      5228.1    0.097467  ...                      1   \n",
       "\n",
       "       cci_grp_neg51_neg46  euribor3m_grp_0.6_1.5  euribor3m_grp_1.501_2.4  \\\n",
       "11994                    0                      0                        0   \n",
       "39824                    0                      1                        0   \n",
       "10278                    0                      0                        0   \n",
       "29948                    1                      1                        0   \n",
       "13012                    0                      0                        0   \n",
       "\n",
       "       euribor3m_grp_2.401_3.3  euribor3m_grp_3.301_4.2  \\\n",
       "11994                        0                        0   \n",
       "39824                        0                        0   \n",
       "10278                        0                        0   \n",
       "29948                        0                        0   \n",
       "13012                        0                        0   \n",
       "\n",
       "       euribor3m_grp_4.201_5.1  noEmployed_grp_4960_5050  \\\n",
       "11994                        1                         0   \n",
       "39824                        0                         1   \n",
       "10278                        1                         0   \n",
       "29948                        0                         0   \n",
       "13012                        1                         0   \n",
       "\n",
       "       noEmployed_grp_5050.1_5140  noEmployed_grp_5140.1_5230  \n",
       "11994                           0                           1  \n",
       "39824                           0                           0  \n",
       "10278                           0                           1  \n",
       "29948                           1                           0  \n",
       "13012                           0                           1  \n",
       "\n",
       "[5 rows x 129 columns]"
      ]
     },
     "execution_count": 147,
     "metadata": {},
     "output_type": "execute_result"
    }
   ],
   "source": [
    "application_set_x.head()"
   ]
  },
  {
   "cell_type": "code",
   "execution_count": 148,
   "id": "55c5907d",
   "metadata": {},
   "outputs": [],
   "source": [
    "scaler = StandardScaler(with_mean= False)"
   ]
  },
  {
   "cell_type": "code",
   "execution_count": 149,
   "id": "13f65236",
   "metadata": {},
   "outputs": [],
   "source": [
    "transformed_data = scaler.fit_transform(application_set_x)"
   ]
  },
  {
   "cell_type": "code",
   "execution_count": 150,
   "id": "4a7c38b4",
   "metadata": {},
   "outputs": [
    {
     "data": {
      "text/html": [
       "<div>\n",
       "<style scoped>\n",
       "    .dataframe tbody tr th:only-of-type {\n",
       "        vertical-align: middle;\n",
       "    }\n",
       "\n",
       "    .dataframe tbody tr th {\n",
       "        vertical-align: top;\n",
       "    }\n",
       "\n",
       "    .dataframe thead th {\n",
       "        text-align: right;\n",
       "    }\n",
       "</style>\n",
       "<table border=\"1\" class=\"dataframe\">\n",
       "  <thead>\n",
       "    <tr style=\"text-align: right;\">\n",
       "      <th></th>\n",
       "      <th>predicted_response</th>\n",
       "    </tr>\n",
       "  </thead>\n",
       "  <tbody>\n",
       "    <tr>\n",
       "      <th>0</th>\n",
       "      <td>0</td>\n",
       "    </tr>\n",
       "    <tr>\n",
       "      <th>1</th>\n",
       "      <td>0</td>\n",
       "    </tr>\n",
       "    <tr>\n",
       "      <th>2</th>\n",
       "      <td>0</td>\n",
       "    </tr>\n",
       "    <tr>\n",
       "      <th>3</th>\n",
       "      <td>1</td>\n",
       "    </tr>\n",
       "    <tr>\n",
       "      <th>4</th>\n",
       "      <td>0</td>\n",
       "    </tr>\n",
       "  </tbody>\n",
       "</table>\n",
       "</div>"
      ],
      "text/plain": [
       "   predicted_response\n",
       "0                   0\n",
       "1                   0\n",
       "2                   0\n",
       "3                   1\n",
       "4                   0"
      ]
     },
     "execution_count": 150,
     "metadata": {},
     "output_type": "execute_result"
    }
   ],
   "source": [
    "predicted_response = final_model.predict(transformed_data)\n",
    "predicted_response_df = pd.DataFrame(predicted_response, columns = ['predicted_response'])\n",
    "predicted_response_df.head()"
   ]
  },
  {
   "cell_type": "code",
   "execution_count": 151,
   "id": "bdfa72d6",
   "metadata": {},
   "outputs": [],
   "source": [
    "pred_prob_app = final_model.predict_proba(transformed_data)[:, 1]"
   ]
  },
  {
   "cell_type": "code",
   "execution_count": 152,
   "id": "af93f25b",
   "metadata": {},
   "outputs": [],
   "source": [
    "#Adding predicted responses to application_set dataframe\n",
    "application_inter = pd.merge(pd.DataFrame(application_set_x, columns = feature_names).reset_index(drop = True), predicted_response_df.reset_index(drop = True), left_index = True, right_index = True)\n",
    "#Adding original responses to application_set dataframe\n",
    "application_response = pd.merge(application_inter.reset_index(drop = True),(pd.DataFrame(application_set_y).reset_index(drop = True)), left_index = True, right_index = True)"
   ]
  },
  {
   "cell_type": "code",
   "execution_count": 153,
   "id": "2b53dc48",
   "metadata": {},
   "outputs": [
    {
     "data": {
      "text/html": [
       "<div>\n",
       "<style scoped>\n",
       "    .dataframe tbody tr th:only-of-type {\n",
       "        vertical-align: middle;\n",
       "    }\n",
       "\n",
       "    .dataframe tbody tr th {\n",
       "        vertical-align: top;\n",
       "    }\n",
       "\n",
       "    .dataframe thead th {\n",
       "        text-align: right;\n",
       "    }\n",
       "</style>\n",
       "<table border=\"1\" class=\"dataframe\">\n",
       "  <thead>\n",
       "    <tr style=\"text-align: right;\">\n",
       "      <th></th>\n",
       "      <th>age</th>\n",
       "      <th>response</th>\n",
       "      <th>predicted_response</th>\n",
       "    </tr>\n",
       "  </thead>\n",
       "  <tbody>\n",
       "    <tr>\n",
       "      <th>0</th>\n",
       "      <td>39</td>\n",
       "      <td>0</td>\n",
       "      <td>0</td>\n",
       "    </tr>\n",
       "    <tr>\n",
       "      <th>1</th>\n",
       "      <td>29</td>\n",
       "      <td>0</td>\n",
       "      <td>0</td>\n",
       "    </tr>\n",
       "    <tr>\n",
       "      <th>2</th>\n",
       "      <td>50</td>\n",
       "      <td>0</td>\n",
       "      <td>0</td>\n",
       "    </tr>\n",
       "    <tr>\n",
       "      <th>3</th>\n",
       "      <td>40</td>\n",
       "      <td>0</td>\n",
       "      <td>1</td>\n",
       "    </tr>\n",
       "    <tr>\n",
       "      <th>4</th>\n",
       "      <td>34</td>\n",
       "      <td>0</td>\n",
       "      <td>0</td>\n",
       "    </tr>\n",
       "    <tr>\n",
       "      <th>5</th>\n",
       "      <td>29</td>\n",
       "      <td>0</td>\n",
       "      <td>0</td>\n",
       "    </tr>\n",
       "    <tr>\n",
       "      <th>6</th>\n",
       "      <td>28</td>\n",
       "      <td>1</td>\n",
       "      <td>0</td>\n",
       "    </tr>\n",
       "    <tr>\n",
       "      <th>7</th>\n",
       "      <td>30</td>\n",
       "      <td>0</td>\n",
       "      <td>0</td>\n",
       "    </tr>\n",
       "    <tr>\n",
       "      <th>8</th>\n",
       "      <td>54</td>\n",
       "      <td>1</td>\n",
       "      <td>0</td>\n",
       "    </tr>\n",
       "    <tr>\n",
       "      <th>9</th>\n",
       "      <td>43</td>\n",
       "      <td>0</td>\n",
       "      <td>1</td>\n",
       "    </tr>\n",
       "    <tr>\n",
       "      <th>10</th>\n",
       "      <td>38</td>\n",
       "      <td>0</td>\n",
       "      <td>0</td>\n",
       "    </tr>\n",
       "    <tr>\n",
       "      <th>11</th>\n",
       "      <td>27</td>\n",
       "      <td>0</td>\n",
       "      <td>0</td>\n",
       "    </tr>\n",
       "    <tr>\n",
       "      <th>12</th>\n",
       "      <td>35</td>\n",
       "      <td>0</td>\n",
       "      <td>0</td>\n",
       "    </tr>\n",
       "    <tr>\n",
       "      <th>13</th>\n",
       "      <td>74</td>\n",
       "      <td>0</td>\n",
       "      <td>0</td>\n",
       "    </tr>\n",
       "    <tr>\n",
       "      <th>14</th>\n",
       "      <td>24</td>\n",
       "      <td>1</td>\n",
       "      <td>0</td>\n",
       "    </tr>\n",
       "    <tr>\n",
       "      <th>15</th>\n",
       "      <td>31</td>\n",
       "      <td>0</td>\n",
       "      <td>0</td>\n",
       "    </tr>\n",
       "    <tr>\n",
       "      <th>16</th>\n",
       "      <td>44</td>\n",
       "      <td>0</td>\n",
       "      <td>0</td>\n",
       "    </tr>\n",
       "    <tr>\n",
       "      <th>17</th>\n",
       "      <td>53</td>\n",
       "      <td>0</td>\n",
       "      <td>0</td>\n",
       "    </tr>\n",
       "    <tr>\n",
       "      <th>18</th>\n",
       "      <td>42</td>\n",
       "      <td>0</td>\n",
       "      <td>0</td>\n",
       "    </tr>\n",
       "    <tr>\n",
       "      <th>19</th>\n",
       "      <td>31</td>\n",
       "      <td>1</td>\n",
       "      <td>0</td>\n",
       "    </tr>\n",
       "  </tbody>\n",
       "</table>\n",
       "</div>"
      ],
      "text/plain": [
       "    age  response  predicted_response\n",
       "0    39         0                   0\n",
       "1    29         0                   0\n",
       "2    50         0                   0\n",
       "3    40         0                   1\n",
       "4    34         0                   0\n",
       "5    29         0                   0\n",
       "6    28         1                   0\n",
       "7    30         0                   0\n",
       "8    54         1                   0\n",
       "9    43         0                   1\n",
       "10   38         0                   0\n",
       "11   27         0                   0\n",
       "12   35         0                   0\n",
       "13   74         0                   0\n",
       "14   24         1                   0\n",
       "15   31         0                   0\n",
       "16   44         0                   0\n",
       "17   53         0                   0\n",
       "18   42         0                   0\n",
       "19   31         1                   0"
      ]
     },
     "execution_count": 153,
     "metadata": {},
     "output_type": "execute_result"
    }
   ],
   "source": [
    "application_response[['age', 'response', 'predicted_response']]"
   ]
  },
  {
   "cell_type": "code",
   "execution_count": 154,
   "id": "4069bfe9",
   "metadata": {},
   "outputs": [
    {
     "name": "stdout",
     "output_type": "stream",
     "text": [
      "Test set AUC-PR score                  : 0.25\n",
      "Test set AUC-ROC score                 : 0.53\n",
      "Test set F2 score                      : 0.00\n",
      "              precision    recall  f1-score   support\n",
      "\n",
      "           0       0.78      0.88      0.82        16\n",
      "           1       0.00      0.00      0.00         4\n",
      "\n",
      "    accuracy                           0.70        20\n",
      "   macro avg       0.39      0.44      0.41        20\n",
      "weighted avg       0.62      0.70      0.66        20\n",
      "\n"
     ]
    }
   ],
   "source": [
    "print(f'Test set AUC-PR score                  : {average_precision_score(application_set_y, pred_prob_app):.2f}')\n",
    "print(f'Test set AUC-ROC score                 : {roc_auc_score(application_set_y, pred_prob_app):.2f}')\n",
    "print(f'Test set F2 score                      : {fbeta_score(application_set_y, predicted_response, beta = 2):.2f}')\n",
    "print(classification_report(application_set_y, predicted_response))"
   ]
  },
  {
   "cell_type": "code",
   "execution_count": 155,
   "id": "8d109608",
   "metadata": {},
   "outputs": [
    {
     "data": {
      "image/png": "[encoded data removed]",
      "text/plain": [
       "<Figure size 576x360 with 1 Axes>"
      ]
     },
     "metadata": {
      "needs_background": "light"
     },
     "output_type": "display_data"
    }
   ],
   "source": [
    "no_skill = len(y_test[y_test==1]) / len(y_test)\n",
    "fig, axs = plt.subplots(figsize = (8, 5))\n",
    "name = 'AUC-PR score for application set'\n",
    "\n",
    "auc_plot(application_set_y, predicted_response, name)\n",
    "plt.xlabel('Recall')\n",
    "plt.ylabel('Precision')\n",
    "plt.title('Precision - recall curves for XGBoost classifier on application set')\n",
    "plt.plot([0, 1], [no_skill, no_skill], linestyle = '--', label = 'No Skill')\n",
    "plt.annotate(f'(0.00, {no_skill: .2f})',(0, no_skill))\n",
    "plt.legend()\n",
    "plt.savefig('..\\\\reports\\\\figures\\\\logreg.png', bbox_inches=\"tight\");"
   ]
  },
  {
   "cell_type": "markdown",
   "id": "93478cce",
   "metadata": {},
   "source": [
    "# Conclusion"
   ]
  },
  {
   "cell_type": "markdown",
   "id": "cec20930",
   "metadata": {},
   "source": [
    "The goal of our project was to create a model to predict the response of a marketing campagne, whether a 'yes' or 'no'. To do so, we created various imperfect models that improved our ability to predict the response. We highlighted the importance of prioritizing the prediction of our positive class because these were clients, especially because of the imbalanced nature of the dataset, with a 1:8 ratio of clients who responded positively to the marketing campagne and those who did not. Accordingly, we determined that precision and recall were the most useful metrics of relevance and the area under the precision-recall curve as the most important scoring metric followed by the f1 score. \n",
    "\n",
    "From the above models, the logisitic regression model with class weights offered the best performance on the test set, both in terms of the average precision and the f1 score for the minority class. This is the model we recommend to the business.\n",
    "\n",
    "Generally, the logisitic regression algorithm performed better than the random forest and XGBoost algorithm. We also noted that random undersampling and oversampling techniques yielded poor results."
   ]
  },
  {
   "cell_type": "markdown",
   "id": "b48a467d",
   "metadata": {},
   "source": [
    "# Further Improvements"
   ]
  },
  {
   "cell_type": "markdown",
   "id": "4c514d32",
   "metadata": {},
   "source": [
    "The business should consider the following measures to improve the performance of the model.\n",
    "\n",
    "1. Gather more data as they continue their campagne\n",
    "2. Review other algorithms to determine if they improve performance\n",
    "3. Engineer additional features"
   ]
  }
 ],
 "metadata": {
  "kernelspec": {
   "display_name": "Python 3",
   "language": "python",
   "name": "python3"
  },
  "language_info": {
   "codemirror_mode": {
    "name": "ipython",
    "version": 3
   },
   "file_extension": ".py",
   "mimetype": "text/x-python",
   "name": "python",
   "nbconvert_exporter": "python",
   "pygments_lexer": "ipython3",
   "version": "3.8.8"
  }
 },
 "nbformat": 4,
 "nbformat_minor": 5
}
